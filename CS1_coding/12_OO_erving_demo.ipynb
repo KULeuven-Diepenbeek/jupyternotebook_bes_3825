{
 "cells": [
  {
   "cell_type": "code",
   "execution_count": 37,
   "id": "ccd38671-337b-4795-8f46-e6105d2ff854",
   "metadata": {},
   "outputs": [
    {
     "name": "stdout",
     "output_type": "stream",
     "text": [
      "!aaa\n"
     ]
    }
   ],
   "source": [
    "class X:\n",
    "    def __init__(self):\n",
    "        self.ding1 = 3\n",
    "        self.tweedeDing = \"a\"\n",
    "\n",
    "    def vermenigvuldig(self):\n",
    "        return \"!\" + (self.ding1 * self.tweedeDing)\n",
    "\n",
    "    def __repr__(self):\n",
    "        return \"X { \" + str(self.ding1) + \", \" + self.tweedeDing + \"}\"\n",
    "iks = X()\n",
    "print(iks.vermenigvuldig())"
   ]
  },
  {
   "cell_type": "code",
   "execution_count": 38,
   "id": "1241241b-551e-4dd6-a2d8-3df7d830cf5b",
   "metadata": {},
   "outputs": [
    {
     "name": "stdout",
     "output_type": "stream",
     "text": [
      "!aaaaaaaaaaaaaaaaa!aaaaaaaaaaaaaaaaa!aaaaaaaaaaaaaaaaa!aaaaaaaaaaaaaaaaa\n",
      "Y { 17, a, 4}\n"
     ]
    }
   ],
   "source": [
    "class Y(X):\n",
    "    def __init__(self):\n",
    "        super().__init__()\n",
    "        self.derdeDing = 4\n",
    "\n",
    "    def trekAf(self):\n",
    "        return self.ding1 - self.derdeDing\n",
    "\n",
    "    def __repr__(self):\n",
    "        return \"Y { \" + str(self.ding1) + \", \" + self.tweedeDing + \", \" + str(self.derdeDing) + \"}\"\n",
    "\n",
    "    def vermenigvuldig(self):\n",
    "        deel1 = super().vermenigvuldig()\n",
    "        return deel1 * self.derdeDing\n",
    "\n",
    "ij = Y()\n",
    "ij.ding1 = 17\n",
    "print(ij.vermenigvuldig())\n",
    "print(ij)"
   ]
  },
  {
   "cell_type": "code",
   "execution_count": 11,
   "id": "37b25aa3-b4d9-4e40-9888-85c53320c456",
   "metadata": {},
   "outputs": [
    {
     "name": "stdout",
     "output_type": "stream",
     "text": [
      "3\n",
      "a\n",
      "4\n"
     ]
    },
    {
     "ename": "AttributeError",
     "evalue": "'Y' object has no attribute 'eersteDing'",
     "output_type": "error",
     "traceback": [
      "\u001B[0;31m---------------------------------------------------------------------------\u001B[0m",
      "\u001B[0;31mAttributeError\u001B[0m                            Traceback (most recent call last)",
      "Cell \u001B[0;32mIn[11], line 4\u001B[0m\n\u001B[1;32m      2\u001B[0m \u001B[38;5;28mprint\u001B[39m(iks\u001B[38;5;241m.\u001B[39mtweedeDing)\n\u001B[1;32m      3\u001B[0m \u001B[38;5;28mprint\u001B[39m(ij\u001B[38;5;241m.\u001B[39mderdeDing)\n\u001B[0;32m----> 4\u001B[0m \u001B[38;5;28mprint\u001B[39m(\u001B[43mij\u001B[49m\u001B[38;5;241;43m.\u001B[39;49m\u001B[43meersteDing\u001B[49m)\n",
      "\u001B[0;31mAttributeError\u001B[0m: 'Y' object has no attribute 'eersteDing'"
     ]
    }
   ],
   "source": [
    "print(iks.eersteDing)\n",
    "print(iks.tweedeDing)\n",
    "print(ij.derdeDing)\n",
    "print(ij.eersteDing)"
   ]
  },
  {
   "cell_type": "code",
   "execution_count": 47,
   "id": "583c6ca0-bd7b-46c0-97e4-045aa19541ac",
   "metadata": {},
   "outputs": [
    {
     "name": "stdout",
     "output_type": "stream",
     "text": [
      "alex, geboren op 2023-12-06\n"
     ]
    },
    {
     "data": {
      "text/plain": [
       "4"
      ]
     },
     "execution_count": 47,
     "metadata": {},
     "output_type": "execute_result"
    }
   ],
   "source": [
    "import datetime\n",
    "class Hond:\n",
    "    def __init__(self, naam):\n",
    "        self.naam = naam\n",
    "        self.geboortedatum = datetime.date.today()\n",
    "\n",
    "    def __repr__(self):\n",
    "        return self.naam + \", geboren op \" + str(self.geboortedatum)\n",
    "\n",
    "hond1 = Hond(\"alex\")\n",
    "print(hond1)\n",
    "len(hond1.naam)"
   ]
  },
  {
   "cell_type": "code",
   "execution_count": 59,
   "id": "ad057ab2-8496-431d-b42c-2de9126fa6ae",
   "metadata": {},
   "outputs": [
    {
     "name": "stdout",
     "output_type": "stream",
     "text": [
      "1800\n"
     ]
    }
   ],
   "source": [
    "class Kennel:\n",
    "    def __init__(self):\n",
    "        self.honden = []\n",
    "\n",
    "    def inschrijf(self, hond):\n",
    "        self.honden.append(hond)\n",
    "\n",
    "    def getWaarde(self):\n",
    "        waarde = 0\n",
    "        for hond in self.honden:\n",
    "            if hasattr(hond,\"ras\"):\n",
    "                waarde = waarde + len(hond.naam)*50 + len(hond.ras)*100\n",
    "            else:\n",
    "                waarde = waarde + len(hond.naam)*50\n",
    "        return waarde\n",
    "\n",
    "kennel = Kennel()\n",
    "kennel.inschrijf(Hond(\"alex\"))\n",
    "kennel.inschrijf(Hond(\"alexandra\"))\n",
    "kennel.inschrijf(Hond(\"petra\"))\n"
   ]
  },
  {
   "cell_type": "code",
   "execution_count": 56,
   "id": "5f0fe9de-9e42-4531-8201-d65389be6a41",
   "metadata": {},
   "outputs": [],
   "source": [
    "class Rashond(Hond):\n",
    "    def __init__(self, naam, ras):\n",
    "        super().__init__(naam)\n",
    "        self.ras = ras\n",
    "\n",
    "class Kat():\n",
    "    def __init__(self):\n",
    "        self.koosnaam = \"poes\"\n",
    "        "
   ]
  },
  {
   "cell_type": "markdown",
   "source": [
    "En nu testen we of de rashond ook in de kennel kan, en de kat niet."
   ],
   "metadata": {
    "collapsed": false
   },
   "id": "abaa18507e4b8ff4"
  },
  {
   "cell_type": "code",
   "execution_count": null,
   "outputs": [],
   "source": [
    "kennel.inschrijf(Rashond(\"dollie\", \"poedel\"))\n",
    "#kennel.inschrijf(Kat())\n",
    "print(kennel.getWaarde())\n"
   ],
   "metadata": {
    "collapsed": false
   },
   "id": "e41cfcbba620aa2a"
  }
 ],
 "metadata": {
  "kernelspec": {
   "display_name": "Python 3 (ipykernel)",
   "language": "python",
   "name": "python3"
  },
  "language_info": {
   "codemirror_mode": {
    "name": "ipython",
    "version": 3
   },
   "file_extension": ".py",
   "mimetype": "text/x-python",
   "name": "python",
   "nbconvert_exporter": "python",
   "pygments_lexer": "ipython3",
   "version": "3.11.4"
  }
 },
 "nbformat": 4,
 "nbformat_minor": 5
}
