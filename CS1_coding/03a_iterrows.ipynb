{
 "cells": [
  {
   "cell_type": "markdown",
   "id": "93837acf13aadf1b",
   "metadata": {
    "collapsed": false
   },
   "source": [
    "# Itereren over een dataframe\n",
    "\n",
    "In principe zelfde idee als gewone for\n",
    "´´´\n",
    "for rij in df:\n",
    "    # doe iets met de rij\n",
    "´´´\n",
    "\n",
    "maar dit itereert over de namen van de kolommen.\n",
    "\n",
    "Om over de rijen te itereren moet je **iterrows()** gebruiken.\n",
    "\n",
    "Die moet je op volgende manier gebruiken:\n"
   ]
  },
  {
   "cell_type": "raw",
   "id": "ca96baecca237a04",
   "metadata": {
    "collapsed": false
   },
   "source": [
    "for index, rij in df.iterrows():\n",
    "    # doe iets met index en rij\n",
    "    # index bevat hierbij het nummer van de rij\n",
    "    # rij bevat de hele rij\n",
    "    # via rij.kolomnaam kan je de inhoud van die kolom opvragen"
   ]
  },
  {
   "cell_type": "markdown",
   "id": "838151e8ff744d3",
   "metadata": {
    "collapsed": false
   },
   "source": [
    "### Opgepast!\n",
    "\n",
    "Dingen veranderen in de variabele rij heeft géén blijvend effect!\n",
    "*rij* is een kopie van de rij en je verandert dus alleen de kopie.\n",
    "\n",
    "Juiste aanpak = aanpassingen doen via het dataframe zelf.\n",
    "\n",
    "Voorbeeld: *df.loc[index, “dubbele_index\"] = index \\* 2*\n",
    "\n",
    "Dit is o.a. nuttig in oefening 8.1.1.1.1.\n",
    "\n",
    "\n",
    "## Enkele use-cases met voorbeelden\n",
    "\n",
    "### Use case 1: iets 'doen' met elke rij van het dataframe\n",
    "\n",
    "#### Voorbeeld 1a: informatie leesbaar afdrukken"
   ]
  },
  {
   "cell_type": "code",
   "execution_count": null,
   "id": "fce6b77ffdf316e2",
   "metadata": {
    "collapsed": false
   },
   "outputs": [],
   "source": [
    "import pandas as pd\n",
    "\n",
    "def maakDataFrame():\n",
    "    df = pd.DataFrame()\n",
    "    df[\"voornaam\"] = [\"Jan\",\"Petra\",\"Joris\",\"Kornelia\",\"Ali\", \"Sefia\"]\n",
    "    df[\"leeftijd\"] = [19, 24, 12, 18, 22, 17]\n",
    "    df[\"geslacht\"] = [\"M\",\"V\",\"M\",\"V\",\"M\",\"V\"]\n",
    "    return df\n",
    "\n",
    "def printPersoonInfo(df):    \n",
    "    for index, rij in df.iterrows():\n",
    "        print(\"Persoon\", index+1, \":\", rij.voornaam, \"is\", rij.leeftijd, \"jaar.\")"
   ]
  },
  {
   "cell_type": "code",
   "execution_count": null,
   "id": "81f04b813712f8f3",
   "metadata": {
    "collapsed": false
   },
   "outputs": [],
   "source": [
    "zesPersonen = maakDataFrame()\n",
    "printPersoonInfo(zesPersonen)"
   ]
  },
  {
   "cell_type": "markdown",
   "id": "a44a01078faf9457",
   "metadata": {
    "collapsed": false
   },
   "source": [
    "**Opgelet**: wanneer je informatie in het dataframe wil aanpassen, mag je NIET via de variabele *rij* werken, maar moet je dit rechtstreeks in het dataframe doen met **.loc**.\n",
    "\n",
    "Disclaimer: onderstaand voorbeeld kan je ook met een apply doen, maar deze aanpak is wél nodig in een aantal oefeningen van zo dadelijk."
   ]
  },
  {
   "cell_type": "code",
   "execution_count": null,
   "id": "d788c55d3e97bf5c",
   "metadata": {
    "collapsed": false
   },
   "outputs": [],
   "source": [
    "def voegLevensverwachtingToe(df):\n",
    "    # in België is bij de geboorte de levensverwachting voor mannen 79,5 jaar; bij vrouwen 83,8.\n",
    "    # omdat jullie nog in leven zijn en het gemiddelde moeten optrekken, is dit iets meer,\n",
    "    # maar die cijfers hebben we niet.\n",
    "    for index, rij in df.iterrows():\n",
    "        if rij.geslacht == \"M\":\n",
    "            verwachting = 79.5 - rij.leeftijd\n",
    "        else:\n",
    "            verwachting = 83.8 - rij.leeftijd\n",
    "        df.loc[index,\"levensverwachting\"] = verwachting\n",
    "        \n",
    "zesPersonen = maakDataFrame()\n",
    "print(zesPersonen)\n",
    "voegLevensverwachtingToe(zesPersonen)\n",
    "print(zesPersonen)"
   ]
  },
  {
   "cell_type": "markdown",
   "id": "74e8018e9d8399dc",
   "metadata": {
    "collapsed": false
   },
   "source": [
    "## Voorbeeld 1b: een cumulatieve berekening die anders is dan cumsum of cumproduct\n",
    "\n",
    "In dit voorbeeld willen we nagaan hoeveel water er op een plein blijft staan tijdens en kort na een hevige bui. Op https://www.vmm.be/water/bouwen/afvalwater/ontwerp-van-de-huisriolering vind je meer info over je een afvoerbuis moet dimensioneren, maar we veronderstellen hierbij een buis van 125mm doormeter en een helling van 5mm per m. De afvoercapaciteit van zo'n buis is 24,6 m³/uur.\n",
    "Verder houden we rekening met de neerslaggegevens van https://klimaatadaptatienederland.nl/stresstest/bijsluiter/wateroverlast/basisinformatie/waterdiepte-kortdurende-hevige-neerslag/ waar we lezen dat de kans op een bui van 70 mm op 2 uur een kans heeft van 1/100 per jaar, en een bui van 140 mm op 2 uur een kan van 1/1000 per jaar. Per vierkante meter oppervlakte is dat dan respectievelijk 35 en 70 liter per uur. \n",
    "\n",
    "Volgende functie rekent dan uit hoeveel water er een op een plein van 40 x 20 m² zal staan met één afvoerbuis en een ondergrondse waterput van 5000 liter als buffer. De invoer voor de functie is een dataframe met de hoeveelheid regen in mm per kwartier."
   ]
  },
  {
   "cell_type": "code",
   "execution_count": null,
   "id": "16fa55d647f04807",
   "metadata": {
    "collapsed": false
   },
   "outputs": [],
   "source": [
    "def waterOpHetPlein(file = \"csv/regen.csv\"):\n",
    "    df = pd.read_csv(file, sep=\";\")\n",
    "    water = 0\n",
    "    for index, rij in df.iterrows():\n",
    "        potentieleAfvoer = 24.6 * 1000 / 4\n",
    "        toevoer = rij.regen * 40 * 20\n",
    "        water = water - potentieleAfvoer + toevoer\n",
    "        if water < 0:\n",
    "            water = 0\n",
    "        waterOpPlein = max(water - 5000, 0)\n",
    "        # buffervulling\n",
    "        df.loc[index, \"buffervulling\"] = min(water, 5000)\n",
    "        df.loc[index, \"waterOpPlein\"] = waterOpPlein\n",
    "    return df\n",
    "\n",
    "print(waterOpHetPlein())\n",
    "print(waterOpHetPlein(\"csv/regen2.csv\"))\n",
    "\n"
   ]
  },
  {
   "cell_type": "markdown",
   "id": "7dbc01f4bdb12405",
   "metadata": {
    "collapsed": false
   },
   "source": [
    "## Oefeningen op iterrows\n",
    "\n",
    "1. Zij gegeven een dataframe punten.csv met kolommen naam, eersteKans, tweedeKans voor de \n",
    "punten van een vak. Print voor elke naam de hoogste score van de eerste en tweede kans. \n",
    "*Dit csv-bestand moet je inlezen zonder encoding.* "
   ]
  },
  {
   "cell_type": "code",
   "execution_count": null,
   "id": "66bf05f52f64bc7a",
   "metadata": {
    "collapsed": false
   },
   "outputs": [],
   "source": [
    "import pandas as pd\n",
    "def printPunten(file = \"csv/punten.csv\"):\n",
    "    df = pd.read_csv(file, sep=\";\")\n",
    "    # TODO: aanvullen met de juiste code\n",
    "            \n",
    "printPunten()"
   ]
  },
  {
   "cell_type": "markdown",
   "id": "275c7b248c688941",
   "metadata": {
    "collapsed": false
   },
   "source": [
    "2. Zij gegeven een dataframe mensen.csv met lengte in feet en gewicht in pounds. Zet de imperial \n",
    "gegevens om naar cm en kg. 1 voet is 30,48 cm en 1 pound is 0,4536 kg. Rond af tot één cijfer na de komma met de functie round. \n",
    "*Dit csv-bestand moet je inlezen zonder encoding.* "
   ]
  },
  {
   "cell_type": "code",
   "execution_count": null,
   "id": "3960c71560ba33c0",
   "metadata": {
    "collapsed": false
   },
   "outputs": [],
   "source": [
    "def imperialToMetric(file =\"csv/mensen.csv\"):\n",
    "    df = pd.read_csv(file, sep=\";\")\n",
    "    # TODO: aanvullen met de juiste code\n",
    "    df.to_csv(\"csv/mensenMetric.csv\",sep=\";\", encoding=\"latin-1\")\n",
    "    \n",
    "imperialToMetric()"
   ]
  },
  {
   "cell_type": "markdown",
   "id": "60d7f843711f3aaa",
   "metadata": {
    "collapsed": false
   },
   "source": [
    "6. In het csv-bestand csv/diepvries.csv vind je de kostprijs van een aantal diepvriezers en hun jaarlijks verbruik. In deze csv staat ook de huidige diepvriezer die ‘gratis’ is, maar wel een hoog verbruik kent. Bereken per diepvries de gecumuleerde kostprijs na 10 en na 20 jaar bij een energieprijs van 34 eurocent/kWh. Voeg beide kolommen toe aan het dataframe."
   ]
  },
  {
   "cell_type": "code",
   "execution_count": null,
   "id": "8e19e8ca3aaba988",
   "metadata": {
    "collapsed": false
   },
   "outputs": [],
   "source": [
    "def simuleerKostprijsDiepvries(aankoopprijs, verbruik, prijsKWhCent, jaar):\n",
    "    return aankoopprijs + verbruik*prijsKWhCent/100*jaar\n",
    "\n",
    "def simuleerDiepvries():\n",
    "    df = pd.read_csv(\"csv/diepvries.csv\", sep=\";\", encoding=\"latin-1\")\n",
    "    # TODO: aanvullen met de juiste code\n",
    "    df.to_csv(\"csv/diepvriesBerekend.csv\", sep=\";\", encoding=\"latin-1\")\n",
    "    return df\n",
    "uitgebreidDf = simuleerDiepvries()\n",
    "print(uitgebreidDf)"
   ]
  }
 ],
 "metadata": {
  "kernelspec": {
   "display_name": "Python 3 (ipykernel)",
   "language": "python",
   "name": "python3"
  },
  "language_info": {
   "codemirror_mode": {
    "name": "ipython",
    "version": 3
   },
   "file_extension": ".py",
   "mimetype": "text/x-python",
   "name": "python",
   "nbconvert_exporter": "python",
   "pygments_lexer": "ipython3",
   "version": "3.11.4"
  }
 },
 "nbformat": 4,
 "nbformat_minor": 5
}
