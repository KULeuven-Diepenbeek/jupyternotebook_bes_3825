{
 "cells": [
  {
   "cell_type": "code",
   "execution_count": 1,
   "id": "92500c43-fc55-42c8-a311-129fba6983f9",
   "metadata": {
    "ExecuteTime": {
     "end_time": "2024-11-18T15:21:15.487270300Z",
     "start_time": "2024-11-18T15:21:15.469712400Z"
    }
   },
   "outputs": [],
   "source": [
    "import random\n",
    "\n",
    "import random\n",
    "\n",
    "class HandEen20:\n",
    "    def __init__(self):\n",
    "        pass\n",
    "\n",
    "    def vraagKaart(self):\n",
    "        kaart = random.randint(1,13)\n",
    "        self.aantalKaarten = self.aantalKaarten + 1\n",
    "\n",
    "        #TODO: voeg code toe om data members bij te werken\n",
    "                \n",
    "    def getScore(self):\n",
    "        # geef -1 terug als de speler dood is (> 21)\n",
    "        # geef 21 terug als 7 kaarten en niet dood\n",
    "        # anders gewoon de score\n",
    "        return -1        \n",
    "\n",
    "    def wisselAas(self):\n",
    "        # hulpfunctie om aas om te zetten van 11 naar 1\n",
    "        # Mag alleen als je nog azen hebt die als 11 tellen\n",
    "        pass\n",
    "    \n"
   ]
  },
  {
   "cell_type": "code",
   "execution_count": null,
   "id": "0d345d2b-e016-4e56-bab8-b9aea4f94832",
   "metadata": {},
   "outputs": [],
   "source": [
    "speler1 = HandEen20()\n",
    "speler1.vraagKaart()\n",
    "speler1.vraagKaart()\n",
    "speler1.vraagKaart()\n"
   ]
  },
  {
   "cell_type": "code",
   "execution_count": null,
   "id": "179941ad-2960-4273-96ba-1ad3ab102e79",
   "metadata": {},
   "outputs": [],
   "source": [
    "print(speler1.getScore())"
   ]
  },
  {
   "cell_type": "code",
   "execution_count": null,
   "id": "35c40eb0-ff98-441d-8a37-09f5566dde44",
   "metadata": {},
   "outputs": [],
   "source": [
    "print(speler1)\n",
    "speler1.stop()"
   ]
  },
  {
   "cell_type": "code",
   "execution_count": null,
   "id": "328f5b93-eff6-4b20-a773-8f346feeaf7b",
   "metadata": {},
   "outputs": [],
   "source": [
    "speler1.vraagKaart()\n",
    "print(speler1)"
   ]
  }
 ],
 "metadata": {
  "kernelspec": {
   "display_name": "Python 3 (ipykernel)",
   "language": "python",
   "name": "python3"
  },
  "language_info": {
   "codemirror_mode": {
    "name": "ipython",
    "version": 3
   },
   "file_extension": ".py",
   "mimetype": "text/x-python",
   "name": "python",
   "nbconvert_exporter": "python",
   "pygments_lexer": "ipython3",
   "version": "3.11.4"
  }
 },
 "nbformat": 4,
 "nbformat_minor": 5
}
