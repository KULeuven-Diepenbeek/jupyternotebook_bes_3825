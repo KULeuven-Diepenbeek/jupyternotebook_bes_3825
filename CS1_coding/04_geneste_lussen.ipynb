{
 "cells": [
  {
   "cell_type": "markdown",
   "source": [
    "# Geneste controlestructuren\n",
    "\n",
    "Lussen mogen ook in lussen staan, bijvoorbeeld een for-lus in een andere for-lus, maar je kan ook een while-lus in een for-lus hebben, of een gewone for-lus in een iterrows-lus, ... \n",
    "\n",
    "Gemeenschappelijk is dat je ze nodig hebt wanneer je een herhalingslus iets moet berekenen waarvoor je terug een herhaling nodig hebt. Hopelijk maken de volgende voorbeelden duidelijk hoe de geneste lussen werken."
   ],
   "metadata": {
    "collapsed": false
   },
   "id": "c581f9f3f08ab56a"
  },
  {
   "cell_type": "code",
   "execution_count": null,
   "outputs": [],
   "source": [
    "import pandas as pd\n",
    "def geordendDataFrame(rij, kolom): \n",
    "    teller = 1 \n",
    "    df = pd.DataFrame() \n",
    "    for i in range(1,rij+1): \n",
    "        for j in range(1, kolom+1): \n",
    "            df.loc[i,j] = teller \n",
    "            teller = teller + 1 \n",
    "    return df \n",
    "\n",
    "dfNieuw = geordendDataFrame(4,5)\n",
    "print(dfNieuw)"
   ],
   "metadata": {
    "collapsed": false
   },
   "id": "7a92131f602088ca"
  },
  {
   "cell_type": "code",
   "execution_count": null,
   "outputs": [],
   "source": [
    "def vermenigvuldigIndexen(rij, kolom): \n",
    "    df = pd.DataFrame() \n",
    "    for i in range(1,rij+1): \n",
    "        for j in range(1, kolom+1): \n",
    "            df.loc[i,j] = i*j \n",
    "    return df \n",
    "\n",
    "dfNieuw2 = vermenigvuldigIndexen(4,4)\n",
    "print(dfNieuw2)"
   ],
   "metadata": {
    "collapsed": false
   },
   "id": "7393c443da67721b"
  },
  {
   "cell_type": "markdown",
   "source": [
    "## Oefeningen\n",
    "\n",
    "1. Schrijf een functie die een lijst met lijsten van twee elementen krijgt, waarbij het eerste element van elke deellijst een getal is en die een lijst maakt met daarin elke tweede element van de deellijst evenveel keer achter elkaar als het eerste getal van de deellijst aangeeft. \n",
    " Voorbeeld [ [2,”a”], [3,”b”], [1, “c”] ] moet [“a”, “a”, “b”, “b”, “b”, “c”] worden. "
   ],
   "metadata": {
    "collapsed": false
   },
   "id": "b981890441b54d8"
  },
  {
   "cell_type": "code",
   "execution_count": null,
   "outputs": [],
   "source": [
    "def zetLijstOm(invoer):\n",
    "    uitvoer = []\n",
    "    # TODO: vul aan met de correcte code\n",
    "    return uitvoer\n",
    "\n",
    "voorbeeld1 = zetLijstOm( [ [2,\"a\"], [3,\"b\"], [1, \"c\"] ] )\n",
    "print(voorbeeld1)"
   ],
   "metadata": {
    "collapsed": false
   },
   "id": "c8312336f8b9c3c3"
  },
  {
   "cell_type": "markdown",
   "source": [
    "2. Schrijf een functie die twee parameters neemt: een aantal rijen en een aantal kolommen en die een dataframe teruggeeft met de opgegeven grootte. Het eerste getal van de rij is een willekeurig getal tussen 100 en 200 en de volgende getallen zijn het vorige getal vermenigvuldigd met een willekeurig getal tussen 0.8 en 1.2. \n",
    "Voor willekeurige getallen moet je import random doen en vervolgens kan je met random.randint(ondergrens, bovengrens) en random.uniform(ondergrens, bovengrens) respectievelijk een geheel en een reëel willekeurig getal laten genereren. "
   ],
   "metadata": {
    "collapsed": false
   },
   "id": "3f050c4d9a274148"
  },
  {
   "cell_type": "code",
   "execution_count": null,
   "outputs": [],
   "source": [
    "import random\n",
    "import pandas as pd\n",
    "\n",
    "def dataFrameMetWillekeurigeWaarden(rijen, kolommen):\n",
    "    df = pd.DataFrame()\n",
    "    # TODO: vul aan met de correcte code\n",
    "    return df\n",
    "\n",
    "voorbeeldRandom = dataFrameMetWillekeurigeWaarden(4,6)\n",
    "print(voorbeeldRandom)"
   ],
   "metadata": {
    "collapsed": false
   },
   "id": "72a32a455b21ca0c"
  },
  {
   "cell_type": "markdown",
   "source": [
    "3.\tSchrijf een functie die een tafel van vermenigvuldiging afdrukt voor de cijfers 1 tot en met de parameter van de functie (je mag voor de output aannemen dat dit een getal van één cijfer is). Een tafel van vermenigvuldiging voor 1 tot en met 3 ziet er als volgt uit:"
   ],
   "metadata": {
    "collapsed": false
   },
   "id": "dbf238cbcf9438d6"
  },
  {
   "cell_type": "raw",
   "source": [
    ". | 1 2 3\n",
    "----------\n",
    "1 | 1 2 3\n",
    "2 | 2 4 6\n",
    "3 | 3 6 9"
   ],
   "metadata": {
    "collapsed": false
   },
   "id": "f8c4833c3383979f"
  },
  {
   "cell_type": "code",
   "execution_count": null,
   "outputs": [],
   "source": [
    "def tafel(n):\n",
    "    rij = \". |\"\n",
    "    # TODO: vul aan met de correcte code\n",
    "        \n",
    "tafel(4)\n",
    "    \n"
   ],
   "metadata": {
    "collapsed": false
   },
   "id": "47fbcfb4493c5bf"
  }
 ],
 "metadata": {
  "kernelspec": {
   "display_name": "Python 3",
   "language": "python",
   "name": "python3"
  },
  "language_info": {
   "codemirror_mode": {
    "name": "ipython",
    "version": 2
   },
   "file_extension": ".py",
   "mimetype": "text/x-python",
   "name": "python",
   "nbconvert_exporter": "python",
   "pygments_lexer": "ipython2",
   "version": "2.7.6"
  }
 },
 "nbformat": 4,
 "nbformat_minor": 5
}
