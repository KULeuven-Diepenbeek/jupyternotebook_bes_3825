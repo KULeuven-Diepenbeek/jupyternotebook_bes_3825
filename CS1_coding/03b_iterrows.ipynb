{
 "cells": [
  {
   "cell_type": "markdown",
   "id": "93837acf13aadf1b",
   "metadata": {
    "collapsed": false
   },
   "source": [
    "# Itereren over een dataframe\n",
    "\n",
    "In principe zelfde idee als gewone for\n",
    "´´´\n",
    "for rij in df:\n",
    "    # doe iets met de rij\n",
    "´´´\n",
    "\n",
    "maar dit itereert over de namen van de kolommen.\n",
    "\n",
    "Om over de rijen te itereren moet je **iterrows()** gebruiken.\n",
    "\n",
    "Die moet je op volgende manier gebruiken:\n"
   ]
  },
  {
   "cell_type": "raw",
   "id": "ca96baecca237a04",
   "metadata": {
    "collapsed": false
   },
   "source": [
    "for index, rij in df.iterrows():\n",
    "    # doe iets met index en rij\n",
    "    # index bevat hierbij het nummer van de rij\n",
    "    # rij bevat de hele rij\n",
    "    # via rij.kolomnaam kan je de inhoud van die kolom opvragen"
   ]
  },
  {
   "cell_type": "markdown",
   "id": "838151e8ff744d3",
   "metadata": {
    "collapsed": false
   },
   "source": [
    "### Opgepast!\n",
    "\n",
    "Dingen veranderen in de variabele rij heeft géén blijvend effect!\n",
    "*rij* is een kopie van de rij en je verandert dus alleen de kopie.\n",
    "\n",
    "Juiste aanpak = aanpassingen doen via het dataframe zelf.\n",
    "\n",
    "Voorbeeld: *df.loc[index, “dubbele_index\"] = index \\* 2*\n",
    "\n",
    "Dit is o.a. nuttig in oefening 8.1.1.1.1.\n",
    "\n",
    "\n",
    "## Enkele use-cases met voorbeelden\n"
   ]
  },
  {
   "cell_type": "markdown",
   "id": "a946680cabfce543",
   "metadata": {
    "collapsed": false
   },
   "source": [
    "## Use case 2: Verbanden tussen rijen van een dataframe\n",
    "\n",
    "Basisidee: apply is heel handig om functie los te laten op één rij.\n",
    "Dit is wel zonder context van voorgaande of volgende rij.\n",
    "In veel gevallen wil je wél verbanden tussen rijen, zoals\n",
    "- Nagaan hoeveel keren de rij stijgt, \n",
    "- Berekenen wat de procentuele stijging is tussen opeenvolgende rijen \n",
    "- Controleren of er waarden uit de band springen\n",
    "- … \n",
    "\n",
    "Opzet om dit wél te kunnen doen:\n",
    "- Gebruik iterrows om doorheen het dataframe te gaan\n",
    "- Gebruik variabele *vorige* om vorige rij bij te houden\n",
    "\n",
    "Deze extra variabele *vorige*  moeten we vòòr de for-lus initialiseren en op het einde van elke passage door de lus aanpassen zodat die mee ‘opschuift’.  \n",
    "\n",
    "Dat geeft volgend aangepast schema: "
   ]
  },
  {
   "cell_type": "raw",
   "id": "e90d45b9898e3033",
   "metadata": {
    "collapsed": false
   },
   "source": [
    "vorige = df.loc[0] # begin met de eerste rij \n",
    "for index, rij in df.iterrows(): \n",
    "    # index bevat rij-nummer \n",
    "    # rij bevat hele rij waarbij je  \n",
    "    # kolominhouden kan opvragen via rij.kolomnaam \n",
    "     \n",
    "    # doe operatie met vorige en rij \n",
    "     \n",
    "    vorige = rij # maak je klaar voor de volgende passage door de lus"
   ]
  },
  {
   "cell_type": "markdown",
   "id": "e66ddfdf718df2e5",
   "metadata": {
    "collapsed": false
   },
   "source": [
    "### Voorbeeld: hoe dikwijls zakte het indexcijfer?"
   ]
  },
  {
   "cell_type": "code",
   "execution_count": null,
   "id": "c3bbe21111f2c1da",
   "metadata": {
    "collapsed": false
   },
   "outputs": [],
   "source": [
    "def aantalDalingen(csvbestand):\n",
    "    df = pd.read_csv(csvbestand, sep=\";\", encoding=\"latin-1\")\n",
    "    aantal = 0\n",
    "    vorige = df.loc[0, \"indexcijfer\"]\n",
    "    for index, rij in df.iterrows():\n",
    "        if vorige > rij.indexcijfer:\n",
    "            aantal = aantal + 1\n",
    "        vorige = rij.indexcijfer \n",
    "    return aantal\n",
    "\n",
    "aantalKerenGedaald = aantalDalingen(\"csv/consumptie_index_september.csv\")\n",
    "print(\"Consumptieindex is\", aantalKerenGedaald, \"keren gedaald.\")"
   ]
  },
  {
   "cell_type": "markdown",
   "id": "7dbc01f4bdb12405",
   "metadata": {
    "collapsed": false
   },
   "source": [
    "## Oefeningen op iterrows\n"
   ]
  },
  {
   "cell_type": "markdown",
   "source": [
    "3. Bereken en plot voor “csv/immo_national.csv” wat de procentuele stijging is van jaar tot \n",
    "jaar. Je mag veronderstellen dat er minstens één waarde in het dataframe zit."
   ],
   "metadata": {
    "collapsed": false
   },
   "id": "fcedf774df24b631"
  },
  {
   "cell_type": "code",
   "execution_count": null,
   "outputs": [],
   "source": [
    "import pandas as pd\n",
    "from matplotlib import pyplot as plt\n",
    "\n",
    "def plotProcentueleStijging(file = \"csv/immo_national.csv\"):\n",
    "    df = pd.read_csv(file, sep=\";\", encoding=\"latin-1\")\n",
    "    # TODO: aanvullen met de juiste code\n",
    "    plt.title(\"Jaarlijke stijging van indexprijzen\")\n",
    "    plt.xlabel(\"Jaar\")\n",
    "    plt.ylabel(\"stijging (%)\")\n",
    "    plt.grid(True)\n",
    "    plt.show()\n",
    "\n",
    "plotProcentueleStijging()\n"
   ],
   "metadata": {
    "collapsed": false
   },
   "id": "d67fe544b9a8f42d"
  },
  {
   "cell_type": "markdown",
   "id": "1bc87c6c9dc3b367",
   "metadata": {
    "collapsed": false
   },
   "source": [
    "4. “fictieve_gegevens.csv” bevat gegevens van een reeks die afwisselend en onvoorspelbaar stijgt en terug daalt. Geef een lijst terug met de datums wanneer de trend omslaat (= van stijgen naar dalen of omgekeerd). Je moet de datum teruggeven van het eerste moment dat de trend anders is (dus na stijging eerste datum dat het daalt). Je mag veronderstellen dat er minstens twéé waarden in het dataframe zitten.\n",
    " Als extra mag je een functie maken die een lijst teruggeeft met alle kantelmomenten."
   ]
  },
  {
   "cell_type": "code",
   "execution_count": null,
   "id": "6d1c3b928acd47a4",
   "metadata": {
    "collapsed": false
   },
   "outputs": [],
   "source": [
    "def omslaandeTrend(csv = \"csv/fictieve_gegevens.csv\"):\n",
    "    df = pd.read_csv(csv, sep=\";\", encoding=\"latin-1\")\n",
    "    # TODO: aanvullen met de juiste code\n",
    "\n",
    "print(\"De trend slaat om in\", omslaandeTrend())\n",
    "\n",
    "# extra: geef een lijst terug met ALLE kantelmomenten\n",
    "def alleKantelmomenten(csv = \"csv/fictieve_gegevens.csv\"):\n",
    "    df = pd.read_csv(csv, sep=\";\", encoding=\"latin-1\")\n",
    "    # TODO: aanvullen met de juiste code\n",
    "\n",
    "kantelingen = alleKantelmomenten()\n",
    "print(kantelingen)"
   ]
  },
  {
   "cell_type": "markdown",
   "id": "97da67cb331d5054",
   "metadata": {
    "collapsed": false
   },
   "source": [
    "5. Zij gegeven een dataframe verkopen.csv met daarin twee kolommen dag en inkomst waarin een winkel elke inkomst noteert.  Voor een dag zijn er dan (hopelijk) verschillende rijen. Je mag veronderstellen dat alles mooi chronologisch genoteerd is. \n",
    "  Maak een nieuw dataframe daginkomsten.csv waarin de inkomsten per dag worden opgeteld en er dus voor elke dag maar één rij is.   "
   ]
  },
  {
   "cell_type": "code",
   "execution_count": null,
   "id": "a81b030b92d955",
   "metadata": {
    "collapsed": false
   },
   "outputs": [],
   "source": [
    "def dagInkomsten(file = \"csv/verkopen.csv\"):\n",
    "    dfIn = pd.read_csv(file, sep=\";\")\n",
    "    dfUit = pd.DataFrame()\n",
    "    # TODO: aanvullen met de juiste code\n",
    "    dfUit.to_csv(\"csv/daginkomsten.csv\", sep=\";\", encoding=\"utf-8\")\n",
    "    return dfUit\n",
    "\n",
    "print(dagInkomsten())"
   ]
  }
 ],
 "metadata": {
  "kernelspec": {
   "display_name": "Python 3 (ipykernel)",
   "language": "python",
   "name": "python3"
  },
  "language_info": {
   "codemirror_mode": {
    "name": "ipython",
    "version": 3
   },
   "file_extension": ".py",
   "mimetype": "text/x-python",
   "name": "python",
   "nbconvert_exporter": "python",
   "pygments_lexer": "ipython3",
   "version": "3.11.4"
  }
 },
 "nbformat": 4,
 "nbformat_minor": 5
}
