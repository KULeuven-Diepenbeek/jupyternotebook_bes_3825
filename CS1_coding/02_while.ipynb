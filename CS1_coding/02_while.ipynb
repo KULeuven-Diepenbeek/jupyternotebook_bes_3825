{
 "cells": [
  {
   "cell_type": "markdown",
   "source": [
    "# Onvoorspelbare herhaling => while\n",
    "\n",
    "Heel dikwijls weet je NIET op voorhand hoe dikwijls de lus herhaald moet worden. Dan is de **while** nuttig.\n",
    "\n",
    "Het algemene formaat is heel eenvoudig:"
   ],
   "metadata": {
    "collapsed": false
   },
   "id": "b9d64f822ec529c4"
  },
  {
   "cell_type": "raw",
   "source": [
    "while voorwaarde:\t\n",
    "        instructies\t"
   ],
   "metadata": {
    "collapsed": false
   },
   "id": "d2c0343939f899fe"
  },
  {
   "cell_type": "code",
   "execution_count": null,
   "outputs": [],
   "source": [
    "def eersteVoorbeeldWhile():\n",
    "    n = -1\n",
    "    while n < 0:\n",
    "        n = int(input(\"geef een positief getal\"))\n",
    "    print(\"Dankuwel voor \" + str(n))\n",
    "\n",
    "eersteVoorbeeldWhile()"
   ],
   "metadata": {
    "collapsed": false
   },
   "id": "2f54468b6025adf5"
  },
  {
   "cell_type": "markdown",
   "source": [
    "## Enkele voorbeelden:"
   ],
   "metadata": {
    "collapsed": false
   },
   "id": "70efdcaef3de2beb"
  },
  {
   "cell_type": "code",
   "execution_count": null,
   "outputs": [],
   "source": [
    "def hoeveelGetallenTot100():\n",
    "    som = 0\n",
    "    aantal = 0\n",
    "    while som < 100:\n",
    "        getal = int(input(\"geef een getal\"))\n",
    "        aantal = aantal + 1\n",
    "        som = som + getal\n",
    "    return aantal\n",
    "\n",
    "hoeveelGetallenTot100()"
   ],
   "metadata": {
    "collapsed": false
   },
   "id": "30394dfecc9fcb2b"
  },
  {
   "cell_type": "code",
   "execution_count": null,
   "outputs": [],
   "source": [
    "import math\n",
    "def isPriem(getal):\n",
    "    kandidaatDeler = 2\n",
    "    while kandidaatDeler <= math.sqrt(getal):\n",
    "        if getal % kandidaatDeler == 0:\n",
    "            return False\n",
    "        kandidaatDeler = kandidaatDeler + 1\n",
    "    return True\n",
    "\n",
    "print(\"Is 17 priem?\", isPriem(17))\n",
    "print(\"Is 3 priem?\", isPriem(3))\n",
    "print(\"Is 321 priem?\", isPriem(321))\n"
   ],
   "metadata": {
    "collapsed": false
   },
   "id": "42d7d9fa944a159a"
  },
  {
   "cell_type": "code",
   "execution_count": null,
   "outputs": [],
   "source": [
    "def isPriem2(n):\n",
    "    kandidaatDeler = 2\n",
    "    while kandidaatDeler < n:\n",
    "        if n%kandidaatDeler == 0:\n",
    "            break\n",
    "        else:\n",
    "            kandidaatDeler = kandidaatDeler + 1\n",
    "\n",
    "    if kandidaatDeler == n:\n",
    "        return True\n",
    "    else:\n",
    "        return False\n",
    "\n",
    "print(\"Is 17 priem?\", isPriem2(17))\n",
    "print(\"Is 3 priem?\", isPriem2(3))\n",
    "print(\"Is 321 priem?\", isPriem2(321))\n"
   ],
   "metadata": {
    "collapsed": false
   },
   "id": "d253dc1cf0e15abd"
  },
  {
   "cell_type": "code",
   "execution_count": null,
   "outputs": [],
   "source": [
    "def isPriem3(n):\n",
    "    eersteDeler = 2\n",
    "    while n%eersteDeler > 0:\n",
    "        eersteDeler = eersteDeler + 1\n",
    "\n",
    "    if eersteDeler == n:\n",
    "        return True\n",
    "    else:\n",
    "        return False\n",
    "\n",
    "print(\"Is 17 priem?\", isPriem3(17))\n",
    "print(\"Is 3 priem?\", isPriem3(3))\n",
    "print(\"Is 321 priem?\", isPriem3(321))"
   ],
   "metadata": {
    "collapsed": false
   },
   "id": "19e354cd687143dd"
  },
  {
   "cell_type": "code",
   "execution_count": null,
   "outputs": [],
   "source": [
    "# pi volgens Euler\n",
    "def omzetting(benadering):\n",
    "    return math.sqrt(benadering * 6)\n",
    "\n",
    "def pi(nauwkeurigheid):\n",
    "    voorlaatste = 1\n",
    "    laatste = 1+1.0/(2*2)\n",
    "    term = 2\n",
    "    afstand = 2*nauwkeurigheid\n",
    "    while afstand > nauwkeurigheid:\n",
    "        voorlaatste = laatste\n",
    "        term = term + 1\n",
    "        laatste = laatste + 1.0/(term**2)\n",
    "        afstand = omzetting(laatste) - omzetting(voorlaatste)\n",
    "\n",
    "    return omzetting(laatste)\n",
    "\n",
    "pi(0.0001)"
   ],
   "metadata": {
    "collapsed": false
   },
   "id": "df9ef562a001b8fc"
  },
  {
   "cell_type": "markdown",
   "source": [
    "## Oefeningen\n",
    "\n",
    "1. Laat gebruiker positieve getallen ingeven\n",
    "•\tZodra de gebruiker een negatief getal ingeeft, mag je stoppen met inlezen\n",
    "•\t**Toon** dan het aantal getallen en het gemiddelde\n",
    "•\tVoor de goede student: **toon** ook de mediaan"
   ],
   "metadata": {
    "collapsed": false
   },
   "id": "45f3b24820210517"
  },
  {
   "cell_type": "code",
   "execution_count": null,
   "outputs": [],
   "source": [
    "from pcinput import *\n",
    "\n",
    "def statistiekenPositieveGetallen():\n",
    "    aantal = 0\n",
    "    som = 0\n",
    "    print(\"Je gaf\", aantal, \"positieve getallen in.\")\n",
    "    print(\"De som is\", som, \" en het gemiddelde\", som/aantal)\n",
    "    \n",
    "statistiekenPositieveGetallen()"
   ],
   "metadata": {
    "collapsed": false
   },
   "id": "3bdb10700e16dd71"
  },
  {
   "cell_type": "markdown",
   "source": [
    "2. Het vermoeden van Collatz (1937) zegt dat je vanuit elk natuurlijk getal in 1 uitkomt met volgende stappen\n",
    "•\tAls n even is, ga verder met n/2\n",
    "•\tAls n oneven is, ga verder met 3n+1. \n",
    "Maak een (eerste) functie die de tussenstappen onder elkaar afdrukt.\n",
    "Voor de snelle student: maak een functie die lijst van tussenstappen teruggeeft."
   ],
   "metadata": {
    "collapsed": false
   },
   "id": "f42c8f6682f62474"
  },
  {
   "cell_type": "code",
   "execution_count": null,
   "outputs": [],
   "source": [
    "# functie die de tussenstappen print\n",
    "def collatzPrint(n):\n",
    "    print(\"de reeks van collatz\")\n",
    "collatzPrint(6)\n",
    "\n",
    "# functie die de lijst terug geeft\n",
    "def collatz(n):\n",
    "    return [1,2,3,4] # maar dan de juiste lijst natuurlijk\n",
    "\n",
    "print(collatz(6))"
   ],
   "metadata": {
    "collapsed": false
   },
   "id": "3f333e5f86c74295"
  },
  {
   "cell_type": "markdown",
   "source": [
    "3. Maak een functie die twee strings als parameter heeft en de tekst teruggeeft die beide strings vooraan gemeenschappelijk hebben. \n",
    "Voor “appelsap” en “appelmoes” is dit bijvoorbeeld “appel”."
   ],
   "metadata": {
    "collapsed": false
   },
   "id": "8cc238a199226c4"
  },
  {
   "cell_type": "code",
   "execution_count": null,
   "outputs": [],
   "source": [
    "def gemeenschappelijk(tekst1, tekst2):\n",
    "    return \"\" # TODO\n",
    "\n",
    "print(gemeenschappelijk(\"appelmoes\",\"appelsap\"))"
   ],
   "metadata": {
    "collapsed": false
   },
   "id": "5948229867b3b9ee"
  },
  {
   "cell_type": "markdown",
   "source": [
    "4. Maak een benadering van pi via de formule van Simon Plouffe uit 2006 (zie cursus)."
   ],
   "metadata": {
    "collapsed": false
   },
   "id": "30d78451c9dee696"
  },
  {
   "cell_type": "code",
   "execution_count": null,
   "outputs": [],
   "source": [
    "# functie die de k-de term berekent\n",
    "def term(k):\n",
    "    return 1/(16**k)*(4/(8*k+1)-2/(8*k+4)-1/(8*k+5)-1/(8*k+6))\n",
    "\n",
    "# functie die pi berekent door 2 opeenvolgende benaderingen te vergelijken\n",
    "# tot de onderlinge afstand kleiner is dan de nauwkeurigheid\n",
    "\n",
    "# versie die verschil tussen 2 benaderingen neemt\n",
    "def piPlouffe(nauwkeurigheid):\n",
    "    return 3 # todo\n",
    "\n",
    "# versie die aantal cijfers verschil tussen 2 benaderingen neemt\n",
    "def piPlouffeAantalCijfers(aantalCijfersNaDeKomma):\n",
    "    return 3 # todo\n",
    "\n",
    "print(piPlouffeAantalCijfers(10))"
   ],
   "metadata": {
    "collapsed": false
   },
   "id": "cdd2ada6b899345"
  }
 ],
 "metadata": {
  "kernelspec": {
   "display_name": "Python 3",
   "language": "python",
   "name": "python3"
  },
  "language_info": {
   "codemirror_mode": {
    "name": "ipython",
    "version": 2
   },
   "file_extension": ".py",
   "mimetype": "text/x-python",
   "name": "python",
   "nbconvert_exporter": "python",
   "pygments_lexer": "ipython2",
   "version": "2.7.6"
  }
 },
 "nbformat": 4,
 "nbformat_minor": 5
}
