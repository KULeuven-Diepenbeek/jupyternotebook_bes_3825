{
 "cells": [
  {
   "cell_type": "markdown",
   "source": [
    "Oplossingstrategie:\n",
    "\n",
    "1. Identificeer de zelfstandige naamwoorden in de opgave\n",
    "2. Maak een klasse voor elk zelfstandig naamwoord. Gebruik hiervoor een nieuwe, aparte codecel.\n",
    "3. Bepaal de afhankelijkheden van elke klasse: welke klasse heeft die nodig?\n",
    "4. Begin met de 'onderste' klasse. Dit is de klasse die zelf geen andere klassen nodig heeft.\n",
    "   Als er twee klassen zijn met even weinig afhankelijkheden, begin met de kleinste klasse.\n",
    "5. Bouw zo verder omhoog.\n",
    " \n"
   ],
   "metadata": {
    "collapsed": false
   },
   "id": "d832b858cc169b56"
  },
  {
   "cell_type": "markdown",
   "source": [
    "# Klasse 1: de chauffeur\n",
    " "
   ],
   "metadata": {
    "collapsed": false
   },
   "id": "a69157111633864c"
  },
  {
   "cell_type": "code",
   "execution_count": null,
   "outputs": [],
   "source": [
    "class Chauffeur:\n",
    "    def __init__(self, naam):\n",
    "        self.naam = naam\n",
    "        self.aantalRitten = 0\n",
    "\n",
    "    def verhoogRitten(self):\n",
    "        self.aantalRitten = self.aantalRitten + 1\n",
    "\n",
    "    def __repr__(self):\n",
    "        return \"Chauffeur \" + self.naam + \" met \" + str(self.aantalRitten) + \" ritten\"\n",
    "\n",
    "    def __eq__(self, other):\n",
    "        return self.naam == other.naam and self.aantalRitten == other.aantalRitten"
   ],
   "metadata": {
    "collapsed": false
   },
   "id": "3232bea22b52f36d"
  },
  {
   "cell_type": "markdown",
   "source": [
    "# Klasse 2: de passagier"
   ],
   "metadata": {
    "collapsed": false
   },
   "id": "1e0aeec745fe57b"
  },
  {
   "cell_type": "code",
   "execution_count": null,
   "outputs": [],
   "source": [
    "class Passagier:\n",
    "    def __init__(self, adres):\n",
    "        self.vertrek = adres\n",
    "        self.bestemming = None\n",
    "\n",
    "    def setBestemming(self, adres):\n",
    "        self.bestemming = adres\n",
    "\n",
    "    def isIngestapt(self):\n",
    "        return self.bestemming != None\n",
    "\n",
    "    def __repr__(self):\n",
    "        if self.isIngestapt():\n",
    "            return \"Klant wil van \" + self.vertrek + \" naar \" + self.bestemming\n",
    "        else:\n",
    "            return \"Klant stapt in op \" + self.vertrek\n",
    "\n",
    "    def __eq__(self, passagier):\n",
    "        return self.vertrek == passagier.vertrek  \\\n",
    "                  and self.bestemming == passagier.bestemming"
   ],
   "metadata": {
    "collapsed": false
   },
   "id": "929f4d366a5f84be"
  },
  {
   "cell_type": "markdown",
   "source": [
    "# Klasse 3: de taxi"
   ],
   "metadata": {
    "collapsed": false
   },
   "id": "28573a6383e66273"
  },
  {
   "cell_type": "code",
   "execution_count": null,
   "outputs": [],
   "source": [
    "class Taxi:\n",
    "    # data members chauffeur, klant, aantalRitten\n",
    "\n",
    "    def __init__(self):\n",
    "        self.chauffeur = None\n",
    "        self.klant = None\n",
    "        self.aantalRitten = 0\n",
    "\n",
    "    # stuur de taxi naar een passagier die op een bepaald vertrekadres staat.\n",
    "    def stuurNaar(self, adres, chauffeur):\n",
    "        # als de klant uitgestapt is, kan chauffeur naar nieuwe bestemming\n",
    "        if self.klant == None:\n",
    "            self.klant = Passagier(adres)\n",
    "            self.chauffeur = chauffeur\n",
    "            return True\n",
    "        else:\n",
    "            return False\n",
    "\n",
    "    # pik de passagier op\n",
    "    def pikPassagierOp(self, adres):\n",
    "        self.klant.setBestemming(adres)\n",
    "\n",
    "    # aankomst op bestemming.\n",
    "    def aankomstOpBestemming(self):\n",
    "        self.klant = None\n",
    "        self.aantalRitten = self.aantalRitten + 1\n",
    "        self.chauffeur.verhoogRitten()\n",
    "\n",
    "    # aankomst in de centrale.\n",
    "    def aankomstInCentrale(self):\n",
    "        self.chauffeur = None\n",
    "\n",
    "    def isVrij(self):\n",
    "        if self.klant == None:\n",
    "            return True\n",
    "        else:\n",
    "            return False\n",
    "\n",
    "    def getHuidigeBestemming(self):\n",
    "        if self.chauffeur == None:\n",
    "            return \"in centrale\"\n",
    "        if self.klant == None:\n",
    "            return \"naar centrale\"\n",
    "        if self.klant.bestemming == None:\n",
    "            return self.klant.getVertrek()\n",
    "        else:\n",
    "            return self.klant.bestemming\n",
    "\n",
    "    def getBestemming_v2(self):\n",
    "        if self.chauffeur == None:\n",
    "            return \"in centrale\"\n",
    "        if self.klant == None:\n",
    "            return \"naar centrale\"\n",
    "        if self.klant.isIngestapt():\n",
    "            return self.klant.bestemming\n",
    "        else:\n",
    "            return self.klant.vertrek\n",
    "\n",
    "    def __repr__(self):\n",
    "        basis = \"De taxi staat in centrale met \" + str(self.aantalRitten) + \" ritten\"\n",
    "        if self.chauffeur == None:\n",
    "            return basis + \".\"\n",
    "        basis = basis + \" en met \" + str(self.chauffeur) + \". \"\n",
    "        if self.klant == None:\n",
    "            return basis\n",
    "        else:\n",
    "            return basis + \"en klant \" + str(self.klant) + \".\"\n",
    "\n",
    "    def __eq__(self, taxi):\n",
    "        if self.aantalRitten != taxi.aantalRitten:\n",
    "            return False\n",
    "        if self.chauffeur == None and taxi.chauffeur != None:\n",
    "            return False\n",
    "        if not self.chauffeur == taxi.chauffeur:\n",
    "            return False\n",
    "        if self.klant == None and taxi.klant != None:\n",
    "            return False\n",
    "        return self.klant == taxi.klant"
   ],
   "metadata": {
    "collapsed": false
   },
   "id": "604e7c43425715a7"
  },
  {
   "cell_type": "markdown",
   "source": [
    "# Klasse 4: het taxibedrijf: uitbreiding voor thuis"
   ],
   "metadata": {
    "collapsed": false
   },
   "id": "68de439e889c2f9"
  },
  {
   "cell_type": "code",
   "execution_count": null,
   "outputs": [],
   "source": [
    "class Taxibedrijf:\n",
    "    # hier zou je taxi en chauffeurs van het bedrijf kunnen zetten\n",
    "    # en allerlei acties, maar buiten de scope van deze les\n",
    "    pass"
   ],
   "metadata": {
    "collapsed": false
   },
   "id": "fb16103fa7758cc7"
  }
 ],
 "metadata": {
  "kernelspec": {
   "display_name": "Python 3 (ipykernel)",
   "language": "python",
   "name": "python3"
  },
  "language_info": {
   "codemirror_mode": {
    "name": "ipython",
    "version": 3
   },
   "file_extension": ".py",
   "mimetype": "text/x-python",
   "name": "python",
   "nbconvert_exporter": "python",
   "pygments_lexer": "ipython3",
   "version": "3.11.4"
  }
 },
 "nbformat": 4,
 "nbformat_minor": 5
}
