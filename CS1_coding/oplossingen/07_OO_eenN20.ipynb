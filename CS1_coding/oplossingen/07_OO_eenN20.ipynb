{
 "cells": [
  {
   "cell_type": "code",
   "execution_count": 1,
   "id": "92500c43-fc55-42c8-a311-129fba6983f9",
   "metadata": {
    "ExecuteTime": {
     "end_time": "2024-11-18T15:21:15.487270300Z",
     "start_time": "2024-11-18T15:21:15.469712400Z"
    }
   },
   "outputs": [],
   "source": [
    "import random\n",
    "\n",
    "class HandEen20:\n",
    "    def __init__(self):\n",
    "        pass\n",
    "\n",
    "    def vraagKaart(self):\n",
    "        kaart = random.randint(1,13)\n",
    "        self.aantalKaarten = self.aantalKaarten + 1\n",
    "\n",
    "        #TODO: voeg code toe om data members bij te werken\n",
    "                \n",
    "    def getScore(self):\n",
    "        # geef -1 terug als de speler dood is (> 21)\n",
    "        # geef 21 terug als 7 kaarten en niet dood\n",
    "        # anders gewoon de score\n",
    "        return -1        \n",
    "\n",
    "    def wisselAas(self):\n",
    "        # hulpfunctie om aas om te zetten van 11 naar 1\n",
    "        # Mag alleen als je nog azen hebt die als 11 tellen\n",
    "        pass\n",
    "    \n"
   ]
  },
  {
   "cell_type": "code",
   "execution_count": null,
   "id": "0d345d2b-e016-4e56-bab8-b9aea4f94832",
   "metadata": {},
   "outputs": [],
   "source": [
    "speler1 = HandEen20()\n",
    "speler1.vraagKaart()\n",
    "speler1.vraagKaart()\n",
    "speler1.vraagKaart()\n"
   ]
  },
  {
   "cell_type": "code",
   "execution_count": null,
   "id": "179941ad-2960-4273-96ba-1ad3ab102e79",
   "metadata": {},
   "outputs": [],
   "source": [
    "print(speler1.getScore())"
   ]
  },
  {
   "cell_type": "code",
   "execution_count": null,
   "id": "35c40eb0-ff98-441d-8a37-09f5566dde44",
   "metadata": {},
   "outputs": [],
   "source": [
    "print(speler1)\n",
    "speler1.stop()"
   ]
  },
  {
   "cell_type": "code",
   "execution_count": null,
   "id": "328f5b93-eff6-4b20-a773-8f346feeaf7b",
   "metadata": {},
   "outputs": [],
   "source": [
    "speler1.vraagKaart()\n",
    "print(speler1)"
   ]
  },
  {
   "cell_type": "markdown",
   "source": [
    "# Speel 21 met een aantal handen\n",
    "\n",
    "Onderstaande cel is géén deel van de opgave van de werkzitting, maar is qua moeilijkheidsgraad wel iets wat je in principe zou moeten kunnen op het examen."
   ],
   "metadata": {
    "collapsed": false
   },
   "id": "20dcb1443aa48493"
  },
  {
   "cell_type": "code",
   "execution_count": null,
   "outputs": [],
   "source": [
    "import math\n",
    "from pcinput import *\n",
    "##################\n",
    "# speel het spel #\n",
    "##################\n",
    "\n",
    "def speel():\n",
    "    aantal = getInteger(\"Aantal spelers: \")\n",
    "    aantalGestopt = 0\n",
    "    if (aantal < 1):\n",
    "        return # geen negatieve getallen\n",
    "    spelers = [HandEen20() for i in range(1,aantal+1)]\n",
    "    beurt = 0\n",
    "    while aantalGestopt < aantal:\n",
    "        aanBeurt = spelers[beurt]\n",
    "        if not (aanBeurt.gestopt or aanBeurt.isDood()):            \n",
    "            print(f\"Speler {beurt+1}: je hebt {aanBeurt.getScore()}.\");\n",
    "            zet = \"\"\n",
    "            while not(zet == 'S' or zet == 'K'):\n",
    "               zet = getLetter(\"s: stop / k: kaart\")\n",
    "            if zet == 'S':\n",
    "                aanBeurt.stop()\n",
    "                aantalGestopt = aantalGestopt+1\n",
    "            else:\n",
    "                aanBeurt.vraagKaart()\n",
    "                if aanBeurt.isDood():\n",
    "                    aantalGestopt = aantalGestopt+1\n",
    "        beurt = beurt + 1\n",
    "        if beurt == aantal:\n",
    "            beurt = 0\n",
    "    print(\"***********************************\")    \n",
    "    print(\"*             UITSLAG             *\")    \n",
    "    print(\"***********************************\")    \n",
    "    nr = 1\n",
    "    for speler in spelers:\n",
    "        print(f\"Speler {nr}: {speler}\")\n",
    "        nr = nr + 1\n",
    "speel()"
   ],
   "metadata": {
    "collapsed": false
   },
   "id": "2e4925fb010fc055"
  }
 ],
 "metadata": {
  "kernelspec": {
   "display_name": "Python 3 (ipykernel)",
   "language": "python",
   "name": "python3"
  },
  "language_info": {
   "codemirror_mode": {
    "name": "ipython",
    "version": 3
   },
   "file_extension": ".py",
   "mimetype": "text/x-python",
   "name": "python",
   "nbconvert_exporter": "python",
   "pygments_lexer": "ipython3",
   "version": "3.11.4"
  }
 },
 "nbformat": 4,
 "nbformat_minor": 5
}
