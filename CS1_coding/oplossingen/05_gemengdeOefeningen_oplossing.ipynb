{
 "cells": [
  {
   "cell_type": "markdown",
   "source": [
    "# Gemengde oefeningen\n",
    "\n",
    "In de vorige reeksen vertelden we altijd heel concreet welke herhalingsstructuur je moest gebruiken. In deze reeks oefeningen doen we dat niet, want in het echte leven is dat ook niet.\n",
    "\n",
    "1. Schrijf een programma dat vraagt om twee woorden. Druk alle letters af die de woorden gemeen hebben. Je mag hoofdletters beschouwen als verschillend van kleine letters, maar iedere letter die je rapporteert, mag slechts één keer gerapporteerd worden (bijvoorbeeld, de strings “een” en “peer” hebben slechts één letter gemeen, namelijk de letter “e”). Hint: Sla de letters die de woorden gemeen hebben op in een derde string, en als je een letter vindt die beide woorden gemeen hebben, test je of de letter al in de derde string staat alvorens je hem rapporteert."
   ],
   "metadata": {
    "collapsed": false
   },
   "id": "f8e606623f02c854"
  },
  {
   "cell_type": "code",
   "execution_count": null,
   "outputs": [],
   "source": [
    "# we beschouwen een woord als een lijst van letters\n",
    "\n",
    "def gemeenschappelijkeLetters(woord1, woord2):\n",
    "    result = []\n",
    "    for letter in woord1:\n",
    "        if letter in woord2 and (not (letter in result)):\n",
    "            result.append(letter)\n",
    "    return result\n",
    "\n",
    "''' \n",
    "   Je kan ook de functie 'in'S NIET gebruiken\n",
    "   en manueel de verschillende lijsten doorlopen.\n",
    "   Dan krijg je for in for in for.\n",
    "'''\n",
    "def gemeenschappelijkeLetters_v2(woord1, woord2):\n",
    "    result = []\n",
    "    for letter in woord1:\n",
    "        for letter2 in woord2:\n",
    "            if letter == letter2:\n",
    "                alGevonden = False\n",
    "                for letter3 in result:\n",
    "                    if letter == letter3:\n",
    "                        alGevonden = True\n",
    "                if not(alGevonden):\n",
    "                    result.append(letter)\n",
    "    return result"
   ],
   "metadata": {
    "collapsed": false
   },
   "id": "70bed67ef7fc0a49"
  },
  {
   "cell_type": "markdown",
   "source": [
    "2. Ontbind een getal in priemfactoren.  Tip: doe eerst de berekening met de hand voor het getal 2100 om dan een algoritme op te stellen."
   ],
   "metadata": {
    "collapsed": false
   },
   "id": "2711eb27afd467f4"
  },
  {
   "cell_type": "code",
   "execution_count": null,
   "outputs": [],
   "source": [
    "def ontbind(getal):\n",
    "    priemfactor = 2\n",
    "    factoren = []\n",
    "    while getal > 1:\n",
    "        if getal%priemfactor == 0:\n",
    "            factoren.append(priemfactor)\n",
    "            getal = getal // priemfactor\n",
    "        else:\n",
    "            priemfactor = priemfactor + 1\n",
    "    return factoren\n",
    "\n",
    "print(ontbind(2100))\n",
    "print(ontbind(34821))"
   ],
   "metadata": {
    "collapsed": false
   },
   "id": "a0af2b47b04b9dbf"
  },
  {
   "cell_type": "markdown",
   "source": [
    "3.\tSchrijf een programma dat alle gehele getallen tussen 1 en 100 afdrukt die geschreven kunnen worden als de som van twee kwadraten. De uitvoer is een lijst van regels van de vorm z = x**2 + y**2, bijvoorbeeld, 58 = 3**2 + 7**2. Als een getal twee keer wordt afgedrukt met verschillende manieren om het te schrijven als de som van twee kwadraten, dan is dat acceptabel (dit kan gelden voor 50, 65, en 85)."
   ],
   "metadata": {
    "collapsed": false
   },
   "id": "1083788981354b4f"
  },
  {
   "cell_type": "code",
   "execution_count": null,
   "outputs": [],
   "source": [
    "def kwadratenSom():\n",
    "    mogelijkeFactoren = range(2,51)\n",
    "    return [str(x*x+y*y) + \" = \" + str(x) + \"**2 + \" + str(y) + \"**2\" \n",
    "                for x in mogelijkeFactoren \n",
    "                for y in mogelijkeFactoren\n",
    "                if x*x + y*y <= 100\n",
    "            ]\n",
    "\n",
    "def printKwadratenSom():\n",
    "    sommen = kwadratenSom()\n",
    "    for som in sommen:\n",
    "        print(som)\n",
    "\n",
    "printKwadratenSom()"
   ],
   "metadata": {
    "collapsed": false
   },
   "id": "14677bfbd936dfe7"
  },
  {
   "cell_type": "code",
   "execution_count": null,
   "outputs": [],
   "source": [
    "import math\n",
    "def somKwadraten2():\n",
    "    for getal in range(1,101):\n",
    "        bovengrens = math.ceil(math.sqrt(getal))\n",
    "        for i in range(1, bovengrens+1):\n",
    "            for j in range(1, bovengrens+1):\n",
    "                if getal == i*i + j*j:\n",
    "                    print(str(getal) + \" = \" + str(i) + \"**2 + \" + str(j) + \"**2\")"
   ],
   "metadata": {
    "collapsed": false
   },
   "id": "2a6f2ad5419adbde"
  },
  {
   "cell_type": "markdown",
   "source": [
    "4.\tBereken het verschil tussen het grootste en kleinste getal van een lijst. Die lijst moet een parameter van de functie zijn.\n",
    "\n",
    "Gebruik eventueel functie genereerLijst(aantal, bovengrens) om dit uit te proberen. Deze functie zit in het opgave-project en maakt lijst van aantal getallen <= bovengrens"
   ],
   "metadata": {
    "collapsed": false
   },
   "id": "f1d046c6428b46c0"
  },
  {
   "cell_type": "code",
   "execution_count": null,
   "outputs": [],
   "source": [
    "# hulpfunctie die lijst van 'aantal' willekeurige getallen <= bovengrens genereert\n",
    "def genereerLijst(aantal, bovengrens):\n",
    "    lijst = []\n",
    "    for i in range(0,aantal):\n",
    "        lijst.append(randint(0, bovengrens))\n",
    "    return lijst\n",
    "\n",
    "def grootsteVerschilTeSimpel(lijst):\n",
    "    return max(lijst) - min(lijst)\n",
    "def grootsteVerschil(lijst):\n",
    "    grootste = lijst[0]\n",
    "    kleinste = lijst[0]\n",
    "    for i in lijst:\n",
    "        if i < kleinste:\n",
    "            kleinste = i\n",
    "        if i > grootste:\n",
    "            grootste = i\n",
    "    return grootste - kleinste"
   ],
   "metadata": {
    "collapsed": false
   },
   "id": "572426af815e31e3"
  },
  {
   "cell_type": "markdown",
   "source": [
    "5. Bereken het aantal priemgetallen in een lijst. Gebruik functie isPriem uit opgave-project (deze functie isPriem gebruikt een while.)"
   ],
   "metadata": {
    "collapsed": false
   },
   "id": "e681d17aa1e3fde4"
  },
  {
   "cell_type": "code",
   "execution_count": null,
   "outputs": [],
   "source": [
    "def isPriem(n):\n",
    "    if n <= 1:\n",
    "        return False\n",
    "    deler = 2\n",
    "    while (n%deler > 0):\n",
    "        deler = deler + 1\n",
    "    return deler == n\n",
    "\n",
    "def aantalDelers(lijst):\n",
    "    return len([n for n in lijst if isPriem(n)])\n",
    "\n",
    "print(aantalDelers(range(1,100)))\n",
    "\n",
    "def aantalDelers2(lijst):\n",
    "    aantal = 0\n",
    "    for i in lijst:\n",
    "        if isPriem(i):\n",
    "            aantal = aantal + 1\n",
    "    return aantal\n",
    "\n",
    "print(aantalDelers2(range(1,100)))"
   ],
   "metadata": {
    "collapsed": false
   },
   "id": "bdb4850f732cb3b3"
  },
  {
   "cell_type": "markdown",
   "source": [
    "6.\tZoek de grootste gemene deler via algoritme van Euclides\t\n",
    "https://www.khanacademy.org/computing/computer-science/cryptography/modarithmetic/a/the-euclidean-algorithm \n",
    "https://sites.math.rutgers.edu/~greenfie/gs2004/euclid.html"
   ],
   "metadata": {
    "collapsed": false
   },
   "id": "e1a8710ecd230080"
  },
  {
   "cell_type": "code",
   "execution_count": null,
   "outputs": [],
   "source": [
    "def ggd(a, b):\n",
    "    if a < b: \n",
    "        return ggd(b,a)\n",
    "    if b == 0:\n",
    "        return a\n",
    "    #print(a,b)\n",
    "    return ggd(b, a%b)\n",
    "\n",
    "ggd(2*3*5*9, 2*5*11*13)"
   ],
   "metadata": {
    "collapsed": false
   },
   "id": "5e51d37fac94f81a"
  },
  {
   "cell_type": "markdown",
   "source": [
    "7.\tSchrijf een functie die een lijst van waarden neemt en een lijst met berekent met als elementen telkens een lijst met twee element met als eerste element een getal en als tweede een waarde waarbij het getal voorstel hoeveel keer de waarde voorkomt in de invoerlijst. Elke verschillende waarde in de invoerlijst komt maar één keer voor in de returnwaarde.\n",
    "Voorbeeld: [“a”, “a”, “b”, “c”, “b”, “b”]  moet [ [2,”a”], [3,”b”], [1, “c”]] worden.\n"
   ],
   "metadata": {
    "collapsed": false
   },
   "id": "7cba4171df1f4b3e"
  },
  {
   "cell_type": "code",
   "execution_count": null,
   "outputs": [],
   "source": [
    "def aantal(waarde, lijst):\n",
    "    return len([x for x in lijst if x == waarde])\n",
    "\n",
    "def aantal2(waarde, lijst):\n",
    "    aantal = 0\n",
    "    for i in lijst:\n",
    "        if i == waarde:\n",
    "            aantal = aantal + 1\n",
    "    return aantal\n",
    "\n",
    "def samenvatting(lijst):\n",
    "    uitkomst = []\n",
    "    while len(lijst)>0:\n",
    "        eerste = lijst[0]\n",
    "        telling = aantal2(eerste, lijst)\n",
    "        uitkomst.append([telling, eerste])\n",
    "        lijst = [x for x in lijst if not(x == eerste) ]\n",
    "    return uitkomst\n",
    "\n",
    "samenvatting([\"a\", \"a\", \"b\", \"c\", \"b\", \"b\"])"
   ],
   "metadata": {
    "collapsed": false
   },
   "id": "faf9f929b4b81f55"
  },
  {
   "cell_type": "markdown",
   "source": [
    "8.\tMaak een versie van opgave 7 waarbij het aantal gelijk is aan het aantal opeenvolgende keren dat de waarde voorkomt. \n",
    "Voorbeeld: [“a”, “a”, “b”, “b”, “b”, “c”, “b”, “b”]  wordt [ [2,”a”], [3,”b”], [1, “c”], [2,”b”]]. \n"
   ],
   "metadata": {
    "collapsed": false
   },
   "id": "ec38de212d3c1ce7"
  },
  {
   "cell_type": "code",
   "execution_count": null,
   "outputs": [],
   "source": [
    "def andereSamenvatting(lijst):\n",
    "    uitkomst = []\n",
    "    aantal = 0\n",
    "    waarde = lijst[0]\n",
    "    for i in lijst:\n",
    "        if i == waarde:\n",
    "            aantal = aantal + 1\n",
    "        else:\n",
    "            uitkomst.append((aantal, waarde))\n",
    "            aantal = 1\n",
    "            waarde = i\n",
    "    uitkomst.append((aantal, waarde)) # laatste element ook toevoegen\n",
    "    return uitkomst\n",
    "\n",
    "print(andereSamenvatting([\"a\", \"a\", \"b\", \"b\", \"b\", \"c\", \"b\", \"b\"] ))"
   ],
   "metadata": {
    "collapsed": false
   },
   "id": "683564b3e7ef2e09"
  },
  {
   "cell_type": "markdown",
   "source": [
    "9.\t“99 bottles of beer” is a traditioneel liedje gezongen in Amerika en Canada. Het wordt vaak gezongen op lange reizen omdat het gemakkelijk te onthouden en mee te zingen is, en lang duurt. In vertaling is de tekst: “99 ﬂesjes met bier op de muur, 99 ﬂesjes met bier. Open er een, drink hem meteen, 98 ﬂesjes met bier op de muur.” Deze tekst wordt herhaald, steeds met één ﬂesje minder. Het lied is voorbij als de zangers nul bereiken. \t\n",
    "Schrijf een programma dat het hele lied afdrukt (ik raad je aan te beginnen met niet meer dan 10 ﬂesjes). Kijk uit dat je je loop niet eindeloos maakt. Zorg er ook voor dat je het juiste meervoud voor het woord “ﬂesje” gebruikt.\n"
   ],
   "metadata": {
    "collapsed": false
   },
   "id": "4af7b517565e7a70"
  },
  {
   "cell_type": "code",
   "execution_count": null,
   "outputs": [],
   "source": [
    "def bottlesOfBeer():\n",
    "    lijst = list(range(2,100))\n",
    "    lijst.reverse()\n",
    "\n",
    "    for i in lijst:\n",
    "        print(str(i) + \" flesjes met bier op de muur\")\n",
    "        print(str(i) + \" flesjes met bier\")\n",
    "        print(\"Open er een, drink hem meteen.\")\n",
    "\n",
    "    print(\"1 flesje met bier op de muur\")\n",
    "    print(\"1 flesje met bier\")\n",
    "    print(\"Open er een, drink hem meteen.\")\n",
    "    print(\"------------------------------\")\n",
    "\n",
    "bottlesOfBeer()"
   ],
   "metadata": {
    "collapsed": false
   },
   "id": "d39e0f03b060d74a"
  },
  {
   "cell_type": "markdown",
   "source": [
    "10.\tSchrijf een programma dat een toevalsgetal neemt tussen 1 en 100 (je kunt randint() daarvoor gebruiken). Het programma vraagt de gebruiker het getal te raden. Na iedere poging van de gebruiker zegt het programma “Lager” als het te raden getal lager is, “Hoger” als het te raden getal hoger is, of “Je hebt het geraden!” als het getal correct is. \t\n",
    "Het programma eindigt met afdrukken hoeveel pogingen de gebruiker nodig had om het getal te raden. Voor test-doeleinden kan het slim zijn om het te raden getal op het scherm te laten zien, totdat je zeker weet dat het programma goed werkt.\n"
   ],
   "metadata": {
    "collapsed": false
   },
   "id": "33d116f0b9e6d951"
  },
  {
   "cell_type": "code",
   "execution_count": null,
   "outputs": [],
   "source": [
    "from pcinput import *\n",
    "from random import randint\n",
    "def hogerLager():\n",
    "    teRaden = randint(1,100)\n",
    "    poging = getInteger(\"Raad een getal tussen 1 en 100. Geef je eerste poging in: \")\n",
    "    aantalPogingen = 1\n",
    "\n",
    "    while poging != teRaden:\n",
    "        if poging < teRaden:\n",
    "            poging = getInteger(\"Te laag! Geef een hoger getal: \")\n",
    "        else:\n",
    "            poging = getInteger(\"Te hoog! Geef een lager getal: \")\n",
    "        aantalPogingen = aantalPogingen + 1\n",
    "\n",
    "    print(\"Knap. Na \" + str(aantalPogingen) + \" pogingen vond je het getal \" + str(teRaden))\n",
    "hogerLager()"
   ],
   "metadata": {
    "collapsed": false
   },
   "id": "8c3089e7991bd517"
  },
  {
   "cell_type": "markdown",
   "source": [
    "11.\tSchrijf een programma dat het omgekeerde is van het vorige: nu neemt de gebruiker een getal in gedachten en de computer probeert het te raden. Op de pogingen van de computer moet de gebruiker antwoorden met een letter: “L” voor lager als het te raden getal lager is, “H” voor hoger als het te raden getal hoger is, en “C” voor correct (je kunt de getLetter() functie van pcinput hiervoor gebruiken). Als de computer het getal geraden heeft, drukt het af hoeveel pogingen er nodig waren. Zorg ervoor dat de computer ook herkent dat er geen mogelijk antwoord is (misschien omdat de gebruiker een vergissing heeft gemaakt, of omdat de gebruiker de computer in het ootje probeerde te nemen). Een slim programma hoeft hoogstens tien keer te raden."
   ],
   "metadata": {
    "collapsed": false
   },
   "id": "22cc4149bc7721cd"
  },
  {
   "cell_type": "code",
   "execution_count": null,
   "outputs": [],
   "source": [
    "from pcinput import *\n",
    "def hogerLagerCPU(geheimGetal):\n",
    "    ondergrens = 1\n",
    "    bovengrens = 100\n",
    "    midden = (bovengrens+ondergrens)//2\n",
    "    aantalPogingen = 1\n",
    "\n",
    "    feedback = getLetter(\"Ik als CPU begin met 50. Wat is je feedback?\")\n",
    "    while (feedback != 'C') and ondergrens < bovengrens:\n",
    "        if feedback == 'L':\n",
    "            bovengrens = midden-1\n",
    "        else:\n",
    "            ondergrens = midden+1\n",
    "        midden = (bovengrens+ondergrens)//2\n",
    "        aantalPogingen = aantalPogingen + 1\n",
    "        feedback = getLetter(\"Mijn volgende poging is \" + str(midden) + \". Wat is je feedback?\")\n",
    "\n",
    "    if feedback == 'C':\n",
    "        print(\"Knap van mij he. Ik had slechts \" + str(aantalPogingen) + \" pogingen nodig.\")\n",
    "    else:\n",
    "        print(\"Hèlaba: dat kan niet he. Ofwel heb je verkeerde feedback gegeven of een fout getal gekozen.\")\n",
    "\n",
    "hogerLagerCPU(87)"
   ],
   "metadata": {
    "collapsed": false
   },
   "id": "c9eaee31b14073b9"
  }
 ],
 "metadata": {
  "kernelspec": {
   "display_name": "Python 3",
   "language": "python",
   "name": "python3"
  },
  "language_info": {
   "codemirror_mode": {
    "name": "ipython",
    "version": 2
   },
   "file_extension": ".py",
   "mimetype": "text/x-python",
   "name": "python",
   "nbconvert_exporter": "python",
   "pygments_lexer": "ipython2",
   "version": "2.7.6"
  }
 },
 "nbformat": 4,
 "nbformat_minor": 5
}
