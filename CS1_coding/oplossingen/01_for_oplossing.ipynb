{
 "cells": [
  {
   "cell_type": "markdown",
   "source": [
    "# Voorspelbare herhaling => for\n",
    "\n",
    "Wanneer je op voorhand weet hoe dikwijls de lus herhaald moet worden, gebruik je best de for (of de list-comprehension).\n",
    "\n",
    "Deze heeft volgend formaat:\n",
    "\n",
    "```\n",
    "for element in lijst:\n",
    "   # doe iets met het element\n",
    "   doeIets(element)\n",
    "```"
   ],
   "metadata": {
    "collapsed": false
   },
   "id": "a5c337901222754"
  },
  {
   "cell_type": "code",
   "execution_count": null,
   "outputs": [],
   "source": [
    "## Enkele voorbeelden"
   ],
   "metadata": {
    "collapsed": false
   },
   "id": "9b81fab46d633af7"
  },
  {
   "cell_type": "code",
   "execution_count": 1,
   "outputs": [
    {
     "name": "stdout",
     "output_type": "stream",
     "text": [
      "De faculteit van 3 =  6\n",
      "De faculteit van 4 =  24\n",
      "De faculteit van 10 =  3628800\n"
     ]
    }
   ],
   "source": [
    "def faculteit(n):\n",
    "    fac = 1\n",
    "    for i in range(2,n+1):\n",
    "        fac = fac * i\n",
    "    return fac\n",
    "\n",
    "print(\"De faculteit van 3 = \", faculteit(3))\n",
    "print(\"De faculteit van 4 = \", faculteit(4))\n",
    "print(\"De faculteit van 10 = \", faculteit(10))"
   ],
   "metadata": {
    "collapsed": false,
    "ExecuteTime": {
     "end_time": "2023-11-05T19:37:00.900695200Z",
     "start_time": "2023-11-05T19:37:00.886165600Z"
    }
   },
   "id": "82dd82a0fd9b268b"
  },
  {
   "cell_type": "code",
   "execution_count": 2,
   "outputs": [
    {
     "name": "stdout",
     "output_type": "stream",
     "text": [
      "10\n",
      "9\n",
      "8\n",
      "7\n",
      "6\n",
      "5\n",
      "4\n",
      "3\n",
      "2\n",
      "1\n",
      "BOEM\n"
     ]
    }
   ],
   "source": [
    "def voorbeeldFor():\n",
    "    numbers = list(range(1,11))\n",
    "    numbers.reverse()\n",
    "\n",
    "    for i in numbers:\n",
    "        print(i)\n",
    "    print('BOEM')\n",
    "\n",
    "voorbeeldFor()"
   ],
   "metadata": {
    "collapsed": false,
    "ExecuteTime": {
     "end_time": "2023-11-05T19:37:39.671887100Z",
     "start_time": "2023-11-05T19:37:39.651885200Z"
    }
   },
   "id": "a298b06d4a220a36"
  },
  {
   "cell_type": "code",
   "execution_count": 3,
   "outputs": [
    {
     "name": "stdout",
     "output_type": "stream",
     "text": [
      "De som van 3 t.e.m. 7 =  25\n",
      "De som van -5 t.e.m. 5 =  0\n"
     ]
    }
   ],
   "source": [
    "def somTem(a,b):\n",
    "    som = 0\n",
    "    for i in range(a,b+1):\n",
    "        som = som + i\n",
    "    return som\n",
    "\n",
    "print(\"De som van 3 t.e.m. 7 = \", somTem(3,7))\n",
    "print(\"De som van -5 t.e.m. 5 = \", somTem(-5,5))"
   ],
   "metadata": {
    "collapsed": false,
    "ExecuteTime": {
     "end_time": "2023-11-05T19:38:21.791457800Z",
     "start_time": "2023-11-05T19:38:21.776634200Z"
    }
   },
   "id": "87534558dfe41b50"
  },
  {
   "cell_type": "markdown",
   "source": [
    "## 8.2.2 Oefeningen"
   ],
   "metadata": {
    "collapsed": false
   },
   "id": "d4f8dddd315bb7b1"
  },
  {
   "cell_type": "markdown",
   "source": [
    "1. Maak een functie met één parameter (n) die de som berekent van 1+1/2+1/3+…1/n."
   ],
   "metadata": {
    "collapsed": false
   },
   "id": "d0bb08ad5db94b3e"
  },
  {
   "cell_type": "code",
   "execution_count": 5,
   "outputs": [
    {
     "name": "stdout",
     "output_type": "stream",
     "text": [
      "1.8333333333333333\n",
      "2.083333333333333\n"
     ]
    }
   ],
   "source": [
    "def hermitischeSom(n):\n",
    "    getallekes = range(1,n+1)\n",
    "    som = 0\n",
    "    for getal in getallekes:\n",
    "        som = som + 1/getal\n",
    "\n",
    "    return som\n",
    "\n",
    "print(hermitischeSom(3))\n",
    "print(hermitischeSom(4))"
   ],
   "metadata": {
    "collapsed": false,
    "ExecuteTime": {
     "end_time": "2023-11-05T19:44:28.989968600Z",
     "start_time": "2023-11-05T19:44:28.980943700Z"
    }
   },
   "id": "edeaaa70737421e6"
  },
  {
   "cell_type": "markdown",
   "source": [
    "2. Maak een functie die gegeven een lijst en een getal teruggeeft of dit getal voorkomt in de lijst.\t\n",
    "Je zou dit kunnen oplossen door het sleutelwoord *in* te gebruiken (x in lijst geeft True terug indien x voorkomt in de lijst), maar de bedoeling is dat je zelf een functie schrijft."
   ],
   "metadata": {
    "collapsed": false
   },
   "id": "63209dd8556457d1"
  },
  {
   "cell_type": "code",
   "execution_count": 4,
   "outputs": [
    {
     "name": "stdout",
     "output_type": "stream",
     "text": [
      "10 komt voor in [1..7[?  False\n"
     ]
    }
   ],
   "source": [
    "def komtVoor(waarde, lijst):\n",
    "    for x in lijst:\n",
    "        if x == waarde:\n",
    "            return True\n",
    "    return False        # pas NADAT je ALLE elementen geprobeerd hebt\n",
    "\n",
    "print(\"10 komt voor in [1..7[? : \", komtVoor(10, range(1,7)))"
   ],
   "metadata": {
    "collapsed": false,
    "ExecuteTime": {
     "end_time": "2023-11-05T19:44:14.911722300Z",
     "start_time": "2023-11-05T19:44:14.898120300Z"
    }
   },
   "id": "ad03264b8bd684cf"
  },
  {
   "cell_type": "markdown",
   "source": [
    "3. Schrijf een functie die gegeven twee lijsten telt hoeveel elementen van de eerste lijst in de tweede lijst voorkomen. Gebruik hiervoor de functie *komtVoor* van opgave 2 of het sleutelwoord **in** ."
   ],
   "metadata": {
    "collapsed": false
   },
   "id": "3fdbd32f6b1a4b78"
  },
  {
   "cell_type": "code",
   "execution_count": 6,
   "outputs": [
    {
     "name": "stdout",
     "output_type": "stream",
     "text": [
      "Zou 2 moeten zijn:  2\n",
      "Zou 3 moeten zijn:  3\n"
     ]
    }
   ],
   "source": [
    "def aantalElementInTweedeLijst(lijst1, lijst2):\n",
    "    aantal = 0\n",
    "    for element in lijst1:\n",
    "        if element in lijst2:\n",
    "            aantal = aantal + 1\n",
    "    return aantal\n",
    "\n",
    "print(\"Zou 2 moeten zijn: \", aantalElementInTweedeLijst([1,2,3],[1,1,1,1,2]))\n",
    "print(\"Zou 3 moeten zijn: \", aantalElementInTweedeLijst([1,2,2],[1,1,1,1,2]))"
   ],
   "metadata": {
    "collapsed": false,
    "ExecuteTime": {
     "end_time": "2023-11-05T19:46:54.340219700Z",
     "start_time": "2023-11-05T19:46:54.329189900Z"
    }
   },
   "id": "bc69a54a9b6cc655"
  },
  {
   "cell_type": "markdown",
   "source": [
    "4. Schrijf een functie die telt hoeveel delers een gegeven getal heeft"
   ],
   "metadata": {
    "collapsed": false
   },
   "id": "3ff28169db2b6d97"
  },
  {
   "cell_type": "code",
   "execution_count": 8,
   "outputs": [
    {
     "name": "stdout",
     "output_type": "stream",
     "text": [
      "7 heeft 2 delers\n",
      "8 heeft 4 delers\n"
     ]
    }
   ],
   "source": [
    "def aantalDelers(getal):\n",
    "    aantal = 1 # getal is deelbaar door zichzelf\n",
    "    for i in range(1,getal):\n",
    "        if getal%i == 0:\n",
    "            aantal = aantal + 1\n",
    "    return aantal\n",
    "\n",
    "# iets snellere variant (eigenlijk dubbel zo snel)\n",
    "def aantalDelersIetsSneller(n):\n",
    "    if n==1:\n",
    "        return 1\n",
    "\n",
    "    aantal = 2\n",
    "    for i in range(2,n//2+1):\n",
    "       if n%i == 0:\n",
    "           aantal = aantal + 1\n",
    "\n",
    "    return aantal\n",
    "\n",
    "print(\"7 heeft\", aantalDelers(7), \"delers\")\n",
    "print(\"8 heeft\", aantalDelers(8), \"delers\")"
   ],
   "metadata": {
    "collapsed": false,
    "ExecuteTime": {
     "end_time": "2023-11-05T19:49:20.045135700Z",
     "start_time": "2023-11-05T19:49:20.028311400Z"
    }
   },
   "id": "20cba5e2327b234a"
  },
  {
   "cell_type": "markdown",
   "source": [
    "5. Schrijf een functie die een lijst met getallen krijgt en de som neemt van het 1e getal maal 1,  het 2e getal maal 2, het 3e getal maar 3, enzoverder. "
   ],
   "metadata": {
    "collapsed": false
   },
   "id": "1f83d14513c3f007"
  },
  {
   "cell_type": "code",
   "execution_count": 10,
   "outputs": [
    {
     "name": "stdout",
     "output_type": "stream",
     "text": [
      "Zou 14 moeten zijn:  14\n"
     ]
    }
   ],
   "source": [
    "def specialeSom(lijst):\n",
    "   som = 0\n",
    "   factor = 1\n",
    "   for i in lijst:\n",
    "     som = som + i*factor\n",
    "     factor = factor + 1\n",
    "   return som\n",
    "\n",
    "print(\"Zou 14 moeten zijn: \", specialeSom([1,2,3]))"
   ],
   "metadata": {
    "collapsed": false,
    "ExecuteTime": {
     "end_time": "2023-11-05T19:53:23.117300200Z",
     "start_time": "2023-11-05T19:53:23.097994100Z"
    }
   },
   "id": "f035399d120e2245"
  },
  {
   "cell_type": "markdown",
   "source": [
    "6. Schrijf een functie die gegeven een getal een string teruggeeft met zoveel sterren als het getal aangeeft (werk deze functie uit zonder de * te gebruiken!)"
   ],
   "metadata": {
    "collapsed": false
   },
   "id": "3a0ca65bc5eb5ab"
  },
  {
   "cell_type": "code",
   "execution_count": 11,
   "outputs": [
    {
     "name": "stdout",
     "output_type": "stream",
     "text": [
      "***\n",
      "**********\n"
     ]
    }
   ],
   "source": [
    "def sterren(n):\n",
    "    tekst = \"\"\n",
    "    for i in range(1,n+1):\n",
    "        tekst = tekst + \"*\"\n",
    "    return tekst\n",
    "\n",
    "print(sterren(3))\n",
    "print(sterren(10))"
   ],
   "metadata": {
    "collapsed": false,
    "ExecuteTime": {
     "end_time": "2023-11-05T19:54:48.186857500Z",
     "start_time": "2023-11-05T19:54:48.168345200Z"
    }
   },
   "id": "da7634ede432e026"
  }
 ],
 "metadata": {
  "kernelspec": {
   "display_name": "Python 3",
   "language": "python",
   "name": "python3"
  },
  "language_info": {
   "codemirror_mode": {
    "name": "ipython",
    "version": 2
   },
   "file_extension": ".py",
   "mimetype": "text/x-python",
   "name": "python",
   "nbconvert_exporter": "python",
   "pygments_lexer": "ipython2",
   "version": "2.7.6"
  }
 },
 "nbformat": 4,
 "nbformat_minor": 5
}
