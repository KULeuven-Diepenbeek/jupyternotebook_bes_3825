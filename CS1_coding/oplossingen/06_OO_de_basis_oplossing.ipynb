{
 "cells": [
  {
   "cell_type": "markdown",
   "source": [
    "# Demo-klasse Punt"
   ],
   "metadata": {
    "collapsed": false
   },
   "id": "c50f6de92999c713"
  },
  {
   "cell_type": "code",
   "execution_count": null,
   "id": "a3a431d4-7eff-48f6-954c-a5a7604a7174",
   "metadata": {
    "is_executing": true
   },
   "outputs": [],
   "source": [
    "import math\n",
    "class Punt:\n",
    "    def __init__(self, x=0, y=0):\n",
    "        self.x = x\n",
    "        self.y = y\n",
    "        self.aantalVerplaatsingen = 0\n",
    "\n",
    "    def afstandTotOorsprong(self):\n",
    "        return math.sqrt(self.x**2 + self.y**2)\n",
    "\n",
    "    def verplaatsNaar(self, x, y):\n",
    "        self.x = x\n",
    "        self.y = y\n",
    "        self.aantalVerplaatsingen = self.aantalVerplaatsingen+1\n",
    "\n",
    "    def getLengte(self):\n",
    "        return math.sqrt(self.x**2 + self.y**2)\n",
    "\n",
    "    def verste(self, punt2):\n",
    "        return Punt(max(self.x,punt2.x), max(self.y, punt2.y))\n",
    "    \n",
    "    def __add__(self, punt2):\n",
    "        return Punt(self.x + punt2.x, self.y + punt2.y)\n",
    "    \n",
    "    def __repr__(self):\n",
    "        return \"Punt (\" + str(self.x) + \" ,\" + str(self.y) + \")\"\n",
    "\n",
    "    def __eq__(self, p2):\n",
    "        return self.x == p2.x and self.y == p2.y\n",
    "\n",
    "p1 = Punt()\n",
    "p1.verplaatsNaar(4,14)\n",
    "p1.verplaatsNaar(5,5)\n",
    "print(p1.aantalVerplaatsingen)\n",
    "p2 = Punt(-2,6)\n",
    "p3 = p1+p2\n",
    "print(p3)\n",
    "p4 = p1.verste(p2)\n",
    "p0 = Punt()\n",
    "p00 = Punt()\n",
    "print(p0==p00)\n"
   ]
  },
  {
   "cell_type": "markdown",
   "source": [
    "# Klasse Breuk"
   ],
   "metadata": {
    "collapsed": false
   },
   "id": "7fa985813dd7f914"
  },
  {
   "cell_type": "code",
   "execution_count": null,
   "outputs": [],
   "source": [
    "class Breuk:\n",
    "    def __init__(self, teller= 0, noemer = 1):\n",
    "        self.teller = teller\n",
    "        self.noemer = noemer\n",
    "        \n",
    "    def getWaarde(self):\n",
    "        return self.teller / self.noemer\n",
    "    \n",
    "    def setNoemer(self, noemer):\n",
    "        if (noemer == 0):\n",
    "            return # delen door 0 mag niet \n",
    "        if (noemer < 0):\n",
    "            self.noemer = -noemer\n",
    "            self.teller = -self.teller\n",
    "        else:\n",
    "            self.noemer = noemer\n",
    "\n",
    "    def telOpBij(self, andereBreuk):\n",
    "        n = self.noemer * andereBreuk.noemer\n",
    "        t = self.teller * andereBreuk.noemer + andereBreuk.teller * self.noemer\n",
    "        self.noemer = n\n",
    "        self.teller = t\n",
    "\n",
    "    def __add__(self, andereBreuk):\n",
    "        n = self.noemer * andereBreuk.noemer\n",
    "        t = self.teller * andereBreuk.noemer + andereBreuk.teller * self.noemer\n",
    "        return Breuk(t, n)\n",
    "\n",
    "    def __repr__(self):\n",
    "        return \"Breuk \" + str(self.teller) + \"/\" + str(self.noemer)\n",
    "\n",
    "    def __eq__(self, other):\n",
    "        return self.getWaarde() == other.getWaarde()        "
   ],
   "metadata": {
    "collapsed": false
   },
   "id": "386f125c2393a68e"
  },
  {
   "cell_type": "markdown",
   "source": [
    "# Extra voorbeeld\n",
    "\n",
    "Een autoradio met drie voorkeurzenders"
   ],
   "metadata": {
    "collapsed": false
   },
   "id": "d727a031f426ca64"
  },
  {
   "cell_type": "code",
   "execution_count": null,
   "id": "954f1779-ac0d-498d-98a2-8af60fbead45",
   "metadata": {
    "is_executing": true
   },
   "outputs": [],
   "source": [
    "class AutoRadio:\n",
    "    def __init__(self):\n",
    "        self.frequentie = 87.50\n",
    "        self.volume = 8\n",
    "        self.zenderOpslag = [87.50, 87.50, 87.50]\n",
    "        self.volumeOpslag = [8, 9, 10]\n",
    "        self.zender1 = 87.50\n",
    "        \n",
    "    def verhoogFreq(self):\n",
    "        self.frequentie = self.frequentie + 0.1\n",
    "        if self.frequentie > 108:\n",
    "            self.frequentie = 87.50\n",
    "    def verlaagFreq(self):\n",
    "        self.frequentie = self.frequentie - 0.1\n",
    "        if self.frequentie < 87.5:\n",
    "            self.frequentie = 108\n",
    "    def verhoogVolume(self):\n",
    "        self.unmute()\n",
    "        self.volume = min(self.volume+1, 20)\n",
    "    def verlaagVolume(self):\n",
    "        self.unmute()\n",
    "        self.volume = max(self.volume-1, 0)\n",
    "    def mute(self):\n",
    "        self.oorspronkelijkVolume = self.volume\n",
    "        self.volume = 0\n",
    "    def unmute(self):\n",
    "        self.volume = self.oorspronkelijkVolume\n",
    "\n",
    "    def store1(self):\n",
    "        self.zender1 = self.frequentie\n",
    "    def store2(self):\n",
    "        self.zender2 = self.frequentie\n",
    "    def selecteer1(self):\n",
    "        self.frequentie = self.zender1\n",
    "        \n",
    "    def store(self, geheugen):  # geheugen van 1 tot 3\n",
    "        self.zenderOpslag[geheugen-1] = self.frequentie\n",
    "        self.volumeOpslag[geheugen-1] = self.volume\n",
    "\n",
    "    def selecteerZender(self, geheugen):  # geheugen van 1 tot 3\n",
    "        self.frequentie = self.zenderOpslag[geheugen-1]\n",
    "        self.volume = self.volumeOpslag[geheugen-1]\n",
    "        \n",
    "    def __repr__(self):\n",
    "        return \"FM \" + str(round(self.frequentie,2)) + \" - volume \" + str(self.volume)\n",
    "    #def __eq__(self):\n",
    "    #    return \"niet-relevant\"\n",
    "\n",
    "radio1 = AutoRadio()\n",
    "print(radio1)\n",
    "radio1.selecteerZender(3)\n",
    "print(radio1)\n",
    "for i in range(1,20):\n",
    "   radio1.verhoogFreq()\n",
    "print(radio1)\n",
    "radio1.store(1)\n",
    "for i in range(1,20):\n",
    "   radio1.verhoogFreq()\n",
    "print(radio1)\n",
    "radio1.store(3)\n",
    "radio1.selecteerZender(1)\n",
    "print(radio1)"
   ]
  }
 ],
 "metadata": {
  "kernelspec": {
   "display_name": "Python 3 (ipykernel)",
   "language": "python",
   "name": "python3"
  },
  "language_info": {
   "codemirror_mode": {
    "name": "ipython",
    "version": 3
   },
   "file_extension": ".py",
   "mimetype": "text/x-python",
   "name": "python",
   "nbconvert_exporter": "python",
   "pygments_lexer": "ipython3",
   "version": "3.11.4"
  }
 },
 "nbformat": 4,
 "nbformat_minor": 5
}
