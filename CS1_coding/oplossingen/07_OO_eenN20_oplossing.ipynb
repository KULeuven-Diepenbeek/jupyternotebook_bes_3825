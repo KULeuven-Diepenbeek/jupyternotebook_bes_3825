{
 "cells": [
  {
   "cell_type": "code",
   "execution_count": null,
   "id": "92500c43-fc55-42c8-a311-129fba6983f9",
   "metadata": {},
   "outputs": [],
   "source": [
    "import random\n",
    "\n",
    "import random\n",
    "\n",
    "class HandEen20:\n",
    "    def __init__(self):\n",
    "        self.score = 0\n",
    "        self.aantalKaarten = 0\n",
    "        self.aantalAzen = 0\n",
    "        self.gestopt = False\n",
    "\n",
    "    def vraagKaart(self):\n",
    "        if self.isDood() or self.gestopt:\n",
    "            return\n",
    "\n",
    "        kaart = random.randint(1,13)\n",
    "        self.aantalKaarten = self.aantalKaarten + 1\n",
    "\n",
    "        # als de kaart 1 is: als 11 gebruiken\n",
    "        if kaart == 1:\n",
    "            self.score = self.score + 11\n",
    "            self.aantalAzen = self.aantalAzen + 1\n",
    "        # als de kaart van 2 tem 10: waarde gebruiken\n",
    "        elif kaart <= 10:\n",
    "            self.score = self.score + kaart\n",
    "        # als de kaart 11, 12 of 13: score met 10 verhogen\n",
    "        else:\n",
    "            self.score = self.score + 10\n",
    "\n",
    "        if self.score > 21:\n",
    "           self.wisselAas()\n",
    "        \n",
    "    def getScore(self):\n",
    "        # als je te veel hebt, geef -1 terug\n",
    "        if (self.score > 21):\n",
    "            return -1\n",
    "        # als je minder dan 21 hebt, maar 7 kaarten => 21\n",
    "        elif self.aantalKaarten >= 7:\n",
    "            return 21\n",
    "        # anders => normale score\n",
    "        else:\n",
    "            return self.score\n",
    "\n",
    "    def wisselAas(self):\n",
    "        # als je nog azen hebt die als 11 tellen\n",
    "        if self.aantalAzen > 0:\n",
    "            # verander de waarde van 11 naar 1 en 'verwijder' de aas\n",
    "            self.score = self.score - 10\n",
    "            self.aantalAzen = self.aantalAzen -1\n",
    "\n",
    "    def stop(self):\n",
    "        self.gestopt = True\n",
    "        \n",
    "    def isDood(self):\n",
    "        return self.getScore() == -1\n",
    "        \n",
    "    def __repr__(self):\n",
    "        if self.gestopt:\n",
    "            return str(self.score) + \" met \" + str(self.aantalKaarten) + \" kaarten (gestopt)\"\n",
    "        else:\n",
    "            return str(self.score) + \" met \" + str(self.aantalKaarten) + \" kaarten\"\n",
    "    \n"
   ]
  },
  {
   "cell_type": "code",
   "execution_count": null,
   "id": "0d345d2b-e016-4e56-bab8-b9aea4f94832",
   "metadata": {},
   "outputs": [],
   "source": [
    "speler1 = HandEen20()\n",
    "speler1.vraagKaart()\n",
    "speler1.vraagKaart()\n",
    "speler1.vraagKaart()\n"
   ]
  },
  {
   "cell_type": "code",
   "execution_count": null,
   "id": "179941ad-2960-4273-96ba-1ad3ab102e79",
   "metadata": {},
   "outputs": [],
   "source": [
    "print(speler1.getScore())"
   ]
  },
  {
   "cell_type": "code",
   "execution_count": null,
   "id": "35c40eb0-ff98-441d-8a37-09f5566dde44",
   "metadata": {},
   "outputs": [],
   "source": [
    "print(speler1)\n",
    "speler1.stop()"
   ]
  },
  {
   "cell_type": "code",
   "execution_count": null,
   "id": "328f5b93-eff6-4b20-a773-8f346feeaf7b",
   "metadata": {},
   "outputs": [],
   "source": [
    "speler1.vraagKaart()\n",
    "print(speler1)"
   ]
  }
 ],
 "metadata": {
  "kernelspec": {
   "display_name": "Python 3 (ipykernel)",
   "language": "python",
   "name": "python3"
  },
  "language_info": {
   "codemirror_mode": {
    "name": "ipython",
    "version": 3
   },
   "file_extension": ".py",
   "mimetype": "text/x-python",
   "name": "python",
   "nbconvert_exporter": "python",
   "pygments_lexer": "ipython3",
   "version": "3.11.4"
  }
 },
 "nbformat": 4,
 "nbformat_minor": 5
}
