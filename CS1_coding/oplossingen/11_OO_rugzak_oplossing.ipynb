{
 "cells": [
  {
   "cell_type": "markdown",
   "source": [
    "# Klasse Voorwerp"
   ],
   "metadata": {
    "collapsed": false
   },
   "id": "e2f59521e54ae389"
  },
  {
   "cell_type": "code",
   "execution_count": null,
   "id": "initial_id",
   "metadata": {
    "collapsed": true
   },
   "outputs": [],
   "source": [
    "class Voorwerp:\n",
    "    # data members: volume en gewicht\n",
    "\n",
    "    def __init__(self, volume, gewicht):\n",
    "        self.volume = volume\n",
    "        self.gewicht = gewicht\n",
    "\n",
    "    def __repr__(self):\n",
    "        return \"Voorwerp van \" + str(self.gewicht) + \" kg en \" + str(self.volume) + \" volume\"\n",
    "\n",
    "    # __eq__ passen we niet aan omdat voorwerpen nooit 'gelijkwaardig zijn'. Enkel 'identiek' telt."
   ]
  },
  {
   "cell_type": "markdown",
   "source": [
    "# Klasse Rugzak"
   ],
   "metadata": {
    "collapsed": false
   },
   "id": "47cca3c5c44a0bc8"
  },
  {
   "cell_type": "code",
   "execution_count": null,
   "outputs": [],
   "source": [
    "class Rugzak:\n",
    "    # data members: inhoud (lijst van voorwerpen)\n",
    "    #               maxVolume en maxGewicht\n",
    "\n",
    "    def __init__(self, maxVolume, maxGewicht):\n",
    "        self.inhoud = []\n",
    "        self.maxVolume = maxVolume\n",
    "        self.maxGewicht = maxGewicht\n",
    "\n",
    "    def getVolume(self):\n",
    "        volume = 0\n",
    "        for vw in self.inhoud:\n",
    "            volume = volume + vw.volume\n",
    "        return volume\n",
    "\n",
    "    def getGewicht(self):\n",
    "        gewicht = 0\n",
    "        for vw in self.inhoud:\n",
    "            gewicht = gewicht + vw.gewicht\n",
    "        return gewicht\n",
    "\n",
    "    def getAantalVoorwerpen(self):\n",
    "        return len(self.inhoud)\n",
    "\n",
    "    def addVoorwerp(self, voorwerp):\n",
    "        nieuwVolume = self.getVolume() + voorwerp.volume\n",
    "        nieuwGewicht = self.getGewicht() + voorwerp.gewicht\n",
    "\n",
    "        if nieuwVolume <= self.maxVolume and nieuwGewicht <= self.maxGewicht:\n",
    "            self.inhoud.append(voorwerp)\n",
    "            return True\n",
    "        else:\n",
    "            return False\n",
    "\n",
    "    def verwijderVoorwerp(self, voorwerp):\n",
    "        return self.inhoud.remove(voorwerp)\n",
    "\n",
    "    def verplaatsItems(self, rugzakNieuw):\n",
    "        for voorwerp in self.inhoud:\n",
    "            if rugzakNieuw.addVoorwerp(voorwerp):\n",
    "                # als we het in de andere rugzak krijgen\n",
    "                # uit deze rugzak halen\n",
    "                self.verwijderVoorwerp(voorwerp)\n",
    "\n",
    "    def __repr__(self):\n",
    "        uitvoer = \"Rugzak voor \" + str(self.maxGewicht) + \"kg en \"+ str(self.maxVolume) + \" l\\nmet als voorwerpen:\"\n",
    "        for vw in self.inhoud:\n",
    "           uitvoer = uitvoer + \"\\n  - \" + str(vw)\n",
    "\n",
    "        return uitvoer"
   ],
   "metadata": {
    "collapsed": false
   },
   "id": "e0b129292da23485"
  },
  {
   "cell_type": "markdown",
   "source": [
    "# Testfunctie voor de gewone Rugzak"
   ],
   "metadata": {
    "collapsed": false
   },
   "id": "1e9bb8185250d20d"
  },
  {
   "cell_type": "code",
   "execution_count": null,
   "outputs": [],
   "source": [
    "def rugzakDemo():\n",
    "    rugzak1 = Rugzak(300,300)\n",
    "    rugzak2 = Rugzak(150, 100)\n",
    "\n",
    "    voorwerp1 = Voorwerp(100, 100)\n",
    "    voorwerp2 = Voorwerp(100, 100)\n",
    "\n",
    "    rugzak1.addVoorwerp(voorwerp1)\n",
    "    rugzak1.addVoorwerp(voorwerp2)\n",
    "\n",
    "    print(\"---------- rugzak 1 ----------\")\n",
    "    print(rugzak1)\n",
    "    print(\"Aantal voorwerpen rugzak 1 = \" + str(rugzak1.getAantalVoorwerpen()))\n",
    "\n",
    "    print(\"---------- verplaats naar rugzak 2 ----------\")\n",
    "    rugzak1.verplaatsItems(rugzak2)\n",
    "\n",
    "    print(\"Aantal voorwerpen rugzak 2 = \" + str(rugzak2.getAantalVoorwerpen()))\n",
    "\n",
    "    print(\"Aantal voorwerpen rugzak 1 nieuw = \" + str(rugzak1.getAantalVoorwerpen()))\n",
    "\n",
    "    print(\"---------- rugzak 1 ----------\")\n",
    "    print(rugzak1)\n",
    "    print(\"---------- rugzak 2 ----------\")\n",
    "    print(rugzak2)\n",
    "\n",
    "rugzakDemo()"
   ],
   "metadata": {
    "collapsed": false
   },
   "id": "602ddcbfc0b9219f"
  }
 ],
 "metadata": {
  "kernelspec": {
   "display_name": "Python 3",
   "language": "python",
   "name": "python3"
  },
  "language_info": {
   "codemirror_mode": {
    "name": "ipython",
    "version": 2
   },
   "file_extension": ".py",
   "mimetype": "text/x-python",
   "name": "python",
   "nbconvert_exporter": "python",
   "pygments_lexer": "ipython2",
   "version": "2.7.6"
  }
 },
 "nbformat": 4,
 "nbformat_minor": 5
}
