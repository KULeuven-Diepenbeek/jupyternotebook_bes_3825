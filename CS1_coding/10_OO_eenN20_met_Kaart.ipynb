{
 "cells": [
  {
   "cell_type": "code",
   "execution_count": null,
   "outputs": [],
   "source": [
    "import random\n",
    "\n",
    "class Kaart:\n",
    "    def __init__(self):\n",
    "        self.nummer = random.randrange(1,14)\n",
    "        self.teltAasAls11 = True\n",
    "    \n",
    "    def getWaarde(self):\n",
    "        if self.nummer == 1:\n",
    "            if self.teltAasAls11:\n",
    "                return 11\n",
    "            else:\n",
    "                return 1\n",
    "        elif self.nummer < 10:\n",
    "            return self.nummer\n",
    "        else:\n",
    "            return 10\n",
    "\n",
    "    def converteerAas(self):\n",
    "        self.teltAasAls11 = False\n",
    "\n",
    "    def __repr__(self):\n",
    "        return str(self.nummer) + \" telt als \" + str(self.getWaarde())"
   ],
   "metadata": {
    "collapsed": false
   },
   "id": "c3d44165d79aa1dd"
  },
  {
   "cell_type": "code",
   "execution_count": null,
   "outputs": [],
   "source": [
    "kaart1 = Kaart()\n",
    "print(kaart1)\n",
    "kaart2 = Kaart()\n",
    "print(kaart2)"
   ],
   "metadata": {
    "collapsed": false
   },
   "id": "63722ad0aab8cc02"
  },
  {
   "cell_type": "code",
   "execution_count": null,
   "id": "f46e41cf-cb9e-40ee-8fcd-8308c575ad09",
   "metadata": {},
   "outputs": [],
   "source": [
    "class Hand:\n",
    "    def __init__(self):\n",
    "        self.kaarten = []\n",
    "        self.gestopt = False\n",
    "        \n",
    "    def vraagKaart(self):\n",
    "        # voeg kaart toe aan de lijst\n",
    "        pass\n",
    "\n",
    "    def getScore(self):\n",
    "        # als de score te hoog wordt, verander een aas van 11 naar 1\n",
    "        # geef -1 terug als de speler dood is (> 21)\n",
    "        # geef 21 terug als 7 kaarten en niet dood\n",
    "        # anders gewoon de score\n",
    "        pass\n",
    "        \n",
    "    def probeerAasOmTeRuilen(self):\n",
    "        # hulpfunctie om aas om te zetten van 11 naar 1\n",
    "        # Mag alleen als je nog azen hebt die als 11 tellen\n",
    "        pass\n",
    "\n",
    "    def stop(self):\n",
    "        self.gestopt = True"
   ]
  },
  {
   "cell_type": "code",
   "execution_count": null,
   "id": "0d345d2b-e016-4e56-bab8-b9aea4f94832",
   "metadata": {},
   "outputs": [],
   "source": [
    "speler1 = Hand()\n",
    "speler1.vraagKaart()\n",
    "speler1.vraagKaart()\n",
    "speler1.vraagKaart()\n"
   ]
  },
  {
   "cell_type": "code",
   "execution_count": null,
   "id": "179941ad-2960-4273-96ba-1ad3ab102e79",
   "metadata": {},
   "outputs": [],
   "source": [
    "print(speler1.getScore())"
   ]
  },
  {
   "cell_type": "code",
   "execution_count": null,
   "id": "35c40eb0-ff98-441d-8a37-09f5566dde44",
   "metadata": {},
   "outputs": [],
   "source": [
    "speler1.stop()"
   ]
  },
  {
   "cell_type": "code",
   "execution_count": null,
   "id": "328f5b93-eff6-4b20-a773-8f346feeaf7b",
   "metadata": {},
   "outputs": [],
   "source": [
    "speler1.vraagKaart()"
   ]
  }
 ],
 "metadata": {
  "kernelspec": {
   "display_name": "Python 3 (ipykernel)",
   "language": "python",
   "name": "python3"
  },
  "language_info": {
   "codemirror_mode": {
    "name": "ipython",
    "version": 3
   },
   "file_extension": ".py",
   "mimetype": "text/x-python",
   "name": "python",
   "nbconvert_exporter": "python",
   "pygments_lexer": "ipython3",
   "version": "3.11.4"
  }
 },
 "nbformat": 4,
 "nbformat_minor": 5
}
