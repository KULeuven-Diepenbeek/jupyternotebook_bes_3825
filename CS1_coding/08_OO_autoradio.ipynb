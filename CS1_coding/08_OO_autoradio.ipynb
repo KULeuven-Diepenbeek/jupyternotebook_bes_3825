{
 "cells": [
  {
   "cell_type": "code",
   "execution_count": 1,
   "id": "954f1779-ac0d-498d-98a2-8af60fbead45",
   "metadata": {
    "ExecuteTime": {
     "end_time": "2024-11-04T10:44:01.864282800Z",
     "start_time": "2024-11-04T10:44:01.823723200Z"
    }
   },
   "outputs": [
    {
     "data": {
      "text/plain": "'\\nradio1 = AutoRadio()\\nprint(radio1)\\nradio1.selecteerZender(3)\\nprint(radio1)\\nfor i in range(1,20):\\n   radio1.verhoogFreq()\\nprint(radio1)\\nradio1.store(1)\\nfor i in range(1,20):\\n   radio1.verhoogFreq()\\nprint(radio1)\\nradio1.store(3)\\nradio1.selecteerZender(1)\\nprint(radio1)\\n'"
     },
     "execution_count": 1,
     "metadata": {},
     "output_type": "execute_result"
    }
   ],
   "source": [
    "import copy\n",
    "class Zender:\n",
    "    def __init__(self):\n",
    "        self.frequentie = 87.50\n",
    "        self.volume = 8\n",
    "        self.band = \"FM\"\n",
    "\n",
    "    def verhoogFreq(self):\n",
    "        self.frequentie = self.frequentie + 0.1\n",
    "        if self.frequentie > 108:\n",
    "            self.frequentie = 87.50\n",
    "\n",
    "    def verlaagFreq(self):\n",
    "        self.frequentie = self.frequentie - 0.1\n",
    "        if self.frequentie < 87.50:\n",
    "            self.frequentie = 108\n",
    "\n",
    "    def verhoogVolume(self):\n",
    "        self.volume = min(self.volume+1, 20)\n",
    "    \n",
    "    def verlaagVolume(self):\n",
    "        self.volume = max(self.volume-1, 0)\n",
    "\n",
    "class AutoRadio:\n",
    "    def __init__(self):\n",
    "        self.zender1 = Zender()\n",
    "        self.zender2 = Zender()\n",
    "        self.zender3 = Zender()\n",
    "        self.huidigeZender = Zender()\n",
    "        self.isMute = False\n",
    "    \n",
    "    def mute(self):\n",
    "        self.isMute = True\n",
    "    def unmute(self):\n",
    "        self.isMute = False\n",
    "\n",
    "    def getVolume(self):\n",
    "        if self.isMute:\n",
    "            return 0\n",
    "        else:\n",
    "            return self.huidigeZender.volume\n",
    "            \n",
    "    def verhoogVolume(self):\n",
    "        self.unmute()\n",
    "        self.huidigeZender.verhoogVolume()\n",
    "    def verlaagVolume(self):\n",
    "        self.unmute()\n",
    "        self.huidigeZender.verlaagVolume()\n",
    "        \n",
    "    def verhoogFrequentie(self):\n",
    "        self.huidigeZender.verhoogFreq()\n",
    "    def verlaagFrequentie(self):\n",
    "        self.huidigeZender.verlaagFreq()\n",
    "\n",
    "    def store1(self):\n",
    "        self.zender1 = self.huidigeZender\n",
    "    def store2(self):\n",
    "        self.zender2 = self.huidigeZender\n",
    "    def selecteer1(self):\n",
    "        self.huidigeZender = copy.deepcopy(self.zender1)\n",
    "\n",
    "radio1 = AutoRadio()\n",
    "\n",
    "'''\n",
    "radio1 = AutoRadio()\n",
    "print(radio1)\n",
    "radio1.selecteerZender(3)\n",
    "print(radio1)\n",
    "for i in range(1,20):\n",
    "   radio1.verhoogFreq()\n",
    "print(radio1)\n",
    "radio1.store(1)\n",
    "for i in range(1,20):\n",
    "   radio1.verhoogFreq()\n",
    "print(radio1)\n",
    "radio1.store(3)\n",
    "radio1.selecteerZender(1)\n",
    "print(radio1)\n",
    "'''"
   ]
  },
  {
   "cell_type": "code",
   "execution_count": 5,
   "id": "10ef4cd5-2304-4df6-9088-37db419f639c",
   "metadata": {
    "ExecuteTime": {
     "end_time": "2024-11-04T10:45:55.447380100Z",
     "start_time": "2024-11-04T10:45:55.387673300Z"
    }
   },
   "outputs": [
    {
     "name": "stdout",
     "output_type": "stream",
     "text": [
      "<__main__.AutoRadio object at 0x0000024872E6A750>\n"
     ]
    }
   ],
   "source": [
    "import copy\n",
    "radio2 = copy.deepcopy(radio1)\n",
    "print(radio2)"
   ]
  },
  {
   "cell_type": "code",
   "execution_count": 14,
   "id": "afffb3b4-f5c6-4251-a53b-7cf1ce887ef4",
   "metadata": {},
   "outputs": [],
   "source": [
    "radio1.selecteer1()\n",
    "radio1.verlaagFrequentie()"
   ]
  }
 ],
 "metadata": {
  "kernelspec": {
   "display_name": "Python 3 (ipykernel)",
   "language": "python",
   "name": "python3"
  },
  "language_info": {
   "codemirror_mode": {
    "name": "ipython",
    "version": 3
   },
   "file_extension": ".py",
   "mimetype": "text/x-python",
   "name": "python",
   "nbconvert_exporter": "python",
   "pygments_lexer": "ipython3",
   "version": "3.11.4"
  }
 },
 "nbformat": 4,
 "nbformat_minor": 5
}
