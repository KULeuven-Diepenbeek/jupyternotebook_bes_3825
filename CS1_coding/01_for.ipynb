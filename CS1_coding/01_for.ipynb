{
 "cells": [
  {
   "cell_type": "markdown",
   "source": [
    "# Voorspelbare herhaling => for\n",
    "\n",
    "Wanneer je op voorhand weet hoe dikwijls de lus herhaald moet worden, gebruik je best de for (of de list-comprehension).\n",
    "\n",
    "Deze heeft volgend formaat:\n",
    "\n",
    "```\n",
    "for element in lijst:\n",
    "   # doe iets met het element\n",
    "   doeIets(element)\n",
    "```\n",
    "```"
   ],
   "metadata": {
    "collapsed": false
   },
   "id": "a5c337901222754"
  },
  {
   "cell_type": "code",
   "execution_count": null,
   "outputs": [],
   "source": [
    "## Enkele voorbeelden"
   ],
   "metadata": {
    "collapsed": false
   },
   "id": "9b81fab46d633af7"
  },
  {
   "cell_type": "code",
   "execution_count": null,
   "outputs": [],
   "source": [
    "def faculteit(n):\n",
    "    fac = 1\n",
    "    for i in range(2,n+1):\n",
    "        fac = fac * i\n",
    "    return fac\n",
    "\n",
    "print(\"De faculteit van 3 = \", faculteit(3))\n",
    "print(\"De faculteit van 4 = \", faculteit(4))\n",
    "print(\"De faculteit van 10 = \", faculteit(10))"
   ],
   "metadata": {
    "collapsed": false
   },
   "id": "82dd82a0fd9b268b"
  },
  {
   "cell_type": "code",
   "execution_count": null,
   "outputs": [],
   "source": [
    "def voorbeeldFor():\n",
    "    numbers = list(range(1,11))\n",
    "    numbers.reverse()\n",
    "\n",
    "    for i in numbers:\n",
    "        print(i)\n",
    "    print('BOEM')\n",
    "\n",
    "voorbeeldFor()"
   ],
   "metadata": {
    "collapsed": false
   },
   "id": "a298b06d4a220a36"
  },
  {
   "cell_type": "code",
   "execution_count": null,
   "outputs": [],
   "source": [
    "def somTem(a,b):\n",
    "    som = 0\n",
    "    for i in range(a,b+1):\n",
    "        som = som + i\n",
    "    return som\n",
    "\n",
    "print(\"De som van 3 t.e.m. 7 = \", somTem(3,7))\n",
    "print(\"De som van -5 t.e.m. 5 = \", somTem(-5,5))"
   ],
   "metadata": {
    "collapsed": false
   },
   "id": "87534558dfe41b50"
  },
  {
   "cell_type": "markdown",
   "source": [
    "## 8.2.2 Oefeningen"
   ],
   "metadata": {
    "collapsed": false
   },
   "id": "d4f8dddd315bb7b1"
  },
  {
   "cell_type": "markdown",
   "source": [
    "1. Maak een functie met één parameter (n) die de som berekent van 1+1/2+1/3+…1/n."
   ],
   "metadata": {
    "collapsed": false
   },
   "id": "d0bb08ad5db94b3e"
  },
  {
   "cell_type": "code",
   "execution_count": null,
   "outputs": [],
   "source": [
    "def hermitischeSom(n):\n",
    "    return -1 # todo\n",
    "\n",
    "print(hermitischeSom(3))\n",
    "print(hermitischeSom(4))"
   ],
   "metadata": {
    "collapsed": false
   },
   "id": "edeaaa70737421e6"
  },
  {
   "cell_type": "markdown",
   "source": [
    "2. Maak een functie die gegeven een lijst en een getal teruggeeft of dit getal voorkomt in de lijst.\t\n",
    "Je zou dit kunnen oplossen door het sleutelwoord in te gebruiken (x in lijst geeft True terug indien x voorkomt in de lijst), maar de bedoeling is dat je zelf een functie schrijft."
   ],
   "metadata": {
    "collapsed": false
   },
   "id": "63209dd8556457d1"
  },
  {
   "cell_type": "code",
   "execution_count": null,
   "outputs": [],
   "source": [
    "def komtVoor(waarde, lijst):\n",
    "    return False # todo\n",
    "\n",
    "print(\"10 komt voor in [1..7[? : \", komtVoor(10, range(1,7)))"
   ],
   "metadata": {
    "collapsed": false
   },
   "id": "ad03264b8bd684cf"
  },
  {
   "cell_type": "markdown",
   "source": [
    "3. Schrijf een functie die gegeven twee lijsten telt hoeveel elementen van de eerste lijst in de tweede lijst voorkomen. Gebruik hiervoor de in die beschreven is in opgave 2."
   ],
   "metadata": {
    "collapsed": false
   },
   "id": "3fdbd32f6b1a4b78"
  },
  {
   "cell_type": "code",
   "execution_count": null,
   "outputs": [],
   "source": [
    "def aantalElementInTweedeLijst(lijst1, lijst2):\n",
    "    return -1 # TODO\n",
    "\n",
    "print(\"Zou 2 moeten zijn: \", aantalElementInTweedeLijst([1,2,3],[1,1,1,1,2]))\n",
    "print(\"Zou 3 moeten zijn: \", aantalElementInTweedeLijst([1,2,2],[1,1,1,1,2]))"
   ],
   "metadata": {
    "collapsed": false
   },
   "id": "bc69a54a9b6cc655"
  },
  {
   "cell_type": "markdown",
   "source": [
    "4. Schrijf een functie die telt hoeveel delers een gegeven getal heeft"
   ],
   "metadata": {
    "collapsed": false
   },
   "id": "3ff28169db2b6d97"
  },
  {
   "cell_type": "code",
   "execution_count": null,
   "outputs": [],
   "source": [
    "def aantalDelers(getal):\n",
    "    return -1 # TODO\n",
    "\n",
    "print(\"7 heeft\", aantalDelers(7), \"delers\")\n",
    "print(\"8 heeft\", aantalDelers(8), \"delers\")"
   ],
   "metadata": {
    "collapsed": false
   },
   "id": "20cba5e2327b234a"
  },
  {
   "cell_type": "markdown",
   "source": [
    "5. Schrijf een functie die een lijst met getallen krijgt en de som neemt van het 1e getal maal 1,  het 2e getal maal 2, het 3e getal maar 3, enzoverder. "
   ],
   "metadata": {
    "collapsed": false
   },
   "id": "1f83d14513c3f007"
  },
  {
   "cell_type": "code",
   "execution_count": null,
   "outputs": [],
   "source": [
    "def specialeSom(lijst):\n",
    "    return -1 # TODO\n",
    "\n",
    "print(\"Zou 14 moeten zijn: \", specialeSom([1,2,3]))"
   ],
   "metadata": {
    "collapsed": false
   },
   "id": "f035399d120e2245"
  },
  {
   "cell_type": "markdown",
   "source": [
    "6. Schrijf een functie die gegeven een getal een string teruggeeft met zoveel sterren als het getal aangeeft (werk deze functie uit zonder de * te gebruiken!)"
   ],
   "metadata": {
    "collapsed": false
   },
   "id": "3a0ca65bc5eb5ab"
  },
  {
   "cell_type": "code",
   "execution_count": null,
   "outputs": [],
   "source": [
    "def sterren(n):\n",
    "    return \"#\" # TODO\n",
    "\n",
    "print(sterren(3))\n",
    "print(sterren(10))"
   ],
   "metadata": {
    "collapsed": false
   },
   "id": "da7634ede432e026"
  }
 ],
 "metadata": {
  "kernelspec": {
   "display_name": "Python 3",
   "language": "python",
   "name": "python3"
  },
  "language_info": {
   "codemirror_mode": {
    "name": "ipython",
    "version": 2
   },
   "file_extension": ".py",
   "mimetype": "text/x-python",
   "name": "python",
   "nbconvert_exporter": "python",
   "pygments_lexer": "ipython2",
   "version": "2.7.6"
  }
 },
 "nbformat": 4,
 "nbformat_minor": 5
}
