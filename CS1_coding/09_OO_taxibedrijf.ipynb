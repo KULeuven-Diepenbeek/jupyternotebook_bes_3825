{
 "cells": [
  {
   "cell_type": "markdown",
   "source": [
    "Oplossingstrategie:\n",
    "\n",
    "1. Identificeer de zelfstandige naamwoorden in de opgave\n",
    "2. Maak een klasse voor elk zelfstandig naamwoord. Gebruik hiervoor een nieuwe, aparte codecel.\n",
    "3. Bepaal de afhankelijkheden van elke klasse: welke klasse heeft die nodig?\n",
    "4. Begin met de 'onderste' klasse. Dit is de klasse die zelf geen andere klassen nodig heeft.\n",
    "   Als er twee klassen zijn met even weinig afhankelijkheden, begin met de kleinste klasse.\n",
    "5. Bouw zo verder omhoog.\n",
    " \n"
   ],
   "metadata": {
    "collapsed": false
   },
   "id": "d832b858cc169b56"
  }
 ],
 "metadata": {
  "kernelspec": {
   "display_name": "Python 3 (ipykernel)",
   "language": "python",
   "name": "python3"
  },
  "language_info": {
   "codemirror_mode": {
    "name": "ipython",
    "version": 3
   },
   "file_extension": ".py",
   "mimetype": "text/x-python",
   "name": "python",
   "nbconvert_exporter": "python",
   "pygments_lexer": "ipython3",
   "version": "3.11.4"
  }
 },
 "nbformat": 4,
 "nbformat_minor": 5
}
