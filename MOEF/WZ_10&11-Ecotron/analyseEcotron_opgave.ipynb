{
 "cells": [
  {
   "cell_type": "markdown",
   "id": "d1e37d80-41c6-49a6-9b1d-233e8ff0af13",
   "metadata": {
    "id": "d1e37d80-41c6-49a6-9b1d-233e8ff0af13"
   },
   "source": [
    "# Warmte-Analyse van de Ecotron\n",
    "\n"
   ]
  },
  {
   "cell_type": "markdown",
   "id": "6b0fd9e2-2133-48bd-acc1-dddf73c00243",
   "metadata": {
    "id": "6b0fd9e2-2133-48bd-acc1-dddf73c00243"
   },
   "source": [
    "## 7 Analyse van de aangeleverde temperatuurdata\n",
    "\n",
    "Deze JupiterHub is het vervolg van de oefening over de warmte-analyse van de Econtron in de syllabus. De syllabus beschrijft de doelstellingen en legt uit hoe je de modellen opstelt die je in deze JupiterHub zal uitwerken.\n",
    "\n",
    "(Tip: je kan onder elke figuur een tekstblok toevoegen waarin je de antwoorden noteert op de vragen, en de gevraagde analyse maakt. Zo maak je nota's om later te kunnen herbekijken).\n",
    "\n",
    "In de eerste codecel vind je alle imports die je nodig hebt voor deze notebook.\n",
    "In de tweede codecel wordt een dataframe **dome** ingelezen met de gegevens die gedurende het volledige jaar 2021 werden gemeten in de Ecotron.\n",
    "\n",
    "Het dataframe bevat volgende kolommen:\n",
    "- dag                    - in formaat jjjj-mm-dd hh-mm-ss\n",
    "- T in (°C)              - werkelijke binnentemperatuur\n",
    "- T in_gewenst (°C)      - gewenste binnentemperatuur\n",
    "- rh                     - werkelijke relatieve vochtigheid binnen\n",
    "- rh_set                 - gewenste relatieve vochtigheid binnen\n",
    "- T buiten (°C)          - buitentemperatuur\n",
    "- rh_outside             - relatieve vochtigheid buiten\n",
    "- zonneinstraling (W/m2) - netto zoninstraling  in het infrarood bereik van 0.3 tot 30µm golflengte in\n",
    "- Par                    - zichtbaar lichtinstraling (400 tot 700 nm) van een LI190R quantum sensor"
   ]
  },
  {
   "cell_type": "code",
   "execution_count": null,
   "outputs": [],
   "source": [
    "# Alle noodzakelijke imports\n",
    "from datetime import datetime, date\n",
    "import math\n",
    "import pandas as pd\n",
    "import numpy as np\n",
    "from matplotlib import pyplot as plt\n",
    "%matplotlib widget\n",
    "from pandas.plotting import register_matplotlib_converters\n",
    "import datetime\n",
    "register_matplotlib_converters()\n",
    "from slimmeFuncties import *\n",
    "from mpl_toolkits.axes_grid1 import host_subplot\n",
    "from qgridnext import show_grid"
   ],
   "metadata": {
    "collapsed": false
   },
   "id": "d53c3d94d959b040"
  },
  {
   "cell_type": "code",
   "execution_count": null,
   "id": "4934816d-a8a3-4cbb-874a-b843b995c16d",
   "metadata": {
    "id": "4934816d-a8a3-4cbb-874a-b843b995c16d"
   },
   "outputs": [],
   "source": [
    "# hulpfuncties\n",
    "def ecotronData():\n",
    "    df = pd.read_csv(\"Dome01_totaal.csv\", sep=',', encoding=\"utf-8\")\n",
    "    df[\"dag\"] = df[\"dag\"].map(lambda x: datetime.datetime.strptime(x, '%Y-%m-%d %H:%M:%S'))\n",
    "    return df\n",
    "\n",
    "def knipDomeData(dfKnip, dagStart, dagEinde):\n",
    "    # dagStart en dagEinde in formaat yyyy-mm-dd\n",
    "    hulp = knipTotWaarde(dfKnip, \"dag\", dagStart+\" 00:00:00\", stijgendeFlank=True)\n",
    "    hulp = selecteerTotWaarde(hulp, \"dag\", dagEinde+\" 00:00:00\", stijgendeFlank=True)\n",
    "    return hulp\n",
    "\n",
    "dome = ecotronData()"
   ]
  },
  {
   "cell_type": "markdown",
   "id": "f27ded0c-5811-42bc-98f0-0e4b912e1f92",
   "metadata": {
    "id": "f27ded0c-5811-42bc-98f0-0e4b912e1f92"
   },
   "source": [
    "### 7.1 Eerste plot van de meetdata\n",
    "\n",
    "Vul onderstaande functie aan zodat op één figuur volgende drie plots gebeuren\n",
    "- gemeten binnentemperatuur\n",
    "- gewenste buitentemperatuur\n",
    "- gemeten buitentemperatuur"
   ]
  },
  {
   "cell_type": "code",
   "execution_count": null,
   "id": "24e86b50-c650-4a15-8403-5e04f4cf2f64",
   "metadata": {
    "id": "24e86b50-c650-4a15-8403-5e04f4cf2f64",
    "outputId": "f0934548-eeeb-4bb8-b400-23bb09729d07"
   },
   "outputs": [],
   "source": [
    "# opgave = oplossing\n",
    "def plotTemperaturen(domeData, titel=\"\"):\n",
    "    plt.figure()\n",
    "    xAs = []\n",
    "    yAs1 = []\n",
    "    yAs2 = []\n",
    "    yAs3 = []\n",
    "    plt.plot(xAs,yAs1, color='r', label=\"T in (°C)\")\n",
    "    plt.plot(xAs,yAs2, color='k', label=\"T in_gewenst (°C)\")\n",
    "    plt.plot(xAs,yAs3, color='b', label=\"T buiten (°C)\")\n",
    "    plt.grid()\n",
    "    plt.legend()\n",
    "    plt.ylabel(\"Temperatuur °C\")\n",
    "    plt.title(titel)\n",
    "    plt.show()"
   ]
  },
  {
   "cell_type": "markdown",
   "source": [
    "## Plot van alle data\n",
    "\n",
    "Voer onderstaande codecel uit om een eerste plot van de binnen- en buitentemperaturen te maken. \n",
    "Klopt de meetdata met wat je verwacht ?"
   ],
   "metadata": {
    "collapsed": false
   },
   "id": "dded6f37e9cd215c"
  },
  {
   "cell_type": "code",
   "execution_count": null,
   "outputs": [],
   "source": [
    "plotTemperaturen(dome, \"Temperatuursverloop in Dome 01 in 2021\")"
   ],
   "metadata": {
    "collapsed": false
   },
   "id": "f02536c79071e18f"
  },
  {
   "cell_type": "markdown",
   "id": "f7697968-9819-4057-89e4-24fcb7bfad2e",
   "metadata": {
    "id": "f7697968-9819-4057-89e4-24fcb7bfad2e"
   },
   "source": [
    "## Selecteren per periode\n",
    "De meetdata bevatten heel veel gegevens, en de figuur bevat teveel gegevens om heldere conclusies uit te trekken.\n",
    "\n",
    "Gebruik daarom de functie knipDomeData om een beperkte periode  (bvb één wee)  uit de meetdata te knippe).\n",
    "Lees de uitleg bij de functie wat deze precies doet.\n",
    "\n",
    "Plot op de figuur enkel de beperkte  periode.\n",
    "Kijk eens naar een periode in de lente - winter - zomer en vorm de eerste conclusies.\n"
   ]
  },
  {
   "cell_type": "code",
   "execution_count": null,
   "id": "d77b21a7-d3bb-43f1-a2dc-1fe93040876f",
   "metadata": {
    "id": "d77b21a7-d3bb-43f1-a2dc-1fe93040876f"
   },
   "outputs": [],
   "source": [
    "dome_week = dome # TODO gebruik de juiste knip of selecteer-functie uit slimmeF\n",
    "show_grid(dome_week)"
   ]
  },
  {
   "cell_type": "code",
   "execution_count": null,
   "id": "cc3dec14-8e57-459d-abf5-ace47ae4dbf6",
   "metadata": {
    "id": "cc3dec14-8e57-459d-abf5-ace47ae4dbf6",
    "outputId": "043070f1-79a6-4fde-dac9-26ff72ab6d37"
   },
   "outputs": [],
   "source": [
    "#plot opnieuw dezelfde figuur als hierboven, maar nu voor een beperkte periode\n",
    "plotTemperaturen(dome_week, \"Temperatuursverloop in Dome 01 van 01/03/21 tot 08/03/21\")\n"
   ]
  },
  {
   "cell_type": "markdown",
   "id": "b8eccdce-d7d2-4e62-874e-20cd9429acae",
   "metadata": {
    "id": "b8eccdce-d7d2-4e62-874e-20cd9429acae"
   },
   "source": [
    "### 7.2 Analyse van afwijkingen tussen gewenste en werkelijke binnentemperatuur\n",
    "De binnentemperatuur zou natuurlijk gelijk moeten zijn aan de gewenste binnentemperatuur. De temperatuurfout definiëren we als het verschil tussen de binnentemperatuur en de gewenste binnentemperatuur. Als je inzoomt op bepaalde periodes zie je dat er wel degelijk grote temperatuurfouten optreden.\n",
    "\n",
    "Bereken in onderstaande code de temperatuurfout en voeg deze toe als een extra kolom in het dataframe.\n",
    "\n",
    "Plot de temperatuurfout.\n"
   ]
  },
  {
   "cell_type": "code",
   "execution_count": null,
   "id": "9b9fed91-ffe3-461b-862a-4fe51d52b006",
   "metadata": {
    "id": "9b9fed91-ffe3-461b-862a-4fe51d52b006",
    "outputId": "1d032513-77c3-4dbd-c0e6-b2c7bb2469be"
   },
   "outputs": [],
   "source": [
    "dome[\"Temp fout (°C)\"]=0 # TODO\n",
    "plt.figure()\n",
    "plt.plot(dome[\"dag\"],dome[\"Temp fout (°C)\"], color='r', label=\"Temp Fout (°C)\")\n",
    "plt.grid()\n",
    "plt.legend()\n",
    "plt.ylabel(\"Temperatuur °C\")\n",
    "plt.title(\"Verschil binnentemperatuur - gewenste binnentemperatuur\")\n",
    "plt.show()"
   ]
  },
  {
   "cell_type": "markdown",
   "id": "e42067c2-13d6-4358-9a64-32ab24a23e55",
   "metadata": {
    "id": "e42067c2-13d6-4358-9a64-32ab24a23e55"
   },
   "source": [
    "### 7.3 Tendensen vaststellen via een detailanalyse\n",
    "\n",
    "Is er een verband tussen de temperatuurfout en de binnentemperatuur of buitentemperatuur?\n",
    "Kan je hier een tendens vaststellen ? Zijn er bepaalde omstandigheden waarbij er altijd grote temperatuurfouten optreden ? \n",
    "\n",
    "Een ideale manier is om een figuur te maken die dit visualiseert zodat je daarna een verband kan onderzoeken.\n",
    "\n",
    "**Vul onderstaande code aan** die de temperatuurfout op de linker y-as plot en de binnentemperatuur of buitentemperatuur op de rechteras.\n"
   ]
  },
  {
   "cell_type": "code",
   "execution_count": 100,
   "id": "97574ead-fafb-4b52-a6a7-b7601adc065d",
   "metadata": {
    "id": "97574ead-fafb-4b52-a6a7-b7601adc065d",
    "outputId": "c805f927-bb6d-43d9-ed16-5f7733a16a18",
    "ExecuteTime": {
     "end_time": "2024-11-26T15:33:22.849071700Z",
     "start_time": "2024-11-26T15:33:22.837751600Z"
    }
   },
   "outputs": [],
   "source": [
    "def plotAfwijkingInTemp(domedata, titel):\n",
    "    xAs = domedata[\"dag\"]\n",
    "    yAsTempFout = [] # TODO\n",
    "    yAsBuiten = [] # TODO\n",
    "    plt.figure()\n",
    "    #plot op de linkeras\n",
    "    plt.plot(xAs, yAsTempFout, color='r', label = \"Temp fout (°C)\")\n",
    "    plt.ylabel(\"Temp fout (°C)\", color='r')\n",
    "    plt.grid()\n",
    "    plt.legend(loc=\"lower left\")\n",
    "    \n",
    "    # TODO: zet hier de code die de grafiek opsplitst met een linker- en rechter y-as \n",
    "    # (cfr. cursus PIT rubriek 6.4)\n",
    "    \n",
    "    #plot op de rechteras\n",
    "    plt.plot(xAs, yAsBuiten, color='k', label = \"T buiten (°C)\")\n",
    "    plt.xlabel(\"dag\")\n",
    "    plt.ylabel(\"T buiten (°C)\")\n",
    "    plt.grid(True)\n",
    "    plt.legend(bbox_to_anchor=(0.308,0.19))\n",
    "    plt.title(titel)\n",
    "    plt.show()\n"
   ]
  },
  {
   "cell_type": "markdown",
   "source": [
    "Probeer dit eerst uit voor een random periode (bv. van 1 tot 8 maart 2021.)"
   ],
   "metadata": {
    "collapsed": false
   },
   "id": "4485a24ef6d7d57c"
  },
  {
   "cell_type": "code",
   "execution_count": null,
   "outputs": [],
   "source": [
    "dome_knip2 = knipDomeData(dome, \"2021-03-01\", \"2021-03-08\")\n",
    "plotAfwijkingInTemp(dome_knip2, \"Temperatuursverloop in Dome 01 van 01/03/21 tot 08/03/21\")"
   ],
   "metadata": {
    "collapsed": false
   },
   "id": "7245532eddbf14ef"
  },
  {
   "cell_type": "markdown",
   "source": [
    "Wanneer het afgewerkt is, kan je een koude en warme periode bekijken."
   ],
   "metadata": {
    "collapsed": false
   },
   "id": "c99bd6487a892c57"
  },
  {
   "cell_type": "code",
   "execution_count": null,
   "outputs": [],
   "source": [
    "# warme week in juni\n",
    "dome_warme_week = knipDomeData(dome, \"2021-06-07\", \"2021-06-14\")\n",
    "plotAfwijkingInTemp(dome_warme_week,\"Dome 01 van 7/6/21 tot 14/6/21\")"
   ],
   "metadata": {
    "collapsed": false
   },
   "id": "6e9cddd085d0fabf"
  },
  {
   "cell_type": "code",
   "execution_count": null,
   "outputs": [],
   "source": [
    "# koude week in februari\n",
    "dome_koude_week = knipDomeData(dome, \"2021-02-05\", \"2021-02-12\")\n",
    "plotAfwijkingInTemp(dome_koude_week,\"Dome 01 van 5/2/21 tot 12/2/21\")"
   ],
   "metadata": {
    "collapsed": false
   },
   "id": "33e4ebfc14a0ea40"
  },
  {
   "cell_type": "markdown",
   "id": "36036962-fc48-4800-9d36-a47b7477d246",
   "metadata": {
    "id": "36036962-fc48-4800-9d36-a47b7477d246"
   },
   "source": [
    "## Conclusies\n",
    "\n",
    "(*formuleer hier je belangrijkste conclusies*)\n",
    "\n",
    "- zowel op warme als koude dagen zijn er grote verschillen tussen de gewenste en werkelijke binnentemperatuur\n",
    "- Deze fouten hangen samen met het temperatuurverloop op een dag: op de middag, als het het warmste is treedt er een temperatuurfout op  \n",
    "- op erg koude dagen (=erg lage buitentemperatuur) is het soms 24u te koud in de dome.\n",
    "\n",
    "Vermits er meerdere oorzaken zijn voor de temperatuurfouten analyseren we dit verder in het volgende hoofdstuk. We bepalen eerst al de warmtestromen in en uit de dome voor de verdere analyse.\n"
   ]
  },
  {
   "cell_type": "markdown",
   "id": "9953be09-ab7c-4669-9b7f-d99a48d02141",
   "metadata": {
    "id": "9953be09-ab7c-4669-9b7f-d99a48d02141"
   },
   "source": [
    "## 8.\tModelleer de warmtestromen in het huidige systeem\n",
    "\n",
    "Een aantal parameters (warmtedoorgangscoëfficiënt, oppervlakte van de koepel en basisplaat e.d.) die nodig zijn om de warmtestromen te berekenen zijn gegeven en reeds in onderstaande code ingegeven.\n",
    "\n",
    "Gebruik nu de modellen die je in paragraaf 4.5 \"Modelvorming\" hebt opgesteld en bereken de verschillende warmtestromen op basis van deze parameters en de meetgegevens. Bewaar verschillende warmtestromen in kolommen in het dataframe met de juiste titel boven de kolom."
   ]
  },
  {
   "cell_type": "code",
   "execution_count": null,
   "id": "4f02f289-3231-41e3-bd5f-b19305d426cd",
   "metadata": {
    "id": "4f02f289-3231-41e3-bd5f-b19305d426cd"
   },
   "outputs": [],
   "source": [
    "# opgave\n",
    "\n",
    "# definitie constanten\n",
    "U_ETFE_1laag = 7.1 #W/m²K (gegeven)\n",
    "U_ETFE_3laags = 2.2 #W/m²K (gegeven)\n",
    "A_koepel = 42 #m² (oppervlakte koepel)\n",
    "U_basis_huidig = 8 #W/m²K (gegeven)\n",
    "U_basis_nieuw = 0.8 #W/m²K (gegeven)\n",
    "A_basis = 7.7 #m² (gegeven)\n",
    "\n",
    "# Berekening transmissie via koepel en basis en voeg toe aan dataframe\n",
    "# Qtrans = U.A.(Toutside-Tinside)\n",
    "\n",
    "dome[\"QtransHuidigeKoepel (W)\"] = 1 #TODO\n",
    "dome[\"QtransHuidigeBasis (W)\"] = 2 #TODO\n",
    "\n",
    "# zoninstraling\n",
    "Transmissiefactor_ETFE_1laag = 0.98\n",
    "Aproj = math.pi * 4.75**2 / 4 #opp koepel geprojecteerd op grondvlak\n",
    "dome[\"QzonHuidigeKoepel (W)\"] = 3 #TODO\n",
    "\n",
    "## Berekenen netto warmtebehoefte ###\n",
    "dome[\"QWPHuidigeKoepel (W)\"] = 4 #TODO"
   ]
  },
  {
   "cell_type": "markdown",
   "id": "81cb0175-faae-4577-b5af-18a1b07e6014",
   "metadata": {
    "id": "81cb0175-faae-4577-b5af-18a1b07e6014"
   },
   "source": [
    "## Plot elk van de warmtestromen op dezelfde figuur.\n",
    " \n",
    "Ga na of de berekening het verwachte resultaat geeft.\n"
   ]
  },
  {
   "cell_type": "code",
   "execution_count": null,
   "id": "0cf7e31a-f6e0-47bd-8202-8ba91efa2c07",
   "metadata": {
    "id": "0cf7e31a-f6e0-47bd-8202-8ba91efa2c07",
    "outputId": "21098f47-5903-472c-db1e-f87802c797a3"
   },
   "outputs": [],
   "source": [
    "def plotQ(domedata, titel):\n",
    "    plt.figure()\n",
    "    plt.plot(domedata[\"dag\"], domedata[\"QWPHuidigeKoepel (W)\"], color='r', label=\"QWPHuidigeKoepel (W)\")\n",
    "    plt.plot(domedata[\"dag\"], domedata[\"QtransHuidigeKoepel (W)\"], color='b', label=\"QtransHuidigeKoepel (W)\")\n",
    "    plt.plot(domedata[\"dag\"], domedata[\"QtransHuidigeBasis (W)\"], color='k', label=\"QtransHuidigeBasis (W)\")\n",
    "    plt.plot(domedata[\"dag\"], domedata[\"QzonHuidigeKoepel (W)\"], color='m', label=\"QzonHuidigeKoepel (W)\")\n",
    "    plt.xlabel(\"dag\")\n",
    "    plt.ylabel(\"Warmtestromen huidige koepel (W)\")\n",
    "    plt.title(titel)\n",
    "    plt.grid()\n",
    "    plt.legend()\n",
    "    plt.show()"
   ]
  },
  {
   "cell_type": "code",
   "execution_count": null,
   "outputs": [],
   "source": [
    "plotQ(dome, \"Q-waarden van Dome 1 in 2021\")"
   ],
   "metadata": {
    "collapsed": false
   },
   "id": "8709077c3d64fafe"
  },
  {
   "cell_type": "markdown",
   "id": "beb36474-f3a8-42b8-9d47-71a9c9300f10",
   "metadata": {
    "id": "beb36474-f3a8-42b8-9d47-71a9c9300f10"
   },
   "source": [
    "Ook deze figuur bevat teveel gegevens om conclusies te kunnen trekken. Knip ook hier een beperkte periode uit de gegevens en ga na of dit is wat je verwacht.\n",
    "\n",
    "Onderstaande vragen zijn controles die je op de figuren kan doen:\n",
    "-\tDe warmtestroom doorheen de koepel moet evenredig zijn met Tbuiten – Tbinnen. Deze kan zowel positief of negatief zijn. (vergelijk met de pijlen in het schema in paragraaf 4)\n",
    "-\tmaak dezelfde analyse voor de warmtestroom doorheen de basisplaat\n",
    "-\tIs de warmtestroom doorheen basisplaat groter of kleiner  dan warmtestroom doorheen koepel ?  \n",
    "-\tDe warmtestroom door zonne-instraling zou overdag moeten pieken (op zonnige dagen). Kan deze negatief worden ?\n",
    "-\tDe warmtestroom door warmtepomp zou je moeten kunnen afleiden uit de soom van de bovenstaande warmtestromen nul moeten maken.\n",
    "-\tis er een verschil in warmtestromen tussen dag en nacht ?\n",
    "-\tKloppen de ordegroottes van de vermogens voor elke warmtestroom ?\n"
   ]
  },
  {
   "cell_type": "code",
   "execution_count": null,
   "id": "62bcc60d-4714-4a09-8db1-933dc0e3feac",
   "metadata": {
    "id": "62bcc60d-4714-4a09-8db1-933dc0e3feac",
    "outputId": "a0c49465-28ac-4d61-fb7a-b67661fca8d7"
   },
   "outputs": [],
   "source": [
    "dome_knip3 = knipDomeData(dome, \"2021-06-03\" , \"2021-06-09\")\n",
    "plotQ(dome_knip3, \"Q-waarden van Dome 1 in van 3/6/21 tot 9/6/21\")"
   ]
  },
  {
   "cell_type": "code",
   "execution_count": null,
   "outputs": [],
   "source": [
    "# warme week in juni\n",
    "dome_warme_week = knipDomeData(dome, \"2021-06-07\", \"2021-06-14\")\n",
    "plotQ(dome_warme_week,\"Q-waarden Dome 01 van 7/6/21 tot 14/6/21\")"
   ],
   "metadata": {
    "collapsed": false
   },
   "id": "fdc7247810f845a9"
  },
  {
   "cell_type": "code",
   "execution_count": null,
   "outputs": [],
   "source": [
    "# koude week in februari\n",
    "dome_koude_week = knipDomeData(dome, \"2021-02-05\", \"2021-02-12\")\n",
    "plotQ(dome_koude_week,\"Q-waarden Dome 01 van 5/2/21 tot 12/2/21\")"
   ],
   "metadata": {
    "collapsed": false
   },
   "id": "16a5702df2e57c13"
  },
  {
   "cell_type": "markdown",
   "id": "568024bf-eea7-4294-a784-0fce84714301",
   "metadata": {
    "id": "568024bf-eea7-4294-a784-0fce84714301"
   },
   "source": [
    "## 9.\tAnalyse temperatuurverschillen\n",
    "\n",
    "Om nog beter het verband tussen de temperaturen en warmtestromen te bestuderen is de functie *plotAlleData(dagStart, dagEinde)* geschreven die alle gegevens op één figuur plot, en die een beperkte periode uit het hele jaar selecteert.\n"
   ]
  },
  {
   "cell_type": "markdown",
   "id": "eb899b23-8c75-4849-9850-5931a2c967b5",
   "metadata": {
    "id": "eb899b23-8c75-4849-9850-5931a2c967b5"
   },
   "source": [
    "### 9.1.\tAnalyse van een dag met beperkte temperatuurfout\n",
    "\n",
    "Gebruik de functie *plotAlleData* om de gegevens van 16/03/2021 tot 21/3/2021 op een figuur te plotten.\n"
   ]
  },
  {
   "cell_type": "code",
   "execution_count": null,
   "id": "68395d2b-4f3c-4f5b-bbba-33afb4f0554d",
   "metadata": {
    "id": "68395d2b-4f3c-4f5b-bbba-33afb4f0554d",
    "outputId": "f2a1eb4a-bfaf-4871-ba82-f808ddaa9f53"
   },
   "outputs": [],
   "source": [
    "def plotAlleData(df,titel):\n",
    "    # plot subplot met alle temperaturen op bovenste subplot\n",
    "    #      en alle warmtestromen op onderste\n",
    "\n",
    "    plt.figure()\n",
    "    figs, axes = plt.subplots(2,1,figsize=(12,6.4))\n",
    "    axes[0].set_title(titel)\n",
    "    axes[0].plot(df[\"dag\"], df[\"Temp fout (°C)\"],'r',label=\"Temp fout\")\n",
    "    axes[0].plot(df[\"dag\"], df[\"T in (°C)\"],'g',label=\"T in\")\n",
    "    axes[0].plot(df[\"dag\"], df[\"T buiten (°C)\"],'b',label=\"T buiten\")\n",
    "    axes[0].plot(df[\"dag\"], df[\"T in_gewenst (°C)\"],'g--',label=\"T in gewenst\")\n",
    "    axes[0].grid()\n",
    "    axes[0].set_ylabel(\"Temperatuur (°C)\")\n",
    "    axes[0].legend()\n",
    "\n",
    "    axes[1].plot(df[\"dag\"], df[\"QtransHuidigeKoepel (W)\"], 'b', label=\"Q koepel\")\n",
    "    axes[1].plot(df[\"dag\"], df[\"QzonHuidigeKoepel (W)\"],'m', label=\"Q zon\")\n",
    "    axes[1].plot(df[\"dag\"], df[\"QWPHuidigeKoepel (W)\"],'r', label=\"Q WP\")\n",
    "    axes[1].plot(df[\"dag\"], df[\"QtransHuidigeBasis (W)\"],'c', label=\"Q basisplaat\")\n",
    "    axes[1].grid()\n",
    "    axes[1].set_ylabel(\"Warmtestroom (W)\")\n",
    "    axes[1].set_xlabel(\"Datum\")\n",
    "    axes[1].legend()\n",
    "    plt.show()\n",
    "    \n",
    "dome_maart = knipDomeData(dome, \"2021-03-16\", \"2021-03-22\")\n",
    "plotAlleData(dome_maart,\"Dome 01 van 6/3/21 tot 22/3/21\")"
   ]
  },
  {
   "cell_type": "markdown",
   "id": "0873dc0d-d311-4778-a674-3d8f8b369f8c",
   "metadata": {
    "id": "0873dc0d-d311-4778-a674-3d8f8b369f8c"
   },
   "source": [
    "Analyseer de figuur aan de hand van de volgende vragen. Analyseer eerst de dag 19/3/2021\n",
    "\n",
    "1.\tWat is de temperatuurfout in deze periode ?\n",
    "2.\tWat is het verschil tussen buitentemperatuur en binnentemperatuur ?\n",
    "Wat heeft dit verschil tot gevolg voor de warmtestromen ?\n",
    "3.\tWat is de invloed van de zonneinstraling ?\n",
    "4.\tHoe moet de klimatisatie van de dome (de warmtepomp) hierop reageren ?\n",
    "Doe nu achtereenvolgens dezelfde analyse voor 17/3/2021 en daarna 21/3/2021.\n"
   ]
  },
  {
   "cell_type": "markdown",
   "id": "92e6af8f-5a00-4699-8481-5cecbb0f1385",
   "metadata": {
    "id": "92e6af8f-5a00-4699-8481-5cecbb0f1385"
   },
   "source": [
    "## Oplossing\n",
    "\n",
    "[schrijf hier je oplossing]"
   ]
  },
  {
   "cell_type": "markdown",
   "id": "be6f9263-5322-48ee-b2d3-d1de986b9a8c",
   "metadata": {
    "id": "be6f9263-5322-48ee-b2d3-d1de986b9a8c"
   },
   "source": [
    "## 9.2 Analyse van een warme zomerweek\n",
    "\n",
    "Maak nu zelf de analyse voor een week dat de zon sterk schijnt van 7/6/2021 tot 14/6/2021.  \n"
   ]
  },
  {
   "cell_type": "code",
   "execution_count": null,
   "id": "27ba7a0c-6058-4f00-9b91-b662fcb9a847",
   "metadata": {
    "id": "27ba7a0c-6058-4f00-9b91-b662fcb9a847",
    "outputId": "f54b8d4b-d7c7-4e5f-b965-b59f5431aa68"
   },
   "outputs": [],
   "source": [
    "dome_warme_week = knipDomeData(dome, \"2021-06-07\", \"2021-06-14\")\n",
    "plotAlleData(dome_warme_week,\"Dome 01 van 7/6/21 tot 14/6/21\")"
   ]
  },
  {
   "cell_type": "markdown",
   "id": "dee387f4-6c00-4d42-afb6-edb5017308b0",
   "metadata": {
    "id": "dee387f4-6c00-4d42-afb6-edb5017308b0"
   },
   "source": [
    "## Oplossing\n",
    "\n",
    "[schrijf hier je oplossing]"
   ]
  },
  {
   "cell_type": "markdown",
   "id": "2820219a-c6d6-4304-a485-f62980d798aa",
   "metadata": {
    "id": "2820219a-c6d6-4304-a485-f62980d798aa"
   },
   "source": [
    "## Analyse van een koude winterweek\n",
    "\n",
    "En maak de analyse voor de winterperiode van 5/2/2021 tot 12/2/2021."
   ]
  },
  {
   "cell_type": "code",
   "execution_count": null,
   "id": "cf572365-34e4-4a80-884a-8493f9a19f51",
   "metadata": {
    "id": "cf572365-34e4-4a80-884a-8493f9a19f51",
    "outputId": "e5756b97-1e8d-4142-b390-88fd17824138"
   },
   "outputs": [],
   "source": [
    "dome_koude_week = knipDomeData(dome, \"2021-02-05\", \"2021-02-12\")\n",
    "plotAlleData(dome_koude_week,\"Dome 01 van 5/2/21 tot 12/2/21\")"
   ]
  },
  {
   "cell_type": "markdown",
   "id": "57e099cd-ac3e-4e82-9a26-bea01c7a7c2f",
   "metadata": {
    "id": "57e099cd-ac3e-4e82-9a26-bea01c7a7c2f"
   },
   "source": [
    "## Oplossing\n",
    "\n",
    "[schrijf hier je oplossing]"
   ]
  },
  {
   "cell_type": "markdown",
   "id": "184e17ff-edf8-4e04-ba98-91ebfb58ee38",
   "metadata": {
    "id": "184e17ff-edf8-4e04-ba98-91ebfb58ee38"
   },
   "source": [
    "# 10. Temperatuurverschillen in het aangepaste systeem\n",
    "\n",
    "Bereken de warmtestromen in het aangepaste systeem (Dit is de dome met beter geïsoleerde koepel en basisplaat).\n",
    "\n",
    "Hierbij moet je een aantal benaderingen maken om dit te kunnen doen op basis van de meetgegevens waarover we beschikken. Welke zijn deze benaderingen ?\n"
   ]
  },
  {
   "cell_type": "markdown",
   "id": "e021af1c-b8f5-4446-9951-4a0012415747",
   "metadata": {
    "id": "e021af1c-b8f5-4446-9951-4a0012415747"
   },
   "source": [
    "## Oplossing\n",
    "\n",
    "De binnentemperatuur in de meetgegevens is gemeten in de huidige dome. Als de dome beter geïsoleerd is zal deze veranderen, maar die wijziging kennen we niet. Je kan daar op een aantal manieren mee omgaan.\n",
    "\n",
    "- gebruik de binnentemperatuur in de huidige dome.\n",
    "- ga ervan uit dat het aangepaste systeem beter werkt en dat de binnentemperatuur gelijk zal zijn aan de gewenste binnentemperatuur.\n",
    "\n",
    "Probeer na te gaan of je een overschatting of onderschatting maakt van het vermogen van de warmtepomp. (maar dit is lastig omdat dit afhangt van de situatie: de warmtestroom doorheen de koepel hangt af van het verschil tussen buitentemperatuur en binnentemperatuur. Door te rekenen met de gewenste binnentemperatuur zal dit soms te klein en soms te goort zijn, dus kan je er geen algemene conlcusie op trekken.)\n",
    "\n",
    "In de berekeningen hieronder hebben we gerekend met de huidige binnentemperaturen (dus met nog steeds de temperatuurfouten)"
   ]
  },
  {
   "cell_type": "code",
   "execution_count": null,
   "id": "88937a13-9672-48dc-b6e7-ebe053b864fb",
   "metadata": {
    "id": "88937a13-9672-48dc-b6e7-ebe053b864fb"
   },
   "outputs": [],
   "source": [
    "#opgave\n",
    "dome[\"QtransNieuweKoepel (W)\"] = 5 #TODO\n",
    "dome[\"QtransNieuweBasis (W)\"] = 6 #TODO\n",
    "\n",
    "# zoninstraling\n",
    "Transmissiefactor_ETFE_3lagen = Transmissiefactor_ETFE_1laag ** 3\n",
    "InstralingsReductiefactor = Transmissiefactor_ETFE_3lagen/Transmissiefactor_ETFE_1laag\n",
    "dome[\"QzonNieuweKoepel (W)\"] = 7 #TODO\n",
    "\n",
    "## Berekenen netto warmtebehoefte ###\n",
    "dome[\"QWPNieuweKoepel (W)\"] = - (dome[\"QtransNieuweKoepel (W)\"] + dome[\"QtransNieuweBasis (W)\"] + dome[\"QzonNieuweKoepel (W)\"])"
   ]
  },
  {
   "cell_type": "markdown",
   "id": "c070cde2-5a65-41d5-b632-90be6ed813e1",
   "metadata": {
    "id": "c070cde2-5a65-41d5-b632-90be6ed813e1"
   },
   "source": [
    "Maak een nieuwe functie *plotAlleDataAangepast* op basis van de functie 'plotAlleData' waarin ook de warmtestromen in de aangepaste dome worden getoond. Plot de verschillende warmtestromen van het originele en aangepaste systeem in dezelfde kleur, maar de lijnen van het aangepaste systeem in streeplijnen (bvb 'b-' geeft een blauwe streeplijn).\n"
   ]
  },
  {
   "cell_type": "code",
   "execution_count": null,
   "id": "0cbf135c-3acd-489f-8e4b-ff1563d47d0b",
   "metadata": {
    "id": "0cbf135c-3acd-489f-8e4b-ff1563d47d0b"
   },
   "outputs": [],
   "source": [
    "#opgave\n",
    "#De huidige code van plotAlleDataAangepast is die van plotAlleData\n",
    "#Voeg ook grafiek toe voor het aangepaste systeem op basis van de kolommen voor de nieuwe koepel\n",
    "def plotAlleDataAangepast(df,titel):\n",
    "    # plot subplot met alle temperaturen op bovenste subplot\n",
    "    #      en alle warmtestromen op onderste\n",
    "\n",
    "    plt.figure()\n",
    "    figs, axes = plt.subplots(2,1,figsize=(12,6.4))\n",
    "    axes[0].set_title(titel)\n",
    "    axes[0].plot(df[\"dag\"], df[\"Temp fout (°C)\"],'r',label=\"Temp fout\")\n",
    "    axes[0].plot(df[\"dag\"], df[\"T in (°C)\"],'g',label=\"T in\")\n",
    "    axes[0].plot(df[\"dag\"], df[\"T buiten (°C)\"],'b',label=\"T buiten\")\n",
    "    axes[0].plot(df[\"dag\"], df[\"T in_gewenst (°C)\"],'g--',label=\"T in gewenst\")\n",
    "    axes[0].grid()\n",
    "    axes[0].set_ylabel(\"Temperatuur (°C)\")\n",
    "    axes[0].legend()\n",
    "\n",
    "    # TODO: voeg vier lijnen toe aan de plot\n",
    "    axes[1].plot(df[\"dag\"], df[\"QtransHuidigeKoepel (W)\"], 'b', label=\"Q koepel\")\n",
    "    axes[1].plot(df[\"dag\"], df[\"QzonHuidigeKoepel (W)\"],'m', label=\"Q zon\")\n",
    "    axes[1].plot(df[\"dag\"], df[\"QWPHuidigeKoepel (W)\"],'r', label=\"Q WP\")\n",
    "    axes[1].plot(df[\"dag\"], df[\"QtransHuidigeBasis (W)\"],'c', label=\"Q basisplaat\")\n",
    "    axes[1].grid()\n",
    "    axes[1].set_ylabel(\"Warmtestroom (W)\")\n",
    "    axes[1].set_xlabel(\"Datum\")\n",
    "    axes[1].legend()\n",
    "    plt.show()\n"
   ]
  },
  {
   "cell_type": "markdown",
   "id": "4007c6a9-967b-4c7d-97ea-a7e90e70260a",
   "metadata": {
    "id": "4007c6a9-967b-4c7d-97ea-a7e90e70260a"
   },
   "source": [
    "## 10.1\tAnalyse van een dag met beperkte temperatuurfout\n",
    "Maak de analyse van een dag met een beperkte temperatuurfout uit paragraaf 9.1 opnieuw, en analyseer wat de invloed is van het gewijzigde systeem.\n",
    "\n",
    "Wijzigt het vermogen dat de warmtepomp moet leveren ?\n",
    "\n",
    "Op welke manier kan dit leiden tot een kleinere temperatuurfout ?"
   ]
  },
  {
   "cell_type": "markdown",
   "id": "6e424137-91cd-49b0-8bd0-07747243fcdf",
   "metadata": {
    "id": "6e424137-91cd-49b0-8bd0-07747243fcdf"
   },
   "source": [
    "## oplossing\n",
    "Er ontstaat een temperatuurfout als de warmtepomp niet het nodige vermogen kan leveren om te warmen (+4 kW) of te koelen (-10 kW) - zie analyse in paragraaf 9.\n",
    "\n",
    "Als nu het gevraagde vermogen onder deze grenzen blijft zal de warmtepomp het gevraagde vermogen kunnen leveren, en zal er dus geen temperatuurfout meer optreden.\n",
    "\n",
    "Bijkomend voordeel is natuurlijk dat er minder energie nodig is (zie volgende paragraaf)."
   ]
  },
  {
   "cell_type": "code",
   "execution_count": null,
   "id": "9e88eae6-0db7-4d69-99a6-628d09392b11",
   "metadata": {
    "id": "9e88eae6-0db7-4d69-99a6-628d09392b11",
    "outputId": "fc8641ed-1220-4e14-aa83-5176d5bc670d"
   },
   "outputs": [],
   "source": [
    "dome_maart = knipDomeData(dome, \"2021-03-16\", \"2021-03-22\")\n",
    "plotAlleDataAangepast(dome_maart,\"Dome 01 van 6/3/21 tot 22/3/21\")"
   ]
  },
  {
   "cell_type": "markdown",
   "id": "3223edf9-c9da-4d97-b411-98a71cc2dd23",
   "metadata": {
    "id": "3223edf9-c9da-4d97-b411-98a71cc2dd23"
   },
   "source": [
    "## Oplossing\n",
    "\n",
    "[schrijf hier je oplossing]\n"
   ]
  },
  {
   "cell_type": "markdown",
   "id": "7bd2d49f-4504-400f-ab3f-d61f912c0716",
   "metadata": {
    "id": "7bd2d49f-4504-400f-ab3f-d61f912c0716"
   },
   "source": [
    "## 10.2 Analyse van een warme zomerweek\n",
    "\n",
    "Maak de analyse van een warme zomerweek uit paragraaf 9.2 opnieuw, en analyseer wat de invloed is van het gewijzigde systeem."
   ]
  },
  {
   "cell_type": "code",
   "execution_count": null,
   "id": "fd40adf8-0c13-4120-8414-6b74bb094ecb",
   "metadata": {
    "id": "fd40adf8-0c13-4120-8414-6b74bb094ecb",
    "outputId": "f83d46f2-9c0b-4dde-9d75-2fd16f2f5519"
   },
   "outputs": [],
   "source": [
    "dome_warme_week = knipDomeData(dome, \"2021-06-07\", \"2021-06-14\")\n",
    "plotAlleDataAangepast(dome_warme_week,\"Dome 01 van 7/6/21 tot 14/6/21\")"
   ]
  },
  {
   "cell_type": "markdown",
   "id": "5dc946ec-86ca-4ac9-82f5-5d1230b4d625",
   "metadata": {
    "id": "5dc946ec-86ca-4ac9-82f5-5d1230b4d625"
   },
   "source": [
    "## Oplossing\n",
    "\n",
    "7/6 – 14/6 : zonnige zomerdagen\n",
    "Buiten warmer dan binnen: isolatie beperkt de (ongewenste) warmte stroom naar binnen, dus minder koeling nodig.\n",
    "\n",
    "Maar de vermindering in gevraagd koelvermogen is eerder beperkt, dus de temperatuurfout zal ook weinig afnemen.\n"
   ]
  },
  {
   "cell_type": "markdown",
   "id": "310646e3-8573-4a13-bcad-fa261a8686c0",
   "metadata": {
    "id": "310646e3-8573-4a13-bcad-fa261a8686c0"
   },
   "source": [
    "## 10.3\tAnalyse van een koude winterweek\n",
    "\n",
    "Maak de analyse van een koude winterweek uit paragraaf 9.3 opnieuw, en analyseer wat de invloed is van het gewijzigde systeem."
   ]
  },
  {
   "cell_type": "code",
   "execution_count": null,
   "id": "3adb6197-b9e5-4366-9eb0-a35c4b4ea011",
   "metadata": {
    "id": "3adb6197-b9e5-4366-9eb0-a35c4b4ea011",
    "outputId": "e3f7d4f9-5bcd-4bb6-dd1a-15b13a6a3456"
   },
   "outputs": [],
   "source": [
    "dome_koude_week = knipDomeData(dome, \"2021-02-05\", \"2021-02-12\")\n",
    "plotAlleDataAangepast(dome_koude_week,\"Dome 01 van 5/2/21 tot 12/2/21\")"
   ]
  },
  {
   "cell_type": "markdown",
   "id": "f62c8bc3-0f90-4b70-9d24-4c070e683b38",
   "metadata": {
    "id": "f62c8bc3-0f90-4b70-9d24-4c070e683b38"
   },
   "source": [
    "## Oplossing\n",
    "\n",
    "[schrijf hier je oplossing]"
   ]
  },
  {
   "cell_type": "markdown",
   "id": "f015e09d-21ef-45e0-9453-c4cbbb41a0a5",
   "metadata": {
    "id": "f015e09d-21ef-45e0-9453-c4cbbb41a0a5"
   },
   "source": [
    "## 10.4 Aangepaste systeem - algemene conclusies\n",
    "\n",
    "- Tijdens warme zomerdagen, als het buiten warmer is dan binnen: minder koeling nodig, dus als beperkt koelvermogen de oorzaak is zal de temperatuurfout kleiner zijn\n",
    "- Tijdens Koude winderdagen, (als de temperatuur buiten lager is dan binnen: minder verwarmingsvermogen nodig, dus als begrensd verwarmingsvermogen de oorzaak is zal de temperatuurfout kleiner zijn.\n",
    "- - De zonneinstraling blijft de grote oorzaak van een binnentemperatuur die te groot is en daar verandert de nieuwe dome bijna niets meer aan  (er is slechts een heel klein beetje minder zonneinstraling met het nieuwe systeem).\n"
   ]
  },
  {
   "cell_type": "markdown",
   "id": "588afd61-237f-4e9b-b293-8c123b7eeea6",
   "metadata": {
    "id": "588afd61-237f-4e9b-b293-8c123b7eeea6"
   },
   "source": [
    "# 11 Bereken de nodige energie voor verwarmen en koelen voor de originele dome en aangepaste dome.\n",
    "\n",
    "In de vorige paragraaf hebben we enkele typische situaties in de dome geanalyseerd en kde invloed van het systeem op de temperatuurfout geanalyseerd. Een tweede belangrijke factor in de beslissing om te investeren in de aangepaste dome is natuurlijk het totale energieverbruik in de dome.\n",
    "\n",
    "Leg uit hoe je de nodige energie voor het verwarmen en koelen van de dome kan berekenen op basis van de voorgaande gegevens en berekeningen. Waar moet je op letten? Beschrijf exact welke berekening je moet maken.\n"
   ]
  },
  {
   "cell_type": "markdown",
   "id": "65018b91-cbeb-4e11-9699-745270ab9bbe",
   "metadata": {
    "id": "65018b91-cbeb-4e11-9699-745270ab9bbe"
   },
   "source": [
    "## Oplossing\n",
    "\n",
    "[schrijf hier je oplossing]"
   ]
  },
  {
   "cell_type": "markdown",
   "id": "7981269a-2207-4b4b-a84e-9100adef9953",
   "metadata": {
    "id": "7981269a-2207-4b4b-a84e-9100adef9953"
   },
   "source": [
    "De functies *berekenEnergieVerwarmen* en *berekenEnergieKoelen* berekenen het energieverbruik.\n",
    "Print de energiebehoefte voor de huidige dome in de console in een gepast formaat."
   ]
  },
  {
   "cell_type": "code",
   "execution_count": null,
   "id": "866bc819-8a88-4dac-a948-1159cafce08f",
   "metadata": {
    "id": "866bc819-8a88-4dac-a948-1159cafce08f"
   },
   "outputs": [],
   "source": [
    "tijdsinterval = 0.5 # 0.5 uur\n",
    "\n",
    "def berekenEnergieVerwarmen(kolom,tijdsinterval):\n",
    "    l = list(range(0,len(dome))) # lijst met rijindex voor df Dome\n",
    "    EnergieWarmen = 0\n",
    "\n",
    "    for row in l:\n",
    "        if dome.loc[row,kolom] > 0:\n",
    "            EnergieWarmen = EnergieWarmen + dome.loc[row,kolom] * tijdsinterval\n",
    "\n",
    "    return EnergieWarmen\n",
    "\n",
    "def berekenEnergieKoelen(kolom,tijdsinterval):\n",
    "    l = list(range(0,len(dome))) # lijst met rijindex voor df Dome\n",
    "    EnergieKoelen = 0\n",
    "\n",
    "    for row in l:\n",
    "        if dome.loc[row,kolom] < 0:\n",
    "            EnergieKoelen = EnergieKoelen + dome.loc[row,kolom] * tijdsinterval\n",
    "\n",
    "    return EnergieKoelen\n"
   ]
  },
  {
   "cell_type": "markdown",
   "id": "e6da721d-47ae-4022-80f0-c25aff3821f9",
   "metadata": {
    "id": "e6da721d-47ae-4022-80f0-c25aff3821f9"
   },
   "source": [
    "Druk de energiebehoefte voor de huidige dome in de console in een gepast formaat."
   ]
  },
  {
   "cell_type": "code",
   "execution_count": null,
   "id": "e00fb4ab-3e1d-4fd2-a42b-99ae20ed4b50",
   "metadata": {
    "id": "e00fb4ab-3e1d-4fd2-a42b-99ae20ed4b50",
    "outputId": "5f88c9ef-2853-4d3b-e223-20db8b0394c4"
   },
   "outputs": [],
   "source": [
    "# oplossing\n",
    "EbehoefteWarmen = -1 #TODO\n",
    "print('De totale energie nodig voor verwarmen voor de huidige Dome is ', round(EbehoefteWarmen/10**6,2), 'MWh')\n",
    "\n",
    "EbehoefteKoelen = -2 #TODO\n",
    "print('De totale energie nodig voor koelen voor de huidige Dome is ', round(EbehoefteKoelen/10**6,1), 'MWh')\n",
    "\n",
    "print('----')\n",
    "\n",
    "EbehoefteWarmenNieuw = -3 #TODO\n",
    "print('De totale energie nodig voor verwarmen voor de aangepaste Dome is ', round(EbehoefteWarmenNieuw/10**6,2), 'MWh')\n",
    "\n",
    "EbehoefteKoelenNieuw = -4 #TODO\n",
    "print('De totale energie nodig voor koelen voor de aangepaste Dome is ', round(EbehoefteKoelenNieuw/10**6,1), 'MWh')"
   ]
  },
  {
   "cell_type": "markdown",
   "id": "3fc0dcd3-f369-43af-85f0-5844bcc34de8",
   "metadata": {
    "id": "3fc0dcd3-f369-43af-85f0-5844bcc34de8"
   },
   "source": [
    "Is dit wat je verwacht op basis van de analyses uit de voorgaande hoofdstukken?"
   ]
  },
  {
   "cell_type": "markdown",
   "id": "79d08ef7-a6d4-47d3-9a46-026726ddd2ca",
   "metadata": {
    "id": "79d08ef7-a6d4-47d3-9a46-026726ddd2ca"
   },
   "source": [
    "## Besluit\n",
    "Ja, de aangepaste dome zorgt voor een redelijke reductie van de energie nodig om te verwarmen.\n",
    "\n",
    "De aangepaste dome zorgt voor een beperkte reductie van de energie nodig om te koelen doordat de zonneinstraling, die een zeer groot effect heeft op de binnentemperatuur, nauwelijks verandert t.o.v. het huidige systeem\n",
    "\n"
   ]
  },
  {
   "cell_type": "markdown",
   "id": "6e05183b-6b81-419e-974b-225298a6a508",
   "metadata": {
    "id": "6e05183b-6b81-419e-974b-225298a6a508"
   },
   "source": [
    "# 12 Berekening van de kostprijs voor verwarmen en koelen\n"
   ]
  },
  {
   "cell_type": "markdown",
   "id": "50c6715e-b796-485e-b956-891b6cd47d73",
   "metadata": {
    "id": "50c6715e-b796-485e-b956-891b6cd47d73"
   },
   "source": [
    "Bereken de kostprijs van de elektrische energie per jaar om deze dome te verwarmen en koelen. Welke kostprijs aan elektriciteit bespaar je in met het gewijzigde systeem ?"
   ]
  },
  {
   "cell_type": "code",
   "execution_count": null,
   "id": "095fc4f1-0f37-4f68-9227-56f0fcbc5f5e",
   "metadata": {
    "id": "095fc4f1-0f37-4f68-9227-56f0fcbc5f5e",
    "outputId": "47898f1e-8c97-4b67-9409-3d9895ebd747"
   },
   "outputs": [],
   "source": [
    "energieBesparingVerwarmen = -5 #TODO\n",
    "energieBesparingKoelen = -6 #TODO\n",
    "elekPrijs = -7 #TODO\n",
    "COPWarmen = -8 #TODO\n",
    "COPKoelen = -9 #TODO\n",
    "kostElekVerwarmen = EbehoefteWarmen/COPWarmen /1000 * elekPrijs  # EbehoefteWarmen in W\n",
    "kostElekKoelen = abs(EbehoefteKoelen)/COPKoelen /1000 * elekPrijs\n",
    "kostElekVerwarmenNieuw = EbehoefteWarmenNieuw/COPWarmen /1000 * elekPrijs\n",
    "kostElekKoelenNieuw = abs(EbehoefteKoelenNieuw)/COPKoelen /1000 * elekPrijs\n",
    "elekBesparing = (kostElekVerwarmen - kostElekVerwarmenNieuw) + (kostElekKoelen - kostElekKoelenNieuw)\n",
    "\n",
    "print('De totale elektriciteitskost nodig voor verwarmen voor de huidige Dome is ', round(kostElekVerwarmen,2), 'EUR')\n",
    "print('De totale elektriciteitskost nodig voor koelen voor de huidige Dome is ', round(kostElekKoelen,2), 'EUR')\n",
    "\n",
    "print('De totale kostprijsbesparing is ', round(elekBesparing,2), 'EUR')"
   ]
  }
 ],
 "metadata": {
  "kernelspec": {
   "display_name": "Python 3 (ipykernel)",
   "language": "python",
   "name": "python3"
  },
  "language_info": {
   "codemirror_mode": {
    "name": "ipython",
    "version": 3
   },
   "file_extension": ".py",
   "mimetype": "text/x-python",
   "name": "python",
   "nbconvert_exporter": "python",
   "pygments_lexer": "ipython3",
   "version": "3.11.4"
  },
  "colab": {
   "provenance": []
  }
 },
 "nbformat": 4,
 "nbformat_minor": 5
}
