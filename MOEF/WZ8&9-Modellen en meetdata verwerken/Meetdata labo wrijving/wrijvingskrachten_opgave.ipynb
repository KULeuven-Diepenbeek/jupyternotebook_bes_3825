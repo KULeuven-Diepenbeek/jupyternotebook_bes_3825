{
 "cells": [
  {
   "cell_type": "markdown",
   "id": "8355caa4-f53a-4ff0-9668-727b4487a105",
   "metadata": {},
   "source": [
    "# Oefening: Wrijvingkrachten"
   ]
  },
  {
   "cell_type": "markdown",
   "id": "82fc33af-8d12-4e23-bde7-dd89a1646a4f",
   "metadata": {},
   "source": [
    "### Probleemstelling, proefstelling en meetprocedure\n",
    "\n",
    "Lees in de cursus de probleemstelling en de informatie over de proefopstelling en meetprocedure na **voordat je verder gaat.**\n",
    "\n",
    "We beginnen zoals jullie wel bekend met enkele imports en het inlezen van het csv-bestand.\n",
    "\n"
   ]
  },
  {
   "cell_type": "code",
   "execution_count": null,
   "id": "1968e063-298c-4adc-8486-617d808a12cf",
   "metadata": {},
   "outputs": [],
   "source": [
    "import math\n",
    "import numpy as np\n",
    "import pandas as pd\n",
    "from matplotlib import pyplot as plt\n",
    "%matplotlib widget\n",
    "from slimmeFuncties import * \n",
    "\n",
    "dfKrachtData = pd.read_csv(\"Wrijvingskracht.csv\", sep=\";\", encoding=\"latin-1\")\n",
    "\n",
    "display(dfKrachtData)"
   ]
  },
  {
   "cell_type": "markdown",
   "id": "67f4dc0a-a09f-4139-8597-0d1241be7fc5",
   "metadata": {},
   "source": [
    "### Opdracht 1: Grafiek kracht ifv tijd\n",
    "\n",
    "Maak een grafiek van de kracht in functie van de tijd. Werk de grafiek netjes af volgens de regels van academische verslaggeving."
   ]
  },
  {
   "cell_type": "code",
   "execution_count": null,
   "id": "a00267d2-ccc8-4a6e-aa26-019ad6e93bf4",
   "metadata": {},
   "outputs": [],
   "source": [
    "def opdracht1(dataFrame):\n",
    "    # TODO 1: vul aan\n",
    "    return 1\n",
    "    \n",
    "opdracht1(dfKrachtData)\n"
   ]
  },
  {
   "cell_type": "markdown",
   "id": "cedc8ad7-a804-4f41-a9b2-de5bef7ef976",
   "metadata": {},
   "source": [
    "### Opdracht 2: Statische wrijvingskracht\n",
    "\n",
    "Bereken de maximale statische wrijvingskracht en laat deze verschijnen in een zin op het scherm. Hou ook hier rekening met de regels van academische verslaggeving (eenheid + afronden)."
   ]
  },
  {
   "cell_type": "code",
   "execution_count": null,
   "id": "dae2308b-efe4-4909-935d-f373e1a8668f",
   "metadata": {},
   "outputs": [],
   "source": [
    "def opdracht2(dfKrachtData):\n",
    "    #TODO bereken de maximale kracht en geef die terug\n",
    "    return 1\n",
    "    \n",
    "maxKracht = opdracht2(dfKrachtData)\n",
    "print('De maximale statische wrijvingskracht is gelijk aan', \"correct afgeronde waarde + eenheid.\")"
   ]
  },
  {
   "cell_type": "markdown",
   "id": "6562971b-cb0e-47c4-b817-680b3c15b56e",
   "metadata": {},
   "source": [
    "### Opdracht 3: Kinetische wrijvingskracht\n",
    "\n",
    "De kinetische wrijvingskracht wordt berekend als de gemiddelde kracht in het horizontale stuk van de grafiek. Gebruik een aantal knipoperaties om enkel het horizontale stuk van de grafiek in een dataframe over te houden. Gebruik de functie die je gemaakt hebt in opdracht 1 om een controleplot te maken en bereken vervolgens de kinetische wrijvingskracht. Laat opnieuw een zin verschijnen met daarin het resultaat."
   ]
  },
  {
   "cell_type": "code",
   "execution_count": null,
   "id": "9beb8777-cf0f-417f-a5f8-e923ec7d92fb",
   "metadata": {},
   "outputs": [],
   "source": [
    "# TODO 3: vul aan\n",
    "def opdracht3(dfKrachtData):\n",
    "    #TODO: gebruik de juiste slimme functies\n",
    "    return []\n",
    "\n",
    "dfPlateau = opdracht3(dfKrachtData)\n",
    "\n",
    "opdracht1(dfPlateau)\n",
    "kinetischeWrijving = np.mean(dfPlateau['Kracht (N)'])\n",
    "print('De kinetische wrijvingskracht is gelijk aan', \"correct afgeronde waarde + eenheid.\")\n"
   ]
  }
 ],
 "metadata": {
  "kernelspec": {
   "display_name": "Python 3 (ipykernel)",
   "language": "python",
   "name": "python3"
  },
  "language_info": {
   "codemirror_mode": {
    "name": "ipython",
    "version": 3
   },
   "file_extension": ".py",
   "mimetype": "text/x-python",
   "name": "python",
   "nbconvert_exporter": "python",
   "pygments_lexer": "ipython3",
   "version": "3.11.4"
  }
 },
 "nbformat": 4,
 "nbformat_minor": 5
}
