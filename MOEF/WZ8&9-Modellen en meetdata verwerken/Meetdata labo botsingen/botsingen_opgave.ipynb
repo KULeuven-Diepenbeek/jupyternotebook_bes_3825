{
 "cells": [
  {
   "cell_type": "markdown",
   "id": "8355caa4-f53a-4ff0-9668-727b4487a105",
   "metadata": {},
   "source": [
    "# Oefening: Botsingen"
   ]
  },
  {
   "cell_type": "markdown",
   "id": "ba830361-1dcf-4ea3-86e8-6d1450d2551a",
   "metadata": {},
   "source": [
    "### Probleemstelling, proefstelling en meetprocedure\n",
    "\n",
    "Lees in de cursus de probleemstelling en de informatie over de proefopstelling en meetprocedure na **voordat je verder gaat.**\n",
    "\n",
    "We beginnen zoals jullie wel bekend met enkele imports en het inlezen van het csv-bestand.\n"
   ]
  },
  {
   "cell_type": "code",
   "execution_count": null,
   "id": "fa38fa0d-be98-4145-b89c-a31b27e5ada9",
   "metadata": {},
   "outputs": [],
   "source": [
    "# De gekende imports en het inlezen van het csv-bestand:\n",
    "\n",
    "import math\n",
    "import numpy as np\n",
    "import pandas as pd\n",
    "from matplotlib import pyplot as plt\n",
    "%matplotlib widget\n",
    "from slimmeFuncties import * \n",
    "\n",
    "dfBotsingsData = pd.read_csv(\"Botsingen Meting 2 m1 502_3g  m2 254_5g.csv\", sep=\";\", encoding=\"latin-1\")\n",
    "\n",
    "display(dfBotsingsData.drop(dfBotsingsData.index[5:-5]))"
   ]
  },
  {
   "cell_type": "markdown",
   "id": "71c640e0-8583-4942-9f63-dd5a7f921d55",
   "metadata": {},
   "source": [
    "### Opdracht 1: snelheid van de 2 wagentjes\n",
    "\n",
    "Maak 2 grafieken:\n",
    "- de eerste grafiek toont de snelheid van beide wagentjes in functie van de tijd\n",
    "- de tweede grafiek toont de versnelling van beide wagentjes in functie van de tijd\n",
    "\n",
    "Uiteraard moeten beide grafieken voldoen aan de regels van academische verslaggeving."
   ]
  },
  {
   "cell_type": "code",
   "execution_count": null,
   "id": "3188a2c9-95fe-4f5e-8b14-f78e3e3f42d1",
   "metadata": {},
   "outputs": [],
   "source": [
    "def plotSnelheid2wagentjes(dataFrame):\n",
    "    # TODO 1: vul aan\n",
    "    return 1\n",
    "\n",
    "def plotVersnelling2wagentjes(dataFrame):\n",
    "    return 1\n",
    "\n",
    "plotSnelheid2wagentjes(dfBotsingsData)\n",
    "plotVersnelling2wagentjes(dfBotsingsData)"
   ]
  },
  {
   "cell_type": "markdown",
   "id": "8dbbe65e-0117-4c1f-9df2-923968e7a929",
   "metadata": {},
   "source": [
    "### Opdracht 2: behoud van kinetische energie\n",
    "\n",
    "Veronderstel dat de massa's van de 2 wagentjes gekend zijn (zie naam csv-bestand). Controleer dan voor elk wagentje of er voldaan is aan behoud van kinetische energie. Maak je berekening zo realistisch en nauwkeurig mogelijk. Je kan niet op beide punten voor perfectionisme gaan dus maak een goede afweging!\n",
    "\n",
    "Voor deze opdracht heb je meerdere tussenstappen nodig. Het kan dus handig zijn om meerdere codeblokjes te gebruiken. Maak er dus zeker bij! Voeg voldoende commentaar toe aan je code om je tussenstappen te verduidelijken. Bekijk ook het resultaat kritisch!\n",
    "\n",
    "Tip: gebruik functies uit de bibliotheek **slimmeFuncties.py**"
   ]
  },
  {
   "cell_type": "markdown",
   "id": "61a24985-74de-476d-a41a-f82b565f86de",
   "metadata": {},
   "source": [
    "Dubbelklik op deze cel en schrijf hier je stappenplan uit.\n",
    "\n",
    "-\n",
    "-\n",
    "\n"
   ]
  },
  {
   "cell_type": "code",
   "execution_count": null,
   "id": "1485138f-5629-4d0d-9721-a9bd65fc060b",
   "metadata": {},
   "outputs": [],
   "source": [
    "# Vorm je stappenplan hier om tot code. Maak eventueel codeblokken bij.\n",
    "\n",
    "\n",
    "\n"
   ]
  },
  {
   "cell_type": "markdown",
   "id": "b37f469c-6e79-48d1-a021-4c38178a5f1b",
   "metadata": {},
   "source": [
    "### Opdracht 3: vertraging door  wrijving\n",
    "\n",
    "Door wrijving is er voor of na de botsing nooit een constante snelheid. Modeleer de data om de versnelling (of in dit geval dus vertraging) van een wagentje te bepalen. Schrijf 1 functie die je kan gebruiken voor een wagentje naar keuze en voor een tijdstip (voor of na de botsing) naar keuze."
   ]
  },
  {
   "cell_type": "code",
   "execution_count": null,
   "id": "b5bc5208-4172-4e98-af55-b16fc9b81f4c",
   "metadata": {},
   "outputs": [],
   "source": [
    "# Schrijf hier de code en voorzie van voldoende commentaar.\n",
    "\n"
   ]
  },
  {
   "cell_type": "code",
   "execution_count": null,
   "id": "e6d0eac2-3df4-4605-b4eb-dbed2dff1eb4",
   "metadata": {},
   "outputs": [],
   "source": []
  }
 ],
 "metadata": {
  "kernelspec": {
   "display_name": "Python 3 (ipykernel)",
   "language": "python",
   "name": "python3"
  },
  "language_info": {
   "codemirror_mode": {
    "name": "ipython",
    "version": 3
   },
   "file_extension": ".py",
   "mimetype": "text/x-python",
   "name": "python",
   "nbconvert_exporter": "python",
   "pygments_lexer": "ipython3",
   "version": "3.11.4"
  }
 },
 "nbformat": 4,
 "nbformat_minor": 5
}
