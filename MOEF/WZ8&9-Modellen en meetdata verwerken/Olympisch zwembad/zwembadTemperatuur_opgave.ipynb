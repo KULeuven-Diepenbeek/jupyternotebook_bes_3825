{
 "cells": [
  {
   "cell_type": "markdown",
   "id": "fdd34623-37ab-4bab-babc-3b25b5483fa6",
   "metadata": {},
   "source": [
    "# Voorontwerp van een olympisch zwembad - Analyse temperatuurmeting\n",
    "\n",
    "Het csv-bestand zwembadTemperatuur bevat de meting van de watertemperatuur gedurende een periode van 40 uur. Zet deze meting uit in een grafiek samen met een gepaste trendlijn. Bereken op basis van de trendlijn de temperatuursdaling per dag.\n"
   ]
  },
  {
   "cell_type": "code",
   "execution_count": 1,
   "id": "8cca478d-9e40-4f9f-886d-6d6270b10fad",
   "metadata": {
    "ExecuteTime": {
     "end_time": "2024-11-19T12:44:54.808251500Z",
     "start_time": "2024-11-19T12:44:49.973582800Z"
    }
   },
   "outputs": [],
   "source": [
    "# deze imports kennen jullie ondertussen al\n",
    "\n",
    "import math\n",
    "import numpy as np\n",
    "import pandas as pd\n",
    "from matplotlib import pyplot as plt\n",
    "%matplotlib widget\n",
    "from slimmeFuncties import * \n",
    "from qgridnext import show_grid"
   ]
  },
  {
   "cell_type": "code",
   "execution_count": 2,
   "id": "ba619194-ad45-4596-8bc6-5e12af925113",
   "metadata": {},
   "outputs": [
    {
     "data": {
      "text/html": [
       "<div>\n",
       "<style scoped>\n",
       "    .dataframe tbody tr th:only-of-type {\n",
       "        vertical-align: middle;\n",
       "    }\n",
       "\n",
       "    .dataframe tbody tr th {\n",
       "        vertical-align: top;\n",
       "    }\n",
       "\n",
       "    .dataframe thead th {\n",
       "        text-align: right;\n",
       "    }\n",
       "</style>\n",
       "<table border=\"1\" class=\"dataframe\">\n",
       "  <thead>\n",
       "    <tr style=\"text-align: right;\">\n",
       "      <th></th>\n",
       "      <th>Uur</th>\n",
       "      <th>Temperatuur (°C)</th>\n",
       "    </tr>\n",
       "  </thead>\n",
       "  <tbody>\n",
       "    <tr>\n",
       "      <th>0</th>\n",
       "      <td>0.0</td>\n",
       "      <td>26.90</td>\n",
       "    </tr>\n",
       "    <tr>\n",
       "      <th>1</th>\n",
       "      <td>0.5</td>\n",
       "      <td>26.92</td>\n",
       "    </tr>\n",
       "    <tr>\n",
       "      <th>2</th>\n",
       "      <td>1.0</td>\n",
       "      <td>26.88</td>\n",
       "    </tr>\n",
       "    <tr>\n",
       "      <th>3</th>\n",
       "      <td>1.5</td>\n",
       "      <td>26.87</td>\n",
       "    </tr>\n",
       "    <tr>\n",
       "      <th>4</th>\n",
       "      <td>2.0</td>\n",
       "      <td>26.83</td>\n",
       "    </tr>\n",
       "    <tr>\n",
       "      <th>...</th>\n",
       "      <td>...</td>\n",
       "      <td>...</td>\n",
       "    </tr>\n",
       "    <tr>\n",
       "      <th>76</th>\n",
       "      <td>38.0</td>\n",
       "      <td>26.10</td>\n",
       "    </tr>\n",
       "    <tr>\n",
       "      <th>77</th>\n",
       "      <td>38.5</td>\n",
       "      <td>26.12</td>\n",
       "    </tr>\n",
       "    <tr>\n",
       "      <th>78</th>\n",
       "      <td>39.0</td>\n",
       "      <td>26.15</td>\n",
       "    </tr>\n",
       "    <tr>\n",
       "      <th>79</th>\n",
       "      <td>39.5</td>\n",
       "      <td>26.10</td>\n",
       "    </tr>\n",
       "    <tr>\n",
       "      <th>80</th>\n",
       "      <td>40.0</td>\n",
       "      <td>26.06</td>\n",
       "    </tr>\n",
       "  </tbody>\n",
       "</table>\n",
       "<p>81 rows × 2 columns</p>\n",
       "</div>"
      ],
      "text/plain": [
       "     Uur  Temperatuur (°C)\n",
       "0    0.0             26.90\n",
       "1    0.5             26.92\n",
       "2    1.0             26.88\n",
       "3    1.5             26.87\n",
       "4    2.0             26.83\n",
       "..   ...               ...\n",
       "76  38.0             26.10\n",
       "77  38.5             26.12\n",
       "78  39.0             26.15\n",
       "79  39.5             26.10\n",
       "80  40.0             26.06\n",
       "\n",
       "[81 rows x 2 columns]"
      ]
     },
     "execution_count": 2,
     "metadata": {},
     "output_type": "execute_result"
    }
   ],
   "source": [
    "temperatuurData = pd.read_csv(\"zwembadTemperatuur.csv\", sep=\";\")\n",
    "\n",
    "show_grid(temperatuurData)"
   ]
  },
  {
   "cell_type": "markdown",
   "id": "ff38591e-e678-4693-aa92-e6a55459b834",
   "metadata": {},
   "source": [
    "### Opdracht 1:\n",
    "\n",
    "Plot de temperatuurdata als een puntenwolk. Gebruik een marker naar keuze en kies de optie **linestyle=''** in de plotfunctie."
   ]
  },
  {
   "cell_type": "code",
   "execution_count": 2,
   "id": "5ba0360a-6502-44e2-bb05-be90ca6e6fc8",
   "metadata": {
    "ExecuteTime": {
     "end_time": "2024-11-19T12:48:10.046273500Z",
     "start_time": "2024-11-19T12:48:09.637760700Z"
    }
   },
   "outputs": [
    {
     "ename": "NameError",
     "evalue": "name 'temperatuurData' is not defined",
     "output_type": "error",
     "traceback": [
      "\u001B[1;31m---------------------------------------------------------------------------\u001B[0m",
      "\u001B[1;31mNameError\u001B[0m                                 Traceback (most recent call last)",
      "Cell \u001B[1;32mIn[2], line 11\u001B[0m\n\u001B[0;32m      8\u001B[0m     plt\u001B[38;5;241m.\u001B[39mgrid()\n\u001B[0;32m      9\u001B[0m     plt\u001B[38;5;241m.\u001B[39mshow()\n\u001B[1;32m---> 11\u001B[0m plotTemperaturen(\u001B[43mtemperatuurData\u001B[49m) \n",
      "\u001B[1;31mNameError\u001B[0m: name 'temperatuurData' is not defined"
     ]
    }
   ],
   "source": [
    "def plotTemperaturen(dataFrame):\n",
    "    # TODO 1: selecteer de juiste waarden voor xAs en Yas\n",
    "    xAs = []\n",
    "    yAs = []\n",
    "    plt.figure()\n",
    "    plt.plot(xAs,yAs, color=\"black\",marker='.',linestyle='', label=\"zwembad temperatuur °C\")\n",
    "    # TODO 2: voeg legende en labels voor x- en y-as toe\n",
    "    plt.grid()\n",
    "    plt.show()\n",
    "    \n",
    "plotTemperaturen(temperatuurData) "
   ]
  },
  {
   "cell_type": "markdown",
   "id": "a17d92ca-3f42-43f5-9ea3-63f1fc001fde",
   "metadata": {},
   "source": [
    "Wat stel je vast i.v.m. de meetwaardes?"
   ]
  },
  {
   "cell_type": "markdown",
   "id": "38c9bdbb-ff4e-4f75-809d-dfaba9b0be9c",
   "metadata": {},
   "source": [
    "### Opdracht 2:\n",
    "\n",
    "Kies in de bibliotheek **slimmeFuncties** een geschikte functie om de afname van de temperatuur te modeleren.\n"
   ]
  },
  {
   "cell_type": "code",
   "execution_count": 4,
   "id": "5dd6a822-c49b-4dd5-adab-a37f0aa270c5",
   "metadata": {},
   "outputs": [
    {
     "ename": "NameError",
     "evalue": "name 'Fit' is not defined",
     "output_type": "error",
     "traceback": [
      "\u001B[0;31m---------------------------------------------------------------------------\u001B[0m",
      "\u001B[0;31mNameError\u001B[0m                                 Traceback (most recent call last)",
      "Cell \u001B[0;32mIn[4], line 6\u001B[0m\n\u001B[1;32m      2\u001B[0m ys \u001B[38;5;241m=\u001B[39m temperatuurData[\u001B[38;5;124m\"\u001B[39m\u001B[38;5;124mTemperatuur (°C)\u001B[39m\u001B[38;5;124m\"\u001B[39m]\n\u001B[1;32m      3\u001B[0m     \u001B[38;5;66;03m# TODO 2: vul aan\u001B[39;00m\n\u001B[1;32m      4\u001B[0m \u001B[38;5;66;03m#Fit = \u001B[39;00m\n\u001B[0;32m----> 6\u001B[0m \u001B[38;5;28mprint\u001B[39m(\u001B[43mFit\u001B[49m)\n",
      "\u001B[0;31mNameError\u001B[0m: name 'Fit' is not defined"
     ]
    }
   ],
   "source": [
    "xs = temperatuurData[\"Uur\"]\n",
    "ys = temperatuurData[\"Temperatuur (°C)\"]\n",
    "\n",
    "# TODO 2: vul aan\n",
    "#Fit = \n",
    "\n",
    "print(Fit)\n"
   ]
  },
  {
   "cell_type": "markdown",
   "id": "ee970381-4d87-4000-a915-1aae29e59642",
   "metadata": {},
   "source": [
    "### Opdracht 3:\n",
    "\n",
    "Plot het model dat je hebt gemaakt (in een blauwe volle lijn) samen met de originele puntenwolk."
   ]
  },
  {
   "cell_type": "code",
   "execution_count": 5,
   "id": "4e020b17-f585-4f03-bdba-24e56e4bd5c5",
   "metadata": {},
   "outputs": [
    {
     "ename": "SyntaxError",
     "evalue": "incomplete input (3116920209.py, line 2)",
     "output_type": "error",
     "traceback": [
      "\u001B[0;36m  Cell \u001B[0;32mIn[5], line 2\u001B[0;36m\u001B[0m\n\u001B[0;31m    # TODO 3: vul aan\u001B[0m\n\u001B[0m                     ^\u001B[0m\n\u001B[0;31mSyntaxError\u001B[0m\u001B[0;31m:\u001B[0m incomplete input\n"
     ]
    }
   ],
   "source": [
    "def plotTemperatuurModel(dataFrame):\n",
    "    # TODO 3: vul aan (op basis van je oplossing van opdracht 1)\n",
    "    plt.figure()\n",
    "    plt.show()\n"
   ]
  },
  {
   "cell_type": "code",
   "execution_count": null,
   "id": "297ae490-130b-40d5-8daa-d0e7b60cb118",
   "metadata": {},
   "outputs": [],
   "source": []
  }
 ],
 "metadata": {
  "kernelspec": {
   "display_name": "Python 3 (ipykernel)",
   "language": "python",
   "name": "python3"
  },
  "language_info": {
   "codemirror_mode": {
    "name": "ipython",
    "version": 3
   },
   "file_extension": ".py",
   "mimetype": "text/x-python",
   "name": "python",
   "nbconvert_exporter": "python",
   "pygments_lexer": "ipython3",
   "version": "3.11.4"
  }
 },
 "nbformat": 4,
 "nbformat_minor": 5
}
