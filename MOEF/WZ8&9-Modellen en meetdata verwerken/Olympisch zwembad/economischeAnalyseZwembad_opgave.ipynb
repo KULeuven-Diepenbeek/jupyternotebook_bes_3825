{
 "cells": [
  {
   "cell_type": "markdown",
   "id": "f5bf9a9a-0dd4-4044-8a58-a1f58c580fad",
   "metadata": {},
   "source": [
    "# Voorontwerp van een zwembad - economische analyse zwembad verwarming\n",
    "\n",
    "In deze analyse worden de totale verwarmingskosten voor de geothermische warmtepomp installatie vergeleken met een klassieke gasverwarming."
   ]
  },
  {
   "cell_type": "code",
   "execution_count": null,
   "id": "488c088b-e5fb-42be-8dc8-9b67ed3408b2",
   "metadata": {},
   "outputs": [],
   "source": [
    "# noodzakelijke imports \n",
    "\n",
    "import math\n",
    "import numpy as np\n",
    "import pandas as pd\n",
    "from matplotlib import pyplot as plt\n",
    "%matplotlib widget"
   ]
  },
  {
   "cell_type": "markdown",
   "source": [
    "# Stap 1: het algemeen model\n",
    "\n",
    "We hebben al een model opgesteld waarmee je de TCO (**Total Cost of Ownership**) van een verwarmingsinstallatie kan berekenen. De functie neemt vier parameters:\n",
    "\n",
    "  - **vasteKost**: de investeringskost\n",
    "  - **verbruikPerDag**: het verbruik *per dag* om de installatie te gebruiken\n",
    "  - **prijs**: de prijs in euro per eenheid energie \n",
    "  - **t**: het aantal *weken* dat de installatie gedraaid heeft\n",
    " \n",
    "De functie *berekenTotaleKost* geeft dan de TCO na **t** weken terug.       "
   ],
   "metadata": {
    "collapsed": false
   },
   "id": "9feaa39ed0175127"
  },
  {
   "cell_type": "code",
   "execution_count": null,
   "id": "8615202c-4053-42be-a91e-504192ab9aab",
   "metadata": {},
   "outputs": [],
   "source": [
    "# Deze functies berekenen de totale kosten voor de zwembadverwarming op basis van de vaste kosten\n",
    "# en variabele verbruikskosten (=energiekosten) op weekbasis\n",
    "def berekenTotaleKost(vasteKost,verbruikperDag,prijs,t):\n",
    "    totaleKost = vasteKost + t * verbruikperDag * 7 * prijs #t in weken\n",
    "    return totaleKost"
   ]
  },
  {
   "cell_type": "markdown",
   "source": [
    "# Stap 2: plotfuncties om de TCO gedurende 4 jaar te visualiseren\n",
    "\n",
    "We hebben twéé versies van een plotfunctie geschreven.\n",
    "De eerste neemt de 3 eerste parameters van het model en laat de tijd *t* variëren van 1 tot 208 weken.\n",
    "De functie heeft geen plt.figure() of plt.show() zodat je voor verschillende scenario's achter elkaar kan oproepen.\n",
    "\n",
    "De tweede neemt als extra parameter een as van de subplots om de grafiek in een deelvenster te tekenen. \n",
    "\n",
    "### Neem even de tijd om deze code te doorgronden. Op de toets moet je mogelijk verder werken op soortgelijke code."
   ],
   "metadata": {
    "collapsed": false
   },
   "id": "caab4f1093353093"
  },
  {
   "cell_type": "code",
   "execution_count": null,
   "outputs": [],
   "source": [
    "def plotKosten(vasteKost,verbruikperDag,prijs,legende, kleur, alpha=1, lijn=\"solid\", dashes = False):\n",
    "  # functie ZONDER plt.figure() om de kans te geven om verschillende plots op één figuur te zetten  \n",
    "  def berekenKost(t):\n",
    "    return berekenTotaleKost(vasteKost,verbruikperDag,prijs, t)\n",
    " \n",
    "  xAs = range(1,4*52+1) # 4 jaar = 208 weken\n",
    "  yAs = list(map(berekenKost, xAs))\n",
    "  #plt.plot(xAs, yAs, label = legende, color = kleur, alpha=alpha, linestyle = lijn)\n",
    "  if dashes:\n",
    "    plt.plot(xAs, yAs, label = legende, color = kleur, alpha=alpha, dashes = [3, 5, 5, 2])\n",
    "  else:\n",
    "    plt.plot(xAs, yAs, label = legende, color = kleur, alpha=alpha)  \n",
    "  plt.grid()\n",
    "  plt.title(\"Cumulatieve kost zwembadverwarming\")\n",
    "  plt.xlabel('Weken')\n",
    "  plt.ylabel('Kost in €')\n",
    "\n",
    "def plotKostenOpAs(axis, vasteKost,verbruikperDag,prijs,legende, kleur):\n",
    "  # functie ZONDER plt.figure() om de kans te geven om verschillende plots op één figuur te zetten  \n",
    "  def berekenKost(t):\n",
    "    return berekenTotaleKost(vasteKost,verbruikperDag,prijs, t)\n",
    " \n",
    "  xAs = range(1,4*52+1) # 4 jaar = 208 weken\n",
    "  yAs = list(map(berekenKost, xAs))\n",
    "  axis.plot(xAs, yAs, label = legende, color = kleur)\n",
    "  axis.set_title(legende)\n",
    "  axis.set_xlabel('Weken')\n",
    "  axis.set_ylabel('Kosten (€)')\n",
    "  axis.grid()"
   ],
   "metadata": {
    "collapsed": false
   },
   "id": "12b3f0146665dafe"
  },
  {
   "cell_type": "markdown",
   "source": [
    "# Stap 3: maak concrete modellen\n",
    "\n",
    "In stap 4 gaan we bekijken welke verwarming economisch het meest voordelig is.\n",
    "Hiervoor gaan we de plotfuncties oproepen en conclusies proberen te trekken.\n",
    "\n",
    "Vul in de codecel hieronder de gegevens per verwarmingsbron in en bereken dan concrete waardes voor de twee soorten verwarming."
   ],
   "metadata": {
    "collapsed": false
   },
   "id": "1f56efc64509d6f6"
  },
  {
   "cell_type": "code",
   "execution_count": null,
   "outputs": [],
   "source": [
    "# TODO 1\n",
    "# vul de correcte waardes in in onderstaande parameters\n",
    "\n",
    "# gasketel\n",
    "kostGasketel = ...\n",
    "warmtebehoefteGasketel = ... #kWh/dag\n",
    "rendementGasketel = ...\n",
    "prijsGas = ... #€/kWh update sept 2024\n",
    "\n",
    "# warmtepomp\n",
    "kostBoren = ...\n",
    "kostStudie = ...\n",
    "kostWP = ...\n",
    "elekbehoefteWP = ... #kWh/dag\n",
    "prijsElek = ... #€/kWh update sept 2024\n",
    "\n",
    "# TODO 2\n",
    "# bereken de waarden voor de parameters van de functie\n",
    "\n",
    "# gas\n",
    "vasteKostGas = ...\n",
    "verbruikPerDagGas = ...\n",
    "\n",
    "# warmtepomp\n",
    "vasteKostWarmtepomp = ...\n",
    "verbruikPerDagWarmtepomp = ..."
   ],
   "metadata": {
    "collapsed": false
   },
   "id": "cad4942c-6800-4eee-9d26-fea6f094742d"
  },
  {
   "cell_type": "markdown",
   "source": [
    "# Stap 4: visualiseer het model over de tijd op drie verschillende manieren\n",
    "\n",
    "In het deel PIT hebben we verschillende manieren gezien om twee plots te visualiseren:\n",
    " - in één figuur\n",
    " - in een figuur met twéé assen\n",
    " - op twee verschillende subplots naast elkaar\n",
    "        \n",
    "Hieronder vind je drie codecellen voor deze drie manieren. De drie manieren staan niet noodzakelijk in dezelfde volgorde als we hierboven opgesomd hebben.\n",
    "Probeer ze allemaal, zorg dat je de code begrijpt en schrijf eronder je bevindingen.       "
   ],
   "metadata": {
    "collapsed": false
   },
   "id": "55c08008cebd103d"
  },
  {
   "cell_type": "markdown",
   "source": [
    "## Manier 1"
   ],
   "metadata": {
    "collapsed": false
   },
   "id": "6e213c7f6660217e"
  },
  {
   "cell_type": "code",
   "execution_count": null,
   "id": "0ab1f608-8cce-47ae-b810-c7c0a9a5b9f4",
   "metadata": {},
   "outputs": [],
   "source": [
    "plt.figure()\n",
    "figs, axes = plt.subplots(1,2)\n",
    "\n",
    "plotKostenOpAs(axes[0],vasteKostGas,verbruikPerDagGas,prijsGas,\"Kosten gasketel\",'k')\n",
    "plotKostenOpAs(axes[1],vasteKostWarmtepomp,verbruikPerDagWarmtepomp,prijsElek,\"Kosten geothermische WP\",'b')\n",
    "\n",
    "plt.show()"
   ]
  },
  {
   "cell_type": "raw",
   "source": [
    "Wat zie je in bovenstaande figuur? Kan je hier een besluit uit trekken?\n",
    "[\n",
    "\n",
    "\n",
    "\n",
    "\n",
    "]"
   ],
   "metadata": {
    "collapsed": false
   },
   "id": "3b33e8d5758f3d98"
  },
  {
   "cell_type": "markdown",
   "source": [
    "## Manier 2"
   ],
   "metadata": {
    "collapsed": false
   },
   "id": "b209cf4e56b1f5d7"
  },
  {
   "cell_type": "code",
   "execution_count": null,
   "outputs": [],
   "source": [
    "plt.figure()\n",
    "plotKosten(vasteKostGas,verbruikPerDagGas,prijsGas,\"Totale Kosten voor een gasketel installatie\",'k')\n",
    "plt.legend()\n",
    "plt.grid()\n",
    "plt.twinx()\n",
    "\n",
    "plotKosten(vasteKostWarmtepomp,verbruikPerDagWarmtepomp,prijsElek,\"Totale Kosten voor een geothermische WP\",'b')\n",
    "plt.legend()\n",
    "plt.grid()\n",
    "\n",
    "plt.show()"
   ],
   "metadata": {
    "collapsed": false
   },
   "id": "9efbdb30facf25d3"
  },
  {
   "cell_type": "raw",
   "source": [
    "Wat zie je in bovenstaande figuur? Kan je hier een besluit uit trekken?\n",
    "[\n",
    "\n",
    "\n",
    "\n",
    "\n",
    "]"
   ],
   "metadata": {
    "collapsed": false
   },
   "id": "fc4350ed73220a2d"
  },
  {
   "cell_type": "markdown",
   "source": [
    "## Manier 3"
   ],
   "metadata": {
    "collapsed": false
   },
   "id": "afcebf04125b0e9f"
  },
  {
   "cell_type": "code",
   "execution_count": null,
   "outputs": [],
   "source": [
    "plt.figure()\n",
    "plotKosten(vasteKostGas,verbruikPerDagGas,prijsGas,\"Totale Kosten voor een gasketel installatie\",'r',dashes=True)\n",
    "# de gasprijs tonen we met streepjes\n",
    "plt.legend()\n",
    "plt.grid()\n",
    "plt.twinx()\n",
    "\n",
    "plotKosten(vasteKostWarmtepomp,verbruikPerDagWarmtepomp,prijsElek,\"Totale Kosten voor een geothermische WP\",'b',alpha=0.3)\n",
    "# de warmtepomp in een doorlopende lijn, maar met transparantie omdat anders de gasprijs volledig overschreven wordt\n",
    "plt.legend(loc='upper right',bbox_to_anchor=(0.72,0.92))\n",
    "plt.grid()\n",
    "plt.show()"
   ],
   "metadata": {
    "collapsed": false
   },
   "id": "3d35f067-0b17-4b2e-a0f1-0cca2e295f8b"
  },
  {
   "cell_type": "raw",
   "source": [
    "Wat zie je in bovenstaande figuur? Kan je hier een besluit uit trekken?\n",
    "[\n",
    "\n",
    "\n",
    "\n",
    "\n",
    "]"
   ],
   "metadata": {
    "collapsed": false
   },
   "id": "c5ebfbab1c142223"
  },
  {
   "cell_type": "markdown",
   "source": [
    "# Stap 5: Interpretatie\n",
    "\n",
    "Welke van drie manieren om de twee grafieken te visualiseren is het interessantste?\n",
    "Waarom?\n",
    "\n",
    "Wat kan je besluiten?\n"
   ],
   "metadata": {
    "collapsed": false
   },
   "id": "1031408c5e89003e"
  },
  {
   "cell_type": "raw",
   "source": [
    "Schrijf hier je finale bevindingen.\n",
    "[\n",
    "\n",
    "\n",
    "\n",
    "\n",
    "]"
   ],
   "metadata": {
    "collapsed": false
   },
   "id": "bdf284777de8fcf2"
  },
  {
   "cell_type": "code",
   "execution_count": null,
   "outputs": [],
   "source": [],
   "metadata": {
    "collapsed": false
   },
   "id": "61257f32e5136125"
  }
 ],
 "metadata": {
  "kernelspec": {
   "display_name": "Python 3 (ipykernel)",
   "language": "python",
   "name": "python3"
  },
  "language_info": {
   "codemirror_mode": {
    "name": "ipython",
    "version": 3
   },
   "file_extension": ".py",
   "mimetype": "text/x-python",
   "name": "python",
   "nbconvert_exporter": "python",
   "pygments_lexer": "ipython3",
   "version": "3.11.9"
  }
 },
 "nbformat": 4,
 "nbformat_minor": 5
}
