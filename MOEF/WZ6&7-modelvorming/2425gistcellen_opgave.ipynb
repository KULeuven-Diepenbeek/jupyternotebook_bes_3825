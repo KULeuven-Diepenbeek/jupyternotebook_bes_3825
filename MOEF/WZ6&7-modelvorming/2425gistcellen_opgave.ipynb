{
 "cells": [
  {
   "cell_type": "markdown",
   "id": "3b616df7-e111-4338-9d04-ecd7088a9899",
   "metadata": {},
   "source": [
    "# Opgave 5 - Gistcellen vanaf oefening 5\n",
    "\n"
   ]
  },
  {
   "cell_type": "code",
   "execution_count": null,
   "id": "d4e7833129ddd34f",
   "metadata": {
    "collapsed": false
   },
   "outputs": [],
   "source": [
    "import math\n",
    "\n",
    "# voer eerst deze cel uit om alle imports in orde te hebben\n",
    "import numpy as np\n",
    "import pandas as pd\n",
    "import matplotlib.pyplot as plt\n",
    "%matplotlib widget\n",
    "\n",
    "from qgridnext import show_grid"
   ]
  },
  {
   "cell_type": "markdown",
   "id": "5f500911880c3c54",
   "metadata": {
    "collapsed": false
   },
   "source": [
    "## Oefening 5.5\n",
    "*Veralgemeen het model zodat het ook geldig is voor andere omstandigheden, bijvoorbeeld een verviervoudiging in één dag (24 u). Controleer opnieuw de eenheden.*\n",
    "\n",
    "Het model moet in Python een functie zijn met volgende parameters:\n",
    "\n",
    "- het aantal gistcellen bij de start (N0)\n",
    "- de relatieve verandering per tijdseenheid (b0)\n",
    "- de periode waarop de verandering plaats vindt, uitgedrukt in uur (p)\n",
    "- de tijd (t) waarop we het aantal gistcellen willen kennen\n"
   ]
  },
  {
   "cell_type": "code",
   "execution_count": null,
   "id": "423c8d1bba9f6667",
   "metadata": {
    "collapsed": false
   },
   "outputs": [],
   "source": [
    "# opgave\n",
    "def aantalGistCellen(N0,b,p, t):\n",
    "    #TODO: vervang -1 door de juiste formule\n",
    "    return -1 "
   ]
  },
  {
   "cell_type": "markdown",
   "id": "cbe2eccc28c6e3c",
   "metadata": {
    "collapsed": false
   },
   "source": [
    "Op basis van dit generieke model kunnen we het specifieke model opstellen voor de verdubbeling van het aantal gistcellen per half uur, vertrekkende van 100 gistcellen."
   ]
  },
  {
   "cell_type": "code",
   "execution_count": null,
   "id": "c29abd5fbf28b138",
   "metadata": {
    "collapsed": false
   },
   "outputs": [],
   "source": [
    "def aantalGist(t):\n",
    "    return aantalGistCellen(100, 2, 0.5,t)"
   ]
  },
  {
   "cell_type": "markdown",
   "id": "300b14d61872b37a",
   "metadata": {
    "collapsed": false
   },
   "source": [
    "## Oefening 5.6\n",
    "\n",
    "Vul het dataframe aan met het aantal gistcellen en log10 van het aantal gistcellen. Voor dit laatste kan je de functie math.log10 gebruiken."
   ]
  },
  {
   "cell_type": "code",
   "execution_count": null,
   "id": "d5eea39ff5e761d1",
   "metadata": {
    "collapsed": false
   },
   "outputs": [],
   "source": [
    "dfGistcellen = pd.DataFrame()\n",
    "dfGistcellen[\"Tijd (u)\"]=np.linspace(0,6,13)\n",
    "dfGistcellen[\"Aantal Gistcellen\"]=0 # bereken het aantal gistcellen via een map op dfGistcellen[\"Tijd (u)\"]\n",
    "dfGistcellen[\"Log 10\"]=0 # bereken dit van een map van math.log10\n",
    "\n",
    "show_grid(dfGistcellen)"
   ]
  },
  {
   "cell_type": "markdown",
   "id": "8fab0b56e07ad30b",
   "metadata": {
    "collapsed": false
   },
   "source": [
    "## Oefening 5.7\n",
    "\n",
    "Onderstaande codecel vormt dan het geraamte om een grafiek te tekenen voor eender welke populatie gistcellen.\n",
    "Naast de parameters voor het model van de gistcellen **N0**, **b** en **p**, heb je nog een parameter voor de totale tijd **tmax** waarover je de ontwikkeling van de populatie gistcellen wil tekenen.\n",
    "\n",
    "In de functie *plotGistcellen* hebben we al een lokale functie **aantalGist** met één parameter gedefinieerd zodat je gemakkelijk de map kan gebruiken om de y-as te berekenen. Die code moet je nog zelf aanvullen."
   ]
  },
  {
   "cell_type": "code",
   "execution_count": null,
   "id": "9ea48b16847c39c0",
   "metadata": {
    "collapsed": false
   },
   "outputs": [],
   "source": [
    "# opgave\n",
    "def plotGistcellen(N0,b,p,tmax): \n",
    "    def aantalGist(t):\n",
    "        return aantalGistCellen(N0, b, p, t)\n",
    "    \n",
    "    aantalptn = 100\n",
    "    xAs = np.linspace(0, tmax, aantalptn)\n",
    "    yAs = xAs #TODO: pas de functie aantalGist toe op elke waarde op de xAs\n",
    "    plt.figure()\n",
    "    plt.plot(xAs, yAs, label=\"aantal gistcellen\")\n",
    "    plt.xlabel(\"tijd [uur]\")\n",
    "    plt.ylabel(\"aantal gistcellen\")\n",
    "    plt.grid(True, which=\"both\")\n",
    "    plt.show()"
   ]
  },
  {
   "cell_type": "markdown",
   "id": "d46042209564827c",
   "metadata": {
    "collapsed": false
   },
   "source": [
    "Probeer nu de functie uit op ons basismodel gedurende 7 uur."
   ]
  },
  {
   "cell_type": "code",
   "execution_count": null,
   "id": "fa84145e247a7fa8",
   "metadata": {
    "collapsed": false
   },
   "outputs": [],
   "source": [
    "plotGistcellen(100, 2, 0.5, 7)"
   ]
  },
  {
   "cell_type": "markdown",
   "id": "52847a2a823a8221",
   "metadata": {
    "collapsed": false
   },
   "source": [
    "Stel vast dat de curve zeer snel stijgt waardoor alles minder leesbaar wordt.\n",
    "Voeg plt.xscale(\"log\") en/of plt.yscale(\"log\") toe om de grafiek te verbeteren.\n",
    "Probeer dit uit: voeg hiervoor de codecel hierboven opnieuw uit. "
   ]
  },
  {
   "cell_type": "markdown",
   "id": "d27e364e-c1e7-4eb6-ba3b-abec1164cf41",
   "metadata": {},
   "source": [
    "### Markers voor meer inzicht\n",
    "\n",
    "Opgelet: stel dat je de x-as logaritmisch had gezet, dan liggen de eerste punten op de x-as schijnbaar verder uit elkaar dan de punten met een grotere waarde. \n",
    "Je kan dit hieronder in detail bekijken door een marker toe te voegen in de plot (**plt.plot(xAs, yAs, marker='x')**)."
   ]
  },
  {
   "cell_type": "code",
   "execution_count": null,
   "id": "aaec36dd-3918-4dc0-adc1-bfca690ccc81",
   "metadata": {},
   "outputs": [],
   "source": [
    "def plotExponentieleXas(): \n",
    "    def aantalGist(t):\n",
    "        return aantalGistCellen(100, 2, 0.5, t)\n",
    "    \n",
    "    aantalptn = 100\n",
    "    tmax = 7\n",
    "    xAs = np.linspace(0, tmax, aantalptn)\n",
    "    yAs = list(map(aantalGist, xAs))\n",
    "    plt.figure()\n",
    "    plt.plot(xAs, yAs, marker=\"x\")\n",
    "    plt.xlabel(\"tijd [uur]\")\n",
    "    plt.ylabel(\"aantal gistcellen\")\n",
    "    plt.grid(True, which=\"both\")\n",
    "    plt.xscale(\"log\")\n",
    "    plt.show()\n",
    "    \n",
    "plotExponentieleXas()"
   ]
  },
  {
   "cell_type": "markdown",
   "id": "48160f33-b539-4d1d-a723-c24e8e1b1d78",
   "metadata": {},
   "source": [
    "## Oefening 5.8\n",
    "\n",
    "Ga de invloed na van de parameters in het model door de cel uit voeren en met de sliders te spelen. \n",
    "Je moet voor deze deelopgave dus geen code aanpassen.\n",
    "\n",
    "Op de rode lijn staat het aantal gistcellen berekend met de parameters zoals in de opgave. Op de andere lijn zie je het aantal gistcellen met de aangepaste parameters. "
   ]
  },
  {
   "cell_type": "code",
   "execution_count": 1,
   "id": "a00ecc06-c21b-4231-be22-59fcc12ba588",
   "metadata": {},
   "outputs": [
    {
     "data": {
      "application/vnd.jupyter.widget-view+json": {
       "model_id": "7c4951c60615466b8de472741323d0cd",
       "version_major": 2,
       "version_minor": 0
      },
      "text/plain": [
       "interactive(children=(IntSlider(value=100, description='N0', max=5000, step=100), FloatSlider(value=2.0, descr…"
      ]
     },
     "metadata": {},
     "output_type": "display_data"
    }
   ],
   "source": [
    "import ipywidgets\n",
    "\n",
    "def plotGistcellenDynamisch(N0, b, p, tmax):\n",
    "    plotGistcellen(N0, b, p, tmax)\n",
    "    # grafiek voor vaste waarde N0=100 b0=2\n",
    "\n",
    "    def aantalGist100_vast(t):\n",
    "        return aantalGistCellen(100, 2, 0.5, t)\n",
    "    \n",
    "    xAs = np.linspace(0, tmax, 100)\n",
    "    yAs = list(map(aantalGist100_vast, xAs))\n",
    "    plt.plot(xAs, yAs, color='red', label = \"referentie gistcellen\")\n",
    "    plt.title(\"Twee scenario's voor het aantal gistcellen\")\n",
    "    plt.ylim(1e0 , 1e12)\n",
    "    plt.legend()\n",
    "    plt.show()\n",
    "\n",
    "def vergelijkGistcellen():\n",
    "    sliderN = ipywidgets.IntSlider(value=100, min=0, max=5000, step = 100, description = \"N0\")\n",
    "    sliderb = ipywidgets.FloatSlider(value=2, min=0, max=10, step = 0.5, description = \"b\")\n",
    "    sliderp = ipywidgets.FloatSlider(value=0.5, min=0, max=10, step = 0.5, description = \"p\")\n",
    "    \n",
    "    grafiek = ipywidgets.interactive(plotGistcellenDynamisch, N0=sliderN, b=sliderb, p=sliderp, tmax=7)\n",
    "    display(grafiek)\n",
    " \n",
    "vergelijkGistcellen()\n"
   ]
  },
  {
   "cell_type": "code",
   "execution_count": null,
   "id": "009beb93-627e-430c-82d7-1045001c20bc",
   "metadata": {},
   "outputs": [],
   "source": []
  }
 ],
 "metadata": {
  "kernelspec": {
   "display_name": "Python 3 (ipykernel)",
   "language": "python",
   "name": "python3"
  },
  "language_info": {
   "codemirror_mode": {
    "name": "ipython",
    "version": 3
   },
   "file_extension": ".py",
   "mimetype": "text/x-python",
   "name": "python",
   "nbconvert_exporter": "python",
   "pygments_lexer": "ipython3",
   "version": "3.11.9"
  }
 },
 "nbformat": 4,
 "nbformat_minor": 5
}
