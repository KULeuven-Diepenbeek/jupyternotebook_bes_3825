{
 "cells": [
  {
   "cell_type": "markdown",
   "id": "95a12b73-b272-47c1-b772-9a5118f1ffc6",
   "metadata": {
    "id": "95a12b73-b272-47c1-b772-9a5118f1ffc6"
   },
   "source": [
    "# Opgave 3 - Sprong motocrosser\n",
    "\n",
    "In de syllabus hebben we oefening 3 - sprong motocrosser manueel opgelost (= op papier).\n",
    "\n",
    "In het vervolg van deze opgave gebruiken we Python om het model te visualiseren.\n",
    "\n",
    "## Stap 1: vul de berekende constanten in"
   ]
  },
  {
   "cell_type": "code",
   "execution_count": null,
   "outputs": [],
   "source": [
    "import numpy as np\n",
    "import math\n",
    "from matplotlib import pyplot as plt\n",
    "%matplotlib widget\n",
    "import ipywidgets\n",
    "\n",
    "# TODO 1: neem de berekende waarden van je papier over\n",
    "\n",
    "vm1 = -1  # m/s  snelheid motocrosser\n",
    "hs1 = -1 # m  hoogte schans\n",
    "thetas1 = -1 # hoek van de schans"
   ],
   "metadata": {
    "collapsed": false
   },
   "id": "f434218cdc120946"
  },
  {
   "cell_type": "markdown",
   "source": [
    "## Stap 2\n",
    "\n",
    "De functie **berekenHoogte** is de vertaling van je papieren model naar een Python-functie.\n",
    "De functie neemt volgende parameters:\n",
    "  - *x*: de afstand waarop je de hoogte wil kennen\n",
    "  - *x0*: beginpositie van de motorcrosser\n",
    "  - *y*: beginhoogte van de motorcrosser\n",
    "  - *vx0*: horizontale beginsnelheid\n",
    "  - *vy0*: verticale beginsnelheid \n",
    "\n",
    "\n",
    "Waarom is in deze functie de regel *y = max(0, y0 + vy0 * t- 0.5 * 9.81 * t**2)* toegevoegd?"
   ],
   "metadata": {
    "collapsed": false
   },
   "id": "2d3dd78a4b1fa78d"
  },
  {
   "cell_type": "code",
   "execution_count": null,
   "outputs": [],
   "source": [
    "def berekenHoogte(x, x0, y0, vx0, vy0):\n",
    "    t = (x - x0)/vx0\n",
    "    y = max(0, y0+vy0*t-0.5*9.81*t**2)\n",
    "    return y"
   ],
   "metadata": {
    "collapsed": false
   },
   "id": "ef6c3390bf46b373"
  },
  {
   "cell_type": "markdown",
   "source": [
    "Zo dadelijk willen we de hoogte van de motorcrosser plotten in functie van x, bijvoorbeeld van 0 tot 100m.\n",
    "De **xAs** van de plot is dan een lijst van afstanden.\n",
    "De **yAs** bekom je door voor elke afstand de hoogte te berekenen.\n",
    "Hiervoor hebben we een lokale functie nodig die alléén *x* als parameter heeft.\n",
    "\n",
    "De plotfunctie is al grotendeels afgewerkt, maar de lokale functie nog niet. Werk die uit.\n"
   ],
   "metadata": {
    "collapsed": false
   },
   "id": "c1f2eed9b3c5ede0"
  },
  {
   "cell_type": "code",
   "execution_count": null,
   "id": "73ee857e-05a3-4d24-b9ac-cc2cf5036166",
   "metadata": {
    "id": "73ee857e-05a3-4d24-b9ac-cc2cf5036166",
    "outputId": "78f86737-05cb-43d0-be5e-220d9601368e"
   },
   "outputs": [],
   "source": [
    "def plotProjectielBeweging(x0, y0, vx0, vy0, xMax):\n",
    "    def berekenH(x):\n",
    "        # TODO 2: gebruik functie berekenHoogte met de juiste parameters\n",
    "        return -1\n",
    "\n",
    "    xAs=np.linspace(0,xMax,250)\n",
    "    yAs=list(map(berekenH, xAs))\n",
    "\n",
    "    plt.figure()\n",
    "    plt.plot(xAs, yAs)\n",
    "    plt.xlabel(\"Afstand (m)\")\n",
    "    plt.ylabel(\"Hoogte (m)\")\n",
    "    plt.grid(True, which=\"both\")\n",
    "    plt.show()"
   ]
  },
  {
   "cell_type": "markdown",
   "source": [
    "## Stap 3: Teken het concrete model voor de motorcrosser"
   ],
   "metadata": {
    "collapsed": false
   },
   "id": "720c6485af871af0"
  },
  {
   "cell_type": "code",
   "execution_count": null,
   "outputs": [],
   "source": [
    "def plotMotorCrosser():\n",
    "    # TODO 3a: neem de juiste waarden van de eerste codecel over \n",
    "    x0mc = -1\n",
    "    y0mc = -1\n",
    "    v0mc = -1\n",
    "    # TODO 3b: bereken de juiste waarden van de motorcrosser door de snelheid te ontbinden volgens x en y\n",
    "    vx0mc = -1 \n",
    "    vy0mc = -1\n",
    "    tMax = 5\n",
    "    xMax = x0mc+v0mc*tMax\n",
    "    plotProjectielBeweging(x0mc, y0mc, vx0mc, vy0mc, xMax)\n",
    "\n",
    "plotMotorCrosser()"
   ],
   "metadata": {
    "collapsed": false
   },
   "id": "92bf63a289140daf"
  },
  {
   "cell_type": "markdown",
   "id": "f27464b5-8058-442b-8623-cb3ae41101c2",
   "metadata": {
    "id": "f27464b5-8058-442b-8623-cb3ae41101c2"
   },
   "source": [
    "Is dit het resultaat wat je verwachtte ?\n"
   ]
  },
  {
   "cell_type": "markdown",
   "id": "d6c31b9c-0fba-4506-8d6f-aaf113e498d9",
   "metadata": {
    "id": "d6c31b9c-0fba-4506-8d6f-aaf113e498d9"
   },
   "source": [
    "## Stap 4\n",
    "\n",
    "In stappen 1 t.e.m. 3 hebben we volgende parameters constant gehouden:\n",
    "- snelheid van de motorrijder\n",
    "- hoogte van de schans\n",
    "- hoek van de schans\n",
    "\n",
    "Dankzij de sliders van ipywidgets kunnen we gemakkelijk Python-code schrijven om daar mee te experimenteren.\n",
    "De code hebben wij al voor jullie geschreven, maar probeer wel de code te begrijpen. \n",
    "\n",
    "Het spelen met de sliders en nadenken over het effect moeten jullie doen. Doe dat door onderstaande codecel uit te voeren."
   ]
  },
  {
   "cell_type": "code",
   "execution_count": null,
   "id": "52ebd133-eae1-40b4-88cd-7210f1b86d8f",
   "metadata": {
    "id": "52ebd133-eae1-40b4-88cd-7210f1b86d8f",
    "outputId": "102fcd22-097f-439a-ebea-6ee5fd8b4f9a"
   },
   "outputs": [],
   "source": [
    "def plotProjectielBeweging2(hs , vm ,thetas_graden):\n",
    "    thetas1=thetas_graden*np.pi/180\n",
    "    y0 = hs\n",
    "    vx0 = vm*math.cos(thetas1)\n",
    "    vy0 = vm * math.sin(thetas1)\n",
    "    x0 = 0\n",
    "    # tMax wordt berekend als de tijd waarop de motorijder de grond raakt\n",
    "    tMax=(-vy0 - np.sqrt(vy0**2- 4*(-9.81/2)*y0))/(2*(-9.81/2))\n",
    "    xMax = x0+vx0*tMax\n",
    "    plotProjectielBeweging(x0, y0, vx0, vy0, xMax)\n",
    "\n",
    "def voorbeeldProjectiel():\n",
    "    sliderhs1 = ipywidgets.IntSlider(value=4, min=0, max=20, step = 0.5, description = \"h schans (m)\")\n",
    "    slidervm1 = ipywidgets.IntSlider(value=20, min=0, max=50, step = 0.5, description = \"v moto (m/s)\")\n",
    "    sliderthetas1 = ipywidgets.IntSlider(value=60, min=0, max=180, step = 5, description = \"hoek schans (rad)\")\n",
    "\n",
    "    grafiek = ipywidgets.interactive(plotProjectielBeweging2, hs=sliderhs1, vm=slidervm1, thetas_graden = sliderthetas1)\n",
    "    display(grafiek)\n",
    "\n",
    "voorbeeldProjectiel()"
   ]
  },
  {
   "cell_type": "markdown",
   "id": "5ae8597b-0e16-4724-bd55-b8dc89b0fc95",
   "metadata": {
    "id": "5ae8597b-0e16-4724-bd55-b8dc89b0fc95"
   },
   "source": [
    "## Stap 5\n",
    "\n",
    "In de vorige stap zien we de eindafstand afhankelijk is van de snelheid.\n",
    "In deze stap zetten we de hoogte en de hoek van de schans terug vast en plotten we de eindafstand in functie van de snelheid.\n",
    "\n",
    "De functie die de afstand berekent afhankelijk van de snelheid hebben we al geschreven.\n",
    "Je moet die zelf nog gebruiken om de waarden op de y-as te bepalen."
   ]
  },
  {
   "cell_type": "code",
   "execution_count": null,
   "id": "e11ae745-8768-4bb2-b056-c686fef23920",
   "metadata": {
    "id": "e11ae745-8768-4bb2-b056-c686fef23920",
    "outputId": "955b694f-d9f2-444a-8cac-27864f950ca8"
   },
   "outputs": [],
   "source": [
    "hs1=4 # m  hoogte schans\n",
    "thetas1 = np.pi / 3 # hoek van de schans\n",
    "\n",
    "def afstandVersusSnelheid(v):\n",
    "    theta1 = np.pi / 3\n",
    "    R=(v*math.cos(theta1)/9.81)*(v*math.sin(theta1)+np.sqrt((v*math.sin(theta1))**2+2*9.81*hs1))\n",
    "    return R\n",
    "\n",
    "def plotBereikVersusSnelheid():\n",
    "    snelheden = np.linspace(0,vm1,100)\n",
    "    # TODO 5: bereken de y-as door de functie afstandVersusSnelheid op alle snelheden\n",
    "    yAs = []\n",
    "    \n",
    "    plt.figure()\n",
    "    plt.plot(snelheden, yAs)\n",
    "    plt.xlabel('snelheid (m/s)')\n",
    "    plt.ylabel('bereik R (m)')\n",
    "    plt.title(\"Bereik R in functie van snelheid vm\")\n",
    "    plt.grid()\n",
    "    plt.show()\n",
    "\n",
    "plotBereikVersusSnelheid()"
   ]
  },
  {
   "cell_type": "code",
   "execution_count": null,
   "id": "3fc625c4-17ff-4da7-8941-493980698979",
   "metadata": {
    "id": "3fc625c4-17ff-4da7-8941-493980698979"
   },
   "outputs": [],
   "source": []
  },
  {
   "cell_type": "code",
   "execution_count": null,
   "id": "1567e38b-28da-4673-a33a-6c9709d00efa",
   "metadata": {
    "id": "1567e38b-28da-4673-a33a-6c9709d00efa"
   },
   "outputs": [],
   "source": []
  }
 ],
 "metadata": {
  "kernelspec": {
   "display_name": "Python 3 (ipykernel)",
   "language": "python",
   "name": "python3"
  },
  "language_info": {
   "codemirror_mode": {
    "name": "ipython",
    "version": 3
   },
   "file_extension": ".py",
   "mimetype": "text/x-python",
   "name": "python",
   "nbconvert_exporter": "python",
   "pygments_lexer": "ipython3",
   "version": "3.11.9"
  },
  "colab": {
   "provenance": []
  }
 },
 "nbformat": 4,
 "nbformat_minor": 5
}
