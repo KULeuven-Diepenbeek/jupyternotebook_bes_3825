{
 "cells": [
  {
   "cell_type": "markdown",
   "id": "6997d8f8-bee7-4629-9c64-63a8df803c77",
   "metadata": {},
   "source": [
    "### Muntstukken tellen\n",
    "\n",
    "Onderstaande figuur toont het aantal muntstukken dat je gelijktijdig moet wegen in functie van de absolute onzekerheid op het totaal aantal muntstukken dat je wilt bekomen."
   ]
  },
  {
   "cell_type": "code",
   "execution_count": null,
   "id": "84793aa4-e879-49dd-898c-e8c24376741f",
   "metadata": {},
   "outputs": [],
   "source": [
    "import matplotlib.pyplot as plt\n",
    "import numpy as np\n",
    "#from plotFuncties import *\n",
    "import ipywidgets\n",
    "\n",
    "m1b = 9     # (g) meting van de massa van 1 muntstuk\n",
    "dm1b = 1    # (g) absolute onzekerheid op de massa van 1 muntstuk\n",
    "mzakje = 5  # (g) meting van de massa van het plastic zakje\n",
    "dmzakje = 1 # (g) absolute onzekerheid op de massa van het plastic zakje\n",
    "mtot = 1557 # (g) meting van de massa van alle muntstukken\n",
    "dmtot = 1   # (g) absolute onzekerheid op de massa van alle muntstukken\n",
    "dma = 1     # (g) absolute onzekerheid op de massa van aantal a muntstukken\n",
    "\n",
    "\n",
    "def berekenAantalTeWegen(dntot):\n",
    "    return dma*((mtot-mzakje)/(m1b**2))/(dntot-(1/m1b)*dmtot-(1/m1b)*dmzakje)\n",
    "\n",
    "def plotAantalMuntstukkenWegen(dntotMin, dntotMax):\n",
    "    dntot=np.linspace(dntotMin,dntotMax,250)\n",
    "    xAs = list(dntot)\n",
    "    yAs = list(map(berekenAantalTeWegen, xAs))\n",
    "    plt.plot(xAs, yAs, 'b')\n",
    "    plt.grid(True)\n",
    "    plt.xlabel(\"Absolute onzekerheid op aantal muntstukken (-)\")\n",
    "    plt.ylabel(\"Aantal te wegen muntstukken (-)\")\n",
    "    #plt.xscale(\"log\")\n",
    "    #plt.yscale(\"log\")\n",
    "    plt.show()\n",
    "\n",
    "sliderdntotMin = ipywidgets.FloatSlider(value=0.4, min=0.01, max=0.8, step = 0.05, description = \"dntotMin\")\n",
    "sliderdntotMax = ipywidgets.FloatSlider(value=0.2, min=1, max=10, step = 0.15, description = \"dntotMax\")\n",
    "grafiek = ipywidgets.interactive(plotAantalMuntstukkenWegen, dntotMin=sliderdntotMin, dntotMax=sliderdntotMax)\n",
    "display(grafiek)"
   ]
  },
  {
   "cell_type": "markdown",
   "id": "2907d4b9-2c5f-46c8-887d-7821fec072fe",
   "metadata": {},
   "source": [
    "Bereken de massa muntstukken die je moet wegen om een absolute onzekerheid van 0.4 te bekomen op het berekende aantal muntstukken\n",
    "in functie van de totale massa muntstukken dat je moet tellen. "
   ]
  },
  {
   "cell_type": "code",
   "execution_count": null,
   "id": "323f758c-7551-4857-ba10-c8682db22c16",
   "metadata": {},
   "outputs": [],
   "source": [
    "def berekenAantalTeWegen2(ntot):\n",
    "    mtot = ntot*m1b+mzakje\n",
    "    dntot = 0.4\n",
    "    return dma*((mtot-mzakje)/(m1b**2))/(dntot-(1/m1b)*dmtot-(1/m1b)*dmzakje)\n",
    "\n",
    "def berekenMassaTeWegen2(mtot):\n",
    "    dntot = 0.4\n",
    "    return dma*((mtot-mzakje)/(m1b**2))/(dntot-(1/m1b)*dmtot-(1/m1b)*dmzakje)*m1b\n",
    "\n",
    "def plotAantalMuntstukkenWegen(mtotMin, mtotMax):\n",
    "    mtot=np.linspace(mtotMin,mtotMax,250)\n",
    "    xAs = list(mtot)\n",
    "    yAs = list(map(berekenMassaTeWegen2, xAs))\n",
    "    plt.plot(xAs, yAs, 'b')\n",
    "    plt.grid(True)\n",
    "    plt.xlabel(\"Massa totaal muntstukken (g)\")\n",
    "    plt.ylabel(\"Massa te wegen muntstukken (g)\")\n",
    "    plt.title(\"Massa muntstukken te wegen voor dntot = 0.4 (-)\")\n",
    "    #plt.xscale(\"log\")\n",
    "    #plt.yscale(\"log\")\n",
    "    plt.show()\n",
    "\n",
    "\n",
    "\n",
    "\n",
    "\n",
    "\n",
    "sliderdmtotMin = ipywidgets.FloatSlider(value=m1b, min=m1b, max=100, step = 5, description = \"mtotMin\")\n",
    "sliderdmtotMax = ipywidgets.FloatSlider(value=2000, min=10, max=5000, step = 10, description = \"mtotMax\")\n",
    "grafiek = ipywidgets.interactive(plotAantalMuntstukkenWegen, mtotMin=sliderdmtotMin, mtotMax=sliderdmtotMax)\n",
    "display(grafiek)"
   ]
  },
  {
   "cell_type": "markdown",
   "id": "65a82fba-effe-4920-8b68-53aeaa08b862",
   "metadata": {},
   "source": [
    "Bereken de massa muntstukken die je moet wegen om een absolute onzekerheid van 0.4 te bekomen op het berekende aantal muntstukken\n",
    "in functie van de totale massa muntstukken dat je moet tellen wanneer de onzekerheid op het zakje niet wordt meegenomen."
   ]
  },
  {
   "cell_type": "code",
   "execution_count": null,
   "id": "afcd8612-a5ec-46b5-b997-2d9cebbb4029",
   "metadata": {},
   "outputs": [],
   "source": [
    "def berekenAantalTeWegen3(ntot):\n",
    "    mtot = ntot*m1b\n",
    "    dntot = 0.4\n",
    "    return dma*((mtot)/(m1b**2))/(dntot-(1/m1b)*dmtot)\n",
    "\n",
    "def berekenMassaTeWegen3(mtot):\n",
    "    dntot = 0.4\n",
    "    return dma*((mtot)/(m1b**2))/(dntot-(1/m1b)*dmtot)*m1b\n",
    "\n",
    "def plotAantalMuntstukkenWegen3(mtotMin, mtotMax):\n",
    "    mtot=np.linspace(mtotMin,mtotMax,250)\n",
    "    xAs = list(mtot)\n",
    "    yAs = list(map(berekenMassaTeWegen3, xAs))\n",
    "    plt.plot(xAs, yAs, 'b')\n",
    "    plt.grid(True)\n",
    "    plt.xlabel(\"Massa totaal muntstukken (g)\")\n",
    "    plt.ylabel(\"Massa te wegen muntstukken (g)\")\n",
    "    plt.title(\"Massa muntstukken te wegen voor dntot = 0.4 zonder onzekerheid op het zakje (-)\")\n",
    "    #plt.xscale(\"log\")\n",
    "    #plt.yscale(\"log\")\n",
    "    plt.show()\n",
    "\n",
    "\n",
    "\n",
    "\n",
    "\n",
    "\n",
    "sliderdmtotMin = ipywidgets.FloatSlider(value=m1b, min=m1b, max=100, step = 5, description = \"mtotMin\")\n",
    "sliderdmtotMax = ipywidgets.FloatSlider(value=2000, min=10, max=5000, step = 10, description = \"mtotMax\")\n",
    "grafiek = ipywidgets.interactive(plotAantalMuntstukkenWegen3, mtotMin=sliderdmtotMin, mtotMax=sliderdmtotMax)\n",
    "display(grafiek)"
   ]
  },
  {
   "cell_type": "code",
   "execution_count": null,
   "id": "3f358961-dbe6-4b6c-815a-d97dce1b500b",
   "metadata": {},
   "outputs": [],
   "source": []
  }
 ],
 "metadata": {
  "kernelspec": {
   "display_name": "Python 3 (ipykernel)",
   "language": "python",
   "name": "python3"
  },
  "language_info": {
   "codemirror_mode": {
    "name": "ipython",
    "version": 3
   },
   "file_extension": ".py",
   "mimetype": "text/x-python",
   "name": "python",
   "nbconvert_exporter": "python",
   "pygments_lexer": "ipython3",
   "version": "3.11.9"
  }
 },
 "nbformat": 4,
 "nbformat_minor": 5
}
