{
 "cells": [
  {
   "cell_type": "markdown",
   "id": "246c9ded-d3dd-4f27-8c6f-452d651ff9d7",
   "metadata": {},
   "source": [
    "# Test kwartiel 2: een parachutesprong analyseren"
   ]
  },
  {
   "cell_type": "markdown",
   "id": "c64e462c-b848-4a14-9b72-5af0e0800966",
   "metadata": {},
   "source": [
    "# Context\n",
    "\n",
    "Parachutisten gebruiken een hoogtemeter  tijdens een sprong. Deze hoogtemeter wordt aan de pols gedragen tijdens de sprong en berekent de hoogte van de parachutist op basis van een drukmeting. Op deze manier weet de parachutist wanneer hij zijn parachute op een veilige hoogte moet openen.\n",
    "\n",
    "![title](Images/Hoogtemeter_analoog.jpg)\n",
    "![title](Images/Hoogtemeter_digitaal.jpg)\n",
    "![title](Images/Parachute_VLS.jpg)\n",
    "\n",
    "Er bestaan analoge (linkse figuur) en digitale (middenste figuur) hoogtemeters. Het voordeel van een analoge hoogtemeter is dat die zonder een batterij werkt en dus niet zomaar uit kan vallen. Een digitale meter slaat alle data op zodat je de sprong achteraf kan analyseren. Dit past perfect binnen de opzet van MOEF en gaan we in deze examenopgave doen. \n",
    "\n",
    "Om een goede vergelijking van meetdata en de modellen uit de fysica te kunnen doen, geven we jullie eerst de wetten die van toepassing zijn op een parachutesprong. Er zijn twee krachten die op de parachutist werken: de zwaartekracht en de luchtweerstand. Dit weten jullie normaal gezien al vanuit de lessen fysica/mechanica en onderstaande formules zouden ook bekend voor moeten komen:\n",
    "\n",
    "&nbsp; &nbsp; &nbsp; &nbsp; $F_g = m \\cdot g$ &nbsp;  &nbsp; en &nbsp; &nbsp; $ F_d = \\frac{1}{2} \\rho v^2 C_D A $\n",
    "\n",
    "Met: <br>\n",
    "&nbsp; $F_g =$ de zwaartekracht <br>\n",
    "&nbsp; $ m =$ de massa van het vallend voorwerp <br>\n",
    "&nbsp; $ g =$ de valversnelling <br>\n",
    "&nbsp; $ F_d =$ de luchtweerstand (d van drag) <br>\n",
    "&nbsp; $ \\rho =$ de massadichtheid van lucht <br>\n",
    "&nbsp; $ C_D =$ de dimensieloze weerstandcoëfficiënt. Voor een parachutist is dit bij benadering 1,1 <br>\n",
    "&nbsp; $ A =$ de geprojecteerde oppervlakte, loodrecht op de bewegingsrichting. Voor een parachutist die horizontaal een vrije val uitvoert is dit bij benadering 0,45 m² <br>\n",
    "\n",
    "In dit deel van de test gaan jullie de **meetdata van een digitale hoogtemeter analyseren**. \n",
    "Je **moet** hierbij een aantal keren een functie uit de bibliotheek **slimmeFuncties.py** gebruiken. \n",
    "\n",
    "We doen dit deel van de test bewust op Jupyterhub zodat je alle bestanden van je jupyterhub-omgeving kan gebruiken (en dus ook je oplossing van de werkzittingen). Alle andere individuele hulpmiddelen, zoals Python-tutorials opzoeken en zelfs genAI zijn ook toegestaan, maar we zijn ervan overtuigd dat het onoordeelkundig gebruik van die hulpmiddelen jullie vooral veel kostbare tijd zal kosten. We hebben ook zelf getest in copilot en de resultaten waren traag en zeer variabel van kwaliteit. Communicatie met elkaar is sowieso verboden, en we loggen hiervoor ook alle netwerkverkeer.\n",
    "\n",
    "**Het is belangrijk dat je dit deel van de test op de juiste manier indient. De instructies hiervoor staan op het einde van deze test (helemaal onderaan dus) en op de afgedrukte versie die je op papier hebt gekregen.**\n",
    "  \n",
    "We beginnen uiteraard met het importeren van enkele bibliotheken en het inlezen van de meetdata:"
   ]
  },
  {
   "cell_type": "code",
   "execution_count": null,
   "id": "7938511c-df0a-45af-9e8f-637a77998b73",
   "metadata": {
    "ExecuteTime": {
     "end_time": "2024-12-26T15:43:59.300705100Z",
     "start_time": "2024-12-26T15:43:54.775840400Z"
    }
   },
   "outputs": [],
   "source": [
    "import math\n",
    "import numpy as np\n",
    "import pandas as pd\n",
    "from matplotlib import pyplot as plt\n",
    "%matplotlib widget\n",
    "from slimmeFuncties import * \n",
    "from qgridnext import show_grid"
   ]
  },
  {
   "cell_type": "code",
   "execution_count": null,
   "id": "0f6a5765-432a-4679-86a4-a54bed6f7bb5",
   "metadata": {
    "ExecuteTime": {
     "end_time": "2024-12-26T15:44:17.124914300Z",
     "start_time": "2024-12-26T15:44:17.072003500Z"
    }
   },
   "outputs": [],
   "source": [
    "dfParachuteOrigineel = pd.read_csv(\"Parachute_SprongOrigineel.csv\", sep=\";\",encoding=\"latin-1\")\n",
    "\n",
    "show_grid(dfParachuteOrigineel)"
   ]
  },
  {
   "cell_type": "markdown",
   "id": "4ef32088-ab71-436f-9457-3bd80280f7f5",
   "metadata": {},
   "source": [
    "\n",
    "### Opdracht 1\n",
    "> ##### 2 punten\n",
    "\n",
    "Vervolledig onderstaande functie zodat de **hoogte van de parachutist in functie van de tijd** wordt geplot."
   ]
  },
  {
   "cell_type": "code",
   "execution_count": null,
   "id": "90707df2-6e7d-4aff-89f4-9e3161b062fb",
   "metadata": {
    "ExecuteTime": {
     "end_time": "2024-12-26T15:44:20.318603Z",
     "start_time": "2024-12-26T15:44:20.218098200Z"
    }
   },
   "outputs": [],
   "source": [
    "def plotSprong(df, yData = \"Hoogte (m)\"):\n",
    "    # TODO 1: vul aan\n",
    "    xAs = 1  #TODO\n",
    "    yAs = 2  #TODO\n",
    "    plt.figure()\n",
    "    plt.plot(xAs,yAs, color=\"black\",marker='.',linestyle='', label=yData)\n",
    "    plt.legend()\n",
    "    plt.xlabel(\"Tijd (s)\")\n",
    "    plt.ylabel(yData)\n",
    "    plt.grid()\n",
    "    plt.show()\n",
    "    \n",
    "plotSprong(dfParachuteOrigineel) "
   ]
  },
  {
   "cell_type": "markdown",
   "id": "d414b32d-85fe-4931-9269-f610b487dd50",
   "metadata": {},
   "source": [
    "### Opdracht 2 \n",
    "> ##### 2 punten\n",
    "\n",
    "Bovenstaande data bevat behoorlijk wat ruis. Gebruik een **slimme functie** uit de bibliotheek slimmeFuncties.py om deze **ruis visueel te verminderen**. Leg ook uit waarom je, voor de parameters van die slimme functie, jouw gekozen waarden gebruikt. \n",
    "\n",
    "Gebruik vervolgens de functie **plotSprong** uit opdracht 1 om het resultaat te controleren."
   ]
  },
  {
   "cell_type": "code",
   "execution_count": null,
   "id": "cb58501e-68e8-4e5d-b6dc-56e136ddb1d2",
   "metadata": {},
   "outputs": [],
   "source": [
    "# Schrijf hieronder je code en leg uit waarom je die waarden voor de parameters gekozen hebt.\n",
    "\n",
    "\n"
   ]
  },
  {
   "cell_type": "markdown",
   "id": "31bb30b7-0e2e-475f-85b1-a0cf119a7f4a",
   "metadata": {},
   "source": [
    "### Intermezzo\n",
    "Ruis visueel wegfilteren is behoorlijk goed te doen maar als we _mooie_ berekeningen willen maken, moet de data nog beter opgeschoond worden. Dit is gedaan in een apart csv-bestand dat we hieronder inlezen en waarmee we vanaf nu verder zullen rekenen."
   ]
  },
  {
   "cell_type": "code",
   "execution_count": null,
   "id": "4b459b5d-80a7-4929-828a-49dbcbbecd1f",
   "metadata": {
    "ExecuteTime": {
     "end_time": "2024-12-26T15:44:27.545574200Z",
     "start_time": "2024-12-26T15:44:27.384853600Z"
    }
   },
   "outputs": [],
   "source": [
    "dfParachute = pd.read_csv(\"Parachute_SprongZonderRuis.csv\", sep=\";\",encoding=\"latin-1\")\n",
    "\n",
    "plotSprong(dfParachute)"
   ]
  },
  {
   "cell_type": "markdown",
   "id": "6c0e23bb-9f3c-421a-abd1-65fa83ad18a4",
   "metadata": {},
   "source": [
    "Als je de data zonder ruis in detail wil bekijken, kan je de volgende codecel uitvoeren."
   ]
  },
  {
   "cell_type": "code",
   "execution_count": null,
   "id": "63405223-1f74-4999-808c-dbcf92434780",
   "metadata": {
    "ExecuteTime": {
     "end_time": "2024-12-26T15:45:15.538293700Z",
     "start_time": "2024-12-26T15:45:15.504788700Z"
    }
   },
   "outputs": [],
   "source": [
    "show_grid(dfParachute)"
   ]
  },
  {
   "cell_type": "markdown",
   "id": "bd71b40a-71b5-4d08-bbbc-2868c011a880",
   "metadata": {},
   "source": [
    "### Opdracht 3 \n",
    "\n",
    "> ##### 1 punt\n",
    "\n",
    "De functie berekenSnelheid (gedefinieerd in onderstaand codeblok) voegt een kolom toe aan een dataframe. We hebben hieronder deze functie toegepast op de meetdata van de parachutesprong en zo het dataframe dfParachute uitgebreid. De namen van de variabelen getal1 en getal2 hebben géén betekenis, maar toch zijn ze belangrijk in de berekening. **Leg uit** waar de variabelen voor staan en welke formule toegepast wordt.\n",
    "\n",
    "> ##### 1 punt\n",
    "\n",
    "In de nieuwe kolom wordt eerst de eerste rij op 0 gezet. Daarna is er een for-lus. **Leg uit** waarom de grenzen van de lijst in de for-lus op deze manier gekozen zijn.\n"
   ]
  },
  {
   "cell_type": "code",
   "execution_count": null,
   "id": "c92dfe88-8cf2-4467-a5ea-781ef8a9467f",
   "metadata": {},
   "outputs": [],
   "source": [
    "def berekenSnelheid(dataFrame):\n",
    "    dataFrame.loc[0,\"Snelheid (m/s)\"]=0\n",
    "    for i in range(1,len(dataFrame)):\n",
    "        getal1 = dataFrame.loc[i,\"Hoogte (m)\"] - dataFrame.loc[i-1,\"Hoogte (m)\"]\n",
    "        getal2 = dataFrame.loc[i,\"Tijd (s)\"] - dataFrame.loc[i-1,\"Tijd (s)\"]\n",
    "        dataFrame.loc[i,\"Snelheid (m/s)\"]= getal1 / getal2\n",
    "    return dataFrame\n",
    "\n",
    "berekenSnelheid(dfParachute)\n",
    "\n"
   ]
  },
  {
   "cell_type": "markdown",
   "id": "aab35b98-db1f-4191-9393-d8ec1cdfdef8",
   "metadata": {},
   "source": [
    "#### Oplossing opdracht 3\n",
    "\n",
    "[schrijf hier je oplossing = dubbelklik en typ je oplossing]\n"
   ]
  },
  {
   "cell_type": "markdown",
   "id": "1aa5d053-d1e9-474a-ad11-5cb0272ee871",
   "metadata": {},
   "source": [
    "### Opdracht 4\n",
    "> ##### 3 punten\n",
    "\n",
    "Pas de code van opdracht 1 aan om één grafiek te maken met **2 verticale assen**. Op de **linkeras** plot je de hoogte in functie van de tijd zoals bij opdracht 1, op de **rechteras** plot je de **grootte** van de snelheid in functie van de tijd. "
   ]
  },
  {
   "cell_type": "code",
   "execution_count": null,
   "id": "2aabf80a-1a7c-48d6-ac75-f3bca3de6418",
   "metadata": {
    "ExecuteTime": {
     "end_time": "2024-12-26T15:54:52.716854600Z",
     "start_time": "2024-12-26T15:54:52.684600Z"
    }
   },
   "outputs": [],
   "source": [
    "def plotHoogteEnSnelheid(df):\n",
    "    # je kan hier eventueel de code van opdracht 1 inplakken en die aanpassen \n",
    "    # of je kan vertrekken van een oefening uit de werkzittingen van MOEF en/of PIT\n",
    "    plt.show()\n",
    "\n",
    "\n",
    "plotHoogteEnSnelheid(dfParachute) "
   ]
  },
  {
   "cell_type": "markdown",
   "id": "167a772e-62e5-4019-8137-71ad2d183a03",
   "metadata": {},
   "source": [
    "### Opdracht 5\n",
    "> ##### 3 punten\n",
    "\n",
    "Beschrijf de plot die je zonet hebt gemaakt.\n",
    "* Welke fasen van de sprong zie je in de plot?\n",
    "* Zie je een link met de formules uit de fysica/mechanica?\n",
    "\n",
    "_Opmerking:  Is het bij opdracht 4 niet gelukt om de plot te maken? Bedenk dan een andere manier om toch zicht te krijgen op de hoogte en de snelheid tijdens de sprong._"
   ]
  },
  {
   "cell_type": "markdown",
   "id": "b3c54194-576b-42d4-a279-b4c8e3bcc9ef",
   "metadata": {},
   "source": [
    "#### Oplossing opdracht 5"
   ]
  },
  {
   "cell_type": "markdown",
   "id": "205f1b1a-5503-4074-bf1b-ce730678b66a",
   "metadata": {
    "collapsed": false,
    "jupyter": {
     "outputs_hidden": false
    }
   },
   "source": [
    "[schrijf hier je oplossing = dubbelklik en typ je oplossing]"
   ]
  },
  {
   "cell_type": "markdown",
   "id": "b0d17cbb-bcab-45d5-9b99-37ce2e74e743",
   "metadata": {},
   "source": [
    "### Opdracht 6\n",
    "> ##### 2 punten\n",
    "\n",
    "De snelheid evolueert 2 keert naar ongeveer een stationaire (=constante) snelheid. Waaraan is de versnelling op dat moment gelijk? Wat wil dit zeggen over de krachten die in het spel zijn? Is dit logisch op basis van het fysicamodel? Verwijs naar de 2e wet van Newton!"
   ]
  },
  {
   "cell_type": "markdown",
   "id": "9f438973-7974-40f5-a97f-9cec0388a04f",
   "metadata": {},
   "source": [
    "#### Oplossing opdracht 6\n",
    "\n",
    "[schrijf hier je oplossing = dubbelklik en typ je oplossing]\n",
    "\n",
    "\n"
   ]
  },
  {
   "cell_type": "markdown",
   "id": "ae7cce0a-40b9-44d2-bc35-d1c47974b135",
   "metadata": {},
   "source": [
    "### Opdracht 7\n",
    "> ##### 3 punten\n",
    "\n",
    "Gebruik een functie uit de bibliotheek slimmeFuncties.py om het **snelheidsplateau** tijdens de vrije val van de parachutist uit de meetdata te **selecteren**. Schrijf de code zo algemeen mogelijk zodat deze ook toepasbaar is op toekomstige parachutesprongen.\n",
    "\n",
    "Bepaal vervolgens de waarde van die stationaire snelheid **tot op het juiste aantal beduidende cijfers**. Wij hebben al de code geschreven om de stationaire snelheid netjes op het scherm te laten zien."
   ]
  },
  {
   "cell_type": "code",
   "execution_count": null,
   "id": "fd72df7a-fd1f-4998-b2dc-318be3ea0e20",
   "metadata": {},
   "outputs": [],
   "source": [
    "# Eventuele tussenstappen moet je zelfstandig uitvoeren. Sla de meetdata van het snelheidsplateau\n",
    "# op in een dataframe met de naam dfSnelheidsplateau\n",
    "\n",
    "\n",
    "dfSnelheidsplateau = 3  #TODO\n",
    "snelheidPlateau = 1000  #TODO\n",
    "# Hieronder het gegeven print-commando\n",
    "print('De stationaire snelheid op het einde van de vrijevalbeweging = ', snelheidPlateau, ' m/s.')"
   ]
  },
  {
   "cell_type": "markdown",
   "id": "af32106a-397b-4509-9ed7-d19fa54b1344",
   "metadata": {},
   "source": [
    "### Opdracht 8\n",
    "> ##### 1 punt\n",
    "\n",
    "Bepaal het tijdstip waarop de parachute geopend wordt. Schrijf deze code opnieuw zo algemeen mogelijk."
   ]
  },
  {
   "cell_type": "code",
   "execution_count": null,
   "id": "88881cab-9ce0-49a4-b0ce-bada11787d40",
   "metadata": {},
   "outputs": [],
   "source": [
    "# Schrijf hier je code\n"
   ]
  },
  {
   "cell_type": "markdown",
   "id": "e0dfbffa-3886-42eb-8cc6-bb96343d4cc0",
   "metadata": {},
   "source": [
    "### Opdracht 9 \n",
    "> 2 punten\n",
    "\n",
    "Bereken de oppervlakte van de parachute. Deze sprong werd uitgevoerd door een man van 75,4 kg. \n",
    "**Print daarna** deze oppervlakte met een **netjes afgewerkte zin** op het scherm.\n"
   ]
  },
  {
   "cell_type": "code",
   "execution_count": null,
   "id": "d1bbf368-6aef-4b77-a421-76f88f0f880c",
   "metadata": {},
   "outputs": [],
   "source": [
    "# Schrijf hieronder je code (dit zou je langste stukje zelfgemaakte code moeten zijn maar het kan \n",
    "# nog altijd in minder dan 10 regels code opgelost worden)\n"
   ]
  },
  {
   "cell_type": "markdown",
   "id": "8fec0636-9a62-41ab-9e18-594611ba177f",
   "metadata": {},
   "source": [
    "## BONUSopdracht om excellentie aan te moedigen.\n",
    "> ##### Als je MINSTENS 14/20 op het voorgaande deel hebt, kan je met deze vraag nog twéé (2) BONUSpunten verdienen. Je kan hierdoor op dit deel tot 22/20 halen wat dan opgeteld wordt bij het deel van de test dat je zonet op papier hebt gemaakt. In het totaal kan je wel niet boven de 20/20 komen voor het geheel van de test, waarbij we de punten van de 2 delen optellen dus.\n",
    "\n",
    "Bedenk nog een wetenschappelijk relevante waarde die je uit deze meetdata kan afleiden. \n",
    "\n",
    "Schrijf ook de code om dit te berekenen en/of te tekenen. \n",
    "Als randvoorwaarde ben je verplicht om **minstens 1 slimmeFunctie** te gebruiken."
   ]
  },
  {
   "cell_type": "code",
   "execution_count": null,
   "id": "e952c698-1c60-491b-abc2-5efe8ce2e723",
   "metadata": {},
   "outputs": [],
   "source": [
    "# TODO Je bent hier dus volledig vrij!"
   ]
  },
  {
   "cell_type": "markdown",
   "id": "00993144-6090-4cb5-a14f-7f407f33ca97",
   "metadata": {},
   "source": [
    "### Klaar? Dien dan je opdracht op deze manier in!\n",
    "\n",
    "* **Download** je notebook via File - Download.\n",
    "* Ga naar je Downloads map en **hernoem** je notebook naar **NaamVoornaam (.ipynb)** waarbij je uiteraard je eigen Naam en Voornaam (met hoofdletters) invult. De extensie moet je waarschijnlijk niet zelf aanvullen.\n",
    "* **Upload** je notebook in Toledo bij de opdracht 'Test kwartiel 2 - uploadzone'.\n",
    "* Wij noteren het **tijdstip** waarop je het examenlokaal verlaat en controleren dat dit tijdstip later is dan het tijdstip waarop je het notebook indient."
   ]
  },
  {
   "cell_type": "code",
   "execution_count": null,
   "id": "da6929bf-e745-46e6-b7d7-e66ee1d30b7d",
   "metadata": {},
   "outputs": [],
   "source": []
  }
 ],
 "metadata": {
  "kernelspec": {
   "display_name": "Python 3 (ipykernel)",
   "language": "python",
   "name": "python3"
  },
  "language_info": {
   "codemirror_mode": {
    "name": "ipython",
    "version": 3
   },
   "file_extension": ".py",
   "mimetype": "text/x-python",
   "name": "python",
   "nbconvert_exporter": "python",
   "pygments_lexer": "ipython3",
   "version": "3.11.9"
  }
 },
 "nbformat": 4,
 "nbformat_minor": 5
}
