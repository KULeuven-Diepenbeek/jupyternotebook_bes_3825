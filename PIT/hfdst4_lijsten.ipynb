{
 "cells": [
  {
   "cell_type": "markdown",
   "source": [
    "# Hoofdstuk 4: Lijsten\n",
    "\n",
    "Waar de basistype string, int, float en boolean maar één waarde beschrijven, gebruiken we de lijst voor een verzameling waarden. Typisch aan de lijst is dat die met een index werkt. Die betekent dat elke waarde van de verzameling op een positie in de lijst wordt opgeslagen. Die positie noemen we de index. Belangrijk om te weten is dat de index vanaf 0 begint!\n",
    "\n",
    "Hieronder zie je een aantal voorbeelden van lijsten."
   ],
   "metadata": {
    "collapsed": false
   },
   "id": "639cb211b62a5f26"
  },
  {
   "cell_type": "code",
   "execution_count": null,
   "outputs": [],
   "source": [
    "l1 = list() # lege lijst\n",
    "l2 = [1, 2, 3, 4] # opsommen tussen vierkante haken\n",
    "l3 = range(1,4)   # half-open interval [1,4\n",
    "l4 = range(10,40,10) # half-open interval met stapgrootte\n",
    "\n",
    "import numpy as np\n",
    "l5 = np.linspace(0, 10, 50)     # 50 punten van 0 tot 10"
   ],
   "metadata": {
    "collapsed": false
   },
   "id": "73777d586dbad29e"
  },
  {
   "cell_type": "code",
   "execution_count": null,
   "outputs": [],
   "source": [
    "# toon wat waarden in de lijsten\n",
    "print(l2[0])  # het eerste getal van lijst 2\n",
    "print(l2[3])  # het vierde getal van lijst 2\n",
    "print(l5[48])  # het voorlaatste getal van lijst 5\n",
    "print(l5[49])  # het laatste getal van lijst 5\n"
   ],
   "metadata": {
    "collapsed": false
   },
   "id": "dc9d251c724d1319"
  },
  {
   "cell_type": "markdown",
   "source": [
    "## 4.2 Lijsten bewerken\n",
    "\n",
    "- toevoegen met append (achteraan) of insert (tussenin)\n",
    "- verwijderen met remove (een element) of del (op basis van een index)\n",
    "- een waarde op een index overschrijven met de toekenning\n",
    "- twee lijsten samenvoegen met extend"
   ],
   "metadata": {
    "collapsed": false
   },
   "id": "1f3a93bdfeb9b76c"
  },
  {
   "cell_type": "code",
   "execution_count": null,
   "outputs": [],
   "source": [
    "# voorbeelden\n",
    "\n",
    "# toevoegen\n",
    "l2.append(888)\n",
    "print(l2)\n",
    "l2.insert(2, 99)\n",
    "print(l2)\n",
    "\n",
    "# verwijderen\n",
    "l2.remove(2)\n",
    "print(l2)\n",
    "del l2[0]\n",
    "print(l2)\n",
    "\n",
    "# overschrijven\n",
    "l2[0] = 666 \n",
    "print(l2)\n",
    "\n",
    "# l4 achteraan toevoegen aan l2\n",
    "l2.extend(l4)\n",
    "print(l2)"
   ],
   "metadata": {
    "collapsed": false
   },
   "id": "2374b2476422610"
  },
  {
   "cell_type": "markdown",
   "source": [
    "## 4.3.1 Individuele gegevens opvragen\n",
    "\n",
    "We hebben al gezien dat je met de index kan werken om dingen op te vragen en te veranderen.\n",
    "\n",
    "Er nog twee afgeleide vragen:\n",
    "- zit een element in een lijst: *in*\n",
    "- hoe lang is een lijst? : *len*"
   ],
   "metadata": {
    "collapsed": false
   },
   "id": "623ce47caf1149f4"
  },
  {
   "cell_type": "code",
   "execution_count": null,
   "outputs": [],
   "source": [
    "# voorbeelden\n",
    "print(\"Zit 3 in l3?\" , 3 in l3)\n",
    "print(\"De lengte van l3 is \", len(l3))"
   ],
   "metadata": {
    "collapsed": false
   },
   "id": "66b750a32dff41b2"
  },
  {
   "cell_type": "markdown",
   "source": [
    "## 4.3.4 Aggregatie van gegevens: de hele lijst herleiden tot een andere waarde\n",
    "\n",
    "- optellen, vermenigvuldigen, minimum, maximum, gemiddelde, mediaan: sum, np.prod, min, max, np.mean, np.media\n",
    "- cumulatieve som en product: np.cumsum en np.cumprod\n",
    "- al gezien: + en * om aan elkaar te plakken of 'n' keer te herhalen\n",
    "- np.add en np.multiply om paarsgewijs op te tellen of te vermenigvuldigen"
   ],
   "metadata": {
    "collapsed": false
   },
   "id": "c0ea036a36c59ed4"
  },
  {
   "cell_type": "code",
   "execution_count": null,
   "outputs": [],
   "source": [
    "lijst1 = [2,5,8,12]\n",
    "\n",
    "import numpy as np\n",
    "print(\"De som = \", sum(lijst1))\n",
    "print(\"Het product = \", np.prod(lijst1))\n",
    "print(\"Minimum = \", min(lijst1))\n",
    "print(\"Maximum = \", max(lijst1))\n",
    "print(\"Gemiddelde = \", np.mean(lijst1))\n",
    "print(\"Mediaan = \", np.median(lijst1))\n",
    "\n",
    "# cumulatief = nieuwe lijsten\n",
    "print(\"Cumulatieve som = \", np.cumsum(lijst1))\n",
    "print(\"Cumulatief product = \", np.cumprod(lijst1))\n",
    "\n",
    "dubbeleLijst = lijst1 + lijst1\n",
    "print(dubbeleLijst)\n",
    "tripleLijst = lijst1 * 3\n",
    "print(tripleLijst)\n",
    "verdubbeldeLijst = np.add(lijst1, lijst1)\n",
    "print(verdubbeldeLijst)\n",
    "vermenigvuldigeLijst = np.multiply(lijst1, verdubbeldeLijst)\n",
    "print(vermenigvuldigeLijst)\n"
   ],
   "metadata": {
    "collapsed": false
   },
   "id": "50b53942683a046d"
  },
  {
   "cell_type": "markdown",
   "source": [
    "# Enkele kleine oefeningen\n",
    "\n",
    "## Reflectie\n",
    "\n",
    "1. In 4.1.2 vertelden we dat je een foutmelding krijgt wanneer je een te grote of te kleine index opgeeft bij het opvragen van een element in een lijst. Een te grote waarde is een waarde die  groter is dan het aantal elementen in de lijst. Wat is een te kleine waarde? \n",
    "\n",
    "2. Eveneens in  4.1.2 vertelden we dat het laatste element van een lijst l op index len(l)-1 staat. Waarop op die index en niet op len(l)? \n",
    "\n",
    "## Echte oefeningen\n",
    "\n",
    "1. Maak een lijst met de getallen 2, 4, 6 en eentje met de getallen 1, 3, 5, 7 en vergelijk som, product, gemiddelde en mediaan van beide lijsten.\n"
   ],
   "metadata": {
    "collapsed": false
   },
   "id": "8c710409fb026448"
  },
  {
   "cell_type": "code",
   "execution_count": null,
   "outputs": [],
   "source": [
    "# oef 1"
   ],
   "metadata": {
    "collapsed": false
   },
   "id": "e8e504d20139342b"
  },
  {
   "cell_type": "markdown",
   "source": [
    "2. Tel de twee lijsten van hierboven bij elkaar op en verklaar waarom dit niet lukt."
   ],
   "metadata": {
    "collapsed": false
   },
   "id": "395fba0303af0b14"
  },
  {
   "cell_type": "code",
   "execution_count": null,
   "outputs": [],
   "source": [
    "# oef  2"
   ],
   "metadata": {
    "collapsed": false
   },
   "id": "28e270e5b9ff982b"
  },
  {
   "cell_type": "markdown",
   "source": [
    "3. Maak een lijst met de getallen 4, 2, 1 en eentje met de getallen 1, 2, 4. Tel beide bij elkaar op en bereken van het resultaat het cumulatief product."
   ],
   "metadata": {
    "collapsed": false
   },
   "id": "343766d7db072e56"
  },
  {
   "cell_type": "code",
   "execution_count": null,
   "outputs": [],
   "source": [
    "# oef 3"
   ],
   "metadata": {
    "collapsed": false
   },
   "id": "5950fcdb7b22b96a"
  },
  {
   "cell_type": "markdown",
   "source": [
    "4. Maakt het verschil of je twee lijsten eerst bij elkaar optelt en dan de som neemt van de resulterende lijst, of dat je eerst de som van beide lijsten berekent en die twee getallen optelt? Beredeneer en test of je redenering klopt."
   ],
   "metadata": {
    "collapsed": false
   },
   "id": "b5028320f61a1c15"
  },
  {
   "cell_type": "code",
   "execution_count": null,
   "outputs": [],
   "source": [
    "# oef 4\n",
    "lijst4a = [1, 2, 3]\n",
    "lijst4b = [5, 2, -8]"
   ],
   "metadata": {
    "collapsed": false
   },
   "id": "a839ebea19f2944f"
  },
  {
   "cell_type": "markdown",
   "source": [
    "# 4.4 Transformaties van lijsten\n",
    "\n",
    "## 4.4.1 slice: een deel van lijst selecteren"
   ],
   "metadata": {
    "collapsed": false
   },
   "id": "278e19d5d7b2c8a4"
  },
  {
   "cell_type": "markdown",
   "source": [
    "lijst44a = [\"h\", \"a\", \"l\", \"l\", \"o\"]\n",
    "lijst44a[1:3]"
   ],
   "metadata": {
    "collapsed": false
   },
   "id": "8d61d17a98d8064f"
  },
  {
   "cell_type": "code",
   "execution_count": null,
   "outputs": [],
   "source": [
    "lijst44b = list(range(1,100))\n",
    "lijst44b[3:30:10]"
   ],
   "metadata": {
    "collapsed": false
   },
   "id": "be6b7e5f0321a228"
  },
  {
   "cell_type": "code",
   "execution_count": null,
   "outputs": [],
   "source": [
    "import numpy as np\n",
    "lijst44c = np.linspace(1,20,15)\n",
    "lijst44c[12:3:-4]"
   ],
   "metadata": {
    "collapsed": false
   },
   "id": "6faeec1cba3f1195"
  },
  {
   "cell_type": "markdown",
   "source": [
    "## 4.4.2 map\n",
    "\n",
    "Laat een functie los op elk element van een lijst en bekom zo een nieuwe lijst.\n",
    "\n",
    "*Ah: daarom hadden we in het vorige hoofdstuk die oefeningen met een functie als parameter van een andere functie*"
   ],
   "metadata": {
    "collapsed": false
   },
   "id": "fe488f117140605d"
  },
  {
   "cell_type": "code",
   "execution_count": null,
   "outputs": [],
   "source": [
    "lijstCelcius = [0, 10, 25, 30, 38, 40]\n",
    "\n",
    "def celciusToFahrenheit(celsius):\n",
    "    return celsius*1.8+32\n",
    "\n",
    "mapFahrenheit = map(celciusToFahrenheit, lijstCelcius)\n",
    "print(mapFahrenheit) #oei: dit is een map-object\n",
    "\n",
    "lijstVanMap = list(mapFahrenheit)  # zo kan je er een lijst van maken\n",
    "print(lijstVanMap) \n",
    "\n",
    "lijstFahrenheit = list(map(celciusToFahrenheit, lijstCelcius)) # zo kan het rechtstreeks\n",
    "print(lijstFahrenheit)\n"
   ],
   "metadata": {
    "collapsed": false
   },
   "id": "dcd6ba4ba3769098"
  },
  {
   "cell_type": "markdown",
   "source": [
    "# Oefeningen op de map\n",
    "\n",
    "8.\tHieronder staat een stuk code geschreven die het lidgeld van een jeugdhuis afdrukt afhankelijk van de ingegeven leeftijd. Maak hiervan een functie die als parameter de leeftijd neemt en gebruik die functie om het lidgeld te berekenen voor een groep  personen met volgende leeftijden: 17, 11, 8, 18, 21, 34, 25, 12, 5, 16.  \n",
    "  Gebruik hiervoor de *map*\n",
    "\tBereken daarna het totale lidgeld door alle getallen op te tellen."
   ],
   "metadata": {
    "collapsed": false
   },
   "id": "cbe06ea72e53b3bc"
  },
  {
   "cell_type": "code",
   "execution_count": null,
   "outputs": [],
   "source": [
    " # oef 8\n",
    "# maak van deze code een functie die een parameter heeft en een GETAL terug geeft (géén string terug geven aub)\n",
    "from pcinput import *\n",
    "leeftijd = getInteger(\"wat is je leeftijd?\")\n",
    "if leeftijd < 16:\n",
    "    print(\"Je mag gratis lid worden\")\n",
    "elif leeftijd < 24:\n",
    "    print(\"Lidgeld is 10 euro\")\n",
    "else:\n",
    "    print(\"Volwassen mensen moeten € 20 betalen.\")\n",
    "\n",
    "# en pas nu de functie toe op de lijst\n",
    "leeftijden = [17, 11, 8, 18, 21, 34, 25, 12, 5, 16]\n",
    "voorbeeldLeeftijden2 = [7, 11, 8, 9, 25, 25, 49, 31]\n"
   ],
   "metadata": {
    "collapsed": false
   },
   "id": "46468de955a46066"
  },
  {
   "cell_type": "markdown",
   "source": [
    "\n",
    "12.\tSchrijf een functie die als parameter een string neemt en van elke letter de case aanpast in de zin dat hoofdletters kleine letters moeten worden en kleine letters hoofdletters.\n",
    " Je kan hiervoor best een functie maken die de omzetting doet van één letter en die je daarna via map kan toepassen op de hele string (een string is immers een lijst van letters). Gebruik daarin de methodes .upper(), .lower(), .isupper() en islower(). Dit zijn methodes die je loslaat op een string, dus bv. “hallo”.upper()\n"
   ],
   "metadata": {
    "collapsed": false
   },
   "id": "780f9c62ed73731f"
  },
  {
   "cell_type": "code",
   "execution_count": null,
   "outputs": [],
   "source": [
    "# oef 12\n"
   ],
   "metadata": {
    "collapsed": false
   },
   "id": "6be70aff41e4d783"
  },
  {
   "cell_type": "markdown",
   "source": [
    "## 4.4.3 for\n",
    "\n",
    "Doe iets voor elk element van een lijst.\n",
    "Gebruik hiervoor onderstaand geraamte:"
   ],
   "metadata": {
    "collapsed": false
   },
   "id": "8ab7363e47fc620e"
  },
  {
   "cell_type": "code",
   "execution_count": null,
   "outputs": [],
   "source": [
    "for *element* in *lijst*:\n",
    "   # doe iets met elk element bv.\n",
    "   doeIets(element)"
   ],
   "metadata": {
    "collapsed": false
   },
   "id": "c186c111d6ef8a8b"
  },
  {
   "cell_type": "code",
   "execution_count": null,
   "outputs": [],
   "source": [
    "## voorbeelden met 'echte' lijsten\n",
    "def toonLijst(lijst):\n",
    "    for i in lijst:\n",
    "        print(i)\n",
    "\n",
    "def aantalWaardenInTweedeLijst(lijst1, lijst2):\n",
    "    aantal = 0\n",
    "    for i in lijst1:\n",
    "        if i in lijst2:\n",
    "            aantal = aantal + 1\n",
    "\n",
    "    return aantal\n",
    "\n",
    "def aantalKeerEersteWaarde(lijst):\n",
    "    if len(lijst) <= 1:\n",
    "        return 0\n",
    "\n",
    "    aantal = 0\n",
    "    for i in lijst:\n",
    "        if i % lijst[0] == 0:\n",
    "            aantal = aantal + 1\n",
    "\n",
    "    return aantal"
   ],
   "metadata": {
    "collapsed": false
   },
   "id": "2a97c98be070bd2c"
  },
  {
   "cell_type": "code",
   "execution_count": null,
   "outputs": [],
   "source": [
    "# voorbeelden waarbij de lijst een constructie is om een reeks getallen te kunnen overlopen\n",
    "def voorbeeldFor():\n",
    "    numbers = list(range(1,11))\n",
    "    numbers.reverse()\n",
    "\n",
    "    for i in numbers:\n",
    "        print(i)\n",
    "    print('BOEM')\n",
    "\n",
    "def isPriem(getal):\n",
    "    for kandidaatDeler in range(2, getal):\n",
    "        if getal%kandidaatDeler == 0:\n",
    "            return False\n",
    "    return True\n",
    "\n",
    "# extra voorbeelden #\n",
    "def faculteit(n):\n",
    "    fac = 1\n",
    "    for i in range(2,n+1):\n",
    "        fac = fac * i\n",
    "        return fac\n",
    "\n",
    "def somTem(a,b):\n",
    "    som = 0\n",
    "    for i in range(a,b+1):\n",
    "        som = som + i\n",
    "    return som"
   ],
   "metadata": {
    "collapsed": false
   },
   "id": "91a5de90c870679a"
  },
  {
   "cell_type": "markdown",
   "source": [
    "# Twee oefeningen op de for\n",
    "6. Schrijf een functie die drie parameters neemt: \n",
    "- Een ondergrens voor een bereik (inbegrepen in het bereik)\n",
    "- Een bovengrens voor een bereik (niet inbegrepen, zoals bij de range)\n",
    "- Een getal \n",
    "\n",
    "    De functie moet een lijst terug geven met alle getallen in het bereik die een veelvoud zijn van het getal. "
   ],
   "metadata": {
    "collapsed": false
   },
   "id": "f742c8ab42cd7054"
  },
  {
   "cell_type": "code",
   "execution_count": null,
   "outputs": [],
   "source": [
    "# oef 6"
   ],
   "metadata": {
    "collapsed": false
   },
   "id": "a87f51508ece003b"
  },
  {
   "cell_type": "markdown",
   "source": [
    "9. Schrijf een functie die twee lijsten als parameter neemt en alle elementen terug geeft die in beide lijsten voorkomen. \n",
    "   *Tip: de expressie x in xs geeft terug of x voorkomt in xs.* "
   ],
   "metadata": {
    "collapsed": false
   },
   "id": "21df12b7f52b21a4"
  },
  {
   "cell_type": "code",
   "execution_count": null,
   "outputs": [],
   "source": [
    "# oef. 9"
   ],
   "metadata": {
    "collapsed": false
   },
   "id": "8ffbb351f75ab35d"
  },
  {
   "cell_type": "markdown",
   "source": [
    "## 4.4.4 Filter\n",
    "\n",
    "Selecteer elementen die voldoen aan een voorwaarde.\n",
    "De syntax is gelijkaardig aan die van de map, maar functie moet een boolean terug geven."
   ],
   "metadata": {
    "collapsed": false
   },
   "id": "9ce9555cc069d440"
  },
  {
   "cell_type": "code",
   "execution_count": null,
   "outputs": [],
   "source": [
    "# voorbeelden\n",
    "def isPriem(n):\n",
    "    for getal in range(2,n):\n",
    "        if n%getal == 0:\n",
    "            return False  # deler gevonden => niet priem\n",
    "        \n",
    "    return True # geen deler gevonden => wel priem\n",
    "\n",
    "list(filter(isPriem, range(2,20)))"
   ],
   "metadata": {
    "collapsed": false
   },
   "id": "e1f8a4362629e463"
  },
  {
   "cell_type": "code",
   "execution_count": null,
   "outputs": [],
   "source": [
    "def even(n):\n",
    "    return n%2 == 0\n",
    "\n",
    "list(filter(even, [2,4,5,9,13,-8, -7, 101]))"
   ],
   "metadata": {
    "collapsed": false
   },
   "id": "60e4a0152e92b4d6"
  },
  {
   "cell_type": "markdown",
   "source": [
    "# Oefening op filter\n",
    "\n",
    "8. Maak een functie die alleen de leeftijden overhoudt van de mensen die lidgeld moeten betalen. Je kan hiervoor de code van de vorige oefening 8 (bij de map) hergebruiken om een functie te maken die een boolean terug geeft."
   ],
   "metadata": {
    "collapsed": false
   },
   "id": "c1d08a5e5cc8f60d"
  },
  {
   "cell_type": "code",
   "execution_count": null,
   "outputs": [],
   "source": [
    "# voorbeelden om je oplossing voor de oefening te kunnen uitproberen\n",
    "leeftijden = [17, 11, 8, 18, 21, 34, 25, 12, 5, 16]\n",
    "voorbeeldLeeftijden2 = [7, 11, 8, 9, 25, 25, 49, 31]"
   ],
   "metadata": {
    "collapsed": false
   },
   "id": "ebf5d8cb5a046a04"
  },
  {
   "cell_type": "markdown",
   "source": [
    "## 4.4.5 List comprehensions\n",
    "\n",
    "De *list comprehension* is een heel compacte manier om elementen uit een lijst te selecteren en te bewerken. Het formaat is als volgt:\n",
    "\n",
    "nieuweLijst = [expressie for element in iterable if voorwaarde]\n",
    "\n",
    "- iterable = lijst, kolom van dataframe, map-object\n",
    "- expressie : bewerking met element\n",
    "- voorwaarde: expressie met element die een boolean terug geeft\n",
    "\n",
    "Resultaat = lijst met alle elementen die voldoen aan de voorwaarde en waarop bewerking toegepast is.\n",
    "\n",
    "De list comprehension is dus eigenlijk een combinatie van map en filter"
   ],
   "metadata": {
    "collapsed": false
   },
   "id": "b9606d993610a53a"
  },
  {
   "cell_type": "code",
   "execution_count": null,
   "outputs": [],
   "source": [
    "# voorbeelden\n",
    "xs = [1,2,3,4]\n",
    "dubbeleXS = [x*x for x in xs]\n",
    "print(dubbeleXS)\n",
    "\n",
    "halveXS = [x//2 for x in xs if x%2 == 0]\n",
    "print(halveXS)\n",
    "\n",
    "ys = [1,2]\n",
    "letters = ['a', 'b', 'c']\n",
    "combos = [(y,l) for y in ys for l in letters]\n",
    "print(combos)"
   ],
   "metadata": {
    "collapsed": false
   },
   "id": "a77e5293a464244b"
  },
  {
   "cell_type": "markdown",
   "source": [
    "# Oefeningen op list comprehension \n",
    "\n",
    "6. Schrijf een functie die drie parameters neemt: \n",
    "- Een ondergrens voor een bereik (inbegrepen in het bereik)\n",
    "- Een bovengrens voor een bereik (niet inbegrepen, zoals bij de range)\n",
    "- Een getal \n",
    "\n",
    "    De functie moet een lijst terug geven met alle getallen in het bereik die een veelvoud zijn van het getal. "
   ],
   "metadata": {
    "collapsed": false
   },
   "id": "2b34faf6767dfd5e"
  },
  {
   "cell_type": "code",
   "execution_count": null,
   "outputs": [],
   "source": [
    "# oef. 6 met list comprehension"
   ],
   "metadata": {
    "collapsed": false
   },
   "id": "43982566093a7986"
  },
  {
   "cell_type": "markdown",
   "source": [
    "9. Schrijf een functie die twee lijsten als parameter neemt en alle elementen terug geeft die in beide lijsten voorkomen. \n",
    "   *Tip: de expressie x in xs geeft terug of x voorkomt in xs.* "
   ],
   "metadata": {
    "collapsed": false
   },
   "id": "1b05922711592abd"
  },
  {
   "cell_type": "code",
   "execution_count": null,
   "outputs": [],
   "source": [
    "# oef. 9 met list comprehension"
   ],
   "metadata": {
    "collapsed": false
   },
   "id": "74b1fa7325a4026b"
  },
  {
   "cell_type": "markdown",
   "source": [
    "Ook de oefening met de filter kan je heel mooi met een list comprehension oplossen.\n",
    "\n",
    "8. Geef alle leeftijden terug van de mensen in de lijst die lidgeld moeten betalen\n"
   ],
   "metadata": {
    "collapsed": false
   },
   "id": "11f7cd1f89906b15"
  },
  {
   "cell_type": "code",
   "execution_count": null,
   "outputs": [],
   "source": [
    "# voorbeelden om je oplossing voor de oefening te kunnen uitproberen\n",
    "leeftijden = [17, 11, 8, 18, 21, 34, 25, 12, 5, 16]\n",
    "voorbeeldLeeftijden2 = [7, 11, 8, 9, 25, 25, 49, 31]"
   ],
   "metadata": {
    "collapsed": false
   },
   "id": "4e012799ec9fa990"
  },
  {
   "cell_type": "markdown",
   "source": [
    "# Opgaven van alle oefeningen\n",
    "\n",
    "Hieronder staan alle opgaven van dit hoofstuk vermeld zonder dat we aangeven met welke techniek je de oefeningen moet oplossen. Dit is dus iets moeilijker, maar moet je zeker kunnen.\n",
    "\n",
    "1.\tMaak een lijst met de getallen 2, 4, 6 en eentje met de getallen 1, 3, 5, 7 en vergelijk som, product, gemiddelde en mediaan van beide lijsten.\n",
    "2.\tTel de twee lijsten van hierboven bij elkaar op en verklaar waarom dit niet lukt.\n",
    "3.\tMaak een lijst met de getallen 4, 2, 1 en eentje met de getallen 1, 2, 4. Tel beide bij elkaar op en bereken van het resultaat het cumulatief product.\n",
    "4.\tMaakt het verschil of je twee lijsten eerst bij elkaar optelt en dan de som neemt van de resulterende lijst, of dat je eerst de som van beide lijsten berekent en die twee getallen optelt? Beredeneer en test of je redenering klopt.\n",
    "5.\tMaak een functie die een lijst neemt en alleen de getallen overhoudt die minder dan 25% afwijken van het gemiddelde van de hele lijst (om zo afwijkingen weg te filteren).\n",
    "6.\tSchrijf een functie die drie parameters neemt:\n",
    "a.\tEen ondergrens voor een bereik\n",
    "b.\tEen bovengrens voor een bereik\n",
    "c.\tEen getal\n",
    "En die een lijst met alle getallen in het bereik terug geeft die een veelvoud zijn van het getal.\n",
    "Maak deze oefening zowel in een versie met list comprehensions en met een for-lus.\n",
    "7.\tMaak een functie met 2 parameters: een lijst en een getal, \t\n",
    "die berekent hoeveel waarden in de lijst een veelvoud zijn van het opgegeven getal.\n",
    "8.\tOp pagina 30 hebben we een stuk code geschreven om het lidgeld af te drukken afhankelijk van de leeftijd. Maak hiervan een functie en gebruik die functie om het lidgeld te berekenen voor een groep personen met volgende leeftijden: 17, 11, 8, 18, 21, 34, 25, 12, 5, 16. \t\n",
    "Bereken ook het totale lidgeld.\n",
    "a.\tMaak daarna een functie die alleen die leeftijden overhoudt van de personen die lidgeld moeten betalen. De gratis leden moet je dus wegfilteren.\n",
    "9.\tSchrijf een functie die twee lijsten als parameter neemt en alle elementen terug geeft die in beide lijsten voorkomen. \t\n",
    "Tip 1: de expressie x in xs geeft terug of x voorkomt in xs.\t\n",
    "Tip 2: je kan dit zowel met list comprehensions oplossen als met een for-lus.\n",
    "10.\tSchrijf een functie die twee lijsten als parameter neemt en alle elementen terug geeft die in één van beide lijsten voorkomt, maar niet in beide.\n",
    "11.\tSchrijf een functie die als parameter een getal neemt en alle paren van positieve getallen terug geeft die als som gelijk zijn aan de parameter. Voor 4 is dit bijvoorbeeld [(1, 3), (2, 2), (3, 1)].\n",
    "(Deze oefening kan je heel compact oplossen met list comprehensions).\n",
    "12.\tSchrijf een functie die als parameter een string neemt en van elke letter de case aanpast in de zin dat hoofdletters kleine letters moeten worden en kleine letters hoofdletters.\n",
    "a.\tGebruik hierbij de methodes .upper(), .lower(), .isupper() en islower(). Dit zijn methodes die je loslaat op een string, dus bv. “hallo”.upper()\n",
    "b.\tAls shortcut kan je ook .swapcase() gebruiken, maar dan wordt de oefening een beetje té gemakkelijk. \n",
    "13.\tMoeilijke opgave voor de heel snelle studenten: maak een functie die een string afwisselend in upper- en lowercase zet, bv. “ApPeL”.\n",
    " \n"
   ],
   "metadata": {
    "collapsed": false
   },
   "id": "c4e66690f312db5f"
  },
  {
   "cell_type": "code",
   "execution_count": null,
   "outputs": [],
   "source": [
    "# los oefeningen naar keuze op\n",
    "\n"
   ],
   "metadata": {
    "collapsed": false
   },
   "id": "378be7a827660cd7"
  }
 ],
 "metadata": {
  "kernelspec": {
   "display_name": "Python 3",
   "language": "python",
   "name": "python3"
  },
  "language_info": {
   "codemirror_mode": {
    "name": "ipython",
    "version": 2
   },
   "file_extension": ".py",
   "mimetype": "text/x-python",
   "name": "python",
   "nbconvert_exporter": "python",
   "pygments_lexer": "ipython2",
   "version": "2.7.6"
  }
 },
 "nbformat": 4,
 "nbformat_minor": 5
}
