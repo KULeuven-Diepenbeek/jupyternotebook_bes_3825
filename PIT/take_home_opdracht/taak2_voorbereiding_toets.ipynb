{
 "cells": [
  {
   "cell_type": "markdown",
   "source": [
    "# Take-home-opdracht: analyse sportprestaties\n",
    "### Voor 1BA: voorbereiding op de toets van woensdag 7/11/24\n",
    "### Voor Schakel: voorbereiding op het examen van donderdag 30/1/25\n",
    "\n",
    "## Concept van deze *Take Home-opdracht* \n",
    "\n",
    "De eerste taak had als doelstelling om jullie aan te moedigen om op tijd te beginnen met écht te oefenen. Leren programmeren doe je immers niet door alleen de oefeningen in de les over te typen (zoals spijtig genoeg te veel studenten doen), maar door wel zelf actief na te denken, dingen te proberen, fouten te maken en door daar van te leren.\n",
    "\n",
    "De eerste taak over week 1-2-3 was dus niet meer dan een opwarming. De punten van die taak zijn dan ook géén voorspelling van hoe goed je op het examen zal presteren. Dat examen zal immers ook over de materie van week 1-2-3 én die van week 4-5-6 gaan en zonder dat je genAI of medestudenten kan gebruiken. Het gemiddelde op het examen ligt dan ook véél lager dan het gemiddelde op de eerste taak, maar laat ons daar niet te lang bij stilstaan en vooruitblikken naar wat je nu kan verwachten.\n",
    "\n",
    "Omdat we in week 4-5-6 veel met dataframes en modellen gewerkt hebben, zal je op de toets ook met dataframes en modellen moeten werken. Via deze **Take Home-opdracht** leer je de inhoud van de dataframes al kennen, zodat je daar op het examen geen tijd meer moet insteken en we kunnen focussen op het evalueren van hoe goed je via Python de informatie in die dataframes en modellen kan visualiseren en verwerken. \n",
    "\n",
    "## Concreet \n",
    "\n",
    "In deze taak (en op het examen) werken we de gegevens van sportactiviteiten op Strava.\n",
    "We hebben een export van een collega gekregen, een reeks activiteiten uit 2016 geselecteerd (voor anonimiteit) en een beperkt aantal kolommen overgehouden zodat het overzichtelijk blijft. Volgende kolommen blijven over:\n",
    " \n",
    "  - Activiteits-ID\t\n",
    "  - Datum van activiteit\t\n",
    "  - Activiteitstype\t\n",
    "  - Verstreken tijd\t\n",
    "  - Afstand\t\n",
    "  - Beweegtijd\n",
    "  - Hoogteverschil\t\n",
    "  - Max. stijgingspercentage\t\n",
    "  - Buitentemperatuur\n",
    "  - Windsnelheid\n",
    "  - Windrichting\t\n",
    "  - Neerslagintensiteit\t\n",
    "  - Ozonwaarde\n",
    "\n",
    "## Specifieke doelstellingen\n",
    "\n",
    "Nadat de eerste taak over de inhoud van week 1 t.e.m. 3 ging, focust deze take-home-opdracht op de inhoud van week 4 en 5. Concreet is dit:\n",
    "\n",
    "- werken met een dataframe\n",
    "- het maken van grafieken\n",
    "\n",
    "Op de toets gaan we dan variaties hierop laten maken + nieuwe dingen van week 6 (de probleemoplossende slimme functies), zoals bij de oefening van de klimaatopwarming. De dingen die we in weken 1-2-3 geleerd hebben, moet je natuurlijk ook nog altijd kunnen op de toets.\n",
    "\n",
    "## Praktisch\n",
    "\n",
    "- Open je jupyterhub en ga naar de map *take_home_opdracht*.\n",
    "- Los alle opgaven op in taak2_voorbereiding_toets.ipynb.\n",
    "- Breng een afgedrukte versie van je eigen project mee naar de test. Afdrukken kan je door ctrl-P te typen in dit jupyterhubvenster (druk eventueel het eerste deel met deze uitleg niet af om papier te besparen.)\n",
    "- Schrijf aan de rechterbovenkant van elk blad je naam + volgnummer.\n",
    "- Je moet je oplossing dus niet uploaden op Toledo (er is trouwens ook geen plaats voor), maar wel meebrengen naar de toets en daar dan op verder werken.\n",
    "- Er is dan ook geen deadline, behalve natuurlijk het testmoment zelf. \n",
    "- Je krijgt géén punten op de oplossing van deze take-home-opdracht; alléén op de aanpassingen die in de toets gevraagd worden en op de andere vragen van de toets."
   ],
   "metadata": {
    "collapsed": false
   },
   "id": "ee6f33578fe11d2c"
  },
  {
   "cell_type": "markdown",
   "source": [
    "# Introductie\n",
    "\n",
    "In de volgende codecel vind je alle imports die je nodig hebt voor dit project en kan je (na uitvoering van de cel) de inhoud van strava2016.csv bekijken in een grid."
   ],
   "metadata": {
    "collapsed": false
   },
   "id": "18653661b94961f7"
  },
  {
   "cell_type": "code",
   "execution_count": 22,
   "outputs": [],
   "source": [
    "import math\n",
    "import numpy as np\n",
    "import pandas as pd\n",
    "from qgridnext import show_grid\n",
    "from matplotlib import pyplot as plt\n",
    "%matplotlib widget\n",
    "\n",
    "strava = pd.read_csv(\"strava2016.csv\",sep=\";\",encoding=\"latin-1\")\n",
    "show_grid(strava)"
   ],
   "metadata": {
    "collapsed": false,
    "ExecuteTime": {
     "end_time": "2024-10-25T20:31:58.999629100Z",
     "start_time": "2024-10-25T20:31:58.962192600Z"
    }
   },
   "id": "fc5760b023bc537b"
  },
  {
   "cell_type": "markdown",
   "source": [
    "De functies die je moet schrijven hebben (bijna) altijd een dataframe als optionele parameter.\n",
    "Dit is een beetje anders dan bij de oefeningen uit hoofdstuk 5 waar we een bestandsnaam als parameter hadden.\n",
    "Het voordeel van een dataframe als parameter is dat je gemakkelijk functieoproepen kan nesten.\n",
    "\n",
    "In de codecel hieronder laten we hiervan een voorbeeld zien.\n"
   ],
   "metadata": {
    "collapsed": false
   },
   "id": "3e8120f8af29174"
  },
  {
   "cell_type": "code",
   "execution_count": 26,
   "outputs": [
    {
     "name": "stdout",
     "output_type": "stream",
     "text": [
      "    A  B  kolom1  kolom2  kolom3\n",
      "0   4 -5       1       2       3\n",
      "1  10  3       1       2       3\n"
     ]
    }
   ],
   "source": [
    "# hulpfunctie om niet altijd volledig pd.read_csv te moeten uitschrijven.\n",
    "def getDF(bestand):\n",
    "    return pd.read_csv(bestand, sep = \";\", encoding=\"latin-1\")\n",
    "\n",
    "def effect1(df = getDF(\"strava2016.csv\")):\n",
    "    df[\"kolom1\"] = 1\n",
    "    return df\n",
    "\n",
    "def effect2(df = getDF(\"strava2016.csv\")):\n",
    "    df[\"kolom2\"] = 2\n",
    "    return df\n",
    "\n",
    "def effect1en2(df = getDF(\"strava2016.csv\")):\n",
    "    df1 = effect1(df)  # voegt kolom1 toe in return-waarde df1\n",
    "    df2 = effect2(df)  # voegt kolom2 toe in return-waarde df2\n",
    "    df2[\"kolom3\"] = df2[\"kolom1\"] + df2[\"kolom2\"] # derde kolom\n",
    "    return df2  # dataframe met drie extra kolommen in vergelijking met df\n",
    "\n",
    "vb_in = pd.DataFrame(columns=[\"A\",\"B\"])\n",
    "vb_in[\"A\"] = [4,10]\n",
    "vb_in[\"B\"] = [-5,3]\n",
    "\n",
    "vb_uit = effect1en2(vb_in)\n",
    "show_grid(vb_uit)"
   ],
   "metadata": {
    "collapsed": false,
    "ExecuteTime": {
     "end_time": "2024-10-25T20:53:49.314324Z",
     "start_time": "2024-10-25T20:53:49.273095500Z"
    }
   },
   "id": "4c76272f9568d244"
  },
  {
   "cell_type": "markdown",
   "source": [
    "# Opgave 1\n",
    "\n",
    "De versie van de strava-export die wij gebruiken, heeft géén kolom voor de snelheid, maar wel kolommen Afstand en Beweegtijd. De afstand wordt gegeven in kilometer en de beweegtijd in seconden.\n",
    "\n",
    "Gevraagd is om een functie te schrijven die twéé kolommen toevoegt:\n",
    "    - *Snelheid* met de snelheid in km/u\n",
    "    - *Tempo* met als eenheid minuten/km. Veel atleten verkiezen deze eenheid boven km/u en praten bij het lopen bijvoorbeeld over 5 minuten per kilometer.\n",
    "      \n",
    "De functie heeft één optionele parameter met de bestandsnaam van het dataframe bevat waarvan je vertrekt.\n",
    "De returnwaarde van de functie is het aangepaste dataframe.\n"
   ],
   "metadata": {
    "collapsed": false
   },
   "id": "bf71674dfe82df7e"
  },
  {
   "cell_type": "code",
   "execution_count": 28,
   "outputs": [
    {
     "name": "stdout",
     "output_type": "stream",
     "text": [
      "     Unnamed: 0.1  Unnamed: 0  Activiteits-ID   Datum van activiteit  \\\n",
      "0               0           1       666584676   6 aug. 2016 05:55:28   \n",
      "1               1           2       675338012  14 aug. 2016 05:53:41   \n",
      "2               2           4       934243486   9 apr. 2017 06:28:43   \n",
      "3               3           5       954122450  23 apr. 2017 06:19:23   \n",
      "4               4           6       974615321         7/05/2017 6:23   \n",
      "..            ...         ...             ...                    ...   \n",
      "551           551         560      6177184905  28 okt. 2021 06:01:32   \n",
      "552           552         561      6177838603  28 okt. 2021 08:06:24   \n",
      "553           553         563      6191584589  31 okt. 2021 09:27:55   \n",
      "554           554         564      6197352451   1 nov. 2021 12:32:23   \n",
      "555           555         566      6219057534   6 nov. 2021 11:02:22   \n",
      "\n",
      "    Activiteitstype  Verstreken tijd  Afstand  Beweegtijd  Hoogteverschil  \\\n",
      "0          Fietsrit            33865   162.03       26284     1169.000000   \n",
      "1          Fietsrit            11804   102.57       11328      145.682999   \n",
      "2          Fietsrit            10756    90.67       10535      357.963989   \n",
      "3          Fietsrit            11712    94.01       10967      339.242004   \n",
      "4          Fietsrit            10909    89.97       10322      357.431000   \n",
      "..              ...              ...      ...         ...             ...   \n",
      "551        Fietsrit             2268    16.42        2245       41.910000   \n",
      "552        Fietsrit             2031    16.49        2031       33.986000   \n",
      "553        Fietsrit             7314    61.01        7217      204.220001   \n",
      "554        Fietsrit            10717    84.03       10629      229.000000   \n",
      "555        Fietsrit             4461    35.14        4379      104.000000   \n",
      "\n",
      "     Max. stijgingspercentage  Gemiddelde hartslag  Buitentemperatuur  \\\n",
      "0                   47.000000                  NaN                NaN   \n",
      "1                    7.500000                  NaN                NaN   \n",
      "2                   19.400000                  NaN                NaN   \n",
      "3                   16.600000                  NaN                NaN   \n",
      "4                   39.200001                  NaN                NaN   \n",
      "..                        ...                  ...                ...   \n",
      "551                 13.171886           142.391663               7.47   \n",
      "552                 14.405405           143.573685               9.81   \n",
      "553                 19.820000           154.274994              12.59   \n",
      "554                 27.415123           146.446762              11.65   \n",
      "555                 15.858424           150.962616               8.41   \n",
      "\n",
      "     Windsnelheid  Windrichting  Neerslagintensiteit  Ozonwaarde  \n",
      "0             NaN           NaN                  NaN         NaN  \n",
      "1             NaN           NaN                  NaN         NaN  \n",
      "2             NaN           NaN                  NaN         NaN  \n",
      "3             NaN           NaN                  NaN         NaN  \n",
      "4             NaN           NaN                  NaN         NaN  \n",
      "..            ...           ...                  ...         ...  \n",
      "551          2.89         172.0               0.0000  244.000000  \n",
      "552          3.03         176.0               0.0000  245.899994  \n",
      "553          5.27         175.0               0.0318  292.000000  \n",
      "554          8.18         214.0               0.0111  325.200012  \n",
      "555          4.88         215.0               0.0000  268.399994  \n",
      "\n",
      "[556 rows x 16 columns]\n"
     ]
    }
   ],
   "source": [
    "def vraag1_speed(df = getDF(\"strava2016.csv\")):\n",
    "    return df #TODO: juiste dataframe terug geven\n"
   ],
   "metadata": {
    "collapsed": false,
    "ExecuteTime": {
     "end_time": "2024-10-25T20:55:38.813297Z",
     "start_time": "2024-10-25T20:55:38.779118Z"
    }
   },
   "id": "85d4634c30aab402"
  },
  {
   "cell_type": "code",
   "execution_count": null,
   "outputs": [],
   "source": [
    "# als je wil testen kan je het volgende doen\n",
    "show_grid(vraag1_speed())"
   ],
   "metadata": {
    "collapsed": false
   },
   "id": "5d9031cb882fef7e"
  },
  {
   "cell_type": "markdown",
   "source": [
    "# Opgave 2\n",
    "\n",
    "Deze functie neemt als parameter een dataframe en geeft een dataframe terug met daarin alleen de activiteiten met veel 'nazorg'\n",
    "\n",
    "Een activiteit met veel nazorg wordt gedefinieerd als een activiteit waarvan de waarde van \"Verstreken tijd\" minstens dubbel zo groot is als de \"Beweegtijd\". We veronderstellen dus dat men dan na de activiteit nog lang is blijven plakken op de aankomstplaats (op café dus) en vergeten was de activiteit in de app pas af te sluiten en pas op \"Stop opnemen\" drukte nadat men of café vertrok.  \n"
   ],
   "metadata": {
    "collapsed": false
   },
   "id": "7f74faa867f012c"
  },
  {
   "cell_type": "code",
   "execution_count": null,
   "outputs": [],
   "source": [
    "def vraag2_nazorg(df = getDF(\"strava2016.csv\")):\n",
    "    return df #TODO: juiste dataframe terug geven"
   ],
   "metadata": {
    "collapsed": false
   },
   "id": "1286461140d34999"
  },
  {
   "cell_type": "code",
   "execution_count": null,
   "outputs": [],
   "source": [
    "# eventuele test\n",
    "def vraag2_test():\n",
    "    df = getDF(\"strava2016.csv\")\n",
    "    return vraag2_nazorg(df)\n",
    "vraag2_test()"
   ],
   "metadata": {
    "collapsed": false
   },
   "id": "d81d95235ee066f4"
  },
  {
   "cell_type": "markdown",
   "source": [
    "# Opgave 3\n",
    "\n",
    "Deze functie neemt twee parameters: een activiteitstype en optioneel een dataframe.\n",
    "De functie moet het dataframe terug geven met daarin alleen de activiteiten van het opgegeven activiteitstype."
   ],
   "metadata": {
    "collapsed": false
   },
   "id": "a2a3854f0244ca5"
  },
  {
   "cell_type": "code",
   "execution_count": null,
   "outputs": [],
   "source": [
    "def vraag3_activiteitenVanType(activiteitstype, df = getDF(\"strava2016.csv\")):\n",
    "    return df #TODO: juiste dataframe terug geven\n"
   ],
   "metadata": {
    "collapsed": false
   },
   "id": "1d754ca339e4f1d0"
  },
  {
   "cell_type": "code",
   "execution_count": null,
   "outputs": [],
   "source": [
    "def vraag3_test():\n",
    "    return vraag3_activiteitenVanType(\"Fietsrit\")\n",
    "vraag3_test()"
   ],
   "metadata": {
    "collapsed": false
   },
   "id": "f19a3e2540a7bb3f"
  },
  {
   "cell_type": "markdown",
   "source": [
    "# Opgave 4\n",
    "\n",
    "Deze functie neemt twee parameters: een activiteitstype en optioneel een dataframe.\n",
    "De returnwaarde van de functie moet de verhouding zijn tussen de gemiddelde snelheid van enerzijds\n",
    "    - de activiteiten van dat type mét nazorg (cfr. opgave 2)\n",
    "    - àlle activiteiten van dat type.\n",
    "\n",
    "Voorbeeld: als de gemiddelde snelheid van fietsritten mét nazorg 27 km/u is, en die van alle fietsritten 29 km/u, dan is de verhouding 27/29.\n",
    "\n",
    "Tip: gebruik opgave 1."
   ],
   "metadata": {
    "collapsed": false
   },
   "id": "c7a27e85ff44fed2"
  },
  {
   "cell_type": "code",
   "execution_count": null,
   "outputs": [],
   "source": [
    "def vraag4_verhoudingNazorg(activiteitstype, df = getDF(\"strava2016.csv\")):\n",
    "    return 1 # TODO: correcte berekening"
   ],
   "metadata": {
    "collapsed": false
   },
   "id": "d01b4f1317547a03"
  },
  {
   "cell_type": "code",
   "execution_count": null,
   "outputs": [],
   "source": [
    "def vraag4_test():\n",
    "    strava16 = getDF(\"strava2016.csv\")\n",
    "    print(vraag4_verhoudingNazorg(\"Fietsrit\", strava16))"
   ],
   "metadata": {
    "collapsed": false
   },
   "id": "81f4df124c5d4aaa"
  },
  {
   "cell_type": "markdown",
   "source": [
    "# Opgave 5\n",
    "Deze functie moet de totale afstand van alle activiteiten van een gegevens activiteitstype terug geven"
   ],
   "metadata": {
    "collapsed": false
   },
   "id": "cdf346fcbd38b74f"
  },
  {
   "cell_type": "code",
   "execution_count": null,
   "outputs": [],
   "source": [
    "def vraag5_totaleAfstand(activiteitstype, df = getDF(\"strava2016.csv\")):\n",
    "    return 1 # TODO: correcte berekening"
   ],
   "metadata": {
    "collapsed": false
   },
   "id": "47a85a9001b0f708"
  },
  {
   "cell_type": "code",
   "execution_count": null,
   "outputs": [],
   "source": [
    "def vraag5_test():\n",
    "    print(vraag5_totaleAfstand(\"Fietsrit\"))"
   ],
   "metadata": {
    "collapsed": false
   },
   "id": "6d82017955a1b828"
  },
  {
   "cell_type": "markdown",
   "source": [
    "# Opgave 6\n",
    "\n",
    "De functie neemt een dataframe als (optionele) parameter en moet een dataframe terug geven met daarin alle activiteiten die in moeilijke weersomstandigheden plaatsvonden. \n",
    "\n",
    "Een moeilijke weersomstandigheid wordt gedefinieerd als één van volgende mogelijkheden:\n",
    "   - Buitentemperatuur minder dan 0 °C (koud)\n",
    "   - Windsnelheid boven de 7 m/s (veel wind)\n",
    "   - Neerslagintensiteit minder dan 10% (dus 0.1) én Ozonwaarde boven 400 (droog weer met veel ozon)\n",
    "\n",
    "Eén van de drie voorwaarden volstaat. Een activiteit bij -1 °C, maar windsnelheid 3 m/s en weinig ozon is een activiteit in een moeilijke weersomstandigheid. \n",
    "\n",
    "Opgelet: niet alle activiteiten bevatten informatie over het weer! \n",
    "Je moet dus éérst filteren op de aanwezigheid van effectieve gegevens over het weer. Dit kan je doen door alle rijen te selecteren bij wie de windsnelheid groter is dan 0; of door die functie math.isnan(x) te gebruiken die een True terug geeft wanneer de waarde x géén getal is. Stel dat cel *c* in het dataframe leeg is, dan zal *math.isnan(c)* dus True terug geven."
   ],
   "metadata": {
    "collapsed": false
   },
   "id": "358f360407bbbf63"
  },
  {
   "cell_type": "code",
   "execution_count": null,
   "outputs": [],
   "source": [
    "def vraag6_slechtWeer(df = getDF(\"strava2016.csv\")):\n",
    "    return df # TODO: correct dataframe"
   ],
   "metadata": {
    "collapsed": false
   },
   "id": "24cee37eb04c2479"
  },
  {
   "cell_type": "code",
   "execution_count": null,
   "outputs": [],
   "source": [
    "def vraag6_test():\n",
    "    strava16 = getDF(\"strava2016.csv\")\n",
    "    return vraag6_slechtWeer(strava16)\n",
    "\n",
    "show_grid((vraag6_test()))"
   ],
   "metadata": {
    "collapsed": false
   },
   "id": "c27d06bdd8a29e6d"
  },
  {
   "cell_type": "markdown",
   "source": [
    "# Opgave 7\n",
    "\n",
    "Maak de grafiek van alle afstanden en gemiddelde snelheden  van een opgegeven activiteitstype.\n",
    "Plaats op de x-as waarden van 1 t.e.m. het aantal activiteiten van dat activiteitstype.\n"
   ],
   "metadata": {
    "collapsed": false
   },
   "id": "c37640e5a4aec89e"
  },
  {
   "cell_type": "code",
   "execution_count": 50,
   "outputs": [
    {
     "name": "stdout",
     "output_type": "stream",
     "text": [
      "0.689999998\n",
      "9\n"
     ]
    }
   ],
   "source": [
    "def vraag7_grafiek(activiteitstype):\n",
    "    #TODO: code voor de juiste grafiek\n",
    "    plt.show() "
   ],
   "metadata": {
    "collapsed": false,
    "ExecuteTime": {
     "end_time": "2024-10-25T21:16:55.370976500Z",
     "start_time": "2024-10-25T21:16:55.332845300Z"
    }
   },
   "id": "4f90d1ab9bd29c2c"
  },
  {
   "cell_type": "code",
   "execution_count": null,
   "outputs": [],
   "source": [
    "def vraag7_test():\n",
    "    vraag7_grafiek(\"Fietsrit\")\n",
    "    \n",
    "vraag7_test()"
   ],
   "metadata": {
    "collapsed": false
   },
   "id": "80642d1eb934c6db"
  }
 ],
 "metadata": {
  "kernelspec": {
   "display_name": "Python 3",
   "language": "python",
   "name": "python3"
  },
  "language_info": {
   "codemirror_mode": {
    "name": "ipython",
    "version": 2
   },
   "file_extension": ".py",
   "mimetype": "text/x-python",
   "name": "python",
   "nbconvert_exporter": "python",
   "pygments_lexer": "ipython2",
   "version": "2.7.6"
  }
 },
 "nbformat": 4,
 "nbformat_minor": 5
}
