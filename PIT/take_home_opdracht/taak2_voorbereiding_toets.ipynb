{
 "cells": [
  {
   "cell_type": "markdown",
   "source": [
    "# Take-home-opdracht: analyse verkoopsprestaties van een immokantoor\n",
    "### Voor 1BA: voorbereiding op de toets van woensdag 5/11/25\n",
    "### Voor Schakel: voorbereiding op het examen van donderdag 29/1/26\n",
    "\n",
    "## Concept van deze *Take Home-opdracht* \n",
    "\n",
    "De eerste taak had als doelstelling om jullie aan te moedigen om op tijd te beginnen met écht te oefenen. Leren programmeren doe je immers niet door alleen de oefeningen in de les over te typen (zoals spijtig genoeg te veel studenten doen), maar door wel zelf actief na te denken, dingen te proberen, fouten te maken en door daar van te leren.\n",
    "\n",
    "De eerste taak over week 1-2-3 was dus niet meer dan een opwarming. De punten van die taak zijn dan ook géén voorspelling van hoe goed je op het examen zal presteren. Dat examen zal immers ook over de materie van week 1-2-3 én die van week 4-5-6 gaan en zonder dat je genAI of medestudenten kan gebruiken. Het gemiddelde op het examen ligt dan ook véél lager dan het gemiddelde op de eerste taak, maar laat ons daar niet te lang bij stilstaan en vooruitblikken naar wat je nu kan verwachten.\n",
    "\n",
    "Omdat we in week 4-5-6 veel met dataframes en modellen gewerkt hebben, zal je op de toets ook met dataframes en modellen moeten werken. Via deze **Take Home-opdracht** leer je de inhoud van de csv-bestand kennen waarmee we werken, zodat je daar op het examen geen tijd meer moet insteken en we kunnen focussen op het evalueren van hoe goed je via Python de informatie in die csv in een dataframes kan steken en dan allerlei bewerkingen op het dataframe kan uitvoeren, en dingen kan visualiseren en verwerken. \n",
    "\n",
    "## Concreet \n",
    "\n",
    "In deze taak (en op het examen) werken we (fake) gegevens van een immokantoor met informatie over de panden die te koop aangeboden worden, en de naam van de koper + koopprijs indien het pand al verkocht is.\n",
    "Pand is hierbij de verzamelnaam voor alle soorten vastgoed die een immokantoor kan verkopen: huizen, appartementen, ...\n",
    "\n",
    "De csv heeft volgende kolommen:\n",
    " \n",
    "- eigenaar\n",
    "- koper\n",
    "- beschrijving\n",
    "- stijl  => een van volgende waarden: rijhuis, halfopen, open, villa, landelijk, appartement, hoeve\n",
    "- vraagprijs\n",
    "- verkoopprijs\n",
    "- oppervlakte\n",
    "- tuin\n",
    "- verdiepingen\n",
    "- slaapkamers\n",
    "- afwerkingsniveau => een getal van 1 t.e.m. 5 waarbij 5 het hoogste afwerkingsniveau is\n",
    "- bouwjaar\n",
    "\n",
    "## Specifieke doelstellingen\n",
    "\n",
    "Nadat de eerste taak over de inhoud van week 1 t.e.m. 3 ging, focust deze take-home-opdracht op de inhoud van week 4 en 5. Concreet is dit:\n",
    "\n",
    "- werken met een dataframe\n",
    "- het maken van grafieken\n",
    "\n",
    "Op de toets gaan we dan variaties hierop laten maken + nieuwe dingen van week 6 (de probleemoplossende slimme functies), zoals bij de oefening van de klimaatopwarming. De dingen die we in weken 1-2-3 geleerd hebben, moet je natuurlijk ook nog altijd kunnen op de toets.\n",
    "\n",
    "## Praktisch\n",
    "\n",
    "- Open je jupyterhub en ga naar de map *take_home_opdracht*.\n",
    "- Los alle opgaven op in taak2_voorbereiding_toets.ipynb.\n",
    "- Breng een afgedrukte versie van je eigen project mee naar de test. Afdrukken kan je door ctrl-P te typen in dit jupyterhubvenster (druk eventueel het eerste deel met deze uitleg niet af om papier te besparen.)\n",
    "- Je moet géén extra witruimte tussen de cellen of de regels code laten. De vragen van de toets moet je op aparte papieren beantwoorden.\n",
    "- Schrijf op elk afgedrukt blad aan de rechterbovenkant je naam + volgnummer. Dit is vooral belangrijk wanneer je iets extra met de hand opschrijft op die papieren. Tijdens het examen mogen er immers alleen papieren voor je liggen met je eigen naam op, of papieren waarop niks geschreven is.\n",
    "\n",
    "- Je moet je oplossing dus niet uploaden op Toledo (er is trouwens ook geen plaats voor), maar wel meebrengen naar de toets en daar dan op verder werken.\n",
    "- Er is dan ook geen deadline, behalve natuurlijk het testmoment zelf. \n",
    "- Je krijgt géén punten op de oplossing van deze take-home-opdracht; alléén op de aanpassingen die in de toets gevraagd worden en op de andere vragen van de toets."
   ],
   "metadata": {
    "collapsed": false
   },
   "id": "ee6f33578fe11d2c"
  },
  {
   "cell_type": "markdown",
   "source": [
    "# Introductie\n",
    "\n",
    "In de volgende codecel vind je alle imports die je nodig hebt voor dit project en kan je (na uitvoering van de cel) de inhoud van immokantoor.csv bekijken in een grid."
   ],
   "metadata": {
    "collapsed": false
   },
   "id": "18653661b94961f7"
  },
  {
   "cell_type": "code",
   "execution_count": null,
   "outputs": [],
   "source": [
    "import math\n",
    "import numpy as np\n",
    "import pandas as pd\n",
    "from qgridnext import show_grid\n",
    "from matplotlib import pyplot as plt\n",
    "%matplotlib widget\n",
    "\n",
    "immo = pd.read_csv(\"immokantoor.csv\",sep=\";\",encoding=\"latin-1\")\n",
    "show_grid(immo)"
   ],
   "metadata": {
    "collapsed": false
   },
   "id": "fc5760b023bc537b"
  },
  {
   "cell_type": "markdown",
   "source": [
    "De functies die je moet schrijven hebben (bijna) altijd een dataframe als optionele parameter.\n",
    "Dit is een beetje anders dan bij de oefeningen uit hoofdstuk 5 waar we een bestandsnaam als parameter hadden, maar wel gelijkaardig aan hoofdstuk 6 waar we wél een dataframe meegaven als parameter.\n",
    "Het voordeel van een dataframe als parameter is dat je gemakkelijk functieoproepen kan nesten.\n",
    "\n",
    "In de codecel hieronder laten we hiervan een voorbeeld zien.\n"
   ],
   "metadata": {
    "collapsed": false
   },
   "id": "3e8120f8af29174"
  },
  {
   "cell_type": "code",
   "execution_count": null,
   "outputs": [],
   "source": [
    "# hulpfunctie om niet altijd volledig pd.read_csv te moeten uitschrijven.\n",
    "def getDF(bestand):\n",
    "    return pd.read_csv(bestand, sep = \";\", encoding=\"latin-1\")\n",
    "\n",
    "def effect1(df = getDF(\"immokantoor.csv\")):\n",
    "    df[\"kolom1\"] = 1\n",
    "    return df\n",
    "\n",
    "def effect2(df = getDF(\"immokantoor.csv\")):\n",
    "    df[\"kolom2\"] = 2\n",
    "    return df\n",
    "\n",
    "def effect1en2(df = getDF(\"immokantoor.csv\")):\n",
    "    df1 = effect1(df)  # voegt kolom1 toe in return-waarde df1\n",
    "    df2 = effect2(df)  # voegt kolom2 toe in return-waarde df2\n",
    "    df2[\"kolom3\"] = df2[\"kolom1\"] + df2[\"kolom2\"] # derde kolom\n",
    "    return df2  # dataframe met drie extra kolommen in vergelijking met df\n",
    "\n",
    "vb_in = pd.DataFrame(columns=[\"A\",\"B\"])\n",
    "vb_in[\"A\"] = [4,10]\n",
    "vb_in[\"B\"] = [-5,3]\n",
    "\n",
    "vb_uit = effect1en2(vb_in)\n",
    "show_grid(vb_uit)"
   ],
   "metadata": {
    "collapsed": false
   },
   "id": "4c76272f9568d244"
  },
  {
   "cell_type": "markdown",
   "source": [
    "# Opgave 1\n",
    "\n",
    "Zoals bijna altijd is verkoopprijs lager dan de vraagprijs. In deze opgave zijn we geïnteresseerd in het verschil tussen de vraagprijs en de verkoopprijs.\n",
    "\n",
    "Gevraagd is om een functie te schrijven die één kolom toevoegt:\n",
    "    - *Korting*: dit is het verschil tussen de verkoopprijs en de vraagprijs\n",
    "     \n",
    "De functie heeft één optionele parameter met de bestandsnaam van het dataframe bevat waarvan je vertrekt.\n",
    "De returnwaarde van de functie is het aangepaste dataframe.\n",
    "\n",
    "Opgelet: niet alle rijen gaan over verkochte panden.\n",
    "Je moet dus éérst filteren op de aanwezigheid van een verkoopprijs (of koper). Dit kan je doen door alle rijen te selecteren bij wie de verkoopprijs groter is dan 0; of door die functie math.isnan(x) te gebruiken die een True terug geeft wanneer de waarde x géén getal is. Stel dat cel *c* in het dataframe leeg is, dan zal *math.isnan(c)* dus True terug geven."
   ],
   "metadata": {
    "collapsed": false
   },
   "id": "bf71674dfe82df7e"
  },
  {
   "cell_type": "code",
   "execution_count": null,
   "outputs": [],
   "source": [
    "def vraag1_korting(df = getDF(\"immokantoor.csv\")):\n",
    "    return df #TODO: juiste dataframe terug geven\n"
   ],
   "metadata": {
    "collapsed": false
   },
   "id": "85d4634c30aab402"
  },
  {
   "cell_type": "code",
   "execution_count": null,
   "outputs": [],
   "source": [
    "# als je wil testen kan je het volgende doen\n",
    "show_grid(vraag1_korting())"
   ],
   "metadata": {
    "collapsed": false
   },
   "id": "5d9031cb882fef7e"
  },
  {
   "cell_type": "markdown",
   "source": [
    "# Opgave 2\n",
    "\n",
    "De tuin is voor veel mensen een belangrijke factor om een huis te kopen. Daarom willen we een functie die filtert op huizen met een voldoende grote tuin.\n",
    "\n",
    "Deze functie neemt als parameter een dataframe en geeft een dataframe terug met daarin alleen de panden met een tuin die minstens 4x zo groot is als de oppervlakte van het huis.\n"
   ],
   "metadata": {
    "collapsed": false
   },
   "id": "7f74faa867f012c"
  },
  {
   "cell_type": "code",
   "execution_count": null,
   "outputs": [],
   "source": [
    "def vraag2_grote_tuin(df = getDF(\"immokantoor.csv\")):\n",
    "    return df #TODO: juiste dataframe terug geven"
   ],
   "metadata": {
    "collapsed": false
   },
   "id": "1286461140d34999"
  },
  {
   "cell_type": "code",
   "execution_count": null,
   "outputs": [],
   "source": [
    "# eventuele test\n",
    "def vraag2_test():\n",
    "    df = getDF(\"immokantoor.csv\")\n",
    "    return vraag2_grote_tuin(df)\n",
    "vraag2_test()"
   ],
   "metadata": {
    "collapsed": false
   },
   "id": "d81d95235ee066f4"
  },
  {
   "cell_type": "markdown",
   "source": [
    "# Opgave 3\n",
    "\n",
    "Een andere belangrijke factor om een huis te kopen, is het soort huis. Daarom moet je in deze opgave een andere filter implementeren, nl. op het soort huis.\n",
    "Deze functie neemt twee parameters: de stijl van het huis (bijvoorbeeld \"hoeve\") en optioneel een dataframe.\n",
    "De functie moet het dataframe terug geven met daarin alleen de panden in de opgegeven stijl."
   ],
   "metadata": {
    "collapsed": false
   },
   "id": "a2a3854f0244ca5"
  },
  {
   "cell_type": "code",
   "execution_count": null,
   "outputs": [],
   "source": [
    "def vraag3_stijl(stijl, df = getDF(\"immokantoor.csv\")):\n",
    "    return df #TODO: juiste dataframe terug geven\n"
   ],
   "metadata": {
    "collapsed": false
   },
   "id": "1d754ca339e4f1d0"
  },
  {
   "cell_type": "code",
   "execution_count": null,
   "outputs": [],
   "source": [
    "def vraag3_test():\n",
    "    return vraag3_stijl(\"halfopen\")\n",
    "vraag3_test()"
   ],
   "metadata": {
    "collapsed": false
   },
   "id": "f19a3e2540a7bb3f"
  },
  {
   "cell_type": "markdown",
   "source": [
    "# Opgave 4\n",
    "\n",
    "Deze functie neemt twee parameters: een stijl en optioneel een dataframe.\n",
    "De returnwaarde van de functie moet voor een bepaalde stijl de verhouding geven tussen \n",
    "- de gemiddelde vraagprijs van de huizen in die stijl met een voldoende grote tuin (cfr. opgave 2), en\n",
    "- de gemiddelde vraagprijs van alle huizen in die stijl\n",
    "\n",
    "Voorbeeld: als de gemiddelde vraagprijs van alles villa's € 500.000 is, en die van de villa's met een grote tuin € 600.000, dan is de verhouding 600.000/500.000, is gelijk aan het getal 1,2.\n",
    "\n",
    "Tip: gebruik de vorige opgaven om deze functie optimaal op te lossen."
   ],
   "metadata": {
    "collapsed": false
   },
   "id": "c7a27e85ff44fed2"
  },
  {
   "cell_type": "code",
   "execution_count": null,
   "outputs": [],
   "source": [
    "def vraag4_verhouding_tuinen(stijl, df = getDF(\"immokantoor.csv\")):\n",
    "    return 1 # TODO: correcte berekening"
   ],
   "metadata": {
    "collapsed": false
   },
   "id": "d01b4f1317547a03"
  },
  {
   "cell_type": "code",
   "execution_count": null,
   "outputs": [],
   "source": [
    "def vraag4_test():\n",
    "    df4 = getDF(\"immokantoor.csv\")\n",
    "    print(vraag4_verhouding_tuinen(\"hoeve\", df4))"
   ],
   "metadata": {
    "collapsed": false
   },
   "id": "81f4df124c5d4aaa"
  },
  {
   "cell_type": "markdown",
   "source": [
    "# Opgave 5\n",
    "\n",
    "Stel: een rijke oligarch wil alle sjieke panden opkopen, of een projectontwikkelaar wil alle versleten panden opkopen om op die plaats nieuwe panden te zetten. De vraag is dan hoeveel oppervlakte grond zij dan kopen.\n",
    "\n",
    "We willen dus een functie die de totale oppervlakte (huis + tuin) van een opgegeven afwerkingsniveau berekent.\n",
    " "
   ],
   "metadata": {
    "collapsed": false
   },
   "id": "cdf346fcbd38b74f"
  },
  {
   "cell_type": "code",
   "execution_count": null,
   "outputs": [],
   "source": [
    "def vraag5_totaleOppervlakte(afwerkingsgraad, df = getDF(\"immokantoor.csv\")):\n",
    "    return 1 # TODO: correcte berekening"
   ],
   "metadata": {
    "collapsed": false
   },
   "id": "47a85a9001b0f708"
  },
  {
   "cell_type": "code",
   "execution_count": null,
   "outputs": [],
   "source": [
    "def vraag5_test():\n",
    "    print(vraag5_totaleOppervlakte(5))\n",
    "    \n"
   ],
   "metadata": {
    "collapsed": false
   },
   "id": "6d82017955a1b828"
  },
  {
   "cell_type": "markdown",
   "source": [
    "# Opgave 6\n",
    "\n",
    "Een immokantoor pakt graag uit met verhalen die moeten bewijzen dat zij beter zijn de concurrentie.\n",
    "\n",
    "Daarom willen we (in opgave 7) een lijst van alle panden die ze verkocht zijn, maar die eigenlijk relatief moeilijk te verkopen zijn. Maar voordat we aan opgave 7 beginnen, willen we eerst dat je in deze opgave  voor elk huis een moeilijkheidsgraad berekent.\n",
    "\n",
    "We definiëren de moeilijkheidsgraad als volgt:\n",
    "\n",
    "1. Bereken eerst de *intrinsieke kwaliteit* van een pand. Dit is het product van afwerkingsniveau\n",
    "en oppervlakte. Als het afwerkingsniveau bijvoorbeeld 3 is en de oppervlakte is 200 m², dan is de intrinsieke kwaliteit 600.\n",
    "2. Deel de vraagprijs door deze *intrinsieke kwaliteit*.\n",
    "3. Als het een rijhuis is, vermenigvuldig dan met 0.8.\n",
    "4. Als het een villa is, en de tuin is minder dan 10.000 m², vermenigvuldig met 0.6.\n",
    "5. Deel door 100 en rond af (met de functie *round()*). \n",
    "\n",
    "Het getal dat je nu bekomt, is de moeilijkheidsgraad.\n",
    " \n",
    "Schrijf een functie die als parameter een dataframe neemt en dat dataframe terug geeft met voor elke rij een extra kolom 'moeilijkheidsgraad'."
   ],
   "metadata": {
    "collapsed": false
   },
   "id": "358f360407bbbf63"
  },
  {
   "cell_type": "code",
   "execution_count": null,
   "outputs": [],
   "source": [
    "def vraag6_moeilijkheidsgraad(df = getDF(\"immokantoor.csv\")):\n",
    "    return df # TODO: correct dataframe"
   ],
   "metadata": {
    "collapsed": false
   },
   "id": "24cee37eb04c2479"
  },
  {
   "cell_type": "code",
   "execution_count": null,
   "outputs": [],
   "source": [
    "def vraag6_test():\n",
    "    df6 = getDF(\"immokantoor.csv\")\n",
    "    return vraag6_moeilijkheidsgraad(df6)\n",
    "\n",
    "show_grid((vraag6_test()))"
   ],
   "metadata": {
    "collapsed": false
   },
   "id": "c27d06bdd8a29e6d"
  },
  {
   "cell_type": "markdown",
   "source": [
    "# Opgave 7\n",
    "\n",
    "Schrijf een functie die gegeven een minimum moeilijkheidsgraad, en optioneel een dataframe, alle verkochte huizen teruggeeft met een moeilijkheidsgraad groter dan de opgegeven parameter.\n"
   ],
   "metadata": {
    "collapsed": false
   },
   "id": "439ceb10fac5f03c"
  },
  {
   "cell_type": "code",
   "execution_count": null,
   "outputs": [],
   "source": [
    "def vraag7_moeilijk_verkocht(minimum_moeilijkheidsgraad, df = getDF(\"immokantoor.csv\")):\n",
    "    return df # TODO: correct dataframe"
   ],
   "metadata": {
    "collapsed": false
   },
   "id": "8ae18688028595bb"
  },
  {
   "cell_type": "code",
   "execution_count": null,
   "outputs": [],
   "source": [
    "def vraag7_test():\n",
    "    df7 = getDF(\"immokantoor.csv\")\n",
    "    return vraag7_moeilijk_verkocht(20)\n",
    "    \n",
    "show_grid(vraag7_test())"
   ],
   "metadata": {
    "collapsed": false
   },
   "id": "72ee4853a2a83a5c"
  },
  {
   "cell_type": "markdown",
   "source": [
    "# Opgave 8\n",
    "\n",
    "Grafieken zijn natuurlijk ook heel belangrijk. Omdat de panden in het csv-bestand in een vervelende volgorde staan, smokkelen we wat nog-niet-behandelde extra functionaliteit van pandas in deze opgave, nl. het sorteren van de rijen van een dataframe. \n",
    "\n",
    "Om een dataframe te sorteren moet je de methode **sort_values** gebruiken. Deze neemt als eerste parameter de naam van de kolom waarop je wil sorteren, of een lijst van namen. In dat laatste geval wordt de tweede kolom gebruikt als tweede sorteercriterium als er twee rijen zijn met dezelfde waarde voor het eerste sorteercriterium. De methode geeft een nieuw dataframe terug.\n",
    "\n",
    "Hieronder twee voorbeelden\n",
    "\n",
    "df1  = mensen.sort_values([\"naam\", \"voornaam\"]) # sorteert dataframe mensen volgens naam en voornaam\n",
    "df2 = studenten.sort_values(\"percentage\") # sorteert dataframe studenten volgens stijgend percentage\n",
    "\n",
    "De methode heeft ook nog een aantal optionele parameters, maar die heb je niet nodig.\n",
    "\n",
    "Maak nu een functie met drie  parameters:\n",
    "- sorteerX: de naam van de kolom waarop je wil sorteren, en die op de x-as moet komen\n",
    "- kolomY: de naam van de kolom waarvan de waarden op de y-as moeten komen\n",
    "- dataframe: optionele parameter voor het dataframe waaruit de waarden moeten komen\n",
    "\n"
   ],
   "metadata": {
    "collapsed": false
   },
   "id": "c37640e5a4aec89e"
  },
  {
   "cell_type": "code",
   "execution_count": null,
   "outputs": [],
   "source": [
    "def vraag8_grafiek(sorteerX, kolomY, df = getDF(\"immokantoor.csv\")):\n",
    "    #TODO: code voor de juiste grafiek\n",
    "    plt.show() "
   ],
   "metadata": {
    "collapsed": false
   },
   "id": "4f90d1ab9bd29c2c"
  },
  {
   "cell_type": "code",
   "execution_count": null,
   "outputs": [],
   "source": [
    "def vraag8_test():\n",
    "    vraag8_grafiek(\"oppervlakte\",\"prijs\")\n",
    "    \n",
    "vraag8_test()"
   ],
   "metadata": {
    "collapsed": false
   },
   "id": "80642d1eb934c6db"
  }
 ],
 "metadata": {
  "kernelspec": {
   "display_name": "Python 3",
   "language": "python",
   "name": "python3"
  },
  "language_info": {
   "codemirror_mode": {
    "name": "ipython",
    "version": 2
   },
   "file_extension": ".py",
   "mimetype": "text/x-python",
   "name": "python",
   "nbconvert_exporter": "python",
   "pygments_lexer": "ipython2",
   "version": "2.7.6"
  }
 },
 "nbformat": 4,
 "nbformat_minor": 5
}
