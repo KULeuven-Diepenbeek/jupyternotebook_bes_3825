{
 "cells": [
  {
   "cell_type": "markdown",
   "source": [
    "# 2.5 Variabelen\n",
    "\n",
    "Een variabele is een stuk geheugen van de computer dat je een naam gegeven hebt waarin je een waarde kan opslagen. Omdat je de waarde van een variabele kan veranderen door er een andere waarde in op te slagen, noemen ze de geheugencel een *variabele*."
   ],
   "metadata": {
    "collapsed": false
   },
   "id": "e26745af12d1749c"
  },
  {
   "cell_type": "code",
   "execution_count": null,
   "outputs": [],
   "source": [
    "# drie variabelen in één cel\n",
    "zeventienAlsGetal = 17\n",
    "zeventienAlsTekst = \"17\"\n",
    "profInformatica = \"Kris Aerts\""
   ],
   "metadata": {
    "collapsed": false
   },
   "id": "b3b178df5f06b533"
  },
  {
   "cell_type": "markdown",
   "source": [
    "## Een bibliotheek importeren en een langer voorbeeld"
   ],
   "metadata": {
    "collapsed": false
   },
   "id": "4f52da2af6fe3e16"
  },
  {
   "cell_type": "code",
   "execution_count": null,
   "outputs": [],
   "source": [
    "import math\n",
    "\n",
    "a = -4\n",
    "b = 1\n",
    "c = 2\n",
    "\n",
    "discriminant = b**2 - 4*a*c\n",
    "nulpunt1 = (-b - math.sqrt(discriminant))/(2*a)\n",
    "nulpunt2 = (-b + math.sqrt(discriminant))/(2*a)"
   ],
   "metadata": {
    "collapsed": false
   },
   "id": "96a8b12f5b63fc08"
  },
  {
   "cell_type": "markdown",
   "source": [
    "# 2.9 In- en uitvoer\n",
    "\n",
    "We zagen eerder al dat we met de print aan uitvoer naar de console kunnen doen. \n",
    "We kunnen ook invoer aan de console vragen. Dan moet de gebruiker iets intypen. \n",
    "\n",
    "Omdat we niet op voorhand kunnen weten welk soort waarde de gebruiker intypt, is de invoer steeds van het type *string*. Je moet dan expliciet converteren, maar je kan ook de module pcinput.py gebruiken.\n",
    "\n",
    "Probeer even volgende code. Doe dit gerust een paar keer waarbij je afwisselt tussen wel en niet een getal invullen bij beide prompts."
   ],
   "metadata": {
    "collapsed": false
   },
   "id": "46e46ff5e3da2daf"
  },
  {
   "cell_type": "code",
   "execution_count": null,
   "outputs": [],
   "source": [
    "from pcinput import *\n",
    "geenGetal = input(\"Geef iets in\")\n",
    "\n",
    "print(\"Ik herhaal nu jouw invoer 3x\")\n",
    "print(geenGetal * 3)\n",
    "\n",
    "welGetal = getInteger(\"Geef een getal in\")\n",
    "\n",
    "print(\"Ik vermenigvuldig nu jouw invoer met 3.\")\n",
    "print(welGetal * 3)\n"
   ],
   "metadata": {
    "collapsed": false
   },
   "id": "a99a84873094105"
  },
  {
   "cell_type": "code",
   "execution_count": null,
   "outputs": [],
   "source": [
    "# laatste voorbeeld van 2.9\n",
    "naam = input(\"geef je naam: \")\n",
    "print(\"Dag \" + naam)\n",
    "\n",
    "leeftijd = int(input(\"Geef je leeftijd\"))\n",
    "strLeeftijd = str(leeftijd)\n",
    "print(\"Amai, voor \" + strLeeftijd + \" zie je er nog goed uit\")\n",
    "\n",
    "getal = getFloat(\"Geef een getal\")\n",
    "dubbel = 2 * getal\n",
    "print(\"Het dubbele van \", getal, \" = \", dubbel)\n"
   ],
   "metadata": {
    "collapsed": false
   },
   "id": "cefc44f6bede8c94"
  },
  {
   "cell_type": "markdown",
   "source": [
    "# 2.10 De IF\n",
    "Wanneer je in de code twee mogelijkheden wil afdekken, kan je de if gebruiken. De standaard if heeft een voorwaarde en voert een stuk code alleen uit als de voorwaarde *waar* is.\n",
    "\n",
    "De if-then-else heeft twéé takken: een tak die uitgevoerd wordt als de voorwaarde *waar* is en een else-tak die uitgevoerd wordt wanneer de voorwaarde *niet waar* is.\n",
    "\n"
   ],
   "metadata": {
    "collapsed": false
   },
   "id": "9f51af389412891"
  },
  {
   "cell_type": "code",
   "execution_count": null,
   "outputs": [],
   "source": [
    "# De voorbeelden van de cursus\n",
    "\n",
    "x = getFloat(\"Geef een getal en ik toon de absolute waarde\")\n",
    "if x < 0:\n",
    "   print(-x) \n",
    "else:\n",
    "   print(x) \n",
    "\n",
    "n = getInteger(\"Geef een getal en ik zeg of het even is\")        \n",
    "if n%2 == 0:\n",
    "   print(n, \"is even\") \n",
    "else:\n",
    "   print(n, \"is NIET even\") \n",
    "\n",
    "leeftijd = getInteger(\"Geef je leeftijd\") \n",
    "    \n",
    "if leeftijd < 16:\n",
    "   print(\"Lidmaatschap is gratis \")\n",
    "elif leeftijd < 24:\n",
    "   print(\"Lidmaatschap = € 10\")\n",
    "else:\n",
    "   print(\"Lidmaatschap = € 20\")"
   ],
   "metadata": {
    "collapsed": false
   },
   "id": "58314aad8029315f"
  },
  {
   "cell_type": "markdown",
   "source": [
    "# 2.11 Oefeningen\n",
    "\n",
    "Werk in deze oefeningen zo veel mogelijk met variabelen.\n",
    "\n",
    "1.\tVerklaar waarom het volgende programma voor de input 4 en 5 als uitkomst 45 geeft.\t\n",
    "\t\n",
    "a = input(\"getal 1:\")\n",
    "b = input(\"getal 2:\")\n",
    "print (a+b)\n",
    "\n",
    "2. Schrijf een programma dat iemands gewicht en lengte opvraagt en druk de BMI af (BMI = gewicht / lengte in het kwadraat)."
   ],
   "metadata": {
    "collapsed": false
   },
   "id": "cf3d8be24c5d5096"
  },
  {
   "cell_type": "code",
   "execution_count": null,
   "outputs": [],
   "source": [
    "# typ hier je oplossing voor oefening 2"
   ],
   "metadata": {
    "collapsed": false
   },
   "id": "f93a1205e9cb9aad"
  },
  {
   "cell_type": "markdown",
   "source": [
    "3.\tSchrijf een programma dat opvraagt hoeveel minuten en hoeveel seconden iemand nodig had om 1 km afstand af te leggen en bereken de snelheid per uur. "
   ],
   "metadata": {
    "collapsed": false
   },
   "id": "fb9ba4f5030d3c31"
  },
  {
   "cell_type": "code",
   "execution_count": null,
   "outputs": [],
   "source": [
    "# typ hier je oplossing voor oefening 3"
   ],
   "metadata": {
    "collapsed": false
   },
   "id": "6622ffc6c6005382"
  },
  {
   "cell_type": "markdown",
   "source": [
    "4.\tSchrijf een programma dat twee getallen aan de gebruiker vraagt en dat afdrukt of het ene getal een deler is van het andere getal."
   ],
   "metadata": {
    "collapsed": false
   },
   "id": "97c97ee76ce2b68e"
  },
  {
   "cell_type": "code",
   "execution_count": null,
   "outputs": [],
   "source": [
    "# typ hier je oplossing voor oefening 4"
   ],
   "metadata": {
    "collapsed": false
   },
   "id": "bb995d64ed0bcc11"
  },
  {
   "cell_type": "markdown",
   "source": [
    "5.\tSchrijf een programma dat een getal aan de gebruiker vraagt en afdrukt of de sinus van het getal groter is dan de cosinus of omgekeerd."
   ],
   "metadata": {
    "collapsed": false
   },
   "id": "87fe7ff3264586d6"
  },
  {
   "cell_type": "code",
   "execution_count": null,
   "outputs": [],
   "source": [
    "# typ hier je oplossing voor oefening 5"
   ],
   "metadata": {
    "collapsed": false
   },
   "id": "362bbf18f780f630"
  }
 ],
 "metadata": {
  "kernelspec": {
   "display_name": "Python 3",
   "language": "python",
   "name": "python3"
  },
  "language_info": {
   "codemirror_mode": {
    "name": "ipython",
    "version": 2
   },
   "file_extension": ".py",
   "mimetype": "text/x-python",
   "name": "python",
   "nbconvert_exporter": "python",
   "pygments_lexer": "ipython2",
   "version": "2.7.6"
  }
 },
 "nbformat": 4,
 "nbformat_minor": 5
}
