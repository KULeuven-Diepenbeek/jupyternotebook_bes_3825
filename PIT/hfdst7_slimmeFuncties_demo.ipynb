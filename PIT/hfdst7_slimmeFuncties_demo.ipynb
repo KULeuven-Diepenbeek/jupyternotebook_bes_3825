{
 "cells": [
  {
   "cell_type": "markdown",
   "source": [
    "# Hoofdstuk 7 Slimme Functies\n",
    "\n",
    "## Woonhuizen worden duurder"
   ],
   "metadata": {
    "collapsed": false
   },
   "id": "a1de60808d4e437d"
  },
  {
   "cell_type": "code",
   "execution_count": null,
   "outputs": [],
   "source": [
    "# imports voor alle volgende cellen\n",
    "import math\n",
    "import numpy as np\n",
    "import pandas as pd\n",
    "from matplotlib import pyplot as plt\n",
    "from slimmeFuncties import *"
   ],
   "metadata": {
    "collapsed": false
   },
   "id": "d699653ae9dc75cd"
  },
  {
   "cell_type": "code",
   "execution_count": null,
   "outputs": [],
   "source": [
    "# oplossing van vorige werkzitting\n",
    "def plotWoonhuizenPerProvincie(file=\"csv/immo_by_province.csv\"):\n",
    "    immo = pd.read_csv(file, sep=\";\", encoding=\"latin-1\")\n",
    "    huizen = immo[immo[\"soort\"]==\"gewone woonhuizen\"]\n",
    "    limburg = huizen[huizen[\"regio\"]==\"PROVINCIE LIMBURG\"]\n",
    "    antwerpen = huizen[huizen[\"regio\"]==\"PROVINCIE ANTWERPEN\"]\n",
    "    vlBrabant = huizen[huizen[\"regio\"]==\"PROVINCIE VLAAMS-BRABANT\"]\n",
    "    plt.plot(limburg[\"jaar\"], limburg[\"prijs\"], color=\"r\", label=\"Limburg\")\n",
    "    plt.plot(antwerpen[\"jaar\"], antwerpen[\"prijs\"], color=\"g\", label=\"Antwerpen\")\n",
    "    plt.plot(vlBrabant[\"jaar\"], vlBrabant[\"prijs\"], color=\"b\", label=\"Vlaams-Brabant\")\n",
    "    plt.legend()\n",
    "    plt.ylabel(\"prijs (€)\")\n",
    "    plt.show()\n",
    "\n",
    "plotWoonhuizenPerProvincie( )"
   ],
   "metadata": {
    "collapsed": false
   },
   "id": "2a9a4f38ce784cbf"
  },
  {
   "cell_type": "markdown",
   "source": [
    "### Analyse\n",
    "\n",
    "We kunnen op de drie plots curve-fitting toepassen. \n",
    "\n",
    "Welke vergelijkingen krijg je dan en wat is de R²?\n",
    "\n",
    "Is het interessant om op te splitsen in de periode voor en na 2005?\n",
    "\n",
    "Welke vergelijkingen krijg je dan en wat is de R²?"
   ],
   "metadata": {
    "collapsed": false
   },
   "id": "c0f6e67eddcb1416"
  },
  {
   "cell_type": "code",
   "execution_count": null,
   "outputs": [],
   "source": [
    "# ruimte om te experimenteren\n",
    "def analyseWoonhuizenPerProvincie(file=\"csv/immo_by_province.csv\"):\n",
    "    immo = pd.read_csv(file, sep=\";\", encoding=\"latin-1\")\n",
    "    huizen = immo[immo[\"soort\"]==\"gewone woonhuizen\"]\n",
    "    limburg = huizen[huizen[\"regio\"]==\"PROVINCIE LIMBURG\"]\n",
    "    antwerpen = huizen[huizen[\"regio\"]==\"PROVINCIE ANTWERPEN\"]\n",
    "    vlBrabant = huizen[huizen[\"regio\"]==\"PROVINCIE VLAAMS-BRABANT\"]\n",
    "    modelFunctieLimburgLineair = fitVeelterm(limburg[\"jaar\"], limburg[\"prijs\"], 1) \n",
    "    modelFunctieLimburg2 = fitVeelterm(limburg[\"jaar\"], limburg[\"prijs\"], 2) \n",
    "    modelFunctieLimburg3 = fitVeelterm(limburg[\"jaar\"], limburg[\"prijs\"], 3)\n",
    "    print(modelFunctieLimburgLineair(2050), \n",
    "          rKwadraat(limburg[\"jaar\"], limburg[\"prijs\"], modelFunctieLimburgLineair))\n",
    "    print(modelFunctieLimburg2(2050),\n",
    "          rKwadraat(limburg[\"jaar\"], limburg[\"prijs\"], modelFunctieLimburg2))\n",
    "    print(modelFunctieLimburg3(2050),\n",
    "          rKwadraat(limburg[\"jaar\"], limburg[\"prijs\"], modelFunctieLimburg3))\n",
    "    \n",
    "    print(\"hallo\")\n",
    "    limburgTot100K = selecteerTotWaarde(limburg, \"prijs\", 100000, True)\n",
    "    print(limburgTot100K)\n",
    "    print(\"hallo\")\n",
    "    limburgVanaf100K = knipTotWaarde(limburg, \"prijs\", 100000, True)\n",
    "    print(limburgVanaf100K)\n",
    "    print(\"------------\")\n",
    "    lineairTot100K = fitVeelterm(limburgTot100K[\"jaar\"], limburgTot100K[\"prijs\"], 1)\n",
    "    print(lineairTot100K(2050), \n",
    "          rKwadraat(limburgTot100K[\"jaar\"], limburgTot100K[\"prijs\"], lineairTot100K))\n",
    "    limburg2 = fitVeelterm(limburgVanaf100K[\"jaar\"], limburgVanaf100K[\"prijs\"], 2) \n",
    "    limburg3 = fitVeelterm(limburgVanaf100K[\"jaar\"], limburgVanaf100K[\"prijs\"], 3)\n",
    "    \n",
    "    xAs = limburg[\"jaar\"]\n",
    "    xAs2 = range(2000,2030)\n",
    "    plt.plot(xAs, limburg[\"prijs\"], color=\"r\", label=\"Limburg\")\n",
    "    plt.plot(xAs2, list(map(modelFunctieLimburgLineair, xAs2)), label=\"lineair\")\n",
    "    plt.plot(xAs2, list(map(limburg2, xAs2)), label=\"2de graad\")\n",
    "    plt.plot(xAs2, list(map(limburg3, xAs2)), label=\"3de graad\")\n",
    "    \n",
    "    #plt.plot(antwerpen[\"jaar\"], antwerpen[\"prijs\"], color=\"g\", label=\"Antwerpen\")\n",
    "    #plt.plot(vlBrabant[\"jaar\"], vlBrabant[\"prijs\"], color=\"b\", label=\"Vlaams-Brabant\")\n",
    "    #plt.legend()\n",
    "    #plt.ylabel(\"prijs (€)\")\n",
    "    #plt.show()\n",
    "\n",
    "analyseWoonhuizenPerProvincie( )"
   ],
   "metadata": {
    "collapsed": false
   },
   "id": "7f3efff688bd3773"
  },
  {
   "cell_type": "markdown",
   "source": [
    "## Wrijvingskracht"
   ],
   "metadata": {
    "collapsed": false
   },
   "id": "d5064c846182196a"
  },
  {
   "cell_type": "code",
   "execution_count": null,
   "outputs": [],
   "source": [
    "def plotWrijvingskracht(file=\"csv/Wrijvingskracht.csv\"):\n",
    "    df = pd.read_csv(file, sep=\";\", encoding=\"latin-1\")\n",
    "    plt.plot(df[\"Tijd (s)\"], df[\"Kracht (N)\"])\n",
    "    plt.title(\"Kracht in functie van de tijd\")\n",
    "    plt.grid(True)\n",
    "    plt.show()\n",
    "\n",
    "plotWrijvingskracht()"
   ],
   "metadata": {
    "collapsed": false
   },
   "id": "28b0d73011b86372"
  },
  {
   "cell_type": "markdown",
   "source": [
    "## Analyse\n",
    "\n",
    "- In de eerste fase gebeurt er nog niks interessant: knip die weg.\n",
    "- Tweede fase = stijgende helling: houd alleen die over\n",
    "- Derde fase = dalende helling\n",
    "- Vierde fase = plateaufase: selecteer en bereken zwevend gemiddelde"
   ],
   "metadata": {
    "collapsed": false
   },
   "id": "3829b44fafd6f87d"
  },
  {
   "cell_type": "markdown",
   "source": [
    "## Covid-golven"
   ],
   "metadata": {
    "collapsed": false
   },
   "id": "c74acb789cc81d93"
  },
  {
   "cell_type": "code",
   "execution_count": null,
   "outputs": [],
   "source": [
    "def plotCovidOrigineel(file=\"csv/COVID19worldwide2.csv\"):\n",
    "    df = pd.read_csv(file, sep=\";\", encoding=\"latin-1\")\n",
    "    \n",
    "    plt.plot(df[\"dagID\"], df[\"Belgie\"], label=\"Belgie\")\n",
    "    #plt.plot(df[\"dagID\"], df[\"Nederland\"], label=\"Nederland\")\n",
    "    plt.plot(df[\"dagID\"], df[\"Duitsland\"], linestyle=\"--\", label=\"Duitsland\")\n",
    "    #plt.plot(df[\"dagID\"], df[\"Frankrijk\"], label=\"Frankrijk\")\n",
    "    #plt.plot(df[\"dagID\"], df[\"Denemarken\"], label=\"Denemarken\")\n",
    "    plt.plot(df[\"dagID\"], df[\"Zweden\"], linestyle=\":\", label=\"Zweden\")\n",
    "    plt.title(\"Aantal covid-gevallen per land\")\n",
    "    plt.legend()\n",
    "    plt.ylabel(\"Aantal besmettingen\")\n",
    "    plt.xlabel(\"Dagnummer in 2020\")\n",
    "    plt.grid(True)\n",
    "    plt.show()\n",
    "\n",
    "plotCovidOrigineel()  "
   ],
   "metadata": {
    "collapsed": false
   },
   "id": "e0cf5f522b059392"
  },
  {
   "cell_type": "code",
   "execution_count": null,
   "outputs": [],
   "source": [
    "def plotCovid(file=\"csv/COVID19worldwide2.csv\"):\n",
    "    df = pd.read_csv(file, sep=\";\", encoding=\"latin-1\")\n",
    "    #df = selecteerAantalXas(df,200)\n",
    "    #df = selecteerTotPercentage(df,\"Duitsland\", 0.99)\n",
    "    #df = knipTotWaarde(df,\"Duitsland\",20)\n",
    "    df[\"Belgie2\"] = zwevendGemiddelde(df[\"Belgie\"],7)\n",
    "    df[\"Nederland2\"] = zwevendGemiddelde(df[\"Nederland\"],7)\n",
    "    df[\"Duitsland2\"] = zwevendGemiddelde(df[\"Duitsland\"],7)\n",
    "    df[\"Zweden2\"] = zwevendGemiddelde(df[\"Zweden\"],7)\n",
    "    \n",
    "    #plt.plot(df[\"dagID\"], df[\"Belgie\"], label=\"Belgie\")\n",
    "    plt.plot(df[\"dagID\"], df[\"Belgie2\"], label=\"Belgie\")\n",
    "    plt.plot(df[\"dagID\"], df[\"Nederland2\"], linestyle=\"--\", label=\"Nederland\")\n",
    "    #plt.plot(df[\"dagID\"], df[\"Duitsland2\"], linestyle=\":\", label=\"Duitsland\")\n",
    "    #plt.plot(df[\"dagID\"], df[\"Frankrijk\"], label=\"Frankrijk\")\n",
    "    #plt.plot(df[\"dagID\"], df[\"Denemarken\"], label=\"Denemarken\")\n",
    "    plt.plot(df[\"dagID\"], df[\"Zweden2\"], linestyle=\":\", label=\"Zweden\")\n",
    "    plt.title(\"Aantal covid-gevallen per land\")\n",
    "    plt.legend()\n",
    "    plt.grid(True)\n",
    "    plt.show()\n",
    "\n",
    "plotCovid()"
   ],
   "metadata": {
    "collapsed": false
   },
   "id": "409f36f16060171c"
  },
  {
   "cell_type": "markdown",
   "source": [
    "### Analyse\n",
    "\n",
    "- Waarom die rare schommelingen?\n",
    "- Hoe kunnen we golven herkennen?"
   ],
   "metadata": {
    "collapsed": false
   },
   "id": "767ce9459ed5ec48"
  },
  {
   "cell_type": "markdown",
   "source": [
    "## Een trekproef"
   ],
   "metadata": {
    "collapsed": false
   },
   "id": "f30f9a43c68e4a5"
  },
  {
   "cell_type": "code",
   "execution_count": null,
   "outputs": [],
   "source": [
    "def plotTrekproef(file=\"csv/trekproef_aluminium.csv\"):\n",
    "    df = pd.read_csv(file, sep=\";\", encoding=\"latin-1\")\n",
    "    plt.plot(df[\"Kracht (N)\"], df[\"Uitrekking (mm)\"])\n",
    "    plt.title(\"Uitrekking in functie van kracht\")\n",
    "    plt.grid(True)\n",
    "    plt.show()\n",
    "\n",
    "plotTrekproef()"
   ],
   "metadata": {
    "collapsed": false
   },
   "id": "e2f63b05f35351b"
  },
  {
   "cell_type": "markdown",
   "source": [
    "### Analyse\n",
    "\n",
    "Welke fases kunnen we hier herkennen?\n"
   ],
   "metadata": {
    "collapsed": false
   },
   "id": "d795c4fd95a4c490"
  },
  {
   "cell_type": "code",
   "execution_count": null,
   "outputs": [],
   "source": [
    "# ruimte om te experimenteren"
   ],
   "metadata": {
    "collapsed": false
   },
   "id": "efb39badf2bd70e1"
  },
  {
   "cell_type": "markdown",
   "source": [],
   "metadata": {
    "collapsed": false
   },
   "id": "6aca3d28015a0a9"
  }
 ],
 "metadata": {
  "kernelspec": {
   "display_name": "Python 3",
   "language": "python",
   "name": "python3"
  },
  "language_info": {
   "codemirror_mode": {
    "name": "ipython",
    "version": 2
   },
   "file_extension": ".py",
   "mimetype": "text/x-python",
   "name": "python",
   "nbconvert_exporter": "python",
   "pygments_lexer": "ipython2",
   "version": "2.7.6"
  }
 },
 "nbformat": 4,
 "nbformat_minor": 5
}
