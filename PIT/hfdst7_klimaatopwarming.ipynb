{
 "cells": [
  {
   "cell_type": "markdown",
   "id": "b7abc50e-58d0-436f-b895-cdfe12ac9fe1",
   "metadata": {
    "tags": []
   },
   "source": [
    "# Slimme functies in een geïntegreerde (maar stapsgewijze) oefening"
   ]
  },
  {
   "cell_type": "markdown",
   "id": "ad92ed96-4bea-4277-9bc4-b37a35d09039",
   "metadata": {
    "tags": []
   },
   "source": [
    "## 1. Situering"
   ]
  },
  {
   "cell_type": "markdown",
   "id": "8dd83036-d8e1-4a09-876f-7dd6b57a640b",
   "metadata": {
    "tags": []
   },
   "source": [
    "De klimaatopwarming is een thema dat niet meer weg te slaan is uit de media. En terecht, het is een thema dat ons allen aanbelangt. Als individu kan ieder zijn/haar steentje bijdragen om onze uitstoot van schadelijke broeikasgassen onder controle te houden. Als ingenieur kan je nog meer bijdragen, bijvoorbeeld in de ontwikkeling van duurzame materialen, energiezuinige machines, uitstootvrije voertuigen of klimaatneutrale gebouwen; om maar een paar voorbeelden te noemen. Maar hoezeer is het nu gesteld met het klimaat? Zijn er historische gegevens over enerzijds de temperatuur op aarde en anderzijds de concentraties van broeikasgassen zoals koolstofdioxide (CO<sub>2</sub>), methaan (CH<sub>4</sub>) en stikstofoxide (NO) in onze atmosfeer? Wat kunnen die data ons leren? \n",
    "\n",
    "De data zijn er alvast in de vorm van de bijgeleverde CSV-bestanden. De betrouwbaarheid hiervan hebben we al geëvalueerd, want vergeet niet: *garbage in = garbage out*, of anders gezegd: slechte data geeft slechte resultaten. \n",
    " \n",
    "### Onderzoeksvragen\n",
    "\n",
    "In deze geïntegreerde oefening analyseren we de data op zoek naar gepaste antwoorden op volgende **onderzoeksvragen**:\n",
    "\n",
    "- Wat is de toename in gemiddelde landtemperatuur van de periode 1850 tot 2020?\n",
    "- Wat is de toename in concentratie aan broeikasgassen van 1850 tot 2020?\n",
    "- Is er een verband tussen toename in broeikasgassen en toename in temperatuur?"
   ]
  },
  {
   "cell_type": "markdown",
   "id": "b5c98f84-5f3e-432d-bbd1-26081bf2b320",
   "metadata": {},
   "source": [
    "## 2. Datasets"
   ]
  },
  {
   "cell_type": "markdown",
   "id": "adb0b6e1-1429-4329-b1c2-21a848a19f18",
   "metadata": {},
   "source": [
    "Via Data World Society [1] vonden we twee publiek toegankelijke datasets in csv-formaat (separator ; en encoding latin-1).\n",
    "\n",
    "- `globaltemperatures.csv` bevat de globale landtemperatuur van het noordelijk halfrond gemeten van 1850 tot en met 2020, zoals verzameld door Berkeley University. \n",
    "- 'greenhousegas.csv' bevat gegevens betreffende de concentratie van de voornaamste broeikasgassen in onze atmosfeer uitgedrukt in PPM (Parts Per Million) voor het aandeel aan CO<sub>2</sub> en in PPB (Parts Per Billion) voor methaan en N<sub>2</sub>O. Dit is het 'aantal particles' of- moleculen; zeg maar per miljoen (respectievelijk miljard luchtmoleculen. De data die beschikbaar wordt gesteld komt van enerzijds berekeningen op basis van ijsmonsters geboord in dikke ijslagen van Antarctica en geeft ons gegevens tot zelfs 800 000 v.Chr. De data in de beginperiode zijn nog sporadisch (we hebben niet van elke periode gegevens voor alle broeikasgassen), maar vanaf eind jaren '70 is er rechtstreeks meetdata beschikbaar vanuit stations in Hawai, Alaska, enz..."
   ]
  },
  {
   "cell_type": "markdown",
   "id": "08742d43-a379-4f3c-b82c-27500a23191b",
   "metadata": {},
   "source": [
    "## 4 Deel 1: analyse van globale landtemperatuur (noordelijk halfrond)"
   ]
  },
  {
   "cell_type": "markdown",
   "source": [
    "Begin met de volgende cel uit te voeren om alle imports in orde te brengen."
   ],
   "metadata": {
    "collapsed": false
   },
   "id": "5fcc16ea97d19285"
  },
  {
   "cell_type": "code",
   "execution_count": null,
   "outputs": [],
   "source": [
    "import math\n",
    "import numpy as np\n",
    "import pandas as pd\n",
    "from qgridnext import show_grid\n",
    "from matplotlib import pyplot as plt\n",
    "%matplotlib widget\n",
    "from slimmeFuncties import * "
   ],
   "metadata": {
    "collapsed": false
   },
   "id": "c92006f9ac84475f"
  },
  {
   "cell_type": "markdown",
   "id": "6e4d532b-4659-417d-8dab-bf70cc0b536c",
   "metadata": {},
   "source": [
    "In ondergaande cel lezen we de gegevens in de variabele *temperatuurData* in en de cel eronder drukken we het dataframe af.\n",
    "*(Klik [hier](./globaltemperatures.csv) om de hele csv file te bekijken)*"
   ]
  },
  {
   "cell_type": "code",
   "execution_count": null,
   "id": "b4283402-e8e6-4d2f-9ea8-eac3da12dbe3",
   "metadata": {
    "tags": []
   },
   "outputs": [],
   "source": [
    "temperatuurData = pd.read_csv(\"globaltemperatures.csv\", sep=\";\", encoding = \"latin-1\")"
   ]
  },
  {
   "cell_type": "code",
   "execution_count": null,
   "outputs": [],
   "source": [
    "show_grid(temperatuurData)"
   ],
   "metadata": {
    "collapsed": false
   },
   "id": "7aa9217ce7784049"
  },
  {
   "cell_type": "markdown",
   "id": "756a730d-b22c-46ec-8867-22e587e517a4",
   "metadata": {},
   "source": [
    "### Opdracht 1: \n",
    "Schrijf een functie die de temperatuur plot i.f.v. de datum. De functie neemt als parameter een dataframe zoals we hierboven gemaakt hebben.\n",
    "Wat stel je vast?"
   ]
  },
  {
   "cell_type": "code",
   "execution_count": null,
   "id": "c9af57e8-6a0d-4bc4-8bd8-437d752c7d89",
   "metadata": {},
   "outputs": [],
   "source": [
    "# TODO 1: plot de temperatuurData\n",
    "def plotTemperaturen(dataFrame):\n",
    "    # TODO 1: vul aan\n",
    "    plt.figure()\n",
    "    plt.show()\n",
    "    \n",
    "plotTemperaturen(temperatuurData) "
   ]
  },
  {
   "cell_type": "markdown",
   "id": "fb954adb-2fd2-4745-bb56-6e8ea1ac2505",
   "metadata": {},
   "source": [
    "</br>\n",
    "</br>\n",
    "\n",
    "**Het probleem in de grafiek na opdracht 1 is dat je eigenlijk weinig ziet omwille van het seizoenseffect:** al eeuwenlang zijn de winters kouder dan de zomers. Doordat de temperaturen schommelen zie je alleen één grote zwarte blok."
   ]
  },
  {
   "cell_type": "markdown",
   "id": "6424f3d6-3f67-4979-af93-139a23173539",
   "metadata": {},
   "source": [
    "### Opdracht 2: \n",
    "\n",
    "1. Met welke techniek kan het seizoenseffect wegfilteren? Tip: er is een functie voor geïmplementeerd in de bibliotheek *slimmeFuncties.py*.\n",
    "\n",
    "2. Gebruik deze functie om de nieuwe data in een kolom `TrendTemp` van het dataframe toe te voegen."
   ]
  },
  {
   "cell_type": "code",
   "execution_count": null,
   "id": "355d64bc-6b92-48e6-b776-67d9b4cf7da1",
   "metadata": {},
   "outputs": [],
   "source": [
    "# TODO 2: kies hieronder de juiste periode voor het zwevend gemiddelde zodat je seizoenseffecten wegwerkt\n",
    "temperatuurData[\"TrendTemp\"] = temperatuurData # TODO: pas de juiste bewerking toe op het dataframe temperatuurData \n"
   ]
  },
  {
   "cell_type": "markdown",
   "id": "7671b25d-8e17-4763-9d86-f7fd406128fd",
   "metadata": {
    "tags": []
   },
   "source": [
    "### Opdracht 3: \n",
    "\n",
    "Voeg aan onderstaande functie de nodige code toe om ook de trend-temperatuur te plotten. De functie neemt als parameter een dataframe zoals we hierboven gemaakt hebben."
   ]
  },
  {
   "cell_type": "code",
   "execution_count": null,
   "id": "3f4cb951-3424-4e0b-ac12-995f3e6691eb",
   "metadata": {},
   "outputs": [],
   "source": [
    "def plotBeideTemperaturen(dataFrame):\n",
    "    xAs = dataFrame[\"Year\"]\n",
    "    yAs1 = dataFrame[\"Temp\"]\n",
    "    plt.figure()\n",
    "    plt.plot(xAs, yAs1, color=\"black\", label=\"gemeten temperatuur °C\")\n",
    "    #TODO: voeg plot van de trend-temperatuur toe\n",
    "    plt.legend()\n",
    "    plt.grid(True)\n",
    "    plt.show()\n",
    "    \n",
    "plotBeideTemperaturen(temperatuurData) "
   ]
  },
  {
   "cell_type": "markdown",
   "id": "0a70fac7-3c76-4326-89b2-54f1abdfa505",
   "metadata": {},
   "source": [
    "### Extra voor de snelle student \n",
    "*Dus over te slaan als je niet genoeg tijd hebt.*\n",
    "\n",
    "Je kan vaststellen dat de rode lijn er in het begin gek uitziet. Verklaar waarom en hoe kan je dit oplossen?"
   ]
  },
  {
   "cell_type": "raw",
   "id": "e55e81ff-a720-4b1b-b8c8-201e2a415945",
   "metadata": {},
   "source": [
    "Waarom ziet de rode lijn er in het begin gek uit?\n",
    "-Antwoord: \n",
    "\n",
    "Hoe kan je dit oplossen?\n",
    "-Antwoord: \n"
   ]
  },
  {
   "cell_type": "markdown",
   "source": [
    "Pas de code hieronder aan volgens je idee van hierboven."
   ],
   "metadata": {
    "collapsed": false
   },
   "id": "5c8d6144fbe3a3fa"
  },
  {
   "cell_type": "code",
   "execution_count": null,
   "outputs": [],
   "source": [
    "def plotBeideTemperaturenBeter(dataFrame):\n",
    "    #TODO: pas dataframe aan of doe andere correcte bewerkingen\n",
    "    xAs = dataFrame[\"Year\"]\n",
    "    yAs1 = dataFrame[\"Temp\"]\n",
    "    plt.figure()\n",
    "    plt.plot(xAs, yAs1, color=\"black\", label=\"gemeten temperatuur °C\")\n",
    "    yAs2 = dataFrame[\"TrendTemp\"]\n",
    "    plt.plot(xAs, yAs2, color=\"red\", label=\"temperatuur °C (zwevend gemiddelde)\")\n",
    "    plt.legend()\n",
    "    plt.grid(True)\n",
    "    plt.show()\n",
    "    \n",
    "plotBeideTemperaturenBeter(temperatuurData) "
   ],
   "metadata": {
    "collapsed": false
   },
   "id": "7321407759999cc8"
  },
  {
   "cell_type": "markdown",
   "id": "86534766-897b-47a6-bb94-28d176c6108a",
   "metadata": {
    "tags": []
   },
   "source": [
    "### Opdracht 4\n",
    "Om te weten of er echt een trend is, mag je natuurlijk niet gewoon 1850 met 2020 vergelijken. Het zou immers kunnen dat zowel 1850 als 2020 uitzonderlijke jaren waren waardoor je een vertekend beeld kan krijgen. Het is beter om met een volledig decennium te werken. Zo middelen we de afwijkingen van één hete zomer of koude winter uit.  We kunnen bijvoorbeeld het decennium 1851-1860 vergelijken met het decennium 2011-2020. "
   ]
  },
  {
   "cell_type": "markdown",
   "id": "1b7e6b4e-2513-4a7a-939f-1576ff6b8764",
   "metadata": {
    "tags": []
   },
   "source": [
    "#### Opdracht 4a: \n",
    "Gebruik de juiste combinatie van knip en selecteerfuncties om enerzijds het decennium van 1851-1860 en anderzijds het decennium van 2011-2020 in een aparte dataframes te plaatsen.\n"
   ]
  },
  {
   "cell_type": "code",
   "execution_count": null,
   "id": "625fef1a-04d2-4f29-923a-6941d61bd701",
   "metadata": {},
   "outputs": [],
   "source": [
    "# TODO 4a:\n",
    "dec18511860=temperatuurData # TODO 1: voeg de juiste bewerking toe\n",
    "dec20112020=temperatuurData # TODO 2: voeg de juiste bewerking toe\n",
    "\n",
    "show_grid(dec18511860)\n",
    "show_grid(dec20112020)\n",
    "\n",
    "# controleer of ze alletwee 120 rijen tellen\n",
    "print(len(dec18511860))\n",
    "print(len(dec20112020))"
   ]
  },
  {
   "cell_type": "markdown",
   "id": "ab0b11cf-c06e-41b7-b332-f035adf87998",
   "metadata": {},
   "source": [
    "#### Opdracht 4b: \n",
    "Plot nu de trend-temperatuur van beide decennia in één grafiek. Zet hiervoor op de x-as gewoon de getallen 1 tot 120 in plaats van de concrete datums: die zijn immers niet hetzelfde voor de twee decennia.\n",
    "De functie heeft nu twee parameters: een voor elk decennium.\n"
   ]
  },
  {
   "cell_type": "code",
   "execution_count": null,
   "id": "5f04272e-8e93-4e95-9542-96e23ad1ad01",
   "metadata": {},
   "outputs": [],
   "source": [
    "# TODO 4b: Plot beide decennia\n",
    "\n",
    "def plotTweeDecennia(decennium1, decennium2):\n",
    "    # TODO: voeg de plot toe. De instellingen hebben we hieronder al juist gezet.\n",
    "    plt.figure()\n",
    "    plt.grid(True)\n",
    "    plt.legend()\n",
    "    plt.xlabel(\"maand\")\n",
    "    plt.ylabel(\"Gemiddelde temperatuur °C afgelopen 12 maanden\")\n",
    "    plt.show()\n",
    "    \n",
    "plotTweeDecennia(dec18511860, dec20112020)"
   ]
  },
  {
   "cell_type": "markdown",
   "id": "592ded87-2f72-4922-af19-5032a3298cf9",
   "metadata": {},
   "source": [
    "Het verschil ziet er reusachtig uit -- en dat is het ook --, maar tegelijk is deze grafiek een tikkeltje misleidend omdat de volledige schaal van deze grafiek 3 graden bedraagt terwijl dit in opdracht 3 nog 16 graden verschil was tussen onder- en bovenkant. Die truc wordt wel meer toegepast wanneer men mensen wil misleiden, maar hier is het geen bewuste zet: matplotlib heeft dit voor ons gedaan."
   ]
  },
  {
   "cell_type": "markdown",
   "id": "2f338b31-b632-409e-8c92-8f3013a5afbf",
   "metadata": {},
   "source": [
    "#### Opdracht 4c:\n",
    "Het verschil is in ieder geval significant en daarom is het de moeite om de gemiddelde landtemperatuur over beide decennia te berekenen. Bereken ook het procentuele verschil."
   ]
  },
  {
   "cell_type": "code",
   "execution_count": null,
   "id": "591e9b6f-3258-4940-846e-4d86843d0f8c",
   "metadata": {},
   "outputs": [],
   "source": [
    "# TODO 4c: bereken de gemiddelde temperatuur over beide decennia\n",
    "gemTemp1851 = 1 # TODO 1: doe de juiste berekening\n",
    "gemTemp2011 = 2 # TODO 2: doe de juiste berekening\n",
    "verschilProcentueel = 3 # TODO 3: doe de juiste berekening\n",
    "print(\"Gemiddelde temperatuur in decennium 1851-1860 is\", gemTemp1851)\n",
    "print(\"Gemiddelde temperatuur in decennium 2011-2020 is\", gemTemp2011)\n",
    "print(\"Dit is\", round(verschilProcentueel,2), \"% verschil!\")"
   ]
  },
  {
   "cell_type": "markdown",
   "id": "2314337b-3f23-4541-8ac9-65c71a3910bc",
   "metadata": {
    "tags": []
   },
   "source": [
    "### Nuancering\n",
    "Deze toename is uiteraard op basis van de landtemperatuur, meetdata van temperatuur van de oceanen is hierin niet opgenomen. Daarbij moet je weten dat oceanen typisch een milde invloed hebben op het klimaat gezien de enorme warmtecapaciteit die zij bezitten."
   ]
  },
  {
   "cell_type": "markdown",
   "id": "5b5c3605-1c98-4d7a-aa86-69791a9052dd",
   "metadata": {
    "tags": []
   },
   "source": [
    "## Deel 2: analyse van globale concentratie broeikasgassen ($CO_2$ , methaan en $N_2O$)"
   ]
  },
  {
   "cell_type": "markdown",
   "id": "f9486b96-b2ea-4371-873b-0fbcd6ded30f",
   "metadata": {},
   "source": [
    "In de cel hieronder lezen we de gegevens an `greenhousegas.csv` in het dataframe `ghgData` in, en drukken we die af.\n",
    "Er is meetdata van drie broeikasgassen: $CO_2$, *methane* en $N_2O$. De eerste staat in ppm, de twee laatste in de ppb: respectievelijk parts per million en per bilion. De NaN is de afkorting van *Not a Number* en betekent dat er géén waarde in die cel was ingevuld.\n",
    "\n",
    "*(Klik [hier](./greenhousegas.csv) om de hele csv file te bekijken)*"
   ]
  },
  {
   "cell_type": "code",
   "execution_count": null,
   "id": "43d97e98-86bd-4dbe-ba1b-918ac809a51e",
   "metadata": {},
   "outputs": [],
   "source": [
    "ghgData = pd.read_csv(\"greenhousegas.csv\", sep=\";\", encoding = \"latin-1\")\n",
    "show_grid(ghgData)"
   ]
  },
  {
   "cell_type": "markdown",
   "id": "739fb814-ac2c-4d4f-ab85-3771d2fa777b",
   "metadata": {
    "tags": []
   },
   "source": [
    "### Opdracht 2.1:\n",
    "TODO: plot de concentratie verschillende broeikasgassen i.f.v. het jaar, rekening houdende met het feit dat $CO_2$ in ppm (parts per milion) en *methane* en $N_2O$ in ppb (parts per billion staan) en dus een andere as nodig hebben.\n",
    " Beantwoord daarna de vragen eronder."
   ]
  },
  {
   "cell_type": "code",
   "execution_count": null,
   "id": "1ba9407b-8989-4f68-a794-267aca9cc460",
   "metadata": {},
   "outputs": [],
   "source": [
    "# TODO 2.1: plot alle concentraties\n",
    "def plotGHG(dataFrame):\n",
    "    #TODO: doe de juiste plot\n",
    "    plt.figure()\n",
    "    plt.show()\n",
    "    \n",
    "plotGHG(ghgData)"
   ]
  },
  {
   "cell_type": "raw",
   "id": "a8c92215-9807-45ba-98a8-0f12db2102d5",
   "metadata": {},
   "source": [
    "# TODO: Beantwoord de vragen\n",
    "Wat stel je vast?\n",
    "-Antwoord: \n",
    "\n",
    "Kan je de vreemde figuur verklaren? (tip: kijk naar de inhoud van het dataframe hierboven)\n",
    "-Antwoord: \n"
   ]
  },
  {
   "cell_type": "markdown",
   "id": "f2b9ad7b-d959-47c1-be24-c5b775a081fd",
   "metadata": {},
   "source": [
    "### Opdracht 2.2a: \n",
    "TODO: Om de grafiek mooier te maken, kan je op de jaren filteren waar er effectief gegevens zijn over élk van de broeikasgassen. Doe dit en roep de functie plotGHG opnieuw op met het gefilterde dataframe.\n"
   ]
  },
  {
   "cell_type": "code",
   "execution_count": null,
   "id": "cfc3077f-c183-4c45-a235-e348570aac99",
   "metadata": {},
   "outputs": [],
   "source": [
    "# TODO 2.2a: filter nu alleen op CO2 ppm > 0\n",
    "ghgCO2 = ghgData # TODO: voeg filter toe\n",
    "\n",
    "plotGHG(ghgCO2)"
   ]
  },
  {
   "cell_type": "markdown",
   "source": [
    "### Opdracht 2.2b: \n",
    "\n",
    "Voor methaan en $N_20$ zijn er nog steeds veel lege plekken. Filter nu waar er gegevens zijn over élk van de broeikasgassen. Doe dit en roep de functie plotGHG opnieuw op met het gefilterde dataframe.\n"
   ],
   "metadata": {
    "collapsed": false
   },
   "id": "972931d1b7fcbe7d"
  },
  {
   "cell_type": "code",
   "execution_count": null,
   "outputs": [],
   "source": [
    "# TODO 2.2b: Verbeter de grafiek door te filteren op rijen met elk broeikasgas > 0\n",
    "ghgFilter = ghgData  # TODO: voeg meer filters toe\n",
    "\n",
    "plotGHG(ghgFilter)"
   ],
   "metadata": {
    "collapsed": false
   },
   "id": "ed5e08e869007959"
  },
  {
   "cell_type": "markdown",
   "id": "a74800c2-7045-4b83-b19b-b66dd082b8f9",
   "metadata": {},
   "source": [
    "### Opdracht 2.3: \n",
    "In plaats van te filteren kan je ook de tijdsschaal in een logaritmische schaal plaatsen. De oudste waarden worden zo samengedrukt op de grafiek en dat is potentieel goed.\n",
    "\n",
    "Python laat dit toe via het commando `plt.xscale('symlog')`. \n",
    "We hebben dat al toegevoegd in de plot-functie hieronder. Probeer dit even uit voor drie dataframes.\n"
   ]
  },
  {
   "cell_type": "code",
   "execution_count": null,
   "id": "3e6b8553-02fe-441c-87d9-d97f0fa58ea2",
   "metadata": {},
   "outputs": [],
   "source": [
    "# TODO 2.3: plaats de tijdsschaal in een logaritmische schaal\n",
    "#          via de methode xscale('symlog')\n",
    "#          Hiervoor heb je een plt-object nodig en moet je de return-value van plotData gebruiken.\n",
    "def plotGHGsymlog(dataFrame):\n",
    "    xAs = dataFrame[\"year\"]\n",
    "    plt.figure()\n",
    "    plt.plot(xAs, dataFrame[\"CO2 ppm\"], color=\"red\")\n",
    "    plt.ylabel(\"ppm\", color=\"red\")\n",
    "\n",
    "    plt.twinx()\n",
    "    plt.plot(xAs, dataFrame[\"methane ppb\"], color=\"blue\")\n",
    "    plt.plot(xAs, dataFrame[\"N2O ppb\"], color=\"blue\", linestyle=\"-.\")\n",
    "    plt.ylabel(\"ppb\", color=\"blue\")\n",
    "    \n",
    "    plt.xscale(\"symlog\")\n",
    "    plt.show()\n",
    "    \n",
    "plotGHGsymlog(ghgData)\n",
    "plotGHGsymlog(ghgCO2)\n",
    "plotGHGsymlog(ghgFilter)"
   ]
  },
  {
   "cell_type": "raw",
   "id": "a735ae75-07b9-4632-b365-6016ade039be",
   "metadata": {},
   "source": [
    "# TODO: Beantwoord de vraag\n",
    "Welk van de dataframes is het meest interessant?\n",
    "\n",
    "-Antwoord: "
   ]
  },
  {
   "cell_type": "markdown",
   "id": "d75aa862-7b66-4af9-816f-d2f42720c243",
   "metadata": {},
   "source": [
    "### Opdracht 2.4: \n",
    "In deel 1 hebben we vastgesteld dat de temperatuur in een decennium rond 1850 en een decennium rond 2020 is gestegen. Om na te gaan of er een verband is met de $CO_2$-concentratie in de atmosfeer willen we beide grafieken op één figuur plotten. Hiervoor moeten we twee dingen doen:\n",
    "\n",
    "- Pas het dataframe van de greenhousegasses aan zodat je alleen de periode van 1851 tot 2020 overhoudt. \n",
    "  Gebruik hiervoor de gepaste knip- en selecteerfuncties.\n",
    "- Pas het dataframe van de temperaturen aan zodat je voor de periode van 1851 tot 2020 één waarde per jaar overhoudt.\n",
    "  Gebruik hiervoor de slice-technieken met 3 parameters [startindex:eindindex:sprong]\n",
    "\n",
    "Plot daarna beide dataframes met een as links en rechts. \n",
    "Gebruik geen gemeenschappelijk x-as, maar de x-as uit het eigen dataframe.\n",
    "Omdat beide x-assen overlappen zal pyplot die correct behandelen.\n"
   ]
  },
  {
   "cell_type": "code",
   "execution_count": null,
   "id": "b4523668-63a1-455e-a310-bd3d8e357975",
   "metadata": {},
   "outputs": [],
   "source": [
    "# TODO 2.4: \n",
    "ghgDataSinds1851 = ghgData #TODO: kies juiste knip- en/of selecteerfuncties\n",
    "tempDataPerJaarSinds1851 = temperatuurData #TODO: slice op de juiste manier\n",
    "\n",
    "show_grid(ghgDataSinds1851)\n",
    "show_grid(tempDataPerJaarSinds1851)\n",
    "\n",
    "def plotGHG_Temp(ghg, temp):\n",
    "    xAs1 = ghg[\"year\"]\n",
    "    yAs1 = ghg[\"CO2 ppm\"]\n",
    "    \n",
    "    plt.figure()\n",
    "    plt.plot(xAs1, yAs1,  color=\"green\")\n",
    "    plt.xlabel(\"Jaar\")\n",
    "    plt.ylabel(\"CO2 ppm\", color=\"green\")\n",
    "    \n",
    "    plt.twinx()\n",
    "    \n",
    "    xAs2 = temp[\"Year\"]\n",
    "    yAs2 = temp[\"TrendTemp\"]\n",
    "    plt.plot(xAs2, yAs2,  color=\"red\")\n",
    "    plt.ylabel(\"temp °C\", color=\"red\")\n",
    "\n",
    "    plt.grid()\n",
    "    plt.show()\n",
    "    \n",
    "plotGHG_Temp(ghgDataSinds1851, tempDataPerJaarSinds1851)"
   ]
  },
  {
   "cell_type": "markdown",
   "id": "2d8ea4d4-e15d-4dc2-b8c7-f7c7151e8d01",
   "metadata": {},
   "source": [
    "## Besluit: \n",
    "Stel je een verband vast?\n",
    "\n",
    "### Disclaimer\n",
    "\n",
    "Een statistisch verband is in het algemeen niet noodzakelijk een oorzakelijk verband. Daarvan zijn veel voorbeelden gekend. Ook in het geval van de klimaatopwarming kan je niet énkel op basis van deze grafiek besluiten dat de mens de oorzaak is van de klimaatopwarming, maar wetenschappers hebben ondertussen al veel sterke bewijzen van de menselijke invloed gevonden. De afgelopen jaren is de opwarming trouwens nog vol versneld. Hoog tijd voor (meer) actie dus!\n"
   ]
  },
  {
   "cell_type": "markdown",
   "id": "ed28e7c6-723e-4ef3-97ef-21969165b448",
   "metadata": {
    "tags": []
   },
   "source": [
    "## Bijlage"
   ]
  },
  {
   "cell_type": "markdown",
   "id": "9bf2692b-a959-4e2d-b2a5-a53f1644e528",
   "metadata": {
    "tags": []
   },
   "source": [
    "### Betrouwbaarheid van de gebruikte gegevens\n",
    "Er zijn datasets van de Universiteit van Berkley (USA) [2] waar onderzoekers uit historische data de gemiddelde globale landtemperatuur hebben berekend. Deze data werd met voldoende zekerheid gegenereerd sinds 1850. Daarnaast stelt het EPA [3] (United States Environmental Protection Agency) een uitgebreide analyse ter beschikking van de indicatoren van de klimaatwijziging. Deze indicatoren zijn o.a. de globale concentratie van broeikasgassen (ghg of green house gasses) en de wijze waarop deze gassen de energiebalans tussen gereflecteerde vs. gevangen energie van de zon beïnvloed. De globale concentratie aan bv. CO<sub>2</sub> kan vandaag de dag gemeten worden aan de hand van monstername in de atmosfeer op diverse plaatsen op de aarde. Maar men heeft ook informatie van de historische CO<sub>2</sub> concentratie op basis van ijsmonsters die zich in de kilometers dikke ijslagen van Antartica bevinden.\n",
    "\n",
    "### Bronnen\n",
    "[1] Data.World Society \"It's Getting Hot In Here: The Burning Effect of Fake News on Climate Change\", Austin Schwinn March 10, 2017\n",
    "\n",
    "[2] Data.World Berkeley Earth Dataset \"Berkeley Earth Global Climate Change Data.\" Data.World. Data Society, 2015. Web. 9 Mar. 2017.\n",
    "\n",
    "[3] EPA Climate Indicators Information \"Climate Change Indicators in the United States.\" EPA. Environmental Protection Agency, 19 Dec. 2016. Web. 9 Mar. 2017."
   ]
  }
 ],
 "metadata": {
  "kernelspec": {
   "display_name": "Python 3 (ipykernel)",
   "language": "python",
   "name": "python3"
  },
  "language_info": {
   "codemirror_mode": {
    "name": "ipython",
    "version": 3
   },
   "file_extension": ".py",
   "mimetype": "text/x-python",
   "name": "python",
   "nbconvert_exporter": "python",
   "pygments_lexer": "ipython3",
   "version": "3.10.6"
  }
 },
 "nbformat": 4,
 "nbformat_minor": 5
}
