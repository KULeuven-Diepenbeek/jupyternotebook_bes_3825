{
 "cells": [
  {
   "cell_type": "markdown",
   "id": "9318c0324b8e398",
   "metadata": {
    "collapsed": false
   },
   "source": [
    "# TAAK 1 van PIT (deel van BES) en van CS1\n",
    "\n",
    "!!!!!!!!!!!!!!!!!!!!!\n",
    "! belangrijk!  !\n",
    "!!!!!!!!!!!!!!!!!!!!!\n",
    "\n",
    "1. Verander **geen enkele naam** van de opgegeven functies! \n",
    "   Anders werken de testen niet en vindt onze code jouw code niet.  \n",
    "   Het automatisch verbetersysteem heeft immers de juiste naam nodig om punten te kunnen geven.\n",
    "   In de cellen hieronder laten we elke functie -1 terug geven, maar dat moet je natuurlijk vervangen door de juiste uitkomst. \n",
    "2. Zorg er voor dat de functie getAchternaam() en getVoornaam() jouw eigen naam terug geven. Gebruik hiervoor zeker **niet** de input-functie!\n",
    "3. Zorg er voor dat élke cel uitgevoerd kan worden. Zodra één cel een foutmelding geeft, krijg je 0 op de **hele** taak.\n",
    "4. Dit bestand vind je al in jouw Jupyterhub-omgeving. Begin met in het overzicht van de bestanden te rechterklikken op de bestandsnaam *opgave_taak1.ipynb* en kies bovenaan **Rename**. Verander de naam in AchternaamVoornaam.ipynb (volgens je eigen naam natuurlijk).\n",
    "5. Wanneer je klaar bent met alles op te lossen, kan je het bestand afhalen door op de rechtermuistoets te klikken op de bestandsnaam en dan onderaan te kiezen voor **Download**. Upload dit bestand op Toledo.\n",
    " \n",
    "-+-+-+-+-+-+-+-+-+-+-+-+-+-+-+-+-+-+-+-+-+-+-+-+-+-+-+-+-+-+-+-+-+-+-+-+-+-\n",
    "-+- Alléén als je deze 5 stappen volgt, krijg je punten voor deze taak! -+-\n",
    "-+-+-+-+-+-+-+-+-+-+-+-+-+-+-+-+-+-+-+-+-+-+-+-+-+-+-+-+-+-+-+-+-+-+-+-+-+-\n"
   ]
  },
  {
   "cell_type": "code",
   "execution_count": null,
   "id": "3a26860b29c2969e",
   "metadata": {
    "collapsed": false
   },
   "outputs": [],
   "source": [
    "def getVoornaam():\n",
    "    return \"schrijf hier je eigen voornaam\""
   ]
  },
  {
   "cell_type": "code",
   "execution_count": null,
   "id": "ef27989ba7ba7104",
   "metadata": {
    "collapsed": false
   },
   "outputs": [],
   "source": [
    "def getAchternaam():\n",
    "    return \"schrijf hier je eigen achternaam\"   "
   ]
  },
  {
   "cell_type": "markdown",
   "id": "9f65264de5292278",
   "metadata": {
    "collapsed": false
   },
   "source": [
    "# Overzicht\n",
    "\n",
    "Deze taak bestaat uit verschillende kleine functies. Als je de materie beheerst, zouden die best snel opgelost moeten geraken, maar de benodigde tijd kan sterk variëren tussen twee verschillende studenten. Als je wat mee bent met de materie in de werkzittingen, moet dit op een beperkt aantal uren afgeraken.\n",
    "\n",
    "Elke opgave wordt **automatisch** geëvalueerd door er testgevallen op los te laten. Elke correcte uitkomst wordt beloond met een punt. Omwille van het automatische proces mag je de naam van de functies niet veranderen.\n",
    "\n",
    "\n",
    "## Opgave 1\n",
    "\n",
    "Op sociale media passeren wel eens posts waarin verteld wordt dat je een tekst zonder klinkers nog altijd perfect kan lezen. Uit dat idee volgt deze opgave:\n",
    "\n",
    "Schrijf een functie die gegeven een string alle klinkers uit die string verwijdert."
   ]
  },
  {
   "cell_type": "code",
   "execution_count": null,
   "id": "a897df25-dd66-41c2-ba14-f0d47e67c628",
   "metadata": {},
   "outputs": [],
   "source": [
    "def geenKlinkers(tekst):\n",
    "    return -1"
   ]
  },
  {
   "cell_type": "code",
   "execution_count": null,
   "id": "67ddf7fc5257a531",
   "metadata": {
    "collapsed": false
   },
   "outputs": [],
   "source": [
    "# een beperkte test om te zien of je programma werkt\n",
    "def voorbeeldGeenKlinkers():\n",
    "    vb1 = geenKlinkers(\"appel\")\n",
    "    print(vb1)  # zou ['p','p','l'] moeten zijn\n",
    "    vb2 = geenKlinkers(\"Dag allemaal\")\n",
    "    print(vb2)  # zou ['D',g',' ','l','l','m','l'] moeten zijn\n",
    "voorbeeldGeenKlinkers()"
   ]
  },
  {
   "cell_type": "markdown",
   "id": "25309e1441904b95",
   "metadata": {
    "collapsed": false
   },
   "source": [
    "## Opgave 2\n",
    "\n",
    "Geheimschrift is al zo oud als het geschrift zelf. Er bestaan complexe systemen en minder complexe systemen. In deze opgave moet je het geheimschrift ontcijferen door van elke woord alléén de eerste letter over te houden. Als je als geheime plaats in de Borly wil afspreken, zou je dan [\"Bizon\", \"Olifant\", \"Rhinoceros\", \"Leeuw\", \"Yak\"] kunnen doorsturen, \n",
    "\n",
    "Schrijf een functie die een lijst van woorden krijgt, en die een lijst terug geeft met daarin van elk woord alleen de eerste letter."
   ]
  },
  {
   "cell_type": "code",
   "execution_count": null,
   "id": "4cfbcbb3-7054-441e-8e19-e51698d3a037",
   "metadata": {},
   "outputs": [],
   "source": [
    "def alleenEersteLetter(lijstVanWoorden):\n",
    "    return -1"
   ]
  },
  {
   "cell_type": "code",
   "execution_count": null,
   "id": "13288bf021e204e0",
   "metadata": {
    "collapsed": false
   },
   "outputs": [],
   "source": [
    "def voorbeeldAlleenEersteLetter():\n",
    "    vb1 = alleenEersteLetter([\"Bizon\", \"Olifant\", \"Rhinoceros\", \"Leeuw\", \"Yak\"])\n",
    "    print(vb1) # zou ['B','O','R','L','Y'] moeten zijn\n",
    "voorbeeldAlleenEersteLetter()"
   ]
  },
  {
   "cell_type": "markdown",
   "id": "bb71d68a57e2f72c",
   "metadata": {
    "collapsed": false
   },
   "source": [
    "## Opgave 3\n",
    "\n",
    "Met Python kan je gemakkelijk lijsten verwerken. Probleem kan echter zijn dat mensen 'foute' waarden in een lijst steken. Zo moeten de getallen in een puntenlijst van 0 tot en met 20 zijn, als je een review doet moet het aantal sterren tussen 0 en 5 liggen, ...\n",
    "\n",
    "Schrijf een functie die drie parameters neemt:\n",
    "      - de eerste is een lijst van waarde;\n",
    "      - de tweede is een minimumwaarde;\n",
    "      - de derde is de maximumwaarde.\n",
    "De functie moet een boolean terug geven die aangeeft of alle waarden in de lijst tussen de minimum- en de maximumwaarde liggen, grenzen inbegrepen.\n"
   ]
  },
  {
   "cell_type": "code",
   "execution_count": null,
   "id": "a8edc273-373a-488e-9713-d392e62df45e",
   "metadata": {},
   "outputs": [],
   "source": [
    "def allemaalCorrectWaarden(lijst, minimum, maximum): \n",
    "    return -1 "
   ]
  },
  {
   "cell_type": "code",
   "execution_count": null,
   "id": "7c629177e4caec40",
   "metadata": {
    "collapsed": false
   },
   "outputs": [],
   "source": [
    "def voorbeeldAllemaalCorrectWaarden():\n",
    "    vb1 = allemaalCorrectWaarden([11,12,17,8,14,6,0,20], 0, 20)\n",
    "    print(vb1) # zou True moeten zijn\n",
    "    vb2 = allemaalCorrectWaarden([1,-2,3.2,1.5,4.2], 0, 5)\n",
    "    print(vb2) # zou False moeten zijn\n",
    "voorbeeldAllemaalCorrectWaarden()"
   ]
  },
  {
   "cell_type": "markdown",
   "id": "20c24e4f10e4d3da",
   "metadata": {
    "collapsed": false
   },
   "source": [
    "# Opgave 4.1\n",
    "\n",
    "Een frequentietabel is een tabel die van elke waarde bijhoudt hoeveel keren die waarde in de lijst voorkomt.\n",
    "Van de lijst [\"A\",\"B\",\"A\",\"C\",\"A\",\"C\",\"B\",\"A\"] is de frequentietabel [(\"A\", 4), (\"B\", 2),(\"C\",2)].\n",
    "Je mag gebruik maken van de functie *uniekeWaarden* die gegeven een lijst de lijst terug geeft met elke waarde maar één keer in. Voorbeeld: *uniekeWaarden([\"A\",\"B\",\"A\",\"C\",\"A\",\"C\",\"B\",\"A\"])* is gelijk aan *[\"A\", \"B\", \"C\"]* "
   ]
  },
  {
   "cell_type": "code",
   "execution_count": null,
   "id": "59be9f03a78a24c5",
   "metadata": {
    "collapsed": false
   },
   "outputs": [],
   "source": [
    "import numpy as np\n",
    "def uniekeWaarden(lijst):\n",
    "    return np.unique(lijst)\n",
    "\n",
    "def frequentietabel(lijst):\n",
    "    return -1"
   ]
  },
  {
   "cell_type": "code",
   "execution_count": null,
   "outputs": [],
   "source": [
    "def voorbeeldFrequentietabel():\n",
    "    vb1 = frequentietabel([\"A\",\"B\",\"A\",\"C\",\"A\",\"C\",\"B\",\"A\"])\n",
    "    print(vb1) # moet [(\"A\", 4), (\"B\", 2),(\"C\",2)] zijn\n",
    "    vb2 = frequentietabel([\"A\",\"B\",\"A\",\"A\",\"A\",\"B\",\"A\",\"A\"])\n",
    "    print(vb2) # moet [(\"A\", 6), (\"B\", 2)] zijn\n",
    "voorbeeldFrequentietabel()"
   ],
   "metadata": {
    "collapsed": false
   },
   "id": "65f78913afc098ab"
  },
  {
   "cell_type": "markdown",
   "id": "403ca33a193ac7b",
   "metadata": {
    "collapsed": false
   },
   "source": [
    "## Opgave 4.2\n",
    "\n",
    "Een lijst kan een meerderheidselement hebben. Simpel gezegd is dat het element dat de meerderheid heeft. Concreter: het aantal keren dat het meerderheidselement voorkomt in de lijst is méér dan de helft van het aantal elementen in de lijst. Uit de definitie volgt dat er zo maar één element is, of géén element.\n",
    "\n",
    "Schrijf een functie die een lijst als parameter krijgt en het meerderheidselement terug geeft. Als er géén meerderheidselement is, moet de functie *None* terug geven."
   ]
  },
  {
   "cell_type": "code",
   "execution_count": null,
   "id": "c749862b-2909-44e6-a7e2-9abeafe58274",
   "metadata": {},
   "outputs": [],
   "source": [
    "def meerderheidselement(lijst):\n",
    "    return None"
   ]
  },
  {
   "cell_type": "code",
   "execution_count": null,
   "id": "17a3bf8d19887f5e",
   "metadata": {
    "collapsed": false
   },
   "outputs": [],
   "source": [
    "def voorbeeldMeerderheidselement():\n",
    "    vb1 = meerderheidselement([1,1,2,1,1,3,1])\n",
    "    print(vb1)  # zou 1 moeten zijn\n",
    "    vb2 = meerderheidselement(\"aaaaaaargh\")\n",
    "    print(vb2) # zou 'a' moeten zijn\n",
    "voorbeeldMeerderheidselement()"
   ]
  },
  {
   "cell_type": "markdown",
   "id": "594be5129937d5fc",
   "metadata": {
    "collapsed": false
   },
   "source": [
    "## Opgave 5\n",
    "\n",
    "We hebben de cumulatieve som gezien en die is op zich al wat speciaal, maar wij willen een nog specialere functie. Het idee van de functie is dat je als volgt te werk gaat:\n",
    "\n",
    "   - het eerste element van de uitvoerlijst is het eerste element van de lijst (dus de 'som' van één waarde)\n",
    "   - het tweede element is de som van de twee volgende elementen\n",
    "   - het derde element is dan de som van de drie volgende elementen\n",
    "   - enzoverder\n",
    "    \n",
    "Wanneer er 'te weinig' elementen zijn, neem als je als waarde in de uitvoerlijst de som van de resterende elementen.\n",
    "\n",
    "Hieronder staan in de code verschillende voorbeelden die mogelijk (nog) duidelijker maken wat verwacht wordt.\n"
   ]
  },
  {
   "cell_type": "code",
   "execution_count": null,
   "id": "43c09ba397e25ec9",
   "metadata": {
    "collapsed": false
   },
   "outputs": [],
   "source": [
    "def specialeCumsum(lijst):\n",
    "    return -1"
   ]
  },
  {
   "cell_type": "code",
   "execution_count": null,
   "id": "d3eee1f10bb449c4",
   "metadata": {
    "collapsed": false
   },
   "outputs": [],
   "source": [
    "def voorbeeldSpecialeCumsum():\n",
    "    vb1 = specialeCumsum([1,2,2,3,3,3])\n",
    "    print(vb1) # zou [1,4,9] moeten zijn\n",
    "    vb2 = specialeCumsum([1,2,3,4,5,6])\n",
    "    print(vb2) # zou [1,5,15] moeten zijn\n",
    "    vb3 = specialeCumsum([1,2,3,4,5,6,7])\n",
    "    print(vb3) # zou [1,5,15,7] moeten zijn\n",
    "    vb4 = specialeCumsum([1,1,1,1,1,1,1,1,1])\n",
    "    print(vb4) # zou [1,2,3,3] moeten zijn\n",
    "    vb5 = specialeCumsum([17])\n",
    "    print(vb5) # zou [17] moeten zijn\n",
    "    vb6 = specialeCumsum([1,-1,1,-1,1,-1,1,-1,1,-1,1,-1,1])\n",
    "    print(vb6) # zou [1,0,-1,0,1] moeten zijn\n",
    "voorbeeldSpecialeCumsum()"
   ]
  },
  {
   "cell_type": "markdown",
   "id": "5ddd5580dbc4c4a4",
   "metadata": {
    "collapsed": false
   },
   "source": [
    "## Opgave 6\n",
    "\n",
    "Schrijf een functie die twee parameters heeft: een getal en een lijst.\n",
    "De lijst heeft een even aantal elementen: afwisselend een getal en een functie met twee parameters.\n",
    "De functie moet het getal terug geven dat je bekomt door de functie toe te passen op het tussenresultaat en het voorgaande element in de lijst. \n",
    "\n",
    "Stel bijvoorbeeld dat je functies plus, maal en min hebt die respectievelijk twee getallen optellen, vermenigvuldigen en aftrekken, en de eerste parameter is 10 en de lijst is gelijk aan [3, plus, 4, maal, 2, min], dan doe je eerst 10 + 3 => 13, dan 13 * 4 => 52, dan 52 - 2 => 50 en is de uitkomst gelijk aan 50.\n",
    "Wanneer de eerste parameter 0 is, en de lijst is gelijk aan [1, plus, 10, plus, 3, maal, 10, min] dan bereken je 0 + 1 = 1, dan 1 + 10 => 11, dan 11 * 3 => 33 en ten slotte 33 - 10. De uitkomst is nu 23.\n"
   ]
  },
  {
   "cell_type": "code",
   "execution_count": null,
   "id": "b218dda0-8840-4e44-809a-96c7d47c0861",
   "metadata": {},
   "outputs": [],
   "source": [
    "def berekening(getal, lijst):\n",
    "    return -1"
   ]
  },
  {
   "cell_type": "code",
   "execution_count": null,
   "outputs": [],
   "source": [
    "def plus(x,y):\n",
    "    return x + y\n",
    "def maal(x,y):\n",
    "    return x * y\n",
    "def min(x, y):\n",
    "    return x-y\n",
    "def grootste(x, y):\n",
    "    if x > y:\n",
    "        return x\n",
    "    else:\n",
    "        return y\n",
    "\n",
    "def voorbeeldBerekening():\n",
    "    vb1 = berekening(10, [3, plus, 4, maal, 2, min])\n",
    "    print(vb1) # zou 50 moeten zijn\n",
    "    vb2 = berekening(0, [1, plus, 10, plus, 3, maal, 10, min])\n",
    "    print(vb2) # zou 23 moeten zijn\n",
    "    vb3 = berekening(0, [1, plus, 5, max, 5, plus, 27, max, 7, max])\n",
    "    print(vb3) # zou 27 moeten zijn\n",
    "voorbeeldBerekening()"
   ],
   "metadata": {
    "collapsed": false
   },
   "id": "c0a19700fab7116e"
  },
  {
   "cell_type": "code",
   "execution_count": null,
   "outputs": [],
   "source": [],
   "metadata": {
    "collapsed": false
   },
   "id": "acfeb1830dc66349"
  },
  {
   "cell_type": "code",
   "execution_count": null,
   "outputs": [],
   "source": [],
   "metadata": {
    "collapsed": false
   },
   "id": "6609edf58351ecc6"
  }
 ],
 "metadata": {
  "kernelspec": {
   "display_name": "Python 3 (ipykernel)",
   "language": "python",
   "name": "python3"
  },
  "language_info": {
   "codemirror_mode": {
    "name": "ipython",
    "version": 3
   },
   "file_extension": ".py",
   "mimetype": "text/x-python",
   "name": "python",
   "nbconvert_exporter": "python",
   "pygments_lexer": "ipython3",
   "version": "3.11.4"
  }
 },
 "nbformat": 4,
 "nbformat_minor": 5
}
