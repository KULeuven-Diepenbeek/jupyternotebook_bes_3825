{
 "cells": [
  {
   "cell_type": "markdown",
   "id": "9318c0324b8e398",
   "metadata": {
    "collapsed": false
   },
   "source": [
    "# TAAK 1 van PIT (deel van BES) en van CS1\n",
    "\n",
    "!!!!!!!!!!!!!!!!!!!!!\n",
    "! belangrijk!  !\n",
    "!!!!!!!!!!!!!!!!!!!!!\n",
    "\n",
    "1. Verander **geen enkele naam** van de opgegeven functies! \n",
    "   Anders werken de testen niet en vindt onze code jouw code niet.  \n",
    "   Het automatisch verbetersysteem heeft immers de juiste naam nodig om punten te kunnen geven.\n",
    "   In de cellen hieronder laten we elke functie -1 terug geven, maar dat moet je natuurlijk vervangen door de juiste uitkomst. \n",
    "2. Zorg er voor dat de functie getAchternaam() en getVoornaam() jouw eigen naam terug geven. Gebruik hiervoor zeker **niet** de input-functie!\n",
    "3. Zorg er voor dat élke cel uitgevoerd kan worden. Zodra één cel een foutmelding geeft, krijg je 0 op de **hele** taak. Let hierbij op de volgorde van de cellen. Onze automatische evaluator voert alle cellen uit van boven naar beneden.\n",
    "4. Dit bestand vind je al in jouw Jupyterhub-omgeving. Begin met in het overzicht van de bestanden te rechterklikken op de bestandsnaam *opgave_taak1_2526.ipynb* en kies bovenaan **Rename**. Verander de naam in AchternaamVoornaam.ipynb (volgens je eigen naam natuurlijk).\n",
    "5. Wanneer je klaar bent met alles op te lossen, kan je het bestand afhalen door op de rechtermuistoets te klikken op de bestandsnaam en dan onderaan te kiezen voor **Download**. Upload dit bestand op Toledo.\n",
    " \n",
    "-+-+-+-+-+-+-+-+-+-+-+-+-+-+-+-+-+-+-+-+-+-+-+-+-+-+-+-+-+-+-+-+-+-+-+-+-+-\n",
    "-+- Alléén als je deze 5 stappen volgt, krijg je punten voor deze taak! -+-\n",
    "-+-+-+-+-+-+-+-+-+-+-+-+-+-+-+-+-+-+-+-+-+-+-+-+-+-+-+-+-+-+-+-+-+-+-+-+-+-\n"
   ]
  },
  {
   "cell_type": "code",
   "execution_count": null,
   "id": "3a26860b29c2969e",
   "metadata": {
    "collapsed": false
   },
   "outputs": [],
   "source": [
    "def getVoornaam():\n",
    "    return \"schrijf hier je eigen voornaam\""
   ]
  },
  {
   "cell_type": "code",
   "execution_count": null,
   "id": "ef27989ba7ba7104",
   "metadata": {
    "collapsed": false
   },
   "outputs": [],
   "source": [
    "def getAchternaam():\n",
    "    return \"schrijf hier je eigen achternaam\"   "
   ]
  },
  {
   "cell_type": "markdown",
   "id": "9f65264de5292278",
   "metadata": {
    "collapsed": false
   },
   "source": [
    "# Overzicht\n",
    "\n",
    "Deze taak bestaat uit verschillende kleine functies. Als je de materie beheerst, zouden die best snel opgelost moeten geraken, maar de benodigde tijd kan sterk variëren tussen twee verschillende studenten. Als je wat mee bent met de materie in de werkzittingen, moet dit op een beperkt aantal uren afgeraken. Iemand van het docententeam heeft de hele opgave op ongeveer één kwartier opgelost.\n",
    "\n",
    "Elke opgave wordt **automatisch** geëvalueerd door er testgevallen op los te laten. Elke correcte uitkomst wordt beloond met een punt. We geven in deze opgave alvast één of twee testgevallen per functie mee. Als je zelf gaat testen, let dan vooral ook op de randgevallen, bv. een lege lijst of een lijst met alleen negatieve getallen. Als we zeggen dat de parameter van een functie een lijst is, mag je wel veilig veronderstellen dat de parameter écht een lijst is. Daar moet je niet op controleren. \n",
    "\n",
    "Je mag alléén de syntax, concepten en functies uit de bibliotheken gebruiken die we in de les gebruikt hebben. Je kan verschillende van de opgaven ook oplossen met andere functies en/of andere bibliotheken, maar als je dat doet, bewijs je niet je programmeerskills, maar wel je skills om het probleem te omzeilen of je skills om externe hulp in te roepen. We bekijken steekproefgewijs een aantal opgaves en als daar ongeziene constructies in voorkomen, gaan we actief alle inzendingen op die constructies scannen en daar navenant punten voor aftrekken, ook als de oplossing correct zou zijn. \n",
    "\n",
    "Omwille van het automatische proces mag je de naam van de functies niet veranderen. \n",
    "\n",
    "## Opgave 1\n",
    "\n",
    "Op sociale media passeren wel eens posts waarin verteld wordt dat je een tekst zonder klinkers nog altijd perfect kan lezen. Uit dat idee volgt de vraag of dat ook lukt als je alle spaties verwijdert. En uit die bedenking volgt deze opgave:\n",
    "\n",
    "Schrijf een functie **geenSpaties** die gegeven een string alle spaties uit die string verwijdert. De returnwaarde moet echt een string zijn en géén lijst van letters. Je mag hiervoor de functie *lijstLetters2String* gebruiken."
   ]
  },
  {
   "cell_type": "code",
   "execution_count": null,
   "id": "a897df25-dd66-41c2-ba14-f0d47e67c628",
   "metadata": {},
   "outputs": [],
   "source": [
    "def lijstLetters2String(lijst):\n",
    "    return ''.join(lijst)\n",
    "\n",
    "def geenSpaties(tekst):\n",
    "    return -1\n"
   ]
  },
  {
   "cell_type": "code",
   "execution_count": null,
   "id": "67ddf7fc5257a531",
   "metadata": {
    "collapsed": false
   },
   "outputs": [],
   "source": [
    "# een beperkte test om te zien of je programma werkt\n",
    "def voorbeeldGeenSpaties():\n",
    "    vb2 = geenSpaties(\"Dag allemaal. Hoe gaat het ermee?\")\n",
    "    print(vb2)  # zou \"Dagallemaal.Hoegaathetermee?\" moeten zijn\n",
    "voorbeeldGeenSpaties()"
   ]
  },
  {
   "cell_type": "markdown",
   "id": "25309e1441904b95",
   "metadata": {
    "collapsed": false
   },
   "source": [
    "## Opgave 2\n",
    "\n",
    "Rond de volgende opgave kan ik niet direct een verhaaltje verzinnen of een nut voor bedenken, maar het is wel een oefening die niet al te moeilijk is en niet te gemakkelijk, die je op verschillende manieren kan oplossen en die dus een goede programmeeroefening is.\n",
    "\n",
    "Schrijf een functie **opgave2** die een lijst van getallen neemt en als returnwaarde het product van de positieve getallen min het product van negatieve getallen teruggeeft. 0 telt niet mee.\n"
   ]
  },
  {
   "cell_type": "code",
   "execution_count": null,
   "id": "4cfbcbb3-7054-441e-8e19-e51698d3a037",
   "metadata": {},
   "outputs": [],
   "source": [
    "def opgaveTwee(lijstVanGetallen):\n",
    "    return -1\n"
   ]
  },
  {
   "cell_type": "code",
   "execution_count": null,
   "id": "13288bf021e204e0",
   "metadata": {
    "collapsed": false
   },
   "outputs": [],
   "source": [
    "def voorbeeldOpgaveTwee():\n",
    "    vb1 = opgaveTwee([4,2,-3,5])\n",
    "    print(vb1) # zou 43 moeten zijn\n",
    "    vb2 = opgaveTwee([-1,4,2,-3,5])\n",
    "    print(vb2) # zou 37 moeten zijn\n",
    "\n",
    "voorbeeldOpgaveTwee()"
   ]
  },
  {
   "cell_type": "markdown",
   "id": "bb71d68a57e2f72c",
   "metadata": {
    "collapsed": false
   },
   "source": [
    "## Opgave 3\n",
    "\n",
    "We vertelden bovenaan dat we deze opgave automatisch verbeteren aan de hand van een aantal testgevallen.\n",
    "De functie die je nu moet schrijven, doet iets soortgelijk. Ze neemt drie parameters\n",
    "\n",
    "- een functie die zelf één parameter neemt,\n",
    "- een lijst met inputwaarden,\n",
    "- een lijst met correcte uitkomsten.\n",
    "\n",
    "Je mag veronderstellen dat beide lijsten even lang zijn.\n",
    "\n",
    "Doel van de functie is om te tellen hoeveel keren de berekende waarde van de meegegeven functie losgelaten op een inputwaarde gelijk is aan de bijhorende uitkomst. \n",
    "\n",
    "Dat klinkt misschien nog abstract, maar een voorbeeld maakt het waarschijnlijk duidelijker.\n",
    "\n",
    "Stel dat gevraagd is om een functie te schrijven die het kwadraat van een getal moet berekenen en de student schrijft een functie die het getal verdubbelt. Deze functie noemen we hieronder f.\n",
    "Als je dan die functie meegeeft als eerste parameter, [0, 1, 2, 3] als tweede parameter en [0, 1, 4, 9] als derde parameter, dan moet de functie volgende dingen nagaan:\n",
    "- is f(0) == 0?  Ja, want 2*0 == 0.\n",
    "- is f(1) == 1?  Nee, want 2*1 == 2.\n",
    "- is f(2) == 4?  Ja, want 2*2 == 4.\n",
    "- is f(3) == 9?  Nee, want 2*3 == 6.\n",
    "\n",
    "De uitkomst in dit voorbeeld is dus 2, want er was 2x een uitkomst correct.\n",
    "\n",
    "Schrijf een functie **aantalCorrecteWaarden** met de opgegeven drie parameters die het gevraagde teruggeeft."
   ]
  },
  {
   "cell_type": "code",
   "execution_count": null,
   "id": "a8edc273-373a-488e-9713-d392e62df45e",
   "metadata": {},
   "outputs": [],
   "source": [
    "def aantalCorrecteWaarden(f, invoer, uitkomsten): \n",
    "    return -1\n"
   ]
  },
  {
   "cell_type": "code",
   "execution_count": null,
   "id": "7c629177e4caec40",
   "metadata": {
    "collapsed": false
   },
   "outputs": [],
   "source": [
    "def voorbeeldAantalCorrecteWaarden():\n",
    "    def foutKwadraat(x):\n",
    "        return x*2\n",
    "    vb1 = aantalCorrecteWaarden(foutKwadraat,[0,1,2,3], [0,1,4,9])\n",
    "    print(vb1) # zou 2 moeten zijn\n",
    "\n",
    "voorbeeldAantalCorrecteWaarden()"
   ]
  },
  {
   "cell_type": "markdown",
   "id": "20c24e4f10e4d3da",
   "metadata": {
    "collapsed": false
   },
   "source": [
    "# Opgave 4\n",
    "\n",
    "We kennen de filter. Deze neemt als parameters één functie en een lijst met waarden.\n",
    "De superfilter die je in deze opgave moet implementeren, doet het nét anders. Die neemt als parameters:\n",
    "\n",
    "- een lijst met functies die allemaal één parameter nemen en een boolean terug geven\n",
    "- één waarde\n",
    "\n",
    "De returnwaarde moet True zijn als de waarde voldoet aan élke functie in de lijst.\n",
    "\n",
    "Het idee is geïnspireerd door een fictief gesprek dat ik niet afgeluisterd heb in de trein waarin een groep jongeren aan het opsommen was waaraan hun lief allemaal moest voldoen. Dat zou dus een toepassing van deze superfilter kunnen zijn.\n",
    "\n",
    "Implementeer de functie **superfilter** volgens de opgegeven specificaties."
   ]
  },
  {
   "cell_type": "code",
   "execution_count": null,
   "id": "59be9f03a78a24c5",
   "metadata": {
    "collapsed": false
   },
   "outputs": [],
   "source": [
    "def superfilter(functies, waarde):\n",
    "    return -1\n"
   ]
  },
  {
   "cell_type": "code",
   "execution_count": null,
   "outputs": [],
   "source": [
    "def voorbeeldSuperfilter():\n",
    "    def even(x):\n",
    "        return x%2 == 0\n",
    "    def groot(x):\n",
    "        return x > 100\n",
    "    def drievoud(x):\n",
    "        return x%3 == 0\n",
    "    \n",
    "    vb1 = superfilter([even, groot, drievoud], 208)\n",
    "    print(vb1) # moet False zijn\n",
    "    vb2 = superfilter([even, groot, drievoud], 210)\n",
    "    print(vb2) # moet True zijn\n",
    "voorbeeldSuperfilter()"
   ],
   "metadata": {
    "collapsed": false
   },
   "id": "65f78913afc098ab"
  },
  {
   "cell_type": "markdown",
   "id": "403ca33a193ac7b",
   "metadata": {
    "collapsed": false
   },
   "source": [
    "## Opgave 5\n",
    "\n",
    "Wanneer we teksten nalezen van studenten storen veel collega's zich aan het onzorgvuldig gebruik van leestekens. Er staan dikwijls komma's waar punten zouden moeten staan om de zin af te sluiten; opsommingen krijgen geen komma of punt-komma; ...\n",
    "\n",
    "Voor deze opgave moeten jullie een functie schrijven die nagaat of er na elke punt een hoofdletter komt. Het punt stelt immers het einde van een zin voor en de volgende zin moet dan met een hoofdletter beginnen.\n",
    "\n",
    "Je mag dit op eender welke manier oplossen, maar als je geen idee hebt hoe je aan deze opgave moet beginnen, kunnen we volgende werkwijze voorstellen. \n",
    "- Verwijder eerst alle spaties in de tekst (zie opgave 1).\n",
    "- De eerste letter moet sowieso een hoofdletter zijn.\n",
    "- Overloop daarna alle letters van de tekst. \n",
    "        + Elke keer wanneer je een punt tegenkomt, zet je een vlaggetje hoog. \n",
    "        + Als het vlaggetje hoog staat én er staat géén hoofdletter, dan weet je dat er een probleem is en geef je een False terug. \n",
    "        + Staat er wél een hoofdletter, dan zet je het vlaggetje terug laag.\n",
    "\n",
    "Schrijf een functie **correcteHoofdletters** die een tekst als parameter krijgt en teruggeeft of het eerste woord na elke punt met een hoofdletter begint. De functie geeft dus ofwel True terug ofwel False.\n"
   ]
  },
  {
   "cell_type": "code",
   "execution_count": null,
   "id": "c749862b-2909-44e6-a7e2-9abeafe58274",
   "metadata": {},
   "outputs": [],
   "source": [
    "def correcteHoofdletters(tekst):\n",
    "    return -1\n"
   ]
  },
  {
   "cell_type": "code",
   "execution_count": null,
   "id": "17a3bf8d19887f5e",
   "metadata": {
    "collapsed": false
   },
   "outputs": [],
   "source": [
    "def voorbeeldCorrecteHoofdletters():\n",
    "    vb1 = correcteHoofdletters(\"Dit is correct. Zo moeilijk is dat niet.\")\n",
    "    print(vb1)  # zou True moeten zijn\n",
    "    vb2 = correcteHoofdletters(\"Hoofdletters zijn zo overrated. toch?\")\n",
    "    print(vb2) # zou False moeten zijn\n",
    "voorbeeldCorrecteHoofdletters()"
   ]
  },
  {
   "cell_type": "markdown",
   "id": "594be5129937d5fc",
   "metadata": {
    "collapsed": false
   },
   "source": [
    "## Opgave 6\n",
    "\n",
    "Wanneer je een hypothese wil toetsen aan de realiteit zijn er dikwijls uitzonderingen, bv. door meetfouten of doordat de theorie niet alle gevallen afdekt. Zoiets noemt men een *outlier*. In deze laatste twee opgaven moet je outliers detecteren.\n",
    "\n",
    "Variant 1: een outlier is elke waarde die méér dan 10% van het gemiddelde afwijkt.\n",
    "\n",
    "Schrijf een functie **outliersGemiddelde** die een lijst van waarden neemt en alle waarden teruggeeft die meer dan 10% van het gemiddelde afwijken. "
   ]
  },
  {
   "cell_type": "code",
   "execution_count": null,
   "id": "43c09ba397e25ec9",
   "metadata": {
    "collapsed": false
   },
   "outputs": [],
   "source": [
    "def outliersGemiddelde(lijst):\n",
    "    return -1\n"
   ]
  },
  {
   "cell_type": "code",
   "execution_count": null,
   "id": "d3eee1f10bb449c4",
   "metadata": {
    "collapsed": false
   },
   "outputs": [],
   "source": [
    "def voorbeeldOutliersGemiddelde():\n",
    "    vb1 = outliersGemiddelde([8,11,11])\n",
    "    print(vb1) # zou [8] moeten zijn want gemiddelde is 10 \n",
    "    vb2 = outliersGemiddelde([4,17,16,18,29])\n",
    "    print(vb2) # zou [4,29] moeten zijn\n",
    "voorbeeldOutliersGemiddelde()"
   ]
  },
  {
   "cell_type": "markdown",
   "id": "5ddd5580dbc4c4a4",
   "metadata": {
    "collapsed": false
   },
   "source": [
    "## Opgave 6bis\n",
    "\n",
    "Variant 2: een outlier is elke waarde die méér dan 10% afwijkt van de waarde berekend volgens het model.\n",
    "\n",
    "Dikwijls wordt de term van outliers gebruikt voor waarden die niet binnen een bepaald model passen.\n",
    "Je hebt dan bijvoorbeeld een aantal experimentele waarden en trekt daar bijvoorbeeld een rechte door aan de hand van een lineaire regressie. Waarden die dan ver van de rechte liggen zijn outliers.\n",
    "\n",
    "Schrijf een functie **outliersModel** die volgende parameters heeft:\n",
    "   - een functie met één parameter die het model voorstelt\n",
    "   - een lijst van lijsten van twéé waarden [x, y]\n",
    "\n",
    "De functie moet een lijst terug geven met elke *x* waarvan de y meer dan 10% afwijkt van de waarde berekend volgens het model.\n"
   ]
  },
  {
   "cell_type": "code",
   "execution_count": null,
   "id": "b218dda0-8840-4e44-809a-96c7d47c0861",
   "metadata": {},
   "outputs": [],
   "source": [
    "def outliersModel(model, lijst):\n",
    "    return -1\n"
   ]
  },
  {
   "cell_type": "code",
   "execution_count": null,
   "outputs": [],
   "source": [
    "def maal10(x):\n",
    "   return x * 10\n",
    "\n",
    "def kwadraat(x):\n",
    "    return x * x \n",
    "\n",
    "def voorbeeldOutliersModel():\n",
    "    vb1 = outliersModel(maal10, [ [1,10], [2, 17], [3, 31], [4, 40]])\n",
    "    print(vb1) # zou [2] moeten zijn\n",
    "    vb1 = outliersModel(kwadraat, [ [4,15.8], [8, 62], [100, 9312], [4.5, 20.4]])\n",
    "    print(vb1) # zou [] moeten zijn\n",
    "voorbeeldOutliersModel()"
   ],
   "metadata": {
    "collapsed": false
   },
   "id": "c0a19700fab7116e"
  },
  {
   "cell_type": "code",
   "execution_count": null,
   "outputs": [],
   "source": [],
   "metadata": {
    "collapsed": false
   },
   "id": "ac748c9e2ced1a7e"
  }
 ],
 "metadata": {
  "kernelspec": {
   "display_name": "Python 3 (ipykernel)",
   "language": "python",
   "name": "python3"
  },
  "language_info": {
   "codemirror_mode": {
    "name": "ipython",
    "version": 3
   },
   "file_extension": ".py",
   "mimetype": "text/x-python",
   "name": "python",
   "nbconvert_exporter": "python",
   "pygments_lexer": "ipython3",
   "version": "3.11.4"
  }
 },
 "nbformat": 4,
 "nbformat_minor": 5
}
