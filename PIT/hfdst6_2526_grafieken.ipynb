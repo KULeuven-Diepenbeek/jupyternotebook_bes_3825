{
 "cells": [
  {
   "cell_type": "markdown",
   "source": [
    "# Hoofdstuk 6 Grafieken\n",
    "\n",
    "### Disclaimer\n",
    "- De oefeningen zijn wat anders dan in de papieren cursus. De oefeningen in deze Jupyter Notebook zijn eigenlijk interessanter: vandaar.\n",
    "\n",
    "# Stappenplan voor het maken van grafiek\n",
    "\n",
    "1. Import matplotlib met **from matplotlib import pyplot as plt**\n",
    "2. Bepaal het domein van de x-as (met een lijst of een kolom in een dataframe)\n",
    "3. Bepaal het domein van de y-as (met een functie of een kolom in een dataframe)\n",
    "4. Kies het soort grafiek (plt.plot, plt.bar, plt.scatter of plt.hist) + bijhorende opties\n",
    "5. Toon de grafiek \n",
    "\n",
    "## In de praktijk\n",
    "\n",
    "- We werken meestal met de plot.\n",
    "- Voor de x-as en y-as hangt het er vooral van af of we inzicht willen krijgen in experimentele data, of een model willen visualiseren en/of toetsen. \n",
    "- Wanneer je met een model werkt, heb je in principe altijd een functie. We gebruiken dan de **map** om de waarden op de x-as om te zetten in waarden voor de y-as. Voor de x-as gebruik je ofwel een lijst wanneer je het model onafhankelijk wil visualiseren, ofwel gebruik je een kolom uit een dataframe om het model te vergelijken met de gemeten data. Wanneer je een lijst gebruik, kiezen we voor de np.linspace tenzij de functie alleen op gehele waarden werkt: dan gebruiken we de range.\n",
    "- Wanneer je experimentele data (uit een csv) wil visualiseren, dan import je eerst die csv-data in een dataframe en haal je zowel de waarden op de x-as als op de y-as uit een kolom van het dataframe.   \n",
    "\n",
    "# Voorbeelden van grafieken zonder opties\n",
    "\n",
    "## Met een functie"
   ],
   "metadata": {
    "collapsed": false
   },
   "id": "3ae6956b4dd4aa72"
  },
  {
   "cell_type": "code",
   "execution_count": 1,
   "outputs": [],
   "source": [
    "# imports voor alle volgende cellen\n",
    "import math\n",
    "import numpy as np\n",
    "import pandas as pd\n",
    "from matplotlib import pyplot as plt\n",
    "%matplotlib widget\n",
    "from qgridnext import show_grid"
   ],
   "metadata": {
    "collapsed": false,
    "ExecuteTime": {
     "end_time": "2025-08-11T14:46:42.540956Z",
     "start_time": "2025-08-11T14:46:38.996635900Z"
    }
   },
   "id": "18bc71ec36c283b8"
  },
  {
   "cell_type": "code",
   "execution_count": null,
   "outputs": [],
   "source": [
    "# voorbeeld 1\n",
    "def plotSinus(aantalFases):\n",
    "    xAs = np.linspace(0, aantalFases*2*math.pi, 200)\n",
    "    yAs = list(map(math.sin, xAs))\n",
    "    plt.figure()\n",
    "    plt.plot(xAs, yAs)\n",
    "    plt.show()\n",
    "    \n",
    "plotSinus(5)"
   ],
   "metadata": {
    "collapsed": false
   },
   "id": "b68023f1cbdb318b"
  },
  {
   "cell_type": "code",
   "execution_count": null,
   "outputs": [],
   "source": [
    "# voorbeeld 2\n",
    "def derdegraads(x):\n",
    "    return -x**3 + 2*x**2 - 5*x + 7\n",
    "\n",
    "def plotDerdegraads(begin, einde):\n",
    "    xAs = np.linspace(begin, einde, 50)\n",
    "    yAs = list(map(derdegraads, xAs))\n",
    "    plt.figure()\n",
    "    plt.plot(xAs, yAs)\n",
    "    plt.show()\n",
    "    \n",
    "plotDerdegraads(-5,5)"
   ],
   "metadata": {
    "collapsed": false
   },
   "id": "68ead56058ea5012"
  },
  {
   "cell_type": "markdown",
   "source": [
    "De map heeft een functie nodig met één parameter. Voor het plotten van een functie is dat logisch omdat je een plot wil van een y-waarde in functie van een x-waarde. In de voorgaande voorbeelden waren de functies math.sin en derdegraads sowieso functies met één parameter, maar in veel gevallen hebben je functies met meer dan één parameter. Die moet je dan via een lokale functie (= functie in functie) herleiden tot een (hulp-)functie met één parameter. Dat zijn de twee volgende voorbeelden. "
   ],
   "metadata": {
    "collapsed": false
   },
   "id": "a799fa950d4ea055"
  },
  {
   "cell_type": "code",
   "execution_count": null,
   "outputs": [],
   "source": [
    "# voorbeeld 3\n",
    "def derdegraadsFunctie(a,b,c,d,x):\n",
    "    return a*x**3 + b*x**2 + c*x + d\n",
    "\n",
    "def plotDerdegraads_v2(begin, einde):\n",
    "    def functie(x):\n",
    "        return derdegraadsFunctie(2,-3,1,-4, x)\n",
    "    xAs = np.linspace(begin, einde, 50)\n",
    "    yAs = list(map(functie, xAs))\n",
    "    plt.figure()\n",
    "    plt.plot(xAs, yAs)\n",
    "    plt.show()\n",
    "    \n",
    "plotDerdegraads_v2(-5,5)"
   ],
   "metadata": {
    "collapsed": false
   },
   "id": "959d1bfc2d103a0b"
  },
  {
   "cell_type": "code",
   "execution_count": null,
   "outputs": [],
   "source": [
    "# voorbeeld 4 (ook in de cursus)\n",
    "def kgv(a,b): \n",
    "    return (a*b)/math.gcd(a,b)\n",
    "\n",
    "def grafiekKGV():\n",
    "    def kgv7(x):\n",
    "        return kgv(x,7)\n",
    "    \n",
    "    xAs = range(1,101)\n",
    "    yAs = list(map(kgv7, xAs))\n",
    "    plt.figure()\n",
    "    plt.plot(xAs, yAs)\n",
    "    plt.show()\n",
    "\n",
    "grafiekKGV()"
   ],
   "metadata": {
    "collapsed": false
   },
   "id": "c6923047250a7f5d"
  },
  {
   "cell_type": "markdown",
   "source": [
    "## Met een dataframe"
   ],
   "metadata": {
    "collapsed": false
   },
   "id": "1cb518fb1f506060"
  },
  {
   "cell_type": "code",
   "execution_count": null,
   "outputs": [],
   "source": [
    "# voorbeeld 1 (uit de cursus)\n",
    "def plotDagOpbrengst(): \n",
    "    df = pd.read_csv(\"csv/dagopbrengst.csv\", \n",
    "                     sep=\";\", encoding=\"latin-1\") \n",
    "    xAs = df[\"uur\"] \n",
    "    yAs = df[\"W\"] \n",
    "    plt.figure()\n",
    "    plt.plot(xAs, yAs) \n",
    "    plt.show() \n",
    "\n",
    "plotDagOpbrengst()"
   ],
   "metadata": {
    "collapsed": false
   },
   "id": "f6c6bb1b1503d12c"
  },
  {
   "cell_type": "code",
   "execution_count": null,
   "outputs": [],
   "source": [
    "# voorbeeld 2\n",
    "def plotIndex(): \n",
    "    df = pd.read_csv(\"csv/consumptie_index_september.csv\", \n",
    "                     sep=\";\", encoding=\"latin-1\") \n",
    "    xAs = df[\"jaar\"] \n",
    "    yAs = df[\"indexcijfer\"] \n",
    "    plt.figure()\n",
    "    plt.plot(xAs, yAs)\n",
    "    plt.show() \n",
    "\n",
    "plotIndex()"
   ],
   "metadata": {
    "collapsed": false
   },
   "id": "fa4c0e5e8dc030d5"
  },
  {
   "cell_type": "markdown",
   "source": [
    "# Grafiekopties\n",
    "\n",
    "## Als (optionele) parameter \n",
    "\n",
    "- **color** : bepaalt de kleur van de lijn, bv. *'r'*, *'g'*, *'b'*, *'orange'*, *'purple'*, ... \n",
    "- **marker** : markeringen voor de individuele punten, bv. *'x'*, *'o'*, *'s'*, *'8'*, ... \n",
    "- **linestyle** : hoe ziet de lijn er uit, bv. *'-'*, *':'*, *'--'*, *'-.'*, ... \n",
    "- **label** : geef als waarde een tekst mee, die in de legende verschijnt *als* ook plt.legend() oproept \n",
    "\n",
    "## Als extra methodes van plt.\n",
    "\n",
    "1. **title(*tekst*)** voegt een titel toe bovenaan de grafiek \n",
    "2. **grid(True)** zet de grid op \n",
    "3. **xlabel(*tekst*)** plaatst tekst op de x-as \n",
    "4. **ylabel(*tekst*)** plaatst tekst op de y-as \n",
    "5. **legend()** voegt een legende toe aan de grafiek. \n",
    "   Belangrijk is dan natuurlijk dat je labels toegevoegd hebt aan de plot. \n",
    "6. **text(*xWaarde, yWaarde, tekst*)** plaats tekst op de opgegeven coördinaat \n",
    "7. **xscale('symlog')** als de x-as een logaritmische schaal moet krijgen \n",
    "8. **yscale('symlog')** als de y-as een logaritmische schaal moet krijgen \n"
   ],
   "metadata": {
    "collapsed": false
   },
   "id": "7bbaedf4d33f9acb"
  },
  {
   "cell_type": "code",
   "execution_count": null,
   "outputs": [],
   "source": [
    "# voorbeeld met veel toeters en bellen\n",
    "def plotDagOpbrengstVeelToeters(): \n",
    "    df = pd.read_csv(\"csv/dagopbrengst.csv\", \n",
    "                     sep=\";\", encoding=\"latin-1\") \n",
    "    xAs = df[\"uur\"] \n",
    "    yAs = df[\"W\"] \n",
    "    plt.figure()\n",
    "    plt.plot(xAs, yAs, color='red', marker='x', linestyle=':', label = \"dagopbrengst\")\n",
    "    plt.title(\"Dagopbrengst van zonnepanelen op een wisselvallige dag\")\n",
    "    plt.grid(True)\n",
    "    plt.xlabel(\"tijdstip\")\n",
    "    plt.ylabel(\"W\")\n",
    "    plt.legend()\n",
    "    plt.show() \n",
    "\n",
    "plotDagOpbrengstVeelToeters()"
   ],
   "metadata": {
    "collapsed": false
   },
   "id": "b58b1a8def912326"
  },
  {
   "cell_type": "markdown",
   "source": [
    "# Oefening 0\n",
    "\n",
    "Experimenteer met de grafiekopties door \n",
    "- de regels met opties en/of de optionele parameters in de voorbeelden met veel toeters en bellen stuk per stuk in commentaar te zetten en na te gaan wat er verandert aan de grafiek\n",
    "- aan de eerste reeks voorbeelden verschillende opties toe te voegen\n",
    " "
   ],
   "metadata": {
    "collapsed": false
   },
   "id": "d136325b77e8f181"
  },
  {
   "cell_type": "markdown",
   "source": [
    "# Oefeningen uit de cursus\n",
    "\n",
    "1. Plot de kostprijs van een “gewoon woonhuis” van 1973 tot nu. \n",
    "   Gebruik hiervoor het bestand  “immo_national.csv”. "
   ],
   "metadata": {
    "collapsed": false
   },
   "id": "d34c675e649f1049"
  },
  {
   "cell_type": "code",
   "execution_count": null,
   "outputs": [],
   "source": [
    "# ruimte voor oef. 1\n",
    "def oef1():\n",
    "    woningen = pd.read_csv(\"csv/immo_national.csv\",sep=\";\",encoding=\"latin-1\")\n",
    "    #TODO vul aan\n",
    "    plt.figure()\n",
    "    plt.show()\n",
    "\n",
    "oef1()\n"
   ],
   "metadata": {
    "collapsed": false
   },
   "id": "ed2a6cb65648236d"
  },
  {
   "cell_type": "markdown",
   "source": [
    "2. Plot het vermogen P in functie van de spanning U volgens de gegevens in zonnepaneel.csv "
   ],
   "metadata": {
    "collapsed": false
   },
   "id": "8e871f07d007ffa6"
  },
  {
   "cell_type": "code",
   "execution_count": null,
   "outputs": [],
   "source": [
    "# ruimte voor oef. 2\n",
    "def oef2():\n",
    "    zp = pd.read_csv(\"csv/zonnepaneel.csv\",sep=\";\",encoding=\"latin-1\")\n",
    "    #TODO vul aan\n",
    "    plt.figure()\n",
    "    plt.show()\n",
    "\n",
    "oef2()"
   ],
   "metadata": {
    "collapsed": false
   },
   "id": "c92955034c55800e"
  },
  {
   "cell_type": "markdown",
   "source": [
    "# 6.4 Meer grafieken tegelijk tonen\n",
    "\n",
    "Voor het overzicht is het dikwijls interessant om verschillende plots/grafieken op zo weinig mogelijk figuren te zetten. Hierbij moet je natuurlijk wel wetenschappelijk verantwoord werken, en de juiste optie kiezen.\n",
    "\n",
    "## Verschillende grafieken met soortgelijke X- en Y-as \n",
    "\n",
    "Wanneer de waarden op de x-as én de y-as dezelfde grootte hebben en liefst ook dezelfde eenheid, kan je ze best helemaal samenzetten.\n",
    "Voorbeelden zijn:\n",
    "\n",
    "- een experiment waarbij je de groeisnelheid van een plant bij verschillende temperaturen onderzoekt. Op de x-as staan dan de dagen en op de y-as de hoogte van de plant. Het label per plot is dan de temperatuur van die plot.\n",
    "- een experiment waarbij je de uitrekking van een elastiek met verschillende dikte evalueert. Op de x-as kan dan de kracht staan die op de elastiek wordt uitgeoefend en op de y-as de lengte van de uitrekking.\n",
    "\n",
    "### Oplossingsstrategie\n",
    "\n",
    "De strategie in dit scenario is om de twee (of meer) plotfuncties direct achter elkaar te schrijven (met een verschillend label) voor de plt.show()."
   ],
   "metadata": {
    "collapsed": false
   },
   "id": "fc11fa6dd1a1d639"
  },
  {
   "cell_type": "code",
   "execution_count": null,
   "outputs": [],
   "source": [
    "# voorbeeld (zonder eenheden)\n",
    "def functie1(x):\n",
    "    return 0.8*x*x - x + 3\n",
    "def functie2(x):\n",
    "    return 2.3*x+4\n",
    "\n",
    "def plotTweeFuncties():\n",
    "    xAs = np.linspace(-2,5,25)\n",
    "    yAs1 = list(map(functie1, xAs))\n",
    "    yAs2 = list(map(functie2, xAs))\n",
    "    \n",
    "    plt.figure()\n",
    "    plt.plot(xAs, yAs1, color=\"red\", marker=\"o\", label=\"tweedegraadsfunctie\")\n",
    "    plt.plot(xAs, yAs2, color=\"blue\", marker=\"x\", label=\"tweedegraadsfunctie\")\n",
    "    plt.grid(True)\n",
    "    plt.show()\n",
    "    \n",
    "plotTweeFuncties()"
   ],
   "metadata": {
    "collapsed": false
   },
   "id": "bcc589dcebad9ae7"
  },
  {
   "cell_type": "code",
   "execution_count": null,
   "outputs": [],
   "source": [
    "# Voorbeeld uit de cursus\n",
    "def verdubbel(x):\n",
    "    return x*2\n",
    "def kwadrateer(x):\n",
    "    return x**2\n",
    "\n",
    "def tweeGrafiekenInElkaar(): \n",
    "    xAs = np.linspace(0, 10, 20) \n",
    "    yAs1 = list(map(verdubbel, xAs)) \n",
    "    yAs2 = list(map(kwadrateer, xAs)) \n",
    " \n",
    "    plt.figure()\n",
    "    plt.plot(xAs, yAs1, \"x:\", label=\"verdubbel\") \n",
    "    plt.plot(xAs, yAs2, \"o--\", label=\"kwadrateer\") \n",
    "    plt.grid() \n",
    "    plt.legend() \n",
    "    plt.show()\n",
    "tweeGrafiekenInElkaar()"
   ],
   "metadata": {
    "collapsed": false
   },
   "id": "d7a32bb8e904d548"
  },
  {
   "cell_type": "markdown",
   "source": [
    "### Oefeningen (uit de cursus)\n",
    "\n",
    "3. Plot de functies *y = (x + 2)(x − 1)(x − 2)* en *y = (x + 2)(x + 1)(x − 1)(x − 1.5)* in het bereik van [-2.5, 2,5] \n",
    "\n",
    "\n"
   ],
   "metadata": {
    "collapsed": false
   },
   "id": "f35c4a9a801074e1"
  },
  {
   "cell_type": "code",
   "execution_count": null,
   "outputs": [],
   "source": [
    "# ruimte voor oef. 3\n",
    "def derdeGraad(x):\n",
    "    return (x+2)*(x-1)*(x-2)\n",
    "\n",
    "def vierdeGraad(x):\n",
    "    return (x+2)*(x+1)*(x-1)*(x-1.5)\n",
    "\n",
    "def oef3():\n",
    "    #TODO vul aan\n",
    "    plt.figure()\n",
    "    plt.show()\n",
    "\n",
    "oef3()"
   ],
   "metadata": {
    "collapsed": false
   },
   "id": "f08f24590ec9372c"
  },
  {
   "cell_type": "markdown",
   "source": [
    "4. Uitbreiding van 1: gebruik het bestand “immo_by_province.csv” en plot de historische prijzen van \n",
    "gewone woonhuizen voor Antwerpen, Limburg en Vlaams-Brabant"
   ],
   "metadata": {
    "collapsed": false
   },
   "id": "7c1177a6eebf3eec"
  },
  {
   "cell_type": "code",
   "execution_count": null,
   "outputs": [],
   "source": [
    "# ruimte voor oef. 4\n",
    "def plotWoonhuizenPerProvincie(file=\"csv/immo_by_province.csv\"):\n",
    "    immo = pd.read_csv(file, sep=\";\", encoding=\"latin-1\")\n",
    "    #TODO vul aan\n",
    "    plt.figure()\n",
    "    plt.show()\n",
    "\n",
    "plotWoonhuizenPerProvincie()"
   ],
   "metadata": {
    "collapsed": false
   },
   "id": "4b13b6b49017fe20"
  },
  {
   "cell_type": "markdown",
   "source": [
    "##  Twee grafieken met dezelfde x-as maar andere y-as\n",
    "\n",
    "Wanneer de waarden op de x-as dezelfde zijn, maar de grootte van de waarden op de y-as ligt sterk uit elkaar, dan is het géén goed idee om dezelfde y-as te gebruiken. Stel bijvoorbeeld dat de y-waarden van de ene grafiek varieren tussen 0 en 1 en die van de andere grafiek tussen 100 en 10000, dan zou het verschil in de waarden van de eerste grafiek niet zichtbaar zijn als je dezelfde x-as gebruikt.\n",
    "\n",
    "Ook wanneer de waarden een andere eenheid hebben, is het niet verantwoord om ze op dezelfde y-as te zetten.\n",
    "\n",
    "### Oplossingsstrategie\n",
    "\n",
    "De grote truc om twee verschillende assen op één figuur te krijgen, is het commando twinx() om \n",
    "een tweeling-as te creëren. Door het gebruik van twinx() wordt het wel moeilijker om een legende **in** de grafiek te krijgen. In de cursus wordt hiervoor een oplossing beschreven, maar het is al goed als je elke as van de tweeling een eigen label te geven met plt.ylabel(). Je moet dit zowel vòòr als ná de plt.twinx() doen. We raden aan om beide labels een verschillende kleur te \n",
    "geven en de twee plots in de bijhorende kleur te tekenen."
   ],
   "metadata": {
    "collapsed": false
   },
   "id": "a0941b4cc6ee9617"
  },
  {
   "cell_type": "code",
   "execution_count": null,
   "outputs": [],
   "source": [
    "# voorbeeld uit de cursus\n",
    "\n",
    "def plotTweeAssen(): \n",
    "    xAs = list(range(1, 1001, 100)) \n",
    "    yAsLinks = list(map(verdubbel, xAs)) \n",
    "    yAsRechts = list(map(kwadrateer, xAs)) \n",
    " \n",
    "    plt.figure()\n",
    "    plt.ylabel(\"verdubbel\", color=\"r\")   \n",
    "    plt.plot(xAs, yAsLinks, \"r-x\") \n",
    " \n",
    "    plt.twinx() \n",
    "    plt.ylabel(\"kwadrateer\",color=\"b\") \n",
    "    plt.plot(xAs, yAsRechts, \"b--o\") \n",
    " \n",
    "    plt.show()\n",
    "    \n",
    "plotTweeAssen()"
   ],
   "metadata": {
    "collapsed": false
   },
   "id": "326b072168259f87"
  },
  {
   "cell_type": "markdown",
   "source": [
    "### Oefeningen\n",
    "\n",
    "- Importeer het bestand csv/dagopbrengst.csv en voeg een kolom toe met de cumulatieve opbrengst in KWh. Zet zowel de momentele opbrengst als de cumulatieve opbrengst in één grafiek."
   ],
   "metadata": {
    "collapsed": false
   },
   "id": "657e74fc4113f505"
  },
  {
   "cell_type": "code",
   "execution_count": null,
   "outputs": [],
   "source": [
    "def plotDagopbrengst(file = \"csv/dagopbrengst.csv\"):\n",
    "    df = pd.read_csv(file, sep=\";\", encoding=\"latin-1\")\n",
    "    #TODO vul aan\n",
    "    plt.figure()\n",
    "    plt.show() \n",
    "    \n",
    "plotDagopbrengst()"
   ],
   "metadata": {
    "collapsed": false
   },
   "id": "c1e5347ece0ebb28"
  },
  {
   "cell_type": "markdown",
   "source": [
    "- Plot de functie cos en tan van 0 tot 2*pi"
   ],
   "metadata": {
    "collapsed": false
   },
   "id": "8b39f8fea91e01cc"
  },
  {
   "cell_type": "code",
   "execution_count": null,
   "outputs": [],
   "source": [
    "def plotGoniometrischeFunctie(begin, einde):\n",
    "    #TODO vul aan\n",
    "    plt.figure()\n",
    "    plt.show()\n",
    "    \n",
    "plotGoniometrischeFunctie(0, 2*math.pi)"
   ],
   "metadata": {
    "collapsed": false
   },
   "id": "1adf3ffb1ea1dabc"
  },
  {
   "cell_type": "markdown",
   "source": [
    "## Verschillende grafieken met onafhankelijke (x-)assen of vormen\n",
    "\n",
    "Wanneer je bijvoorbeeld een histogram en een gewone plot naast elkaar wil zetten, of wanneer de x-assen niet gelijk zijn (bv. als je alleen de extreem kleine en de extreem grote waarden van het x-domein wil laten zien), dan kan je best verschillende deelfiguren maken en die groeperen.\n",
    "\n",
    "Je kan hiervoor uit twee technische aanpakken kiezen:\n",
    "\n",
    "- ***figs, axes* = plt.subplots(*aantalRijen, aantalKolommen*)** \n",
    "- **plt.subplot(*aantalRijen, aantalKolommen, volgnr*)** \n",
    "\n",
    "Het ziet er gelijkaardig uit, maar de eerste versie heeft een s vanachter en de tweede versie niet. Ze werken ook anders.\n",
    "\n",
    "- Bij de eerste versie krijg je twee returnwaarden en moet je vooral met die **axes** werken.  Die variabele is een een- of tweedimensionale lijst van subgrafieken. Wanneer je maar één rij gekozen had, is de lijst ééndimensionaal en kan je met met de vierkante haken [0], [1], [2], ... de verschillende deelfiguren opvragen. Wanneer je verschillende rijen hebt, wordt *axes* een tweedimensionale lijst en moet je twee niveaus van vierkante haken gebruiken, *axes[rij][kolom]*.\n",
    "- Bij de tweede versie moet je altijd de eerste twee parameters herhalen en bijkomend als derde parameter een volgnummer meegeven. Door die opdracht switcht pyplotlib van context en zullen de volgende instructies op de gekozen deelfiguur uitgevoerd worden.\n",
    "\n",
    "We geven hieronder twee voorbeelden in de twee verschillende stijlen.\n",
    "\n",
    "### Twee grafieken naast elkaar met subplots (mét s)"
   ],
   "metadata": {
    "collapsed": false
   },
   "id": "90cd2e5da4ec11d"
  },
  {
   "cell_type": "code",
   "execution_count": 1,
   "outputs": [
    {
     "ename": "NameError",
     "evalue": "name 'plt' is not defined",
     "output_type": "error",
     "traceback": [
      "\u001B[1;31m---------------------------------------------------------------------------\u001B[0m",
      "\u001B[1;31mNameError\u001B[0m                                 Traceback (most recent call last)",
      "Cell \u001B[1;32mIn[1], line 2\u001B[0m\n\u001B[0;32m      1\u001B[0m \u001B[38;5;66;03m# voorbeeld 1 uit de cursus\u001B[39;00m\n\u001B[1;32m----> 2\u001B[0m \u001B[43mplt\u001B[49m\u001B[38;5;241m.\u001B[39mclose()\n\u001B[0;32m      3\u001B[0m \u001B[38;5;28;01mdef\u001B[39;00m \u001B[38;5;21mtweeGrafiekenNaastElkaar\u001B[39m(): \n\u001B[0;32m      4\u001B[0m     xAs \u001B[38;5;241m=\u001B[39m np\u001B[38;5;241m.\u001B[39mlinspace(\u001B[38;5;241m0\u001B[39m, \u001B[38;5;241m10\u001B[39m, \u001B[38;5;241m100\u001B[39m) \n",
      "\u001B[1;31mNameError\u001B[0m: name 'plt' is not defined"
     ]
    }
   ],
   "source": [
    "# voorbeeld 1 uit de cursus\n",
    "def tweeGrafiekenNaastElkaar(): \n",
    "    xAs = np.linspace(0, 10, 100) \n",
    "    yAs1 = list(map(verdubbel, xAs)) \n",
    "    yAs2 = list(map(kwadrateer, xAs)) \n",
    " \n",
    "    plt.figure()\n",
    "    figs, axes = plt.subplots(1,2) \n",
    "    axes[0].plot(xAs, yAs1) \n",
    "    axes[1].plot(xAs, yAs2) \n",
    "    plt.show() \n",
    "    \n",
    "tweeGrafiekenNaastElkaar()"
   ],
   "metadata": {
    "collapsed": false,
    "ExecuteTime": {
     "end_time": "2025-10-08T08:35:42.168079700Z",
     "start_time": "2025-10-08T08:35:41.864147200Z"
    }
   },
   "id": "8295181e4d7a9f03"
  },
  {
   "cell_type": "markdown",
   "source": [
    "### Twee grafieken naast elkaar met subplot (zónder s)"
   ],
   "metadata": {
    "collapsed": false
   },
   "id": "651ee13f22bd1168"
  },
  {
   "cell_type": "code",
   "execution_count": 8,
   "outputs": [
    {
     "data": {
      "text/plain": "Canvas(toolbar=Toolbar(toolitems=[('Home', 'Reset original view', 'home', 'home'), ('Back', 'Back to previous …",
      "image/png": "[encoded data removed]",
      "text/html": "\n            <div style=\"display: inline-block;\">\n                <div class=\"jupyter-widgets widget-label\" style=\"text-align: center;\">\n                    Figure\n                </div>\n                <img src='data:image/png;base64,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' width=640.0/>\n            </div>\n        ",
      "application/vnd.jupyter.widget-view+json": {
       "version_major": 2,
       "version_minor": 0,
       "model_id": "cfa81785e9e5430085e3406bfd0f066c"
      }
     },
     "metadata": {},
     "output_type": "display_data"
    }
   ],
   "source": [
    "# voorbeeld 1 uit de cursus\n",
    "plt.close()\n",
    "\n",
    "def verdubbel(x):\n",
    "    return 2*x\n",
    "\n",
    "def kwadrateer(x):\n",
    "    return x*x\n",
    "\n",
    "def f3(x):\n",
    "    return x*x-7*x+3\n",
    "    \n",
    "def f4(x):\n",
    "    return -x*x+11*x+3\n",
    "    \n",
    "    \n",
    "def tweeGrafiekenNaastElkaar2526(): \n",
    "    xAs = np.linspace(0, 10, 100) \n",
    "    yAs1 = list(map(verdubbel, xAs)) \n",
    "    yAs2 = list(map(kwadrateer, xAs)) \n",
    " \n",
    "    plt.figure()\n",
    "    plt.subplot(1,2,1)\n",
    "    plt.plot(xAs, yAs1) \n",
    "    \n",
    "    plt.subplot(1,2,2)\n",
    "    plt.plot(xAs, yAs2) \n",
    "\n",
    "    plt.show() \n",
    "    \n",
    "tweeGrafiekenNaastElkaar2526()"
   ],
   "metadata": {
    "collapsed": false,
    "ExecuteTime": {
     "end_time": "2025-08-11T14:51:23.340297400Z",
     "start_time": "2025-08-11T14:51:23.174717800Z"
    }
   },
   "id": "728f7327ec57ba8f"
  },
  {
   "cell_type": "markdown",
   "source": [
    "### Vier grafieken in twee rijen met subplots (mét s)"
   ],
   "metadata": {
    "collapsed": false
   },
   "id": "3434350db6efe57a"
  },
  {
   "cell_type": "code",
   "execution_count": null,
   "outputs": [],
   "source": [
    "# voorbeeld 2 uit de cursus\n",
    "def vierGrafiekenInTweeRijen(): \n",
    "    xAs = np.linspace(0, 10, 100) \n",
    "    yAs1 = list(map(verdubbel, xAs)) \n",
    "    yAs2 = list(map(kwadrateer, xAs)) \n",
    " \n",
    "    plt.figure()\n",
    "    figs, axes = plt.subplots(2,2) \n",
    "    axes[0,0].plot(xAs, yAs1) \n",
    "    axes[0,1].plot(xAs, yAs2) \n",
    " \n",
    "    xAs2 = range(1,13) \n",
    "    ptn = [17,13, 14, 11, 8, 11, 7, 17, 12, 14, 7, 11] \n",
    "    axes[1,0].bar(xAs2, ptn) \n",
    "    axes[1,1].hist(ptn, 21) # 21 mogelijke punten \n",
    " \n",
    "    plt.show() \n",
    "    \n",
    "vierGrafiekenInTweeRijen()"
   ],
   "metadata": {
    "collapsed": false
   },
   "id": "d52be88ea92b5bfd"
  },
  {
   "cell_type": "markdown",
   "source": [
    "### Vier grafieken in twee rijen met subplot (zónder s)"
   ],
   "metadata": {
    "collapsed": false
   },
   "id": "f62fd2f6aa1fd530"
  },
  {
   "cell_type": "code",
   "execution_count": 10,
   "outputs": [
    {
     "data": {
      "text/plain": "Canvas(toolbar=Toolbar(toolitems=[('Home', 'Reset original view', 'home', 'home'), ('Back', 'Back to previous …",
      "image/png": "[encoded data removed]",
      "text/html": "\n            <div style=\"display: inline-block;\">\n                <div class=\"jupyter-widgets widget-label\" style=\"text-align: center;\">\n                    Figure\n                </div>\n                <img src='data:image/png;base64,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' width=640.0/>\n            </div>\n        ",
      "application/vnd.jupyter.widget-view+json": {
       "version_major": 2,
       "version_minor": 0,
       "model_id": "ada943b36d27462884ef78e740602351"
      }
     },
     "metadata": {},
     "output_type": "display_data"
    }
   ],
   "source": [
    "def vierGrafiekenBijElkaar():\n",
    "    xAs = np.linspace(0, 10, 100)\n",
    "    yAs1 = list(map(verdubbel, xAs))\n",
    "    yAs2 = list(map(kwadrateer, xAs))\n",
    "\n",
    "    plt.figure()\n",
    "    plt.subplot(2,2,1)\n",
    "    plt.plot(xAs, yAs1)\n",
    "\n",
    "    plt.subplot(2,2,2)\n",
    "    plt.plot(xAs, yAs2)\n",
    "\n",
    "    plt.subplot(2,2,3)\n",
    "    xAs2 = range(1,13)\n",
    "    ptn = [17,13, 14, 11, 8, 11, 7, 17, 12, 14, 7, 11]\n",
    "    plt.bar(xAs2, ptn)\n",
    "\n",
    "    plt.subplot(2,2,4)\n",
    "    plt.hist(ptn, 21) # 21 mogelijke punten\n",
    "\n",
    "    plt.show()\n",
    "    \n",
    "vierGrafiekenBijElkaar()"
   ],
   "metadata": {
    "collapsed": false,
    "ExecuteTime": {
     "end_time": "2025-08-14T12:02:54.160611600Z",
     "start_time": "2025-08-14T12:02:53.943252300Z"
    }
   },
   "id": "177ef989fe31c970"
  },
  {
   "cell_type": "markdown",
   "source": [],
   "metadata": {
    "collapsed": false
   },
   "id": "9b7a85d38c1e111d"
  },
  {
   "cell_type": "markdown",
   "source": [
    "### Oefening\n",
    "\n",
    "- Importeer het bestand csv/dagopbrengst.csv en voeg een kolom toe met de cumulatieve opbrengst in KWh. Zet in het linkse deelvenster de momentele opbrengst in W in een staafgrafiek, en zet in het rechts deelvenster de cumulatieve opbrengst in KWh."
   ],
   "metadata": {
    "collapsed": false
   },
   "id": "b5e10942b0729b67"
  },
  {
   "cell_type": "code",
   "execution_count": null,
   "outputs": [],
   "source": [
    "def plotDagopbrengstTweeGrafiekenInElkaar(file = \"csv/dagopbrengst.csv\"):\n",
    "    df = pd.read_csv(file, sep=\";\", encoding=\"latin-1\")\n",
    "    #TODO vul aan\n",
    "    plt.figure()\n",
    "    plt.show() \n",
    "    \n",
    "plotDagopbrengstTweeGrafiekenInElkaar()"
   ],
   "metadata": {
    "collapsed": false
   },
   "id": "aad4fc1d07803618"
  },
  {
   "cell_type": "markdown",
   "source": [
    "# Spelen met de parameters van een grafiek\n",
    "\n",
    "Het interessante aan programmeren is dat je gemakkelijk verschillende scenario’s kan uitproberen \n",
    "door een functie verschillende keren met telkens andere parameters op te roepen, bv. de ene keer *probeer(10)* en de andere keer *probeer(11)*, ...\n",
    "\n",
    "Met de module **ipywidgets** kan dit nòg gemakkelijker doordat je de gebruiker de kans geeft om parameters via sliders te laten variëren. Nadat je ipywidgets geïmporteerd hebt met **import ipywidgets**, moet je hiervoor volgend scenario volgen:\n",
    " \n",
    "1. Maak de functie met als parameters de waarden die je wil laten variëren, bv. *probeerSnelheid(v)*, *probeerTemperatuur(t)*, ... \n",
    "2. De functie moet als laatste regel een plot tonen (*plt.show()*). \n",
    "3. Roep de methode ipywidgets.interactive op, bv. *grafiek = ipywidgets.interactive(...)*, met volgende parameters:  \n",
    "     - Als eerste parameter de functie uit stap 1. \n",
    "     - Als volgende parameters alle parameters van de functie uit stap 1.\n",
    "       Gebruik hiervoor benoemde parameters (zie 3.5) met een initiële waarde, bv. *g = 9.81*. \n",
    "   Voor elke benoemde parameter wordt een slider gemaakt worden met een bereik rond die initiële waarde. \n",
    "4. Geef de return-waarde (bv. *grafiek*) van stap 3 als parameter mee aan de functie **display** (bv. *display(grafiek)*) . \n"
   ],
   "metadata": {
    "collapsed": false
   },
   "id": "a2bd8d25efd7d2ee"
  },
  {
   "cell_type": "code",
   "execution_count": null,
   "outputs": [],
   "source": [
    "import ipywidgets\n",
    "\n",
    "# voorbeeld, gebaseerd op het voorbeeld van de cursus\n",
    "def plotMacht(n, einde): \n",
    "    def macht(x): \n",
    "        return x**n \n",
    "    xAs = list(range(1,einde)) \n",
    "    yAs = list(map(macht, xAs)) \n",
    "    plt.figure()\n",
    "    plt.plot(xAs, yAs, linestyle=\":\", marker=\"x\") \n",
    "    plt.title(\"x tot de macht \" + str(n)) \n",
    "    plt.show() \n",
    "    \n",
    "import ipywidgets\n",
    "def plotMachtInteractief():\n",
    "    grafiek = ipywidgets.interactive(plotMacht, n=3, einde=100)\n",
    "    display(grafiek)\n",
    "    \n",
    "plotMachtInteractief()"
   ],
   "metadata": {
    "collapsed": false
   },
   "id": "1f12c8e863625867"
  },
  {
   "cell_type": "markdown",
   "source": [
    "## Gevorderde instellingen\n",
    "\n",
    "ipywidgets kiest het bereik van de slider zelf. In het voorbeeld van hierboven kan *n* van -3 tot +9 gaan, en *einde* van -100 tot +300. Voor *n* kan dat nog, maar voor *einde* niet: daar zijn negatieve waarden onmogelijk. In zo'n geval kan je ook zelf een slider maken en die in de functie *interactive* meegeven als *default waarde* voor de geselecteerde parameter.\n",
    "\n",
    "Je moet dan kiezen tussen een **IntSlider** of een **FloatSlider** en volgende parameters meegeven:\n",
    "- *value* de startwaarde,\n",
    "- *min* de laagst mogelijke waarde voor de slider, \n",
    "- *max* de hoogst mogelijke waarde voor de slider, \n",
    "- *step* de stapgrootte in de slider, \n",
    "- *description* een beschrijving die voor de slider komt.\n",
    "\n",
    "Zoals steeds wordt dit (waarschijnlijk) duidelijker aan de hand van een voorbeeld. We passen eerst het voorbeeld van hierboven met een eigen slider voor *einde*. "
   ],
   "metadata": {
    "collapsed": false
   },
   "id": "41511f1aa2c1a383"
  },
  {
   "cell_type": "code",
   "execution_count": null,
   "outputs": [],
   "source": [
    "# voorbeeld met slider voor het einde van de grafiek\n",
    "    \n",
    "def plotMachtInteractief_v2():\n",
    "    sliderVoorEinde = ipywidgets.IntSlider(value=100, min=25, max=500, step = 5, description = \"Eindpunt van het interval\")\n",
    "    grafiek = ipywidgets.interactive(plotMacht, n=3, einde=sliderVoorEinde)\n",
    "    display(grafiek)\n",
    "    \n",
    "plotMachtInteractief_v2()"
   ],
   "metadata": {
    "collapsed": false
   },
   "id": "d9515c790c7d75bb"
  },
  {
   "cell_type": "markdown",
   "source": [
    "In de cursus hebben we een voorbeeld met twee zelfgemaakte sliders."
   ],
   "metadata": {
    "collapsed": false
   },
   "id": "7cf507c959d112e1"
  },
  {
   "cell_type": "code",
   "execution_count": null,
   "outputs": [],
   "source": [
    "# laatste voorbeeld uit de cursus\n",
    "def kwadrateer(x):\n",
    "    return x**2\n",
    "\n",
    "def plotVanTot(start, einde): \n",
    "    xAs = list(range(start,einde)) \n",
    "    yAs = list(map(kwadrateer, xAs)) \n",
    "    plt.figure()\n",
    "    plt.plot(xAs, yAs) \n",
    "    plt.title(\"kwadraat van \" + str(start) + \" tot \" + str(einde)) \n",
    "    plt.show() \n",
    "    \n",
    "def plotInteractief(): \n",
    "    startSlider = ipywidgets.IntSlider(value=10, min=0, max=20, \n",
    "                                       description=\"Begin van het interval\") \n",
    "    eindSlider = ipywidgets.IntSlider(value=20, min=10, max=40, \n",
    "                                      description=\"Einde van het interval\") \n",
    "    grafiek = ipywidgets.interactive(plotVanTot, start=startSlider, einde=eindSlider) \n",
    "    display(grafiek) \n",
    "    \n",
    "plotInteractief()"
   ],
   "metadata": {
    "collapsed": false
   },
   "id": "add06492be121365"
  },
  {
   "cell_type": "code",
   "execution_count": null,
   "outputs": [],
   "source": [
    "# extra voorbeeld\n",
    "def plotVierdegraadsWidgets():\n",
    "    aSlider = ipywidgets.FloatSlider(value=0.25, min=-10, max=10, description=\"a\")\n",
    "    bSlider = ipywidgets.FloatSlider(value=0.25, min=-10, max=10, description=\"b\")\n",
    "    cSlider = ipywidgets.FloatSlider(value=0.25, min=-10, max=10, description=\"c\")\n",
    "    dSlider = ipywidgets.FloatSlider(value=0.25, min=-10, max=10, description=\"d\")\n",
    "    eSlider = ipywidgets.FloatSlider(value=0.25, min=-10, max=10, description=\"e\")\n",
    "    startSlider = ipywidgets.FloatSlider(value=-100, min=-200, max=0, description=\"start\")\n",
    "    eindSlider = ipywidgets.FloatSlider(value=100, min=-0, max=200, description=\"eind\")\n",
    "    def plotter(a,b,c,d,e,begin,einde):\n",
    "        xAs = np.linspace(begin, einde, 50)\n",
    "        yAs = list(map(lambda x: a*x**4+b*x**3+c*x**2+d*x+e, xAs))\n",
    "        plt.figure()\n",
    "        plt.plot(xAs, yAs)\n",
    "        plt.show()\n",
    "    grafiek = ipywidgets.interactive(plotter, a=aSlider, b=bSlider, c=cSlider, d=dSlider, e=eSlider, begin=startSlider, einde=eindSlider) \n",
    "    display(grafiek) \n",
    "    \n",
    "plotVierdegraadsWidgets()"
   ],
   "metadata": {
    "collapsed": false
   },
   "id": "bb96b2ba7031a259"
  },
  {
   "cell_type": "code",
   "execution_count": null,
   "outputs": [],
   "source": [
    "plt.close()"
   ],
   "metadata": {
    "collapsed": false
   },
   "id": "f9eac4f8d42c3bb0"
  },
  {
   "cell_type": "markdown",
   "source": [
    "## Oefeningen\n",
    "\n",
    "- Pas het voorbeeld *plotMachtInteractief_v2* aan zodat je voor de graad van de veelterm een slider met reële getallen gebruikt."
   ],
   "metadata": {
    "collapsed": false
   },
   "id": "ceec4e78c9c9cb7a"
  },
  {
   "cell_type": "code",
   "execution_count": null,
   "outputs": [],
   "source": [
    "def plotMachtInteractief_v3():\n",
    "    #TODO vul aan\n",
    "    pass\n",
    "\n",
    "plotMachtInteractief_v3()"
   ],
   "metadata": {
    "collapsed": false
   },
   "id": "f186d3f2f7672402"
  },
  {
   "cell_type": "markdown",
   "source": [
    "- Variant van oefening 6 van de cursus\n",
    "  Twee vrienden wonen op 22 kilometer afstand van elkaar, en willen iets gaan drinken/sporten/kaarten/discussiëren op een plek die tussen elkaar in ligt. De ene vriend moet met de fiets rijden en rijdt liefst tussen de 15 en 22 km/u, maar kan ook wel een spurtje trekken voor zijn vriend; de andere vriend gebruikt een elektrische motorfiets met een kruissnelheid van rond de 40 km/u met een maximum van 45 km/u, maar de vriend kan ook wel wat trager rijden om batterij te besparen.\n",
    "  \n",
    "  Hiervoor krijg je functies *afstandVriend1* en *afstandVriend2* die de afstand t.o.v. van het vertrekpunt van vriend 1 terug geven in functie van de tijd en de snelheid. Voor *afstandVriend1* loopt de afstand op vanaf 0 richting 22; voor *afstandVriend2* daalt de afstand van 22 richting 0. Als je deze twee afstandsfuncties zou plotten, geeft het snijpunt van de twee lijnen de plaats weer waar de vrienden elkaar tegenkomen. De plaatsen waar ze warm en droog kunnen afspreken, liggen op 5 en 10 km van de vertrekplaats van vriend 1 verwijderd.\n",
    "  \n",
    "  **Maak een interactieve grafiek waarin je de snelheden van beide vrienden kan aanpassen. Zoek comfortabele snelheden waarmee ze op respectievelijk 5 of 10 km kunnen afspreken, of waarbij ze elk 20 minuten moeten rijden.**"
   ],
   "metadata": {
    "collapsed": false
   },
   "id": "44243d5ad13eea3e"
  },
  {
   "cell_type": "code",
   "execution_count": null,
   "outputs": [],
   "source": [
    "def afstandVriend1(tijdInMinuten, snelheidKmPerU):\n",
    "    return snelheidKmPerU*tijdInMinuten/60\n",
    "\n",
    "def afstandVriend2(tijdInMinuten, snelheidKmPerU):\n",
    "    return 22 - snelheidKmPerU*tijdInMinuten/60\n",
    "\n",
    "def plotAfstanden(snelheidFiets, snelheidMotorfiets):\n",
    "    # maak eerst lokale functies met één parameter\n",
    "    \n",
    "    # bepaal x-as en beide y-assen\n",
    "    \n",
    "    # plot beide grafieken\n",
    "    \n",
    "    plt.figure()\n",
    "    plt.show()    \n",
    "    \n",
    "def zoekSnelhedenVrienden():\n",
    "    #TODO vul aan\n",
    "    pass\n",
    "\n",
    "zoekSnelhedenVrienden()    \n",
    "    "
   ],
   "metadata": {
    "collapsed": false
   },
   "id": "86c60a08db024998"
  },
  {
   "cell_type": "markdown",
   "source": [
    "- Een variant van de laatste oefening van hoofdstuk 5: de diepvriezers.\n",
    "  In het csv-bestand diepvries.csv staan de aankoopprijs en het verbruik per jaar in KWh van 4 diepvriezers. In die oefening was gevraagd om de kostprijs na 10 jaar te berekenen bij een elektriciteitsprijs van 28 eurocent/KWh en 40 eurocent/KWh.\n",
    "  In deze variant van de oefening vragen we om de gecumuleerde kostprijs van alle diepvriezers op een grafiek te zetten met op de x-as de tijd in jaar en op de y-as de prijs van aankoop + verbruik over de afgelopen jaren. \n",
    "  Voorzie een slider waarmee je de kostprijs kan laten variëren tussen aannemelijke grenzen en kijk welke invloed dit heeft op de tijd waarop een nieuwe, energieëfficiënte diepvriezer zichzelf terugverdiend heeft."
   ],
   "metadata": {
    "collapsed": false
   },
   "id": "588ef72ffcf732a8"
  },
  {
   "cell_type": "code",
   "execution_count": null,
   "outputs": [],
   "source": [
    "# ruimte voor de oefening op de diepvriezer\n"
   ],
   "metadata": {
    "collapsed": false
   },
   "id": "ed657422f174b9f2"
  },
  {
   "cell_type": "markdown",
   "source": [
    "5. Maak opgave 5 uit de cursus (dit is een oefening zonder sliders): slimme grafiek van ax²+bx+c \n",
    "- Maak functies om volgende dingen te berekenen \n",
    "    - Eerste nulpunt \n",
    "    - Tweede nulpunt \n",
    "- Maak functie die parameters a, b, c heeft en  \n",
    "    - Nagaat of er 0, 1 of 2 nulpunten zijn \n",
    "    - Indien 0 nulpunten, grafiek van -20 tot +20 \n",
    "    - Indien 1 nulpunten “y”, grafiek van y-20 tot y+20 \n",
    "    - Indien 2 nulpunten “y1” en “y2”, bereken afstand tussen y1 en y2 (“afst”) en grafiek van y1-afst tot y2+afst "
   ],
   "metadata": {
    "collapsed": false
   },
   "id": "ea417c67adbfae43"
  },
  {
   "cell_type": "code",
   "execution_count": null,
   "outputs": [],
   "source": [
    "# ruimte voor oef. 5"
   ],
   "metadata": {
    "collapsed": false
   },
   "id": "c87be7882106b298"
  },
  {
   "cell_type": "markdown",
   "source": [
    "*Oefening 7 uit de cursus vervalt*\n"
   ],
   "metadata": {
    "collapsed": false
   },
   "id": "10f0125139a00d41"
  }
 ],
 "metadata": {
  "kernelspec": {
   "display_name": "Python 3",
   "language": "python",
   "name": "python3"
  },
  "language_info": {
   "codemirror_mode": {
    "name": "ipython",
    "version": 2
   },
   "file_extension": ".py",
   "mimetype": "text/x-python",
   "name": "python",
   "nbconvert_exporter": "python",
   "pygments_lexer": "ipython2",
   "version": "2.7.6"
  }
 },
 "nbformat": 4,
 "nbformat_minor": 5
}
