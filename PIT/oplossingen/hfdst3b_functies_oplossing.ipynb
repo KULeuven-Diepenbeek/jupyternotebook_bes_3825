{
 "cells": [
  {
   "cell_type": "markdown",
   "source": [
    "# 3.5\tOptionele en benoemde parameters\n",
    "\n",
    "Wanneer je parameters hebt die een extra vormen en dus niet noodzakelijk zijn, kan je er optionele parameters van maken door een standaard-waarde achter de parameter te zetten."
   ],
   "metadata": {
    "collapsed": false
   },
   "id": "1a7bcb8a89c55753"
  },
  {
   "cell_type": "code",
   "execution_count": null,
   "outputs": [],
   "source": [
    "# voorbeeld uit de cursus\n",
    "def hallo(naam, aantalExtra = 1, sierteken = '*'):\n",
    "    aantalSterren = len(naam) + (aantalExtra*2) + 8\n",
    "    veelSterren = sierteken * aantalSterren\n",
    "    extraSterren = sierteken * aantalExtra\n",
    "    print(veelSterren)\n",
    "    print(extraSterren + \" Hallo \" + naam+ \" \" + extraSterren)\n",
    "    print(veelSterren)"
   ],
   "metadata": {
    "collapsed": false
   },
   "id": "b8c6f661ecb3eb00"
  },
  {
   "cell_type": "code",
   "execution_count": null,
   "outputs": [],
   "source": [
    "hallo(\"Dag allemaal\", sierteken='#')"
   ],
   "metadata": {
    "collapsed": false
   },
   "id": "93483755846db3fc"
  },
  {
   "cell_type": "code",
   "execution_count": null,
   "outputs": [],
   "source": [
    "hallo(\"PIT = Python als Ingenieurstool\", sierteken=\"!\", aantalExtra=3)"
   ],
   "metadata": {
    "collapsed": false
   },
   "id": "e2b836b576af0ffd"
  },
  {
   "cell_type": "markdown",
   "source": [
    "# 3.6 Functies als variable\n",
    "\n",
    "Je kan ook functies als parameter meegeven aan een andere functies."
   ],
   "metadata": {
    "collapsed": false
   },
   "id": "7f8d708ba02e7193"
  },
  {
   "cell_type": "code",
   "execution_count": null,
   "outputs": [],
   "source": [
    "# voorbeelden uit de cursus\n",
    "def kleinsteWaarde(f,g,x):\n",
    "    if f(x) < g(x):\n",
    "        return f(x)\n",
    "    else:\n",
    "        return g(x)\n",
    "\n",
    "def fOrDefault(f, x, default ):\n",
    "    if f(x) > 0:\n",
    "       return f(x)\n",
    "    else:\n",
    "       return default"
   ],
   "metadata": {
    "collapsed": false
   },
   "id": "f08f03bbc3cfd365"
  },
  {
   "cell_type": "code",
   "execution_count": null,
   "outputs": [],
   "source": [
    "# voorbeelden toegepast\n",
    "def verdubbel(x):\n",
    "    return x*2\n",
    "def kwadrateer(x):\n",
    "    return x**2\n",
    "\n",
    "print(\"Kleinste waarde van verdubbel(1.5) en kwadrateer(1.5)\")\n",
    "print(kleinsteWaarde(verdubbel, kwadrateer, 1.5))\n",
    "print(\"Kleinste waarde van verdubbel(15) en kwadrateer(15)\")\n",
    "print(kleinsteWaarde(verdubbel, kwadrateer, 15))\n",
    "\n",
    "print(\"fOrDefault van verdubbel -1.5\")\n",
    "print(fOrDefault(verdubbel, -1.5, 0))"
   ],
   "metadata": {
    "collapsed": false
   },
   "id": "3810f1fbbdc55aa6"
  },
  {
   "cell_type": "markdown",
   "source": [
    "# 3.8 Oefeningen\n",
    "\n",
    "Los in het werkcollege minstens 2-3 functies op en werk de rest thuis af."
   ],
   "metadata": {
    "collapsed": false
   },
   "id": "c9badeda30f19a4a"
  },
  {
   "cell_type": "markdown",
   "source": [
    "5.\tSchrijf een functie die drie parameters neemt: twee functies (f en g) en een waarde (x) en die een boolean teruggeeft die vertelt of f en g commutatief zijn in x. De functie moet dus teruggeven of f(g(x)) == g(f(x))."
   ],
   "metadata": {
    "collapsed": false
   },
   "id": "532faf7d22cecc0"
  },
  {
   "cell_type": "code",
   "execution_count": null,
   "outputs": [],
   "source": [
    " # oefening 5\n",
    "def zijnCommutatief(f, g, x):\n",
    "    return f(g(x)) == g(f(x))\n",
    "\n",
    "# voorbeeld\n",
    "def maal3(x):\n",
    "    return x*3\n",
    "def gedeeldDoor7(x):\n",
    "    return x/7\n",
    "def plus4(x):\n",
    "    return x+4\n",
    "\n",
    "nietCommutatief = zijnCommutatief(maal3, plus4, 10)\n",
    "welCommutatief = zijnCommutatief(maal3, gedeeldDoor7, 5)\n",
    "print(nietCommutatief)\n",
    "print(welCommutatief)"
   ],
   "metadata": {
    "collapsed": false
   },
   "id": "e1fb41fed12cce0"
  },
  {
   "cell_type": "markdown",
   "source": [
    "6.\tSchrijf een functie die drie parameters neemt: twee functies en een derde waarde en die een boolean teruggeeft die aangeeft of beide functies voor de derde parameter dezelfde uitkomst hebben.\n",
    "\n",
    "Je zou deze functie dus kunnen gebruiken om na te gaan of twee functies hetzelfde effect hebben.\n"
   ],
   "metadata": {
    "collapsed": false
   },
   "id": "7e0ef37717f7e670"
  },
  {
   "cell_type": "code",
   "execution_count": null,
   "outputs": [],
   "source": [
    " # oefening 6\n",
    "def isGelijkwaardig(f, g, x):\n",
    "    return f(x)==g(x)\n",
    "\n",
    "# voorbeelden\n",
    "print(isGelijkwaardig(maal3,plus4, 2))\n",
    "print(isGelijkwaardig(maal3,plus4, 3))\n",
    "print(isGelijkwaardig(maal3, gedeeldDoor7, 0))"
   ],
   "metadata": {
    "collapsed": false
   },
   "id": "91c0b65107b0faf0"
  },
  {
   "cell_type": "markdown",
   "source": [
    "9.\tSchrijf een functie die drie parameters heeft: \n",
    "•\tEen functie met één parameter, f\n",
    "•\tEen startwaarde, x\n",
    "•\tEen natuurlijk getal, n\n",
    "\n",
    "De functie moet de waarde moet teruggeven die je bekomt door f zoveel keer los te laten op de startwaarde als n aangeeft. Voorbeeld: als n gelijk is aan 3, moet je f(f(f(x))) teruggeven.\n",
    "\n",
    "Tip: een functie f  n keer loslaten op x is hetzelfde als een functie f (n-1) keer loslaten op f(x). \n",
    "Schrijf dus de functie uit door die zichzelf op te laten roepen."
   ],
   "metadata": {
    "collapsed": false
   },
   "id": "e535d609cf648edd"
  },
  {
   "cell_type": "code",
   "execution_count": null,
   "outputs": [],
   "source": [
    " # oefening 9\n",
    "def herhaal(f, n, x):\n",
    "    if n == 0:\n",
    "        return x\n",
    "    else:\n",
    "        return herhaal(f, n-1, f(x))\n",
    "    \n",
    "# voorbeeld\n",
    "tien = herhaal(plus4, 2, 2)\n",
    "eenentachtig = herhaal(maal3, 4, 1)\n",
    "print(tien, eenentachtig)"
   ],
   "metadata": {
    "collapsed": false
   },
   "id": "1669466821cb2463"
  },
  {
   "cell_type": "markdown",
   "source": [
    "10.\tSchrijf een functie die 3 functies als parameter neemt en een waarde, en die de grootste uitkomst van de drie functies terug geeft."
   ],
   "metadata": {
    "collapsed": false
   },
   "id": "eddec22a01c69466"
  },
  {
   "cell_type": "code",
   "execution_count": null,
   "outputs": [],
   "source": [
    " # oefening 10\n",
    "def grootsteFunctiewaarde(f, g, h, x):\n",
    "    return max(f(x), g(x), h(x))\n",
    "\n",
    "def grootsteFunctiewaardeMetIf(f, g, h, x):\n",
    "    fx = f(x)\n",
    "    gx = g(x)\n",
    "    hx = h(x)\n",
    "    if fx > gx:\n",
    "        if fx > hx:\n",
    "            return fx\n",
    "        else:\n",
    "            return hx\n",
    "    elif gx > hx:\n",
    "        return gx \n",
    "    else:\n",
    "        return hx"
   ],
   "metadata": {
    "collapsed": false
   },
   "id": "325e368005b5605e"
  },
  {
   "cell_type": "markdown",
   "source": [
    "# 3.7 Functies in functies"
   ],
   "metadata": {
    "collapsed": false
   },
   "id": "269133a7a661a449"
  },
  {
   "cell_type": "markdown",
   "source": [
    "Hieronder vind je een functie isLokaalMinimum die drie parameters neemt:\n",
    "- een functie f\n",
    "- een getal x\n",
    "- en een (klein) getal delta\n",
    "\n",
    "De functie gaat na of f een lokaal minium in f heeft door te kijken of de functie daalt tussen x-delta en x (= stijgt tussen x en x-delta) en tussen x en x+delta."
   ],
   "metadata": {
    "collapsed": false
   },
   "id": "4a65380528303455"
  },
  {
   "cell_type": "code",
   "execution_count": null,
   "outputs": [],
   "source": [
    "def isStijgend(f, x, y):\n",
    "    return f(x) < f(y)\n",
    "\n",
    "def isLokaalMinimum(f, x, delta): \n",
    "    return isStijgend(f, x, x-delta) and isStijgend(f, x, x+delta)\n",
    "\n",
    "def functie(x):\n",
    "    if x < 0:\n",
    "        return -x\n",
    "    else:\n",
    "        return x\n",
    "    \n",
    "ja = isLokaalMinimum(functie, 0, 0.1)\n",
    "nee= isLokaalMinimum(functie, 1, 0.1)"
   ],
   "metadata": {
    "collapsed": false
   },
   "id": "4296aa5eadf4d0b5"
  },
  {
   "cell_type": "markdown",
   "source": [
    "Stel nu dat we voor een functie met twéé parameters iets soortgelijks willen doen. Concreet willen we weten of er in het punt (x,y) een lokaalMinimum is volgens de x-as. We moeten dan kijken of f (x-delta, y) en f (x+delta,y) groter dan f (x,y).  We leiden hiervoor van de functie met twéé parameters een functie af die maar één parameter meer heeft, en gebruiken die functie in de bestaande isLokaalMinimum. "
   ],
   "metadata": {
    "collapsed": false
   },
   "id": "d4d3ffac4dc4f370"
  },
  {
   "cell_type": "code",
   "execution_count": null,
   "outputs": [],
   "source": [
    "def isLokaalMinimumVolgensX(f, x, y):\n",
    "    def fx(x1):\n",
    "        return f(x1,y)\n",
    "    return isLokaalMinimum(fx, x, 0.1)\n",
    "\n",
    "import math\n",
    "def functie2(x,y):\n",
    "    return math.sin(x)+y\n",
    "\n",
    "jaja = isLokaalMinimumVolgensX(functie2, -math.pi/2, 10)\n",
    "neenee = isLokaalMinimumVolgensX(functie2, 0, 10)"
   ],
   "metadata": {
    "collapsed": false
   },
   "id": "686024e528fff6cc"
  },
  {
   "cell_type": "markdown",
   "source": [
    "# Oefeningen op 3.7"
   ],
   "metadata": {
    "collapsed": false
   },
   "id": "6fac703b9077131a"
  },
  {
   "cell_type": "markdown",
   "source": [
    "7. Schrijf een variant van de functie isLokaalMinimumVolgensX die nagaat of een functie met twee parameters in een gegeven punt een lokaal minimum is volgens de y-as en noem die isLokaalMinimumVolgensY. \n",
    "\n",
    "De functie *heeftLokaalMinimumIn0_0* heeft een lokaal minimum in (0,0) en is dus geschikt voor zowel oefening 7 als 8."
   ],
   "metadata": {
    "collapsed": false
   },
   "id": "a7241dfeb2eed5d5"
  },
  {
   "cell_type": "code",
   "execution_count": null,
   "outputs": [],
   "source": [
    "def heeftLokaalMinimumIn0_0(x,y):\n",
    "    return (1-abs(x))*(-math.cos(y))\n",
    "\n",
    "# oefening 7\n",
    "def isLokaalMinimumVolgensY(f, x, y):\n",
    "    def fy(y1):\n",
    "        return f(x,y1)\n",
    "    return isLokaalMinimum(fy, y, 0.1)\n"
   ],
   "metadata": {
    "collapsed": false
   },
   "id": "be088870d6d38557"
  },
  {
   "cell_type": "code",
   "execution_count": null,
   "outputs": [],
   "source": [
    "# test voor oef. 7\n",
    "print(isLokaalMinimumVolgensY(heeftLokaalMinimumIn0_0, 0, 0))\n",
    "print(isLokaalMinimumVolgensY(heeftLokaalMinimumIn0_0, 1, 1))"
   ],
   "metadata": {
    "collapsed": false
   },
   "id": "c18858de0a17a390"
  },
  {
   "cell_type": "markdown",
   "source": [
    "8.\tSchrijf een variant die nagaat of de functie met twee parameters zowel volgens de x-as als volgens de y-as in een lokaal minimum zit."
   ],
   "metadata": {
    "collapsed": false
   },
   "id": "548e6f5048f7f37c"
  },
  {
   "cell_type": "code",
   "execution_count": null,
   "outputs": [],
   "source": [
    " # oefening 8\n",
    "def isLokaalMinimumXY(f, x, y):\n",
    "    def fx(x1):\n",
    "        return f(x1,y)\n",
    "    def fy(y1):\n",
    "        return f(x,y1)\n",
    "    return isLokaalMinimum(fx, x, 0.1) and isLokaalMinimum(fy, y, 0.1)"
   ],
   "metadata": {
    "collapsed": false
   },
   "id": "c174926b9332ccc2"
  },
  {
   "cell_type": "code",
   "execution_count": null,
   "outputs": [],
   "source": [
    "# test voor oef. 8\n",
    "print(isLokaalMinimumXY(heeftLokaalMinimumIn0_0, 0, 0))\n",
    "print(isLokaalMinimumXY(heeftLokaalMinimumIn0_0, 1, 1))"
   ],
   "metadata": {
    "collapsed": false
   },
   "id": "cce0e422d5c9aaea"
  },
  {
   "cell_type": "code",
   "execution_count": null,
   "outputs": [],
   "source": [],
   "metadata": {
    "collapsed": false
   },
   "id": "c4b56106567bd506"
  }
 ],
 "metadata": {
  "kernelspec": {
   "display_name": "Python 3",
   "language": "python",
   "name": "python3"
  },
  "language_info": {
   "codemirror_mode": {
    "name": "ipython",
    "version": 2
   },
   "file_extension": ".py",
   "mimetype": "text/x-python",
   "name": "python",
   "nbconvert_exporter": "python",
   "pygments_lexer": "ipython2",
   "version": "2.7.6"
  }
 },
 "nbformat": 4,
 "nbformat_minor": 5
}
