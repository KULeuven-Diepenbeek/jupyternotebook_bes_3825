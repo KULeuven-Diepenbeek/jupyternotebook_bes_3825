{
 "cells": [
  {
   "cell_type": "markdown",
   "source": [
    "# Hoofdstuk 6 Grafieken\n",
    "\n",
    "### Disclaimer\n",
    "- De oefeningen zijn wat anders dan in de papieren cursus. De oefeningen in deze Jupyter Notebook zijn eigenlijk interessanter: vandaar.\n",
    "\n",
    "\n",
    "# Stappenplan voor het maken van grafiek\n",
    "\n",
    "1. Import matplotlib met **from matplotlib import pyplot as plt**\n",
    "2. Bepaal het domein van de x-as (met een lijst of een kolom in een dataframe)\n",
    "3. Bepaal het domein van de y-as (met een functie of een kolom in een dataframe)\n",
    "4. Kies het soort grafiek (plt.plot, plt.bar, plt.scatter of plt.hist) + bijhorende opties\n",
    "5. Toon de grafiek \n",
    "\n",
    "## In de praktijk\n",
    "\n",
    "- We werken meestal met de plot.\n",
    "- Voor de x-as en y-as hangt het er vooral van af of we inzicht willen krijgen in experimentele data, of een model willen visualiseren en/of toetsen. \n",
    "- Wanneer je met een model werkt, heb je in principe altijd een functie. We gebruiken dan de **map** om de waarden op de x-as om te zetten in waarden voor de y-as. Voor de x-as gebruik je ofwel een lijst wanneer je het model onafhankelijk wil visualiseren, ofwel gebruik je een kolom uit een dataframe om het model te vergelijken met de gemeten data. Wanneer je een lijst gebruik, kiezen we voor de np.linspace tenzij de functie alleen op gehele waarden werkt: dan gebruiken we de range.\n",
    "- Wanneer je experimentele data (uit een csv) wil visualiseren, dan import je eerst die csv-data in een dataframe en haal je zowel de waarden op de x-as als op de y-as uit een kolom van het dataframe.   \n",
    "\n",
    "# Voorbeelden van grafieken zonder opties\n",
    "\n",
    "## Met een functie"
   ],
   "metadata": {
    "collapsed": false
   },
   "id": "3ae6956b4dd4aa72"
  },
  {
   "cell_type": "code",
   "execution_count": null,
   "outputs": [],
   "source": [
    "# imports voor alle volgende cellen\n",
    "import math\n",
    "import numpy as np\n",
    "import pandas as pd\n",
    "from matplotlib import pyplot as plt\n",
    "%matplotlib widget\n",
    "from qgridnext import show_grid"
   ],
   "metadata": {
    "collapsed": false
   },
   "id": "18bc71ec36c283b8"
  },
  {
   "cell_type": "code",
   "execution_count": null,
   "outputs": [],
   "source": [
    "# voorbeeld 1\n",
    "def plotSinus(aantalFases):\n",
    "    xAs = np.linspace(0, aantalFases*2*math.pi, 200)\n",
    "    yAs = list(map(math.sin, xAs))\n",
    "    plt.figure()\n",
    "    plt.plot(xAs, yAs)\n",
    "    plt.show()\n",
    "    \n",
    "plotSinus(5)"
   ],
   "metadata": {
    "collapsed": false
   },
   "id": "b68023f1cbdb318b"
  },
  {
   "cell_type": "code",
   "execution_count": null,
   "outputs": [],
   "source": [
    "# voorbeeld 2\n",
    "def derdegraads(x):\n",
    "    return -x**3 + 2*x**2 - 5*x + 7\n",
    "\n",
    "def plotDerdegraads(begin, einde):\n",
    "    xAs = np.linspace(begin, einde, 50)\n",
    "    yAs = list(map(derdegraads, xAs))\n",
    "    plt.figure()\n",
    "    plt.plot(xAs, yAs)\n",
    "    plt.show()\n",
    "    \n",
    "plotDerdegraads(-5,5)"
   ],
   "metadata": {
    "collapsed": false
   },
   "id": "68ead56058ea5012"
  },
  {
   "cell_type": "markdown",
   "source": [
    "De map heeft een functie nodig met één parameter. Voor het plotten van een functie is dat logisch omdat je een plot wil van een y-waarde in functie van een x-waarde. In de voorgaande voorbeelden waren de functies math.sin en derdegraads sowieso functies met één parameter, maar in veel gevallen hebben je functies met meer dan één parameter. Die moet je dan via een lokale functie (= functie in functie) herleiden tot een (hulp-)functie met één parameter. Dat zijn de twee volgende voorbeelden. "
   ],
   "metadata": {
    "collapsed": false
   },
   "id": "a799fa950d4ea055"
  },
  {
   "cell_type": "code",
   "execution_count": null,
   "outputs": [],
   "source": [
    "# voorbeeld 3\n",
    "def derdegraadsFunctie(a,b,c,d,x):\n",
    "    return a*x**3 + b*x**2 + c*x + d\n",
    "\n",
    "def plotDerdegraads_v2(begin, einde):\n",
    "    def functie(x):\n",
    "        return derdegraadsFunctie(2,-3,1,-4, x)\n",
    "    xAs = np.linspace(begin, einde, 50)\n",
    "    yAs = list(map(functie, xAs))\n",
    "    plt.figure()\n",
    "    plt.plot(xAs, yAs)\n",
    "    plt.show()\n",
    "    \n",
    "plotDerdegraads_v2(-5,5)"
   ],
   "metadata": {
    "collapsed": false
   },
   "id": "959d1bfc2d103a0b"
  },
  {
   "cell_type": "code",
   "execution_count": null,
   "outputs": [],
   "source": [
    "# voorbeeld 4 (ook in de cursus)\n",
    "def kgv(a,b): \n",
    "    return (a*b)/math.gcd(a,b)\n",
    "\n",
    "def grafiekKGV():\n",
    "    def kgv7(x):\n",
    "        return kgv(x,7)\n",
    "    \n",
    "    xAs = range(1,101)\n",
    "    yAs = list(map(kgv7, xAs))\n",
    "    plt.plot(xAs, yAs)\n",
    "    plt.show()\n",
    "\n",
    "grafiekKGV()"
   ],
   "metadata": {
    "collapsed": false
   },
   "id": "c6923047250a7f5d"
  },
  {
   "cell_type": "markdown",
   "source": [
    "## Met een dataframe"
   ],
   "metadata": {
    "collapsed": false
   },
   "id": "1cb518fb1f506060"
  },
  {
   "cell_type": "code",
   "execution_count": null,
   "outputs": [],
   "source": [
    "# voorbeeld 1 (uit de cursus)\n",
    "def plotDagOpbrengst(): \n",
    "    df = pd.read_csv(\"../csv/dagopbrengst.csv\", \n",
    "                     sep=\";\", encoding=\"latin-1\") \n",
    "    xAs = df[\"uur\"] \n",
    "    yAs = df[\"W\"] \n",
    "    plt.figure()\n",
    "    plt.plot(xAs, yAs) \n",
    "    plt.show() \n",
    "\n",
    "plotDagOpbrengst()"
   ],
   "metadata": {
    "collapsed": false
   },
   "id": "f6c6bb1b1503d12c"
  },
  {
   "cell_type": "code",
   "execution_count": null,
   "outputs": [],
   "source": [
    "# voorbeeld 2\n",
    "def plotIndex(): \n",
    "    df = pd.read_csv(\"../csv/consumptie_index_september.csv\", \n",
    "                     sep=\";\", encoding=\"latin-1\") \n",
    "    xAs = df[\"jaar\"] \n",
    "    yAs = df[\"indexcijfer\"] \n",
    "    plt.figure()\n",
    "    plt.plot(xAs, yAs)\n",
    "    plt.show() \n",
    "\n",
    "plotIndex()"
   ],
   "metadata": {
    "collapsed": false
   },
   "id": "fa4c0e5e8dc030d5"
  },
  {
   "cell_type": "markdown",
   "source": [
    "# Grafiekopties\n",
    "\n",
    "## Als (optionele) parameter \n",
    "\n",
    "- **color** : bepaalt de kleur van de lijn, bv. *'r'*, *'g'*, *'b'*, *'orange'*, *'purple'*, ... \n",
    "- **marker** : markeringen voor de individuele punten, bv. *'x'*, *'o'*, *'s'*, *'8'*, ... \n",
    "- **linestyle** : hoe ziet de lijn er uit, bv. *'-'*, *':'*, *'--'*, *'-.'*, ... \n",
    "- **label** : geef als waarde een tekst mee, die in de legende verschijnt *als* ook plt.legend() oproept \n",
    "\n",
    "## Als extra methodes van plt.\n",
    "\n",
    "1. **title(*tekst*)** voegt een titel toe bovenaan de grafiek \n",
    "2. **grid(True)** zet de grid op \n",
    "3. **xlabel(*tekst*)** plaatst tekst op de x-as \n",
    "4. **ylabel(*tekst*)** plaatst tekst op de y-as \n",
    "5. **legend()** voegt een legende toe aan de grafiek. \n",
    "   Belangrijk is dan natuurlijk dat je labels toegevoegd hebt aan de plot. \n",
    "6. **text(*xWaarde, yWaarde, tekst*)** plaats tekst op de opgegeven coördinaat \n",
    "7. **xscale('symlog')** als de x-as een logaritmische schaal moet krijgen \n",
    "8. **yscale('symlog')** als de y-as een logaritmische schaal moet krijgen \n"
   ],
   "metadata": {
    "collapsed": false
   },
   "id": "7bbaedf4d33f9acb"
  },
  {
   "cell_type": "code",
   "execution_count": null,
   "outputs": [],
   "source": [
    "# voorbeeld met veel toeters en bellen\n",
    "def plotDagOpbrengstVeelToeters(): \n",
    "    df = pd.read_csv(\"../csv/dagopbrengst.csv\", \n",
    "                     sep=\";\", encoding=\"latin-1\") \n",
    "    xAs = df[\"uur\"] \n",
    "    yAs = df[\"W\"] \n",
    "    plt.figure()\n",
    "    plt.plot(xAs, yAs, color='red', marker='x', linestyle=':', label = \"dagopbrengst\")\n",
    "    plt.title(\"Dagopbrengst van zonnepanelen op een wisselvallige dag\")\n",
    "    plt.grid(True)\n",
    "    plt.xlabel(\"tijdstip\")\n",
    "    plt.ylabel(\"W\")\n",
    "    plt.legend()\n",
    "    plt.show() \n",
    "\n",
    "plotDagOpbrengstVeelToeters()"
   ],
   "metadata": {
    "collapsed": false
   },
   "id": "b58b1a8def912326"
  },
  {
   "cell_type": "markdown",
   "source": [
    "# Oefening 0\n",
    "\n",
    "Experimenteer met de grafiekopties door \n",
    "- de regels met opties en/of de optionele parameters in de voorbeelden met veel toeters en bellen stuk per stuk in commentaar te zetten en na te gaan wat er verandert aan de grafiek\n",
    "- aan de eerste reeks voorbeelden verschillende opties toe te voegen\n",
    " "
   ],
   "metadata": {
    "collapsed": false
   },
   "id": "d136325b77e8f181"
  },
  {
   "cell_type": "markdown",
   "source": [
    "# Oefeningen uit de cursus\n",
    "\n",
    "1. Plot de kostprijs van een “gewoon woonhuis” van 1973 tot nu. \n",
    "   Gebruik hiervoor het bestand  “immo_national.csv”. "
   ],
   "metadata": {
    "collapsed": false
   },
   "id": "d34c675e649f1049"
  },
  {
   "cell_type": "code",
   "execution_count": null,
   "outputs": [],
   "source": [
    "# ruimte voor oef. 1\n",
    "def oef1():\n",
    "    woningen = pd.read_csv(\"../csv/immo_national.csv\",sep=\";\",encoding=\"latin-1\")\n",
    "    plt.figure()\n",
    "    plt.plot(woningen[\"jaar\"], woningen[\"prijs\"])\n",
    "    plt.xlabel(\"Jaar\")\n",
    "    plt.ylabel(\"Prijs voor een woning\")\n",
    "    plt.title(\"Woningprijzen sinds 1973\")\n",
    "    plt.show()\n",
    "\n",
    "oef1()\n"
   ],
   "metadata": {
    "collapsed": false
   },
   "id": "ed2a6cb65648236d"
  },
  {
   "cell_type": "markdown",
   "source": [
    "2. Plot het vermogen P in functie van de spanning U volgens de gegevens in zonnepaneel.csv "
   ],
   "metadata": {
    "collapsed": false
   },
   "id": "8e871f07d007ffa6"
  },
  {
   "cell_type": "code",
   "execution_count": null,
   "outputs": [],
   "source": [
    "# ruimte voor oef. 2\n",
    "def oef2():\n",
    "    zp = pd.read_csv(\"../csv/zonnepaneel.csv\",sep=\";\",encoding=\"latin-1\")\n",
    "    zp[\"P\"]= zp[\"U\"]*zp[\"I\"]\n",
    "    plt.figure()\n",
    "    plt.plot(zp[\"U\"], zp[\"P\"])\n",
    "    plt.xlabel(\"Stroom\")\n",
    "    plt.ylabel(\"Vermogen\")\n",
    "    plt.title(\"Vermogen in functie van stroom\")\n",
    "    plt.show()\n",
    "\n",
    "oef2()"
   ],
   "metadata": {
    "collapsed": false
   },
   "id": "c92955034c55800e"
  },
  {
   "cell_type": "markdown",
   "source": [
    "# 6.4 Meer grafieken tegelijk tonen\n",
    "\n",
    "Voor het overzicht is het dikwijls interessant om verschillende plots/grafieken op zo weinig mogelijk figuren te zetten. Hierbij moet je natuurlijk wel wetenschappelijk verantwoord werken, en de juiste optie kiezen.\n",
    "\n",
    "## Verschillende grafieken met soortgelijke X- en Y-as \n",
    "\n",
    "Wanneer de waarden op de x-as én de y-as dezelfde grootte hebben en liefst ook dezelfde eenheid, kan je ze best helemaal samenzetten.\n",
    "Voorbeelden zijn:\n",
    "\n",
    "- een experiment waarbij je de groeisnelheid van een plant bij verschillende temperaturen onderzoekt. Op de x-as staan dan de dagen en op de y-as de hoogte van de plant. Het label per plot is dan de temperatuur van die plot.\n",
    "- een experiment waarbij je de uitrekking van een elastiek met verschillende dikte evalueert. Op de x-as kan dan de kracht staan die op de elastiek wordt uitgeoefend en op de y-as de lengte van de uitrekking.\n",
    "\n",
    "### Oplossingsstrategie\n",
    "\n",
    "De strategie in dit scenario is om de twee (of meer) plotfuncties direct achter elkaar te schrijven (met een verschillend label) voor de plt.show()."
   ],
   "metadata": {
    "collapsed": false
   },
   "id": "fc11fa6dd1a1d639"
  },
  {
   "cell_type": "code",
   "execution_count": null,
   "outputs": [],
   "source": [
    "# voorbeeld (zonder eenheden)\n",
    "def functie1(x):\n",
    "    return 0.8*x*x - x + 3\n",
    "def functie2(x):\n",
    "    return 2.3*x+4\n",
    "\n",
    "def plotTweeFuncties():\n",
    "    xAs = np.linspace(-2,5,25)\n",
    "    yAs1 = list(map(functie1, xAs))\n",
    "    yAs2 = list(map(functie2, xAs))\n",
    "    \n",
    "    plt.figure()\n",
    "    plt.plot(xAs, yAs1, color=\"red\", marker=\"o\", label=\"tweedegraadsfunctie\")\n",
    "    plt.plot(xAs, yAs2, color=\"blue\", marker=\"x\", label=\"tweedegraadsfunctie\")\n",
    "    plt.grid(True)\n",
    "    plt.show()\n",
    "    \n",
    "plotTweeFuncties()"
   ],
   "metadata": {
    "collapsed": false
   },
   "id": "bcc589dcebad9ae7"
  },
  {
   "cell_type": "code",
   "execution_count": null,
   "outputs": [],
   "source": [
    "# Voorbeeld uit de cursus\n",
    "def verdubbel(x):\n",
    "    return x*2\n",
    "def kwadrateer(x):\n",
    "    return x**2\n",
    "\n",
    "def tweeGrafiekenInElkaar(): \n",
    "    xAs = np.linspace(0, 10, 20) \n",
    "    yAs1 = list(map(verdubbel, xAs)) \n",
    "    yAs2 = list(map(kwadrateer, xAs)) \n",
    " \n",
    "    plt.figure()\n",
    "    plt.plot(xAs, yAs1, \"x:\", label=\"verdubbel\") \n",
    "    plt.plot(xAs, yAs2, \"o--\", label=\"kwadrateer\") \n",
    "    plt.grid() \n",
    "    plt.legend() \n",
    "    plt.show()\n",
    "tweeGrafiekenInElkaar()"
   ],
   "metadata": {
    "collapsed": false
   },
   "id": "d7a32bb8e904d548"
  },
  {
   "cell_type": "markdown",
   "source": [
    "### Oefeningen (uit de cursus)\n",
    "\n",
    "3. Plot de functies *y = (x + 2)(x − 1)(x − 2)* en *y = (x + 2)(x + 1)(x − 1)(x − 1.5)* in het bereik van [-2.5, 2,5] \n",
    "\n",
    "\n"
   ],
   "metadata": {
    "collapsed": false
   },
   "id": "f35c4a9a801074e1"
  },
  {
   "cell_type": "code",
   "execution_count": null,
   "outputs": [],
   "source": [
    "# ruimte voor oef. 3\n",
    "def derdeGraad(x):\n",
    "    return (x+2)*(x-1)*(x-2)\n",
    "\n",
    "def vierdeGraad(x):\n",
    "    return (x+2)*(x+1)*(x-1)*(x-1.5)\n",
    "\n",
    "def oef3():\n",
    "    domein = np.linspace(-2.5,2.5,100)\n",
    "    yAs1 = list(map(derdeGraad, domein))\n",
    "    yAs2 = list(map(vierdeGraad, domein))\n",
    "    \n",
    "    plt.figure()\n",
    "    plt.plot(domein, yAs1, color=\"r\", label=\"Derde graad\")\n",
    "    plt.plot(domein, yAs2, color=\"g\", label=\"Vierde graad\")\n",
    "    plt.title(\"3e en 4e graadsfunctie\")\n",
    "    plt.grid(True)\n",
    "    plt.legend()\n",
    "    plt.show()\n",
    "\n",
    "oef3()"
   ],
   "metadata": {
    "collapsed": false
   },
   "id": "f08f24590ec9372c"
  },
  {
   "cell_type": "markdown",
   "source": [
    "4. Uitbreiding van 1: gebruik het bestand “immo_by_province.csv” en plot de historische prijzen van \n",
    "gewone woonhuizen voor Antwerpen, Limburg en Vlaams-Brabant"
   ],
   "metadata": {
    "collapsed": false
   },
   "id": "7c1177a6eebf3eec"
  },
  {
   "cell_type": "code",
   "execution_count": null,
   "outputs": [],
   "source": [
    "# ruimte voor oef. 4\n",
    "def plotWoonhuizenPerProvincie(file=\"../csv/immo_by_province.csv\"):\n",
    "    immo = pd.read_csv(file, sep=\";\", encoding=\"latin-1\")\n",
    "    huizen = immo[immo[\"soort\"]==\"gewone woonhuizen\"]\n",
    "    limburg = huizen[huizen[\"regio\"]==\"PROVINCIE LIMBURG\"]\n",
    "    antwerpen = huizen[huizen[\"regio\"]==\"PROVINCIE ANTWERPEN\"]\n",
    "    vlBrabant = huizen[huizen[\"regio\"]==\"PROVINCIE VLAAMS-BRABANT\"]\n",
    "    plt.figure()\n",
    "    plt.plot(limburg[\"jaar\"], limburg[\"prijs\"], color=\"r\", label=\"Limburg\")\n",
    "    plt.plot(antwerpen[\"jaar\"], antwerpen[\"prijs\"], color=\"g\", label=\"Antwerpen\")\n",
    "    plt.plot(vlBrabant[\"jaar\"], vlBrabant[\"prijs\"], color=\"b\", label=\"Vlaams-Brabant\")\n",
    "    plt.legend()\n",
    "    plt.ylabel(\"prijs (€)\")\n",
    "    plt.show()\n",
    "\n",
    "plotWoonhuizenPerProvincie()"
   ],
   "metadata": {
    "collapsed": false
   },
   "id": "4b13b6b49017fe20"
  },
  {
   "cell_type": "markdown",
   "source": [
    "##  Twee grafieken met dezelfde x-as maar andere y-as\n",
    "\n",
    "Wanneer de waarden op de x-as dezelfde zijn, maar de grootte van de waarden op de y-as ligt sterk uit elkaar, dan is het géén goed idee om dezelfde y-as te gebruiken. Stel bijvoorbeeld dat de y-waarden van de ene grafiek varieren tussen 0 en 1 en die van de andere grafiek tussen 100 en 10000, dan zou het verschil in de waarden van de eerste grafiek niet zichtbaar zijn als je dezelfde x-as gebruikt.\n",
    "\n",
    "Ook wanneer de waarden een andere eenheid hebben, is het niet verantwoord om ze op dezelfde y-as te zetten.\n",
    "\n",
    "### Oplossingsstrategie\n",
    "\n",
    "De grote truc om twee verschillende assen op één figuur te krijgen, is het commando twinx() om \n",
    "een tweeling-as te creëren. Door het gebruik van twinx() wordt het wel moeilijker om een legende **in** de grafiek te krijgen. In de cursus wordt hiervoor een oplossing beschreven, maar het is al goed als je elke as van de tweeling een eigen label te geven met plt.ylabel(). Je moet dit zowel vòòr als ná de plt.twinx() doen. We raden aan om beide labels een verschillende kleur te \n",
    "geven en de twee plots in de bijhorende kleur te tekenen."
   ],
   "metadata": {
    "collapsed": false
   },
   "id": "a0941b4cc6ee9617"
  },
  {
   "cell_type": "code",
   "execution_count": null,
   "outputs": [],
   "source": [
    "# voorbeeld uit de cursus\n",
    "\n",
    "def plotTweeAssen(): \n",
    "    xAs = list(range(1, 1001, 100)) \n",
    "    yAsLinks = list(map(verdubbel, xAs)) \n",
    "    yAsRechts = list(map(kwadrateer, xAs)) \n",
    " \n",
    "    plt.figure()\n",
    "    plt.ylabel(\"verdubbel\", color=\"r\")   \n",
    "    plt.plot(xAs, yAsLinks, \"r-x\") \n",
    " \n",
    "    plt.twinx() \n",
    "    plt.ylabel(\"kwadrateer\",color=\"b\") \n",
    "    plt.plot(xAs, yAsRechts, \"b--o\") \n",
    " \n",
    "    plt.show()\n",
    "    \n",
    "plotTweeAssen()"
   ],
   "metadata": {
    "collapsed": false
   },
   "id": "326b072168259f87"
  },
  {
   "cell_type": "markdown",
   "source": [
    "### Oefeningen\n",
    "\n",
    "- Importeer het bestand csv/dagopbrengst.csv en voeg een kolom toe met de cumulatieve opbrengst in KWh. Zet zowel de momentele opbrengst als de cumulatieve opbrengst in één grafiek."
   ],
   "metadata": {
    "collapsed": false
   },
   "id": "657e74fc4113f505"
  },
  {
   "cell_type": "code",
   "execution_count": null,
   "outputs": [],
   "source": [
    "def plotDagopbrengst(file = \"../csv/dagopbrengst.csv\"):\n",
    "    df = pd.read_csv(file, sep=\";\", encoding=\"latin-1\")\n",
    "\n",
    "    plt.figure()\n",
    "    plt.plot(df[\"uur\"], df[\"W\"]) \n",
    "    plt.ylabel(\"W\")\n",
    "    \n",
    "    plt.twinx()\n",
    "    \n",
    "    plt.plot(df[\"uur\"], df[\"W\"].cumsum()/3/1000, color=\"red\") #cumsum voor optelling, /3 voor 20 min., /1000 voor kilo \n",
    "    plt.ylabel(\"KWh\", color=\"red\")\n",
    "    plt.show() \n",
    "    \n",
    "plotDagopbrengst()"
   ],
   "metadata": {
    "collapsed": false
   },
   "id": "c1e5347ece0ebb28"
  },
  {
   "cell_type": "markdown",
   "source": [
    "- Plot de functie cos en tan van 0 tot 2*pi"
   ],
   "metadata": {
    "collapsed": false
   },
   "id": "8b39f8fea91e01cc"
  },
  {
   "cell_type": "code",
   "execution_count": null,
   "outputs": [],
   "source": [
    "def plotGoniometrischeFunctie(begin, einde):\n",
    "    xAs = np.linspace(begin, einde, 2000)\n",
    "    yAsLinks = list(map(math.sin,xAs))\n",
    "    yAsRechts = list(map(math.tan,xAs))\n",
    "    \n",
    "    plt.figure()\n",
    "    plt.plot(xAs, yAsLinks, color=\"red\", linestyle=\"--\")\n",
    "    plt.ylabel(\"sinus\", color=\"red\")\n",
    "    \n",
    "    plt.twinx()\n",
    "    plt.plot(xAs, yAsRechts, color=\"blue\", linestyle=\"--\")\n",
    "    plt.ylabel(\"tangens\", color=\"blue\")\n",
    "    \n",
    "    plt.show()\n",
    "    \n",
    "plotGoniometrischeFunctie(0, 2*math.pi)"
   ],
   "metadata": {
    "collapsed": false
   },
   "id": "1adf3ffb1ea1dabc"
  },
  {
   "cell_type": "markdown",
   "source": [
    "## Verschillende grafieken met onafhankelijke (x-)assen of vormen\n",
    "\n",
    "Wanneer je bijvoorbeeld een histogram en een gewone plot naast elkaar wil zetten, of wanneer de x-assen niet gelijk zijn (bv. als je alleen de extreem kleine en de extreem grote waarden van het x-domein wil laten zien), dan kan je best verschillende deelfiguren maken en die groeperen.\n",
    "\n",
    "Je kan hiervoor uit twee technische aanpakken kiezen:\n",
    "\n",
    "- ***figs, axes* = plt.subplots(*aantalRijen, aantalKolommen*)** \n",
    "- **plt.subplot(*aantalRijen, aantalKolommen, volgnr*)** \n",
    "\n",
    "Het ziet er gelijkaardig uit, maar de eerste versie heeft een s vanachter en de tweede versie niet. Ze werken ook anders.\n",
    "\n",
    "- Bij de eerste versie krijg je twee returnwaarden en moet je vooral met die **axes** werken.  Die variabele is een een- of tweedimensionale lijst van subgrafieken. Wanneer je maar één rij gekozen had, is de lijst ééndimensionaal en kan je met met de vierkante haken [0], [1], [2], ... de verschillende deelfiguren opvragen. Wanneer je verschillende rijen hebt, wordt *axes* een tweedimensionale lijst en moet je twee niveaus van vierkante haken gebruiken, *axes[rij][kolom]*.\n",
    "- Bij de tweede versie moet je altijd de eerste twee parameters herhalen en bijkomend als derde parameter een volgnummer meegeven. Door die opdracht switcht pyplotlib van context en zullen de volgende instructies op de gekozen deelfiguur uitgevoerd worden.\n",
    "\n",
    "We geven hieronder twee voorbeelden in de twee verschillende stijlen.\n",
    "\n",
    "### Twee grafieken naast elkaar met subplots (mét s)"
   ],
   "metadata": {
    "collapsed": false
   },
   "id": "90cd2e5da4ec11d"
  },
  {
   "cell_type": "code",
   "execution_count": null,
   "outputs": [],
   "source": [
    "# voorbeeld 1 uit de cursus\n",
    "def tweeGrafiekenNaastElkaar(): \n",
    "    xAs = np.linspace(0, 10, 100) \n",
    "    yAs1 = list(map(verdubbel, xAs)) \n",
    "    yAs2 = list(map(kwadrateer, xAs)) \n",
    " \n",
    "    plt.figure()\n",
    "    figs, axes = plt.subplots(1,2) \n",
    "    axes[0].plot(xAs, yAs1) \n",
    "    axes[1].plot(xAs, yAs2) \n",
    "    plt.show() \n",
    "    \n",
    "tweeGrafiekenNaastElkaar()"
   ],
   "metadata": {
    "collapsed": false
   },
   "id": "8295181e4d7a9f03"
  },
  {
   "cell_type": "markdown",
   "source": [
    "### Twee grafieken naast elkaar met subplot (zónder s)"
   ],
   "metadata": {
    "collapsed": false
   },
   "id": "ed3040bfd5c824a7"
  },
  {
   "cell_type": "code",
   "execution_count": null,
   "outputs": [],
   "source": [
    "# voorbeeld 1 uit de cursus\n",
    "plt.close()\n",
    "\n",
    "def verdubbel(x):\n",
    "    return 2*x\n",
    "\n",
    "def kwadrateer(x):\n",
    "    return x*x\n",
    "\n",
    "def f3(x):\n",
    "    return x*x-7*x+3\n",
    "    \n",
    "def f4(x):\n",
    "    return -x*x+11*x+3\n",
    "    \n",
    "    \n",
    "def tweeGrafiekenNaastElkaar2526(): \n",
    "    xAs = np.linspace(0, 10, 100) \n",
    "    yAs1 = list(map(verdubbel, xAs)) \n",
    "    yAs2 = list(map(kwadrateer, xAs)) \n",
    " \n",
    "    plt.figure()\n",
    "    plt.subplot(1,2,1)\n",
    "    plt.plot(xAs, yAs1) \n",
    "    \n",
    "    plt.subplot(1,2,2)\n",
    "    plt.plot(xAs, yAs2) \n",
    "\n",
    "    plt.show() \n",
    "    \n",
    "tweeGrafiekenNaastElkaar2526()"
   ],
   "metadata": {
    "collapsed": false
   },
   "id": "69b9370d14bbf766"
  },
  {
   "cell_type": "markdown",
   "source": [
    "### Vier grafieken in twee rijen met subplots (mét s)"
   ],
   "metadata": {
    "collapsed": false
   },
   "id": "cb28470d6ccbe28c"
  },
  {
   "cell_type": "code",
   "execution_count": null,
   "outputs": [],
   "source": [
    "# voorbeeld 2 uit de cursus\n",
    "def vierGrafiekenInTweeRijen(): \n",
    "    xAs = np.linspace(0, 10, 100) \n",
    "    yAs1 = list(map(verdubbel, xAs)) \n",
    "    yAs2 = list(map(kwadrateer, xAs)) \n",
    " \n",
    "    plt.figure()\n",
    "    figs, axes = plt.subplots(2,2) \n",
    "    axes[0,0].plot(xAs, yAs1) \n",
    "    axes[0,1].plot(xAs, yAs2) \n",
    " \n",
    "    xAs2 = range(1,13) \n",
    "    ptn = [17,13, 14, 11, 8, 11, 7, 17, 12, 14, 7, 11] \n",
    "    axes[1,0].bar(xAs2, ptn) \n",
    "    axes[1,1].hist(ptn, 21) # 21 mogelijke punten \n",
    " \n",
    "    plt.show() \n",
    "    \n",
    "vierGrafiekenInTweeRijen()"
   ],
   "metadata": {
    "collapsed": false
   },
   "id": "d52be88ea92b5bfd"
  },
  {
   "cell_type": "markdown",
   "source": [
    "### Vier grafieken in twee rijen met subplot (zónder s)"
   ],
   "metadata": {
    "collapsed": false
   },
   "id": "abe76b82c95a4e83"
  },
  {
   "cell_type": "code",
   "execution_count": null,
   "outputs": [],
   "source": [
    "def vierGrafiekenBijElkaar():\n",
    "    xAs = np.linspace(0, 10, 100)\n",
    "    yAs1 = list(map(verdubbel, xAs))\n",
    "    yAs2 = list(map(kwadrateer, xAs))\n",
    "\n",
    "    plt.figure()\n",
    "    plt.subplot(2,2,1)\n",
    "    plt.plot(xAs, yAs1)\n",
    "\n",
    "    plt.subplot(2,2,2)\n",
    "    plt.plot(xAs, yAs2)\n",
    "\n",
    "    plt.subplot(2,2,3)\n",
    "    xAs2 = range(1,13)\n",
    "    ptn = [17,13, 14, 11, 8, 11, 7, 17, 12, 14, 7, 11]\n",
    "    plt.bar(xAs2, ptn)\n",
    "\n",
    "    plt.subplot(2,2,4)\n",
    "    plt.hist(ptn, 21) # 21 mogelijke punten\n",
    "\n",
    "    plt.show()\n",
    "    \n",
    "vierGrafiekenBijElkaar()"
   ],
   "metadata": {
    "collapsed": false
   },
   "id": "1531ddf2dc61235f"
  },
  {
   "cell_type": "markdown",
   "source": [
    "### Oefening\n",
    "\n",
    "- Importeer het bestand csv/dagopbrengst.csv en voeg een kolom toe met de cumulatieve opbrengst in KWh. Zet in het linkse deelvenster de momentele opbrengst in W in een staafgrafiek, en zet in het rechts deelvenster de cumulatieve opbrengst in KWh."
   ],
   "metadata": {
    "collapsed": false
   },
   "id": "b5e10942b0729b67"
  },
  {
   "cell_type": "code",
   "execution_count": null,
   "outputs": [],
   "source": [
    "def plotDagopbrengstTweeGrafiekenInElkaar(file = \"../csv/dagopbrengst.csv\"):\n",
    "    df = pd.read_csv(file, sep=\";\", encoding=\"latin-1\")\n",
    "    plt.figure()\n",
    "    figs, axes = plt.subplots(1,2) \n",
    "\n",
    "    axes[0].bar(df[\"uur\"], df[\"W\"]) \n",
    "    axes[0].set_xlabel(\"uur\")\n",
    "    axes[0].set_ylabel(\"W\")\n",
    "    \n",
    "    axes[1].plot(df[\"uur\"], df[\"W\"].cumsum()/100) \n",
    "    axes[1].set_xlabel(\"uur\")\n",
    "    axes[1].set_ylabel(\"KWh\")\n",
    "    plt.show() \n",
    "    \n",
    "plotDagopbrengstTweeGrafiekenInElkaar()"
   ],
   "metadata": {
    "collapsed": false
   },
   "id": "7b3922d9350b8e38"
  },
  {
   "cell_type": "code",
   "execution_count": null,
   "outputs": [],
   "source": [
    "def plotDagopbrengstTweeGrafiekenInElkaarZonderS(file = \"../csv/dagopbrengst.csv\"):\n",
    "    df = pd.read_csv(file, sep=\";\", encoding=\"latin-1\")\n",
    "    plt.figure()\n",
    "\n",
    "    plt.subplot(1,2,1) \n",
    "    plt.bar(df[\"uur\"], df[\"W\"]) \n",
    "    plt.xlabel(\"uur\")\n",
    "    plt.ylabel(\"W\")\n",
    "    \n",
    "    plt.subplot(1,2,2) \n",
    "    plt.plot(df[\"uur\"], df[\"W\"].cumsum()/100) \n",
    "    plt.xlabel(\"uur\")\n",
    "    plt.ylabel(\"KWh\")\n",
    "    \n",
    "    plt.show() \n",
    "    \n",
    "plotDagopbrengstTweeGrafiekenInElkaarZonderS()"
   ],
   "metadata": {
    "collapsed": false
   },
   "id": "aad4fc1d07803618"
  },
  {
   "cell_type": "code",
   "execution_count": null,
   "outputs": [],
   "source": [],
   "metadata": {
    "collapsed": false
   },
   "id": "4b6f56efce2d7c3e"
  },
  {
   "cell_type": "markdown",
   "source": [
    "# Spelen met de parameters van een grafiek\n",
    "\n",
    "Het interessante aan programmeren is dat je gemakkelijk verschillende scenario’s kan uitproberen \n",
    "door een functie verschillende keren met telkens andere parameters op te roepen, bv. de ene keer *probeer(10)* en de andere keer *probeer(11)*, ...\n",
    "\n",
    "Met de module **ipywidgets** kan dit nòg gemakkelijker doordat je de gebruiker de kans geeft om parameters via sliders te laten variëren. Nadat je ipywidgets geïmporteerd hebt met **import ipywidgets**, moet je hiervoor volgend scenario volgen:\n",
    " \n",
    "1. Maak de functie met als parameters de waarden die je wil laten variëren, bv. *probeerSnelheid(v)*, *probeerTemperatuur(t)*, ... \n",
    "2. De functie moet als laatste regel een plot tonen (*plt.show()*). \n",
    "3. Roep de methode ipywidgets.interactive op, bv. *grafiek = ipywidgets.interactive(...)*, met volgende parameters:  \n",
    "     - Als eerste parameter de functie uit stap 1. \n",
    "     - Als volgende parameters alle parameters van de functie uit stap 1.\n",
    "       Gebruik hiervoor benoemde parameters (zie 3.5) met een initiële waarde, bv. *g = 9.81*. \n",
    "   Voor elke benoemde parameter wordt een slider gemaakt worden met een bereik rond die initiële waarde. \n",
    "4. Geef de return-waarde (bv. *grafiek*) van stap 3 als parameter mee aan de functie **display** (bv. *display(grafiek)*) . \n"
   ],
   "metadata": {
    "collapsed": false
   },
   "id": "a2bd8d25efd7d2ee"
  },
  {
   "cell_type": "code",
   "execution_count": null,
   "outputs": [],
   "source": [
    "import ipywidgets\n",
    "\n",
    "# voorbeeld, gebaseerd op het voorbeeld van de cursus\n",
    "def plotMacht(n, einde): \n",
    "    def macht(x): \n",
    "        return x**n \n",
    "    xAs = list(range(1,einde)) \n",
    "    yAs = list(map(macht, xAs)) \n",
    "    plt.figure()\n",
    "    plt.plot(xAs, yAs, linestyle=\":\", marker=\"x\") \n",
    "    plt.title(\"x tot de macht \" + str(n)) \n",
    "    plt.show() \n",
    "    \n",
    "import ipywidgets\n",
    "def plotMachtInteractief():\n",
    "    grafiek = ipywidgets.interactive(plotMacht, n=3, einde=100)\n",
    "    display(grafiek)\n",
    "    \n",
    "plotMachtInteractief()"
   ],
   "metadata": {
    "collapsed": false
   },
   "id": "1f12c8e863625867"
  },
  {
   "cell_type": "markdown",
   "source": [
    "## Gevorderde instellingen\n",
    "\n",
    "ipywidgets kiest het bereik van de slider zelf. In het voorbeeld van hierboven kan *n* van -3 tot +9 gaan, en *einde* van -100 tot +300. Voor *n* kan dat nog, maar voor *einde* niet: daar zijn negatieve waarden onmogelijk. In zo'n geval kan je ook zelf een slider maken en die in de functie *interactive* meegeven als *default waarde* voor de geselecteerde parameter.\n",
    "\n",
    "Je moet dan kiezen tussen een **IntSlider** of een **FloatSlider** en volgende parameters meegeven:\n",
    "- *value* de startwaarde,\n",
    "- *min* de laagst mogelijke waarde voor de slider, \n",
    "- *max* de hoogst mogelijke waarde voor de slider, \n",
    "- *step* de stapgrootte in de slider, \n",
    "- *description* een beschrijving die voor de slider komt.\n",
    "\n",
    "Zoals steeds wordt dit (waarschijnlijk) duidelijker aan de hand van een voorbeeld. We passen eerst het voorbeeld van hierboven met een eigen slider voor *einde*. "
   ],
   "metadata": {
    "collapsed": false
   },
   "id": "41511f1aa2c1a383"
  },
  {
   "cell_type": "code",
   "execution_count": null,
   "outputs": [],
   "source": [
    "# voorbeeld met slider voor het einde van de grafiek\n",
    "    \n",
    "def plotMachtInteractief_v2():\n",
    "    sliderVoorEinde = ipywidgets.IntSlider(value=100, min=25, max=500, step = 5, description = \"Eindpunt van het interval\")\n",
    "    grafiek = ipywidgets.interactive(plotMacht, n=3, einde=sliderVoorEinde)\n",
    "    display(grafiek)\n",
    "    \n",
    "plotMachtInteractief_v2()"
   ],
   "metadata": {
    "collapsed": false
   },
   "id": "d9515c790c7d75bb"
  },
  {
   "cell_type": "markdown",
   "source": [
    "In de cursus hebben we een voorbeeld met twee zelfgemaakte sliders."
   ],
   "metadata": {
    "collapsed": false
   },
   "id": "7cf507c959d112e1"
  },
  {
   "cell_type": "code",
   "execution_count": null,
   "outputs": [],
   "source": [
    "# laatste voorbeeld uit de cursus\n",
    "def kwadrateer(x):\n",
    "    return x**2\n",
    "\n",
    "def plotVanTot(start, einde): \n",
    "    xAs = list(range(start,einde)) \n",
    "    yAs = list(map(kwadrateer, xAs)) \n",
    "    plt.figure()\n",
    "    plt.plot(xAs, yAs) \n",
    "    plt.title(\"kwadraat van \" + str(start) + \" tot \" + str(einde)) \n",
    "    plt.show() \n",
    "    \n",
    "def plotInteractief(): \n",
    "    startSlider = ipywidgets.IntSlider(value=10, min=0, max=20, \n",
    "                                       description=\"Begin van het interval\") \n",
    "    eindSlider = ipywidgets.IntSlider(value=20, min=10, max=40, \n",
    "                                      description=\"Einde van het interval\") \n",
    "    grafiek = ipywidgets.interactive(plotVanTot, start=startSlider, einde=eindSlider) \n",
    "    display(grafiek) \n",
    "    \n",
    "plotInteractief()"
   ],
   "metadata": {
    "collapsed": false
   },
   "id": "add06492be121365"
  },
  {
   "cell_type": "code",
   "execution_count": null,
   "outputs": [],
   "source": [
    "# extra voorbeeld\n",
    "def plotVierdegraadsWidgets():\n",
    "    aSlider = ipywidgets.FloatSlider(value=0.25, min=-10, max=10, description=\"a\")\n",
    "    bSlider = ipywidgets.FloatSlider(value=0.25, min=-10, max=10, description=\"b\")\n",
    "    cSlider = ipywidgets.FloatSlider(value=0.25, min=-10, max=10, description=\"c\")\n",
    "    dSlider = ipywidgets.FloatSlider(value=0.25, min=-10, max=10, description=\"d\")\n",
    "    eSlider = ipywidgets.FloatSlider(value=0.25, min=-10, max=10, description=\"e\")\n",
    "    startSlider = ipywidgets.FloatSlider(value=-100, min=-200, max=0, description=\"start\")\n",
    "    eindSlider = ipywidgets.FloatSlider(value=100, min=-0, max=200, description=\"eind\")\n",
    "    def plotter(a,b,c,d,e,begin,einde):\n",
    "        xAs = np.linspace(begin, einde, 50)\n",
    "        yAs = list(map(lambda x: a*x**4+b*x**3+c*x**2+d*x+e, xAs))\n",
    "        plt.figure()\n",
    "        plt.plot(xAs, yAs)\n",
    "        plt.show()\n",
    "    grafiek = ipywidgets.interactive(plotter, a=aSlider, b=bSlider, c=cSlider, d=dSlider, e=eSlider, begin=startSlider, einde=eindSlider) \n",
    "    display(grafiek) \n",
    "    \n",
    "plotVierdegraadsWidgets()"
   ],
   "metadata": {
    "collapsed": false
   },
   "id": "ebf762b0d2d9c101"
  },
  {
   "cell_type": "code",
   "execution_count": null,
   "outputs": [],
   "source": [
    "plt.close()"
   ],
   "metadata": {
    "collapsed": false
   },
   "id": "23f4639c06f01a45"
  },
  {
   "cell_type": "markdown",
   "source": [
    "## Oefeningen\n",
    "\n",
    "- Pas het voorbeeld *plotMachtInteractief_v2* aan zodat je voor de graad van de veelterm een slider met reële getallen gebruikt."
   ],
   "metadata": {
    "collapsed": false
   },
   "id": "ceec4e78c9c9cb7a"
  },
  {
   "cell_type": "code",
   "execution_count": null,
   "outputs": [],
   "source": [
    "def plotMachtInteractief_v3():\n",
    "    sliderVoorEinde = ipywidgets.IntSlider(value=100, min=25, max=500, step = 5, description = \"Eindpunt van het interval\")\n",
    "    sliderVoorGraad = ipywidgets.FloatSlider(value=3, min=-3, max=10, description = \"Graad\")\n",
    "    grafiek = ipywidgets.interactive(plotMacht, n=sliderVoorGraad, einde=sliderVoorEinde)\n",
    "    display(grafiek)\n",
    "\n",
    "plotMachtInteractief_v3()"
   ],
   "metadata": {
    "collapsed": false
   },
   "id": "f186d3f2f7672402"
  },
  {
   "cell_type": "markdown",
   "source": [
    "- Variant van oefening 6 van de cursus\n",
    "  Twee vrienden wonen op 22 kilometer afstand van elkaar, en willen iets gaan drinken/sporten/kaarten/discussiëren op een plek die tussen elkaar in ligt. De ene vriend moet met de fiets rijden en rijdt liefst tussen de 15 en 22 km/u, maar kan ook wel een spurtje trekken voor zijn vriend; de andere vriend gebruikt een elektrische motorfiets met een kruissnelheid van rond de 40 km/u met een maximum van 45 km/u, maar de vriend kan ook wel wat trager rijden om batterij te besparen.\n",
    "  \n",
    "  Hiervoor krijg je functies *afstandVriend1* en *afstandVriend2* die de afstand t.o.v. van het vertrekpunt van vriend 1 terug geven in functie van de tijd en de snelheid. Voor *afstandVriend1* loopt de afstand op vanaf 0 richting 22; voor *afstandVriend2* daalt de afstand van 22 richting 0. Als je deze twee afstandsfuncties zou plotten, geeft het snijpunt van de twee lijnen de plaats weer waar de vrienden elkaar tegenkomen. De plaatsen waar ze warm en droog kunnen afspreken, liggen op 5 en 10 km van de vertrekplaats van vriend 1 verwijderd.\n",
    "  \n",
    "  **Maak een interactieve grafiek waarin je de snelheden van beide vrienden kan aanpassen. Zoek comfortabele snelheden waarmee ze op respectievelijk 5 of 10 km kunnen afspreken, of waarbij ze elk 20 minuten moeten rijden.**"
   ],
   "metadata": {
    "collapsed": false
   },
   "id": "44243d5ad13eea3e"
  },
  {
   "cell_type": "code",
   "execution_count": null,
   "outputs": [],
   "source": [
    "def afstandVriend1(tijdInMinuten, snelheidKmPerU):\n",
    "    return snelheidKmPerU*tijdInMinuten/60\n",
    "\n",
    "def afstandVriend2(tijdInMinuten, snelheidKmPerU):\n",
    "    return 22 - snelheidKmPerU*tijdInMinuten/60\n",
    "\n",
    "def plotAfstanden(snelheidFiets, snelheidMotorfiets):\n",
    "    def afstand1(t):\n",
    "        return afstandVriend1(t, snelheidFiets)\n",
    "    def afstand2(t):\n",
    "        return afstandVriend2(t, snelheidMotorfiets)\n",
    "    \n",
    "    xAs = range(0,30)\n",
    "    yAs1 = list(map(afstand1, xAs))\n",
    "    yAs2 = list(map(afstand2, xAs))\n",
    "    \n",
    "    plt.figure()\n",
    "    plt.plot(xAs, yAs1, label = \"positie vriend 1\", color= \"r\")\n",
    "    plt.plot(xAs, yAs2, label = \"positie vriend 2\", color= \"g\")\n",
    "    plt.xlabel(\"tijd in minuten\")\n",
    "    plt.ylabel(\"afstand in km t.o.v. punt 1\")\n",
    "    plt.legend()\n",
    "    plt.grid(True)\n",
    "    plt.show()    \n",
    "    \n",
    "def zoekSnelhedenVrienden():\n",
    "    slider1 = ipywidgets.FloatSlider(value=20, min=15, max=28, description=\"fietser\")\n",
    "    slider2 = ipywidgets.FloatSlider(value=40, min=25, max=45, description=\"motorfietser\")\n",
    "    grafiek = ipywidgets.interactive(plotAfstanden, snelheidFiets=slider1, snelheidMotorfiets=slider2) \n",
    "    display(grafiek) \n",
    "\n",
    "zoekSnelhedenVrienden()    \n",
    "    "
   ],
   "metadata": {
    "collapsed": false
   },
   "id": "86c60a08db024998"
  },
  {
   "cell_type": "markdown",
   "source": [
    "- Een variant van de laatste oefening van hoofdstuk 5: de diepvriezers.\n",
    "  In het csv-bestand diepvries.csv staan de aankoopprijs en het verbruik per jaar in KWh van 4 diepvriezers. In die oefening was gevraagd om de kostprijs na 10 jaar te berekenen bij een elektriciteitsprijs van 28 eurocent/KWh en 40 eurocent/KWh.\n",
    "  In deze variant van de oefening vragen we om de gecumuleerde kostprijs van alle diepvriezers op een grafiek te zetten met op de x-as de tijd in jaar en op de y-as de prijs van aankoop + verbruik over de afgelopen jaren. \n",
    "  Voorzie een slider waarmee je de kostprijs kan laten variëren tussen aannemelijke grenzen en kijk welke invloed dit heeft op de tijd waarop een nieuwe, energieëfficiënte diepvriezer zichzelf terugverdiend heeft."
   ],
   "metadata": {
    "collapsed": false
   },
   "id": "588ef72ffcf732a8"
  },
  {
   "cell_type": "code",
   "execution_count": null,
   "outputs": [],
   "source": [
    "# ruimte voor de oefening op de diepvriezer\n",
    "def kostprijs(aankoop, verbruik, jaar, elektriciteitsprijs):\n",
    "    return aankoop + verbruik * elektriciteitsprijs * jaar\n",
    "\n",
    "def plotDiepvriezers(elektriciteitsprijs):\n",
    "    df = pd.read_csv(\"../csv/diepvries.csv\",sep=\";\",encoding=\"latin-1\")\n",
    "    xAs = range(1,20)\n",
    "    plt.figure()\n",
    "    for i in range(0,len(df)):\n",
    "        diepvries = df.loc[i]\n",
    "        def prijs(jaar):\n",
    "            return kostprijs(diepvries[\"aankoopprijs\"],diepvries[\"verbruik\"], jaar, elektriciteitsprijs)\n",
    "        yAs = list(map(prijs, xAs))\n",
    "        plt.plot(xAs, yAs, label = diepvries[\"diepvries\"])\n",
    "    plt.grid(True)\n",
    "    plt.legend()\n",
    "    plt.title(\"Kostprijs diepvriezers\")\n",
    "    plt.xlabel(\"jaar\")\n",
    "    plt.ylabel(\"Kostprijs in €\")\n",
    "    plt.show()\n",
    "    \n",
    "def interactieveDiepvriezers():\n",
    "    slider = ipywidgets.FloatSlider(value=0.32, min=0.20, max=0.60, description=\"euro/KWh\")\n",
    "    grafiek = ipywidgets.interactive(plotDiepvriezers, elektriciteitsprijs=slider) \n",
    "    display(grafiek) \n",
    "    \n",
    "interactieveDiepvriezers()"
   ],
   "metadata": {
    "collapsed": false
   },
   "id": "ed657422f174b9f2"
  },
  {
   "cell_type": "markdown",
   "source": [
    "5. Maak opgave 5 uit de cursus (dit is een oefening zonder sliders): slimme grafiek van ax²+bx+c \n",
    "- Maak functies om volgende dingen te berekenen \n",
    "    - Eerste nulpunt \n",
    "    - Tweede nulpunt \n",
    "- Maak functie die parameters a, b, c heeft en  \n",
    "    - Nagaat of er 0, 1 of 2 nulpunten zijn \n",
    "    - Indien 0 nulpunten, grafiek van -20 tot +20 \n",
    "    - Indien 1 nulpunten “y”, grafiek van y-20 tot y+20 \n",
    "    - Indien 2 nulpunten “y1” en “y2”, bereken afstand tussen y1 en y2 (“afst”) en grafiek van y1-afst tot y2+afst "
   ],
   "metadata": {
    "collapsed": false
   },
   "id": "ea417c67adbfae43"
  },
  {
   "cell_type": "code",
   "execution_count": null,
   "outputs": [],
   "source": [
    "# ruimte voor oef. 5\n",
    "def discriminant(a, b, c):\n",
    "    return b**2 - 4*a*c\n",
    "\n",
    "def nulpunt1(a, b, c):\n",
    "    D = discriminant(a,b,c)\n",
    "    return (-b-math.sqrt(D))/(2*a)\n",
    "\n",
    "def nulpunt2(a, b, c):\n",
    "    D = discriminant(a,b,c)\n",
    "    return (-b+math.sqrt(D))/(2*a)\n",
    "\n",
    "def waardeTweedegraadsvergelijking(a,b,c,x):\n",
    "    return a*x*x + b*x + c\n",
    "\n",
    "def slimmeGrafiek(a, b, c):\n",
    "    D = discriminant(a, b, c)\n",
    "    if D < 0:\n",
    "        ondergrens = -20\n",
    "        bovengrens = 20\n",
    "    elif D == 0:\n",
    "        nulpunt = nulpunt1(a, b, c)\n",
    "        ondergrens = nulpunt - 20\n",
    "        bovengrens = nulpunt + 20\n",
    "    else:\n",
    "        pt1 = nulpunt1(a, b, c)\n",
    "        pt2 = nulpunt2(a, b, c)\n",
    "        afstand = pt2 - pt1\n",
    "        ondergrens = pt1 - afstand\n",
    "        bovengrens = pt2 + afstand\n",
    "\n",
    "    xAs = np.linspace(ondergrens, bovengrens, 200)\n",
    "    yAs = list(map(lambda x: waardeTweedegraadsvergelijking(a, b, c, x), xAs))\n",
    "\n",
    "    plt.figure()\n",
    "    plt.plot(xAs, yAs)\n",
    "    plt.grid(True)\n",
    "    if b < 0:\n",
    "        bString = str(b)\n",
    "    else:\n",
    "        bString = \" + \" + str(b)\n",
    "    if c < 0:\n",
    "        cString = str(c)\n",
    "    else:\n",
    "        cString = \" + \" + str(c)\n",
    "\n",
    "    plt.title(str(a) + \"x² \" + bString + \"x \" + cString)\n",
    "    plt.show()"
   ],
   "metadata": {
    "collapsed": false
   },
   "id": "c87be7882106b298"
  },
  {
   "cell_type": "markdown",
   "source": [
    "*Oefening 7 uit de cursus vervalt*"
   ],
   "metadata": {
    "collapsed": false
   },
   "id": "10f0125139a00d41"
  }
 ],
 "metadata": {
  "kernelspec": {
   "display_name": "Python 3",
   "language": "python",
   "name": "python3"
  },
  "language_info": {
   "codemirror_mode": {
    "name": "ipython",
    "version": 2
   },
   "file_extension": ".py",
   "mimetype": "text/x-python",
   "name": "python",
   "nbconvert_exporter": "python",
   "pygments_lexer": "ipython2",
   "version": "2.7.6"
  }
 },
 "nbformat": 4,
 "nbformat_minor": 5
}
