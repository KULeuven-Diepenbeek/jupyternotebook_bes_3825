{
 "cells": [
  {
   "cell_type": "markdown",
   "source": [
    "# Hoofdstuk 5: Dataframes\n",
    "\n",
    "Het basisidee van het dataframe is een uitbreiding van de één-dimensionale datastructuur uit het vorige hoofdstuk, met name de lijst. \n",
    "\n",
    "In een lijst heeft elke waarde een volgnummer, een index genoemd en zet je dus waarden achter elkaar.\n",
    "\n",
    "In een dataframe heeft elke waarde een rij-nummer én een kolom-naam. Dit geeft twee dimensies.\n",
    "\n",
    "## Het DataFrame mapt op Excel en CSV\n",
    "\n",
    "Als het concept van cellen met een rij-nummer en een kolom-naam je een belletje doet rinkelen, dan heb je gelijk. Dit trekt heel fel op het concept van een Excel-document. In de praktijk zijn veel wetenschappers niet zo'n fan van Excel omdat dit een gesloten formaat is dat eigendom is van één firma en omdat het een vrij zwaar formaat is met ook informatie over de layout en zo. Voor pure gegevens is dat overkill.\n",
    "\n",
    "Het formaat van de *Comma Separated Values* (of CSV) is in die zin beter. Het is in essentie een gewoon, plat tekstbestand met per rij een reeks waarden die met een komma van elkaar gescheiden worden. Omdat we in Vlaanderen de komma al gebruiken als decimale punt, gebruiken we de ; als scheidingsteken.\n",
    "\n",
    "Een CSV kan er bijvoorbeeld als volgt uit zien:\n",
    "\n",
    "rijksregister;postcode;IQ\n",
    "04051712544;3500;106\n",
    "07081915478;3600;123\n",
    "99112454171;3960;88\n",
    "70080314571;3130;117\n",
    "\n",
    "Voor deze cursus leveren we heel wat csv-bestanden aan. We hebben die samen in een zip gestoken. Haal die zip af van Toledo, pak uit op je PC en upload in een aparte map *csv* in je Jupyterhub. \n",
    "\n",
    "# 5.2 DataFrame maken = CSV importeren\n",
    "\n",
    "In de cursus staan verschillende manieren beschreven om een dataframe te maken. Wij gebruiken (bijna) altijd de techniek waarbij je een CSV-bestand inleest. \n",
    "\n",
    "Wanneer je hiervoor de bibliotheek pandas importeert, wordt dit heel gemakkelijk, bijvoorbeeld. "
   ],
   "metadata": {
    "collapsed": false
   },
   "id": "89dc29260678e8c1"
  },
  {
   "cell_type": "code",
   "execution_count": null,
   "outputs": [],
   "source": [
    "import pandas as pd\n",
    "from qgridnext import show_grid\n",
    "\n",
    "df1 = pd.read_csv(\"../csv/autoverbruik.csv\",sep=\";\",encoding=\"latin-1\")\n",
    "show_grid(df1)"
   ],
   "metadata": {
    "collapsed": false
   },
   "id": "8ef53eb64f01788e"
  },
  {
   "cell_type": "markdown",
   "source": [
    "We roepen de functie *read_csv* met drie parameters op\n",
    "- de bestandsnaam van het csv-bestand\n",
    "- welk scheidingsteken we gebruiken (de separator). Voor ons is dit steeds ;\n",
    "- en een encoding: de tekenset die in de data gebruikt wordt. Voor ons is dit latin-1, maar Oekraïener, Welshmen, Indiers, ... gebruiken mogelijk een andere codering."
   ],
   "metadata": {
    "collapsed": false
   },
   "id": "2c2ffc36d5e4593a"
  },
  {
   "cell_type": "code",
   "execution_count": null,
   "outputs": [],
   "source": [
    "# probeer zelfs een ander bestand te importeren\n",
    "# druk achter csv/ op tab en zie alle bestanden verschijnen\n",
    "df2 = pd.read_csv(\"../csv/\",sep=\";\",encoding=\"latin-1\")\n",
    "show_grid(df2)"
   ],
   "metadata": {
    "collapsed": false
   },
   "id": "cf3ffcef882635e9"
  },
  {
   "cell_type": "markdown",
   "source": [
    "## Gegevens opvragen en aanpassen in een dataframe\n",
    "\n",
    "Dit is gedeeltelijk analook aan het werken met lijsten. Daar gebruikten we de vierkante haken [] achter de naam van de variabele, met tussen de haken de index.\n",
    "\n",
    "Voor het dataframe hebben we ook vierkante haken met twéé indexen, maar moeten we bijkomend .loc schrijven."
   ],
   "metadata": {
    "collapsed": false
   },
   "id": "a0afc336e49a563b"
  },
  {
   "cell_type": "code",
   "execution_count": null,
   "outputs": [],
   "source": [
    "print(df1.loc[7,\"auto_uit_2013\"]) # rij 7, kolom auto_uit_2013"
   ],
   "metadata": {
    "collapsed": false
   },
   "id": "71cf14e19c22ca51"
  },
  {
   "cell_type": "code",
   "execution_count": null,
   "outputs": [],
   "source": [
    "print(df1.loc[6,\"auto_uit_2013\"])\n",
    "df1.loc[6,\"auto_uit_2013\"] = \"golfke\"\n",
    "print(df1.loc[6,\"auto_uit_2013\"])"
   ],
   "metadata": {
    "collapsed": false
   },
   "id": "80b521eb58abe05"
  },
  {
   "cell_type": "markdown",
   "source": [
    "## Rijen en kolommen toevoegen en verwijderen\n",
    "\n",
    "Je kan ook een volledige rij of kolom met concrete gegevens toevoegen. Hierbij moet je het juiste aantal waarden meegeven in de juiste volgorde nl. evenveel als er kolommen resp. rijen zijn.\n",
    "\n",
    "Met de methode *drop* kan je een rij verwijderen en ook een kolom als je als extra parameter *axis=1* meegeeft.\n",
    "\n",
    "Dit gebruiken we niet in de oefeningen en we verspillen er dan ook geen tijd aan in deze Jupyter-notebook, maar in de cursus en de powerpoint worden wel enkele voorbeelden vermeld.\n",
    "\n",
    "## De lengte van een DataFrame\n",
    "\n",
    "Dit is dezelfde functie als bij de lijst, nl. *len*.\n",
    "Als resultaat krijg je het aantal rijen terug.\n",
    "\n",
    "# Geaggregeerde gegevens\n",
    "\n",
    "## Statistische functies\n",
    "\n",
    "Bij de lijst heb je handige functies waarmee je direct de som, product, gemiddelde, ... van een lijst kan berekenen.\n",
    "Dat heb je ook bij het dataframe, maar daar zijn het wel *methodes* wat inhoudt dat je eerst het object moet vastgrijpen en dan de methode kan uitvoeren.\n",
    "\n",
    "Je kan de methodes .sum(), .prod(), .min(), .max(), .mean(), .median(), .cumsum(), .cumprod() op het hele dataframe loslaten: dan krijg je som, product, ... per kolom. Als je 4 kolommen had, krijg je dan een rij met 4 uitkomsten.\n",
    "\n",
    "Wanneer je dit op één kolom wil toepassen, dan kan je best eerst de kolom selecteren (bv. df[\"A\"]) en dan de methode oproepen, bv. df[\"A\"].sum()."
   ],
   "metadata": {
    "collapsed": false
   },
   "id": "968660a455169232"
  },
  {
   "cell_type": "code",
   "execution_count": null,
   "outputs": [],
   "source": [
    "# voorbeeld\n",
    "dfAutos = pd.read_csv(\"../csv/autoverbruik.csv\",sep=\";\",encoding=\"latin-1\")\n",
    "gemiddeldVerbruikDiesel = dfAutos[\"diesel_gemeten\"].mean()\n",
    "minVerbruikDiesel = dfAutos[\"diesel_gemeten\"].min()\n",
    "maxVerbruikDiesel = dfAutos[\"diesel_gemeten\"].max()\n",
    "print(\"Het gemiddelde gemeten dieselverbruik is\", gemiddeldVerbruikDiesel,\n",
    "      \"met uitschieters tot\", minVerbruikDiesel, \"en\", maxVerbruikDiesel)"
   ],
   "metadata": {
    "collapsed": false
   },
   "id": "e3c1e0a6eb362841"
  },
  {
   "cell_type": "markdown",
   "source": [
    "## Nieuwe kolommen maken via kolom-bewerkingen\n",
    "\n",
    "Python gaat steeds voor syntax die zo inituitief mogelijk is.\n",
    "Wanneer je bijvoorbeeld een dataframe hebt met een kolom \"aantal\" en een tweede kolom \"prijs\" voor de prijs per stuk, dan is de kans groot dat je de totaalprijs wil berekenen per rij door aantal en prijs per rij te vermenigvuldigen. Intuitief zou je zeggen dat je beide kolommen vermenigvuldigt met elkaar. In de syntax schrijf je dat exact hetzelfde."
   ],
   "metadata": {
    "collapsed": false
   },
   "id": "8dfd58ef1f2d0774"
  },
  {
   "cell_type": "code",
   "execution_count": null,
   "outputs": [],
   "source": [
    "# voorbeeld\n",
    "dfSales = pd.DataFrame()\n",
    "dfSales[\"aantal\"]=[10,5,18,100]\n",
    "dfSales[\"prijs\"]=[0.25, 9.99, 3.00, 4.95]\n",
    "dfSales[\"totaalPrijs\"] = dfSales[\"aantal\"]*dfSales[\"prijs\"]\n",
    "show_grid(dfSales)"
   ],
   "metadata": {
    "collapsed": false
   },
   "id": "9253d2ea870bfc78"
  },
  {
   "cell_type": "markdown",
   "source": [
    "# 5.5 Transformaties op hoog niveau\n",
    "\n",
    "Naar analogie met de map van de lijst kan je ook\n",
    "- een functie loslaten op élke *cel* van een dataframe: **map** \n",
    "- een functie loslaten op elke *rij* van een dataframe: **apply**\n",
    "\n",
    "(I.p.v. map kan je ook de *applymap* gebruiken, maar de map geniet tegenwoordig de voorkeur.)\n",
    "\n",
    "\n",
    "Tenslotte kan je ook filteren, maar heb je geen methode filter voor nodig.\n",
    "\n",
    "## 5.5.1 Een functie loslaten op elke cel: map (of applymap)\n",
    "\n",
    "Schematisch verloopt dit als volgt:\n",
    "\n",
    "dfNieuw = dfOud.map(functie)\n",
    "\n",
    "Je ziet dat we met een toekenning werken wat inhoudt dat het oude dataframe niet verandert, maar dat er een nieuw dataframe terug gegeven wordt met daarin voor elke cel de uitkomst van de functie toe te passen op de oude cel.\n",
    "\n",
    "Dit wordt niet zo heel dikwijls gebruikt omdat je meestal per kolom een andere betekenis hebt. Het zou dan raar zijn om dezelfde functie op alle cellen los te laten.\n",
    "\n",
    "## 5.5.2 Een functie loslaten op elke rij: apply\n",
    "\n",
    "Dit is wel uitermate relevant omdat je nu een bewerking per rij van het dataframe kunt doen. Dat komt dan in de context van wetenschappelijk onderzoek overeen met een berekening per experiment (aangezien we eerder stelden dat in een csv-bestand resultaten elke rij de data van één experiment kan voorstellen).\n",
    "\n",
    "Omdat de uitkomst van de functie één waarde is, krijg je dan een nieuwe kolom terug met per rij de uitkomst van de functie voor die rij.\n",
    " \n",
    "Schematisch verloopt dit als volgt:\n",
    "\n",
    "nieuweKolom = df.apply(functie, axis=1)\n",
    "\n",
    "De parameter *axis=1* is nodig omdat apply anders op de kolommen zou werken, en dat is (voor ons meestal) niet de bedoeling.\n",
    "\n",
    "### Functie moet één parameter hebben\n",
    "\n",
    "Belangrijke, maar eigenlijk logische opmerking is dat de functie maar één parameter mag hebben. Dat is logisch omdat je de hele rij binnenkrijgt als parameter.\n",
    "\n",
    "De volgende functie is dus niet bruikbaar. "
   ],
   "metadata": {
    "collapsed": false
   },
   "id": "6bdb08589df29c36"
  },
  {
   "cell_type": "code",
   "execution_count": null,
   "outputs": [],
   "source": [
    "def oppervlakte(basis, hoogte):\n",
    "    return basis * hoogte"
   ],
   "metadata": {
    "collapsed": false
   },
   "id": "bcb37f54b0ca9351"
  },
  {
   "cell_type": "markdown",
   "source": [
    "Wanneer de kolommen van het dataframe b en h zouden heten, is volgende functie wél mogelijk."
   ],
   "metadata": {
    "collapsed": false
   },
   "id": "e0797b82083e0e5b"
  },
  {
   "cell_type": "code",
   "execution_count": null,
   "outputs": [],
   "source": [
    "def opp(rij):\n",
    "    return oppervlakte(rij[\"b\"], rij[\"h\"])"
   ],
   "metadata": {
    "collapsed": false
   },
   "id": "dcf7adcd227acd65"
  },
  {
   "cell_type": "markdown",
   "source": [
    "In de volgende codeblok passen we deze functie toe op elke rij."
   ],
   "metadata": {
    "collapsed": false
   },
   "id": "bed4b8cd2f4efdd0"
  },
  {
   "cell_type": "code",
   "execution_count": null,
   "outputs": [],
   "source": [
    "rects = pd.DataFrame()\n",
    "rects[\"b\"] = [4,3,5,2]\n",
    "rects[\"h\"] = [5,6,8,2]\n",
    "print(rects)\n",
    "\n",
    "rects[\"opp\"] = rects.apply(opp, axis=1)\n",
    "print(rects)"
   ],
   "metadata": {
    "collapsed": false
   },
   "id": "6067eedfd76ecb51"
  },
  {
   "cell_type": "markdown",
   "source": [
    "# 5.5.3 Rijen filteren\n",
    "\n",
    "Bij de lijst hebben we een speciale functie nodig om te kunnen filteren. Die functie heet *filter* (wat niet heel abnormaal is).\n",
    "\n",
    "## Filteren met een functie\n",
    "\n",
    "Bij het dataframe hebben we géén speciale functie nodig. Hetgeen we tussen de vierkante haken schrijven achter de naam van het dataframe is ook een soort filter: standaard is het een filter op de naam van een kolom en selecteer je dus een specifieke kolom, maar in pandas kan je ook een functie tussen de vierkante haken zetten. Dan wordt er volgens die functie gefilterd op rijen.\n",
    "\n",
    "Hieronder vind je twee voorbeelden: een uit de cursus en een uit de powerpoint."
   ],
   "metadata": {
    "collapsed": false
   },
   "id": "2d600a187abb1487"
  },
  {
   "cell_type": "code",
   "execution_count": null,
   "outputs": [],
   "source": [
    "# voorbeeld 1: uit de cursus\n",
    "dfElektriciteit = pd.DataFrame()\n",
    "dfElektriciteit[\"U\"] = [220, 233, 5.2]\n",
    "dfElektriciteit[\"I\"] = [12, 3.08, 2.11]\n",
    "dfElektriciteit[\"P\"] = dfElektriciteit[\"I\"] * dfElektriciteit[\"U\"]\n",
    "\n",
    "def veelVermogen(rij):\n",
    "    return rij[\"P\"] > 2200\n",
    "\n",
    "dfVeelVermogen = dfElektriciteit[veelVermogen]\n",
    "show_grid(dfVeelVermogen)"
   ],
   "metadata": {
    "collapsed": false
   },
   "id": "ac52ae650705513e"
  },
  {
   "cell_type": "code",
   "execution_count": null,
   "outputs": [],
   "source": [
    "# voorbeeld 2: uit de powerpoint\n",
    "def bijnaVierkant(rij):\n",
    "    ratio = rij[\"b\"]/rij[\"h\"]\n",
    "    return (ratio > 0.9) & (ratio < 1.1)\n",
    "\n",
    "# definitie van rects staat een paar cellen hoger\n",
    "bijnaVierkanteRects = rects[bijnaVierkant]\n",
    "show_grid(bijnaVierkanteRects)"
   ],
   "metadata": {
    "collapsed": false
   },
   "id": "62ce46ab932276ca"
  },
  {
   "cell_type": "markdown",
   "source": [
    "## Filteren met een expressie\n",
    "\n",
    "Het kan nog iets korter: in plaats van een functie mag je ook een expressie met kolommen tussen de vierkante haken zetten."
   ],
   "metadata": {
    "collapsed": false
   },
   "id": "ca0c29bfd1ee8492"
  },
  {
   "cell_type": "code",
   "execution_count": null,
   "outputs": [],
   "source": [
    "# voorbeeld\n",
    "dfElektriciteit[dfElektriciteit[\"I\"]>3]"
   ],
   "metadata": {
    "collapsed": false
   },
   "id": "fb14408d1aa6ad8a"
  },
  {
   "cell_type": "markdown",
   "source": [
    "## De grootste of kleinste waarden zoeken kan ook.\n",
    "\n",
    "De expressie van hierboven kan ook een expressie zijn die gebruik maakt van een berekening over alle rijen. Hieronder twee voorbeelden:"
   ],
   "metadata": {
    "collapsed": false
   },
   "id": "164f32dff422b5ca"
  },
  {
   "cell_type": "code",
   "execution_count": null,
   "outputs": [],
   "source": [
    "dfMaximaalVermogen = dfElektriciteit[dfElektriciteit[\"P\"]==max(dfElektriciteit[\"P\"])]\n",
    "print(dfMaximaalVermogen)\n",
    "print(\"-----------------\")\n",
    "\n",
    "dfRedelijkVeelSpanning = dfElektriciteit[dfElektriciteit[\"U\"]>dfElektriciteit[\"U\"].mean()]\n",
    "print(dfRedelijkVeelSpanning)"
   ],
   "metadata": {
    "collapsed": false
   },
   "id": "d36b96be2f0db34c"
  },
  {
   "cell_type": "markdown",
   "source": [
    "In het tweede voorbeeld zullen er in het algemeen ongeveer de helft van de rijen geselecteerd worden, maar in het tweede voorbeeld zal je waarschijnlijk verwachten dat er maar één rij met het maximum is. Daar kan je echter niet zeker van zijn. Python gaat dat sowieso niet zijn en zal dus altijd een dataframe teruggeven bij het gebruik van die filter.\n",
    "\n",
    "Wanneer je dan een specifieke waarde uit het dataframe wil halen, moet je eerst de gewenste rij selecteren en daaruit de gewenste kolom. Hiervoor kan je in principe de *.loc* gebruiken, maar het probleem is dat de nummer van de rijen de oorspronkelijke nummering houdt. Omdat je niet op voorhand weet welk rijnummer over zal blijven, is het lastig om de methode *.loc* te gebruiken. Beter is om in dit geval de *.iloc* te gebruiken. Die gebruikt als nummering de nieuwe rangnummers. *.iloc[0]* zal dan altijd de eerste rij uit het resultaat bevatten.\n",
    "\n",
    "Concreet: wanneer je wil weten bij welk voltage het maximale vermogen optrad, moet je onderstaande manier gebruiken: "
   ],
   "metadata": {
    "collapsed": false
   },
   "id": "93a18b73b4e3f194"
  },
  {
   "cell_type": "code",
   "execution_count": null,
   "outputs": [],
   "source": [
    "dfMaximaalVermogen = dfElektriciteit[dfElektriciteit[\"P\"]==max(dfElektriciteit[\"P\"])]\n",
    "spanningBijMaxP = dfMaximaalVermogen.iloc[0][\"U\"]\n",
    "print(spanningBijMaxP , \"V\")"
   ],
   "metadata": {
    "collapsed": false
   },
   "id": "67d437aded48329a"
  },
  {
   "cell_type": "markdown",
   "source": [
    "# Oefeningen\n",
    "\n",
    "1. In het csv-bestand zonnepaneel.csv staan opgemeten gegevens van stroom en spanning van een zonnepaneel. Haal dat bestand op en voeg aan het dataframe een kolom toe die het vermogen berekent via de formule P = U∙I. Bereken dan het maximaal vermogen."
   ],
   "metadata": {
    "collapsed": false
   },
   "id": "128d1ff53fb76719"
  },
  {
   "cell_type": "code",
   "execution_count": null,
   "outputs": [],
   "source": [
    "# oplossing voor oefening 1\n",
    "import pandas as pd\n",
    "\n",
    "def maximaalVermogen(zonnepanelen = \"../csv/zonnepaneel.csv\"):\n",
    "    df = pd.read_csv(zonnepanelen,sep=\";\",encoding=\"latin-1\")\n",
    "    df[\"P\"] = df[\"U\"]*df[\"I\"]\n",
    "    return df[\"P\"].max()\n",
    "\n",
    "print(maximaalVermogen())"
   ],
   "metadata": {
    "collapsed": false
   },
   "id": "1ac7f866c104b62"
  },
  {
   "cell_type": "markdown",
   "source": [
    "2. In het csv-bestand autoverbruik.csv staan gegevens van het verbruik per auto in l/100 km. \n",
    "Zet dit voor elke auto om in het aantal kilometer dat je per liter kan rijden."
   ],
   "metadata": {
    "collapsed": false
   },
   "id": "651023a8ca4c9a31"
  },
  {
   "cell_type": "code",
   "execution_count": null,
   "outputs": [],
   "source": [
    "# oplossing voor oefening 2\n",
    "\n",
    "# maak voor deze functie 2 kolommen\n",
    "#    - dieselKmPerL op basis van het gemeten dieselverbruik\n",
    "#    - benzineKmPerL op basis van het gemeten benzineverbruik\n",
    "def autoverbruik(autos = \"../csv/autoverbruik.csv\"):\n",
    "    df = pd.read_csv(autos, sep=\";\", encoding=\"latin-1\")\n",
    "    df[\"dieselKmPerL\"] = 100/(df[\"diesel_gemeten\"])\n",
    "    df[\"benzineKmPerL\"] = 100/(df[\"benzine_gemeten\"])\n",
    "    return df\n",
    "\n",
    "show_grid(autoverbruik())"
   ],
   "metadata": {
    "collapsed": false
   },
   "id": "a5ec1c821caa05fe"
  },
  {
   "cell_type": "markdown",
   "source": [
    "3. In het csv-bestand elektrisch verbruik staat van een aantal elektrische toestellen hoeveel Watt dat zij verbruiken, hoeveel uur per jaar dat die opstaan en hoeveel van dergelijke toestellen er in een bepaalde woning staan. Bereken dan het totaal elektrisch verbruik voor die woning."
   ],
   "metadata": {
    "collapsed": false
   },
   "id": "fa905990af7577f7"
  },
  {
   "cell_type": "code",
   "execution_count": null,
   "outputs": [],
   "source": [
    "# oplossing voor oefening 3\n",
    "def elektrischVerbruikInKwH(huis = \"../csv/elektriciteitsverbruik.csv\"):\n",
    "    df = pd.read_csv(huis, sep=\";\", encoding=\"latin-1\")\n",
    "    df[\"verbruik\"]=df[\"vermogen\"]*df[\"uren\"]*df[\"aantal\"]/1000\n",
    "    totaal = df[\"verbruik\"].sum()\n",
    "    return totaal\n",
    "\n",
    "print(elektrischVerbruikInKwH())"
   ],
   "metadata": {
    "collapsed": false
   },
   "id": "959c57c7bf2a3c4c"
  },
  {
   "cell_type": "markdown",
   "source": [
    "4. Voeg aan het csv-bestand rechthoeken.csv kolommen met omtrek en oppervlakte."
   ],
   "metadata": {
    "collapsed": false
   },
   "id": "e763748b67fa1374"
  },
  {
   "cell_type": "code",
   "execution_count": null,
   "outputs": [],
   "source": [
    "# oplossing voor oefening 4\n",
    "def rhMetInfo(rects = \"../csv/rechthoeken.csv\"):\n",
    "    df = pd.read_csv(rects, sep=\";\", encoding=\"latin-1\")\n",
    "    \n",
    "    def omtrek(rij):\n",
    "        return (rij[\"b\"]+rij[\"h\"])*2\n",
    "    def opp(rij):\n",
    "        return rij[\"b\"]*rij[\"h\"]\n",
    "    \n",
    "    df[\"omtrek\"] = df.apply(omtrek, axis=1)\n",
    "    df[\"oppervlakte\"] = df.apply(opp, axis=1)\n",
    "    \n",
    "    return df\n",
    "\n",
    "show_grid(rhMetInfo())"
   ],
   "metadata": {
    "collapsed": false
   },
   "id": "7aa3216e87523843"
  },
  {
   "cell_type": "markdown",
   "source": [
    "5. Voeg aan het csv-bestand landgebruik_2015.csv een kolom toe met de gemiddelde oppervlakte per perceel (= totale_opp_ha  / aantal_percelen)."
   ],
   "metadata": {
    "collapsed": false
   },
   "id": "b0b6d1f44a26ea93"
  },
  {
   "cell_type": "code",
   "execution_count": null,
   "outputs": [],
   "source": [
    "# oplossing voor oefening 5\n",
    "def gemiddeldeOpp(rij):\n",
    "    if (rij[\"aantal_percelen\"]==0):\n",
    "        return 0\n",
    "    else:\n",
    "        return rij[\"totale_opp_ha\"]/rij[\"aantal_percelen\"]\n",
    "\n",
    "def voegGemiddeldeOppervlakteToe(kadasterInfo = \"../csv/landgebruik_2015.csv\"):\n",
    "    df = pd.read_csv(kadasterInfo, sep=\";\", encoding=\"latin-1\")\n",
    "    df[\"gemiddeldeOpp\"]=df.apply(gemiddeldeOpp, axis=1)\n",
    "    df.to_csv(\"../csv/landgebruik_2015_uitgebreid.csv\",sep=\";\",encoding='latin-1')\n",
    "\n",
    "voegGemiddeldeOppervlakteToe()\n",
    "show_grid(pd.read_csv(\"../csv/landgebruik_2015_uitgebreid.csv\", sep=\";\", encoding=\"latin-1\"))"
   ],
   "metadata": {
    "collapsed": false
   },
   "id": "1c1bd3494e6cd1ae"
  },
  {
   "cell_type": "markdown",
   "source": [
    "6. In het csv-bestand diepvriezers.csv vind je de kostprijs van een aantal diepvriezers en hun jaarlijks verbruik. In deze csv staat ook de huidige diepvriezer die ‘gratis’ is, maar wel een hoog verbruik kent. Bereken de gecumuleerde kostprijs van de diepvries (aankoop + jaarlijks verbruik) na 10 jaar en geef de naam van de goedkoopste diepvriezer.\t\n",
    "Maak de simulatie zowel voor een energieprijs van 28 eurocent/kWh en 40 eurocent/kWh"
   ],
   "metadata": {
    "collapsed": false
   },
   "id": "b830b4c33793d7dd"
  },
  {
   "cell_type": "code",
   "execution_count": null,
   "outputs": [],
   "source": [
    "# oplossing voor oefening 6\n",
    "def kostprijsDiepvries(aantalJaar, prijskWh = 0.28, bestand = \"../csv/diepvries.csv\"):\n",
    "    def kostprijs(rij):\n",
    "        return rij[\"aankoopprijs\"] + rij[\"verbruik\"] * prijskWh * aantalJaar\n",
    "\n",
    "    df = pd.read_csv(bestand, sep=\";\", encoding=\"latin-1\")\n",
    "    df[\"kostprijs\"+str(aantalJaar)]=df.apply(kostprijs, axis=1)\n",
    "    #df.to_csv(\"../csv/diepvries\" + str(aantalJaar) + \".csv\",sep=\";\",encoding='latin-1')\n",
    "    return df\n",
    "\n",
    "def goedkoopsteDiepvries(aantalJaar, prijskWh = 0.28, bestand = \"../csv/diepvries.csv\"):\n",
    "    df = kostprijsDiepvries(aantalJaar, prijskWh, bestand)\n",
    "    naamKolom = \"kostprijs\"+str(aantalJaar)\n",
    "    diepvries = df[ df[naamKolom] == min(df[naamKolom])].iloc[0]\n",
    "    return diepvries\n",
    "\n",
    "def naamGoedkoopsteDiepvries(aantalJaar, prijskWh = 0.28, bestand = \"../csv/diepvries.csv\"):\n",
    "    diepvries = goedkoopsteDiepvries(aantalJaar, prijskWh, bestand)\n",
    "    return diepvries[\"diepvries\"]\n",
    "\n",
    "print(naamGoedkoopsteDiepvries(10, 0.40))"
   ],
   "metadata": {
    "collapsed": false
   },
   "id": "58d7f4bf20e4cde6"
  },
  {
   "cell_type": "code",
   "execution_count": null,
   "outputs": [],
   "source": [],
   "metadata": {
    "collapsed": false
   },
   "id": "2fa63fd2b3471bea"
  }
 ],
 "metadata": {
  "kernelspec": {
   "display_name": "Python 3",
   "language": "python",
   "name": "python3"
  },
  "language_info": {
   "codemirror_mode": {
    "name": "ipython",
    "version": 2
   },
   "file_extension": ".py",
   "mimetype": "text/x-python",
   "name": "python",
   "nbconvert_exporter": "python",
   "pygments_lexer": "ipython2",
   "version": "2.7.6"
  }
 },
 "nbformat": 4,
 "nbformat_minor": 5
}
