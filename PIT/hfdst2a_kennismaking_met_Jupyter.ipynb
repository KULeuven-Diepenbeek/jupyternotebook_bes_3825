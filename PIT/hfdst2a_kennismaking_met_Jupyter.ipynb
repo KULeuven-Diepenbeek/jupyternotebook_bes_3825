{
 "cells": [
  {
   "cell_type": "markdown",
   "source": [
    "# Kennismaking met Python en Jupyterhub\n",
    "\n",
    "In de cel hieronder zie je een print-opdracht in Python. Het doel van een zo'n print-opdracht is dingen zichtbaar maken door die af te drukken in de console. In Jupyterhub gebeurt dit direct onderaan de cel. \n",
    "\n",
    "Hiervoor moet je de Python-code laten uitvoeren. Dit doe je door op de zwarte pijl bovenaan te klikken. Je kan ook SHIFT-ENTER of CTRL-ENTER in de cel typen.\n",
    "\n",
    "De tekst tussen de aanhalingstekens wordt vervolgens geprint onder de cel.\n",
    "\n",
    "Probeer dit."
   ],
   "metadata": {
    "collapsed": false
   },
   "id": "3f22383b44a216ea"
  },
  {
   "cell_type": "code",
   "execution_count": null,
   "id": "initial_id",
   "metadata": {
    "collapsed": true
   },
   "outputs": [],
   "source": [
    "print(\"Welkom in Jupyterhub\")"
   ]
  },
  {
   "cell_type": "markdown",
   "source": [
    "Wanneer je nog eens op de pijl bovenaan klikt, wordt de volgende cel uitgevoerd. \n",
    "\n"
   ],
   "metadata": {
    "collapsed": false
   },
   "id": "a2549f0979670ead"
  },
  {
   "cell_type": "code",
   "execution_count": null,
   "outputs": [],
   "source": [
    "print(\"Hello World\")"
   ],
   "metadata": {
    "collapsed": false
   },
   "id": "86b5af1686417a44"
  },
  {
   "cell_type": "markdown",
   "source": [
    "\"Hello World\" is in heel veel programmeercursussen het eerste programma. Niet bij: dit is al het 2e programma.\n",
    "\n",
    "## Eigen print-opdrachten\n",
    "\n",
    "Je kan natuurlijk ook zelf kiezen wat je wil afdrukken. \n",
    "Schrijf hiervoor de tekst die je wil afdrukken tussen de haakjes van de print en dit tussen aanhalingstekens. \n",
    "\n",
    "Begin met in de volgende cel tekst in te vullen tussen de aanhalingstekens hieronder en klik op de zwarte pijl bovenaan of typ SHIFT-ENTER in de cel hieronder.\n",
    "\n",
    "Je zelfgekozen tekst tussen de aanhalingstekens wordt afgedrukt en er verschijnt een nieuwe cel waarin je zelf Python-code kan typen."
   ],
   "metadata": {
    "collapsed": false
   },
   "id": "b9da1397248677d9"
  },
  {
   "cell_type": "code",
   "execution_count": null,
   "outputs": [],
   "source": [
    "print(\"\")"
   ],
   "metadata": {
    "collapsed": false
   },
   "id": "3af52544a1692704"
  },
  {
   "cell_type": "markdown",
   "source": [
    "## Volgorde van uitvoering\n",
    "\n",
    "Het is aan te raden om de cellen van boven naar onder uit te voeren omdat we meestal een bepaalde volgorde in gedachten hebben. De code in een 'lagere' cel zal dan logischerwijze volgen op de code in de 'hogere' cel. \n",
    "\n",
    "Dat is niet verplicht. Je kan zelf kiezen in welke volgorde je de cellen uitvoert en je ook een bepaalde cel verschillende keren uitvoeren. Daarom staat er na de uitvoering het volgnummer van de uitvoering voor de cel. Zo wordt zichtbaar in welke volgorde de cellen uitgevoerd zijn.\n",
    "\n"
   ],
   "metadata": {
    "collapsed": false
   },
   "id": "2ce7a93a03a1697e"
  },
  {
   "cell_type": "markdown",
   "source": [
    "## Verschillende opdrachten in één cel\n",
    "\n",
    "Vanzelfsprekend kan je ook meer dan één opdracht in een cel schrijven. In zo'n geval worden de opdrachten achter elkaar uitgevoerd. Logisch, niet?"
   ],
   "metadata": {
    "collapsed": false
   },
   "id": "75abccc7d813612a"
  },
  {
   "cell_type": "code",
   "execution_count": null,
   "outputs": [],
   "source": [
    "print(\"Eerst komt dit.\")\n",
    "print(\"En dan dit.\")"
   ],
   "metadata": {
    "collapsed": false
   },
   "id": "c07c23acb96ce987"
  },
  {
   "cell_type": "markdown",
   "source": [
    "# Tijd voor experimentatie\n",
    "\n",
    "Probeer nu zelf nog een paar prints uit."
   ],
   "metadata": {
    "collapsed": false
   },
   "id": "124d654541dc7951"
  },
  {
   "cell_type": "code",
   "execution_count": null,
   "outputs": [],
   "source": [],
   "metadata": {
    "collapsed": false
   },
   "id": "27f9654e3a5ca194"
  }
 ],
 "metadata": {
  "kernelspec": {
   "display_name": "Python 3",
   "language": "python",
   "name": "python3"
  },
  "language_info": {
   "codemirror_mode": {
    "name": "ipython",
    "version": 2
   },
   "file_extension": ".py",
   "mimetype": "text/x-python",
   "name": "python",
   "nbconvert_exporter": "python",
   "pygments_lexer": "ipython2",
   "version": "2.7.6"
  }
 },
 "nbformat": 4,
 "nbformat_minor": 5
}
