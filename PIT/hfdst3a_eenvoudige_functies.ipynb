{
 "cells": [
  {
   "cell_type": "markdown",
   "source": [
    "# 3.1 Functies zonder parameters\n",
    "\n",
    "In essentie is dit een manier om een naam te geven aan een blok code zodat je die blok code kan oproepen door de naam + haakjes uit te voeren."
   ],
   "metadata": {
    "collapsed": false
   },
   "id": "c01ee3632f4b7443"
  },
  {
   "cell_type": "code",
   "execution_count": null,
   "outputs": [],
   "source": [
    "# voorbeeld\n",
    "def dagAllemaal():\n",
    "    print(\"Dag allemaal\")\n",
    "\n",
    "def dagIemand():\n",
    "    naam = input(\"Geef je naam\")\n",
    "    print(\"Dag \" + naam)\n"
   ],
   "metadata": {
    "collapsed": false
   },
   "id": "dd48e2b573e45167"
  },
  {
   "cell_type": "code",
   "execution_count": null,
   "outputs": [],
   "source": [
    "dagAllemaal()"
   ],
   "metadata": {
    "collapsed": false
   },
   "id": "b365d9c8798b7477"
  },
  {
   "cell_type": "markdown",
   "source": [
    "# 3.2 Volwaardige functies\n",
    "\n",
    "Om van een échte functie te kunnen spreken -- zoals in de wiskunde -- heb je nog een resultaat nodig (de return-waarde) én parameters om de functies met verschillende invoerwaarden op te kunnen roepen."
   ],
   "metadata": {
    "collapsed": false
   },
   "id": "f6806b79d06bd623"
  },
  {
   "cell_type": "code",
   "execution_count": null,
   "outputs": [],
   "source": [
    "# voorbeelden uit de cursus\n",
    "def verdubbel(x):\n",
    "    som = x + x\n",
    "    return som\n",
    "\n",
    "def hallo(naam):\n",
    "    sterren = len(naam) + 6\n",
    "    print(sterren*\"*\")\n",
    "    print(\"Hallo \" + naam)\n",
    "    print(sterren*\"*\")\n",
    "\n",
    "def halloWereld():\n",
    "    hallo(\"Wereld\")\n",
    "\n",
    "def helloLoud():\n",
    "    important = input(\"Name?\")\n",
    "    hallo(important + \"!\")\n",
    "\n",
    "def som2Grootste(a,b,c):\n",
    "    som3 = a + b + c\n",
    "    kleinste = min(a,b,c)\n",
    "    return som3 - kleinste\n",
    "\n",
    "def specialeSom(x,y,z):\n",
    "    som1 = som2Grootste(x,y,z)\n",
    "    som2 = x + y + z\n",
    "    return som1 + som2\n"
   ],
   "metadata": {
    "collapsed": false
   },
   "id": "961e6b4d08d0c64"
  },
  {
   "cell_type": "markdown",
   "source": [
    "# 3.4 Eenvoudige oefeningen\n",
    "\n",
    "Los in het werkcollege minstens twee opgaven op. Als er nog opgaven overblijven, kan je die thuis doen.\n",
    "\n",
    "1.\tSchrijf een functie die de omtrek van rechthoek berekent\n",
    "-\t=> parameters = breedte en hoogte"
   ],
   "metadata": {
    "collapsed": false
   },
   "id": "76b696f92a64adc1"
  },
  {
   "cell_type": "code",
   "execution_count": null,
   "outputs": [],
   "source": [
    "# typ hier je oplossing van oefening 1"
   ],
   "metadata": {
    "collapsed": false
   },
   "id": "42452173df5252b5"
  },
  {
   "cell_type": "markdown",
   "source": [
    "2.\tMaak een functie die gegeven de spanning en de stroom het vermogen berekent (via de gekende formule P=U∙I).\n",
    "-\t=> parameters = spanning en stroom"
   ],
   "metadata": {
    "collapsed": false
   },
   "id": "21c5dec8638cff39"
  },
  {
   "cell_type": "code",
   "execution_count": null,
   "outputs": [],
   "source": [
    "# typ hier je oplossing van oefening 2"
   ],
   "metadata": {
    "collapsed": false
   },
   "id": "32acfd0fe41dfb17"
  },
  {
   "cell_type": "markdown",
   "source": [
    "3.  Maak twee functies voor de omzetting tussen celsius en fahrenheit. \t\n",
    " \t\tC = (F - 32) / 1.8\t\t \tF = C*1.8 + 32\n",
    "-\t=> welke parameters heb je hiervoor nodig?"
   ],
   "metadata": {
    "collapsed": false
   },
   "id": "3833c523347a5231"
  },
  {
   "cell_type": "code",
   "execution_count": null,
   "outputs": [],
   "source": [
    "# typ hier je oplossing van oefening 3"
   ],
   "metadata": {
    "collapsed": false
   },
   "id": "37bdf21c09e1d52e"
  },
  {
   "cell_type": "markdown",
   "source": [
    "4.   Maak een functie als parameter de x- en y-coördinaat van 2 punten neemt en de afstand tussen de 2 punten terug geeft. \n",
    "-\t=> welke parameters heb je hiervoor nodig?"
   ],
   "metadata": {
    "collapsed": false
   },
   "id": "dfe4a190bf00e43a"
  },
  {
   "cell_type": "code",
   "execution_count": null,
   "outputs": [],
   "source": [
    "# typ hier je oplossing van oefening 4"
   ],
   "metadata": {
    "collapsed": false
   },
   "id": "3578a5396a3cb97c"
  }
 ],
 "metadata": {
  "kernelspec": {
   "display_name": "Python 3",
   "language": "python",
   "name": "python3"
  },
  "language_info": {
   "codemirror_mode": {
    "name": "ipython",
    "version": 2
   },
   "file_extension": ".py",
   "mimetype": "text/x-python",
   "name": "python",
   "nbconvert_exporter": "python",
   "pygments_lexer": "ipython2",
   "version": "2.7.6"
  }
 },
 "nbformat": 4,
 "nbformat_minor": 5
}
