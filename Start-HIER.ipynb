{
 "cells": [
  {
   "cell_type": "markdown",
   "id": "a2353916",
   "metadata": {},
   "source": [
    "# Welkom\n",
    "\n",
    "### Voordat je start is het belangrijk de meest up-to-date files te hebben. Doe dit door je cursor in het codeblok hieronder te plaatsen en op de `play-knop` hierboven te klikken. \n",
    "\n",
    "### (Doe dit elke keer als je op deze jupyterhub inlogt, zo zijn je files steeds up-to-date.)"
   ]
  },
  {
   "cell_type": "code",
   "execution_count": null,
   "id": "91f4191e-b954-4406-9d09-208abb6b8b06",
   "metadata": {},
   "outputs": [],
   "source": [
    "%%bash\n",
    "# Klik op de play-knop\n",
    "\n",
    "chmod +x ./.update-notebook.sh \n",
    "sh ./.update-notebook.sh"
   ]
  },
  {
   "cell_type": "markdown",
   "id": "8d85186e-ba61-4d80-b64d-821a1d8efc45",
   "metadata": {},
   "source": [
    "## Klik [HIER](../mijn_oefeningen/handleiding.ipynb) om de handleiding te openen."
   ]
  }
 ],
 "metadata": {
  "kernelspec": {
   "display_name": "Python 3.10.8 64-bit",
   "language": "python",
   "name": "python3"
  },
  "language_info": {
   "codemirror_mode": {
    "name": "ipython",
    "version": 3
   },
   "file_extension": ".py",
   "mimetype": "text/x-python",
   "name": "python",
   "nbconvert_exporter": "python",
   "pygments_lexer": "ipython3",
   "version": "3.10.8"
  },
  "vscode": {
   "interpreter": {
    "hash": "26de051ba29f2982a8de78e945f0abaf191376122a1563185a90213a26c5da77"
   }
  }
 },
 "nbformat": 4,
 "nbformat_minor": 5
}
