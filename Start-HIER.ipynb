{
 "cells": [
  {
   "cell_type": "code",
   "execution_count": 4,
   "id": "91f4191e-b954-4406-9d09-208abb6b8b06",
   "metadata": {},
   "outputs": [
    {
     "name": "stdout",
     "output_type": "stream",
     "text": [
      "Updating...\n",
      "Copying new files from gitdir to exercises dir...\n",
      "DONE\n"
     ]
    }
   ],
   "source": [
    "%%bash\n",
    "# Klik op de play-knop\n",
    "\n",
    "chmod +x ./.update-notebook.sh \n",
    "sh ./.update-notebook.sh"
   ]
  },
  {
   "cell_type": "markdown",
   "id": "8d85186e-ba61-4d80-b64d-821a1d8efc45",
   "metadata": {},
   "source": [
    "## Klik [HIER](./mijn_oefeningen/handleiding.ipynb) om de handleiding te openen."
   ]
  }
 ],
 "metadata": {
  "kernelspec": {
   "display_name": "Python 3 (ipykernel)",
   "language": "python",
   "name": "python3"
  },
  "language_info": {
   "codemirror_mode": {
    "name": "ipython",
    "version": 3
   },
   "file_extension": ".py",
   "mimetype": "text/x-python",
   "name": "python",
   "nbconvert_exporter": "python",
   "pygments_lexer": "ipython3",
   "version": "3.10.6"
  }
 },
 "nbformat": 4,
 "nbformat_minor": 5
}
